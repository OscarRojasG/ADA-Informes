{
  "cells": [
    {
      "cell_type": "markdown",
      "metadata": {
        "id": "view-in-github",
        "colab_type": "text"
      },
      "source": [
        "<a href=\"https://colab.research.google.com/github/OscarRojasG/ADA-Informes/blob/main/Informe5-BucketSort.ipynb\" target=\"_parent\"><img src=\"https://colab.research.google.com/assets/colab-badge.svg\" alt=\"Open In Colab\"/></a>"
      ]
    },
    {
      "cell_type": "markdown",
      "metadata": {
        "id": "deOsebM06Bt0"
      },
      "source": [
        "# 1. Problema de ordenamiento\n",
        "\n",
        "**Entrada**: Arreglo de tamaño $n$ con valores numéricos $[a_1,a_2,...,a_n]$ tal que $0 \\leq a < 1$\n",
        "\n",
        "**Salida**: Arreglo de la forma: $[a_1',a_2',...,a_n']$, de modo que $a_1'\\leq a_2' \\leq... \\leq a_n'$.\n",
        "\n",
        "Ordenar una secuencia de números es un problema bastante recurrente en el mundo de la informática. La infinidad de algoritmos que se han inventado para resolver este problema, ha permitido que los programadores los puedan clasificar en base a distintos criterios, como por ejemplo, su eficiencia temporal y espacial, su naturaleza recursiva o iterativa, etc.\n",
        "\n",
        "Otro de estos criterios para comparar algoritmos, quizá menos importante a primera vista, se relaciona con el método de ordenamiento utilizado, el cual puede ser **comparativo o no comparativo**. Los algoritmos comparativos, como por ejemplo **InsertionSort** y **QuickSort** determinan el orden de los elementos en base a comparaciones realizadas entre los elementos de entrada. Los algoritmos no comparativos utilizan otras operaciones para determinar el orden de los elementos, como por ejemplo, **CountingSort**, **RadixSort** y **BucketSort**.\n",
        "\n",
        "Los algoritmos no comparativos comparten, además, la propiedad de resolver el problema de ordenamiento en **tiempo lineal**. Sin embargo, también se diferencian del resto de algoritmos pues requieren de condiciones especiales en los valores de entrada para que funcionen correctamente. Por ejemplo, **BucketSort** asume que los datos de entrada están uniformente distribuidos.\n",
        "\n",
        "\n",
        "\n"
      ]
    },
    {
      "cell_type": "markdown",
      "metadata": {
        "id": "ShNc87InQrV1"
      },
      "source": [
        "# 2. BucketSort"
      ]
    },
    {
      "cell_type": "markdown",
      "metadata": {
        "id": "qCFujGBVe7Lg"
      },
      "source": [
        "## 2.1 Código\n",
        "\n",
        "El siguiente código muestra una implementación del algoritmo BucketSort para valores de entrada distribuidos entre [0, 1)"
      ]
    },
    {
      "cell_type": "code",
      "source": [
        "def insertion_sort(A):\n",
        "  for i in range(1, len(A)):\n",
        "    j = i\n",
        "\n",
        "    while j > 0 and A[j] < A[j - 1]:\n",
        "      A[j], A[j - 1] = A[j - 1], A[j]\n",
        "      j -= 1\n",
        "\n",
        "  return A"
      ],
      "metadata": {
        "id": "PA41bYGuijs8"
      },
      "execution_count": 216,
      "outputs": []
    },
    {
      "cell_type": "code",
      "execution_count": 217,
      "metadata": {
        "id": "f77TEBCkQ4pP",
        "colab": {
          "base_uri": "https://localhost:8080/"
        },
        "outputId": "36801e55-4a35-41f9-cbd3-e38cb95dd564"
      },
      "outputs": [
        {
          "output_type": "execute_result",
          "data": {
            "text/plain": [
              "[0.12, 0.14, 0.21, 0.24, 0.26, 0.28, 0.32, 0.48, 0.76, 0.9]"
            ]
          },
          "metadata": {},
          "execution_count": 217
        }
      ],
      "source": [
        "from termcolor import colored\n",
        "\n",
        "def bucket_sort(A, m, verbose=False):\n",
        "  B = []\n",
        "  C = []\n",
        "\n",
        "  if verbose == True:\n",
        "    print(f\"Entrada: {A}\\n\")\n",
        "    print(f\"Creando arreglo con {m} buckets\\n\")\n",
        "\n",
        "  for k in range(0, m):\n",
        "    B.append([])\n",
        "\n",
        "  for i in range(0, len(A)):\n",
        "    k = int(A[i] * m)\n",
        "    B[k].append(A[i])\n",
        "\n",
        "    if verbose == True:\n",
        "      print(f\"Insertando elemento {A[i]} en el bucket {k}\")\n",
        "\n",
        "  if verbose == True:\n",
        "    print()\n",
        "    for k in range(0, m):\n",
        "      print(colored(f\"[{k}] \", \"magenta\") + f\"{B[k]}\")    \n",
        "\n",
        "  for k in range(0, m):\n",
        "    insertion_sort(B[k])\n",
        "\n",
        "  if verbose == True:\n",
        "    print(\"\\nOrdenando buckets con insertion sort\\n\")\n",
        "    for k in range(0, m):\n",
        "      print(colored(f\"[{k}] \", \"magenta\") + f\"{B[k]}\") \n",
        "\n",
        "  for i in range(0, m):\n",
        "    for j in range(len(B[i])):\n",
        "      C.append(B[i][j])\n",
        "\n",
        "  if verbose == True:\n",
        "    print(f\"\\nConcatenando buckets\\n\")\n",
        "    print(f\"Salida: {C}\")\n",
        "\n",
        "  return C\n",
        "  \n",
        "A = [0.12, 0.32, 0.48, 0.76, 0.21, 0.14, 0.28, 0.26, 0.9, 0.24]\n",
        "bucket_sort(A, 10)"
      ]
    },
    {
      "cell_type": "markdown",
      "source": [
        "## 2.2 Descripción del algoritmo\n",
        "\n",
        "La entrada consiste en un arreglo $A$ de $n$ elementos cuyos valores están un rango de 0 a 1, y un parámetro $m$ que corresponde a la cantidad de listas o buckets donde se guardarán los elementos. BucketSort retorna un arreglo con los mismos elementos de la secuencia de entrada ordenados de menor a mayor. Los pasos realizados por el algoritmo son los siguientes:\n",
        "\n",
        "1. Se crea un arreglo auxiliar $B$ de tamaño $m$, donde cada casilla corresponde a una lista vacía.\n",
        "\n",
        "2. Cada elemento $A[i]$ es insertado en un bucket $B[k]$, donde $k$ corresponde a la parte entera de $m \\cdot A[i]$\n",
        "\n",
        "3. Cada bucket $B[k]$ se ordena utilizando `insertion_sort`.\n",
        "\n",
        "4. Se concatenan todos los buckets para formar un nuevo arreglo $C$ ordenado de menor a mayor."
      ],
      "metadata": {
        "id": "naoN1twNlXPL"
      }
    },
    {
      "cell_type": "markdown",
      "source": [
        "## 2.3 Ejemplo\n",
        "\n",
        "Consideremos la siguiente entrada:\n",
        "\n",
        "![picture](https://drive.google.com/uc?export=view&id=1da0oovBO0T1YOMao7QBfEwvw7lC5Pogd)\n",
        "\n",
        "En primer lugar, crearemos el arreglo $B$ con 10 buckets vacíos:\n",
        "\n",
        "![picture](https://drive.google.com/uc?export=view&id=1Hx8OXhhxs97C3tYfMBaT0NnNRtWAEnax)\n",
        "\n",
        "A continuación, moveremos cada elemento del arreglo $A$ al bucket $10 \\cdot A[i]$. Observemos que este valor corresponde a la décima del elemento:\n",
        "\n",
        "![picture](https://drive.google.com/uc?export=view&id=1czQb-2gYyUE1t8B3mvIOViHr_SB4UX2S)\n",
        "\n",
        "Luego, ordenaremos cada bucket de menor a mayor utilizando `insertion_sort`:\n",
        "\n",
        "![picture](https://drive.google.com/uc?export=view&id=1bDlu-BkIEX_TnI6CRxBnlDt0in6ZS9Eq)\n",
        "\n",
        "Finalmente, concatenaremos cada bucket secuencialmente desde 0 hasta 9, formando un arreglo ordenado con todos los elementos de la secuencia de entrada:\n",
        "\n",
        "![picture](https://drive.google.com/uc?export=view&id=1X3N_m7fisptF8zx0uqUrQLLp69ysHbL4)"
      ],
      "metadata": {
        "id": "KKTUdfSes6B4"
      }
    },
    {
      "cell_type": "markdown",
      "source": [
        "## 2.4. Ejecución del algoritmo paso a paso (`verbose=True`)\n",
        "\n",
        "Usando la opción `verbose=True`, podemos ver lo que ocurre en cada iteración del algoritmo."
      ],
      "metadata": {
        "id": "L0VpphJB6FvO"
      }
    },
    {
      "cell_type": "code",
      "source": [
        "import random\n",
        "A = []\n",
        "\n",
        "for i in range(0, 10):\n",
        "  A.append(round(random.uniform(0, 0.99), 2))\n",
        "\n",
        "A = bucket_sort(A, 10, True)"
      ],
      "metadata": {
        "colab": {
          "base_uri": "https://localhost:8080/"
        },
        "id": "fcM8oPKj76LQ",
        "outputId": "44444f1e-cccf-4150-ea34-a8e80ea00b55"
      },
      "execution_count": 218,
      "outputs": [
        {
          "output_type": "stream",
          "name": "stdout",
          "text": [
            "Entrada: [0.48, 0.4, 0.74, 0.01, 0.96, 0.57, 0.91, 0.75, 0.92, 0.09]\n",
            "\n",
            "Creando arreglo con 10 buckets\n",
            "\n",
            "Insertando elemento 0.48 en el bucket 4\n",
            "Insertando elemento 0.4 en el bucket 4\n",
            "Insertando elemento 0.74 en el bucket 7\n",
            "Insertando elemento 0.01 en el bucket 0\n",
            "Insertando elemento 0.96 en el bucket 9\n",
            "Insertando elemento 0.57 en el bucket 5\n",
            "Insertando elemento 0.91 en el bucket 9\n",
            "Insertando elemento 0.75 en el bucket 7\n",
            "Insertando elemento 0.92 en el bucket 9\n",
            "Insertando elemento 0.09 en el bucket 0\n",
            "\n",
            "\u001b[35m[0] \u001b[0m[0.01, 0.09]\n",
            "\u001b[35m[1] \u001b[0m[]\n",
            "\u001b[35m[2] \u001b[0m[]\n",
            "\u001b[35m[3] \u001b[0m[]\n",
            "\u001b[35m[4] \u001b[0m[0.48, 0.4]\n",
            "\u001b[35m[5] \u001b[0m[0.57]\n",
            "\u001b[35m[6] \u001b[0m[]\n",
            "\u001b[35m[7] \u001b[0m[0.74, 0.75]\n",
            "\u001b[35m[8] \u001b[0m[]\n",
            "\u001b[35m[9] \u001b[0m[0.96, 0.91, 0.92]\n",
            "\n",
            "Ordenando buckets con insertion sort\n",
            "\n",
            "\u001b[35m[0] \u001b[0m[0.01, 0.09]\n",
            "\u001b[35m[1] \u001b[0m[]\n",
            "\u001b[35m[2] \u001b[0m[]\n",
            "\u001b[35m[3] \u001b[0m[]\n",
            "\u001b[35m[4] \u001b[0m[0.4, 0.48]\n",
            "\u001b[35m[5] \u001b[0m[0.57]\n",
            "\u001b[35m[6] \u001b[0m[]\n",
            "\u001b[35m[7] \u001b[0m[0.74, 0.75]\n",
            "\u001b[35m[8] \u001b[0m[]\n",
            "\u001b[35m[9] \u001b[0m[0.91, 0.92, 0.96]\n",
            "\n",
            "Concatenando buckets\n",
            "\n",
            "Salida: [0.01, 0.09, 0.4, 0.48, 0.57, 0.74, 0.75, 0.91, 0.92, 0.96]\n"
          ]
        }
      ]
    },
    {
      "cell_type": "markdown",
      "source": [
        "# 3. Correctitud\n",
        "\n",
        "### **Teorema 1 (Correctitud de BucketSort).**\n",
        "\n",
        "*El algoritmo BucketSort retorna un arreglo ordenado con los mismos elementos de la secuencia de entrada.*\n",
        "\n",
        "## Prueba del Teorema\n",
        "\n",
        "Consideremos los elementos $A[i]$ y $A[j]$, tal que $A[i] \\leq A[j]$. Al insertar estos elementos en su bucket correspondiente, pueden ocurrir dos casos:\n",
        "\n",
        "1. $A[i]$ y $A[j]$ se encuentran en el mismo bucket. En este caso, el algoritmo Insertion Sort colocará estos elementos en el orden correcto.\n",
        "\n",
        "2. $A[i]$ y $A[j]$ se encuentran en buckets distintos. En este caso $A[i]$ se moverá a un bucket con menor índice que $A[j]$, puesto que $m \\cdot A[i] \\leq m \\cdot A[j]$. Luego, al concatenar los buckets de manera ordenada, ambos elementos quedarán en el orden correcto.\n",
        "\n",
        "Por lo tanto, queda demostrada la correctitud de BucketSort. $\\Box$\n",
        "\n"
      ],
      "metadata": {
        "id": "I5GOiuFRgdTW"
      }
    },
    {
      "cell_type": "markdown",
      "source": [
        "# 4. Tiempo de ejecución\n",
        "\n",
        "### **Teorema 2 (Tiempo de ejecución).**\n",
        "\n",
        "*El algoritmo **BucketSort** tiene un **tiempo de ejecución** de $O(n)$ en el caso promedio y en el mejor caso, y $O(n^2)$ en el peor caso.*\n",
        "\n",
        "## Prueba del teorema\n",
        "\n",
        "### Mejor caso y caso promedio\n",
        "\n",
        "Consideremos $m$ como el número de buckets utilizados por el algoritmo. A continuación, analizaremos el tiempo ocupado en cada paso de BucketSort por separado.\n",
        "\n",
        "1. El primer paso realizado por el algoritmo consiste en inicializar el arreglo de buckets. Esta operación tiene un tiempo de $O(m)$.\n",
        "\n",
        "2. Luego, cada elemento del arreglo de entrada se mueve al bucket correspondiente, lo cual tiene un tiempo de $O(n)$.\n",
        "\n",
        "3. Una vez terminado el paso anterior, cada bucket se ordena utilizando Insertion Sort, el cual tiene una complejidad $O(n^2)$. Si los valores de entrada están distribuidos de manera uniforme, la cantidad de elementos por cada bucket será aproximadamente la misma. Es decir, Insertion Sort ordenará $\\frac{n}{m}$ elementos por cada bucket. La complejidad de ordenar todos los buckets será, por lo tanto, $O(m \\cdot (\\frac{n}{m})^2)$\n",
        "\n",
        "4. Finalmente se concatenan los buckets ordenados. Esta operación tiene un tiempo de $O(m)$.\n",
        "\n",
        "Luego, el tiempo total del algoritmo BucketSort es:\n",
        "\n",
        "$T(n) = O(m) + O(n) + O(m \\cdot (\\frac{n}{m})^2)  + O(m)$\n",
        "\n",
        "Dado un valor de $m$ proporcional a $n$, obtenemos:\n",
        "\n",
        "$T(n) = O(kn) + O(n) + O(kn \\cdot (\\frac{n}{kn})^2) + O(kn)$\n",
        "\n",
        "$T(n) = O(n) + O(kn \\cdot (\\frac{n}{kn})^2)$\n",
        "\n",
        "$T(n) = O(n) + O(\\frac{n}{k})$\n",
        "\n",
        "$T(n) = O(n)$\n",
        "\n",
        "Por lo tanto, el tiempo de Bucket Sort será $O(n)$, siempre y cuando los datos estén **uniformente distribuidos**.\n",
        "\n",
        "### Peor caso\n",
        "\n",
        "El peor caso ocurrirá cuando todos los elementos del arreglo de entrada se inserten en un solo bucket. En este caso, predominará la complejidad temporal de Insertion Sort, pues el tiempo ocupado por este algoritmo en ordenar $n$ elementos es $O(n^2)$."
      ],
      "metadata": {
        "id": "SBnAbVFz_tvd"
      }
    },
    {
      "cell_type": "markdown",
      "source": [
        "# 5. Experimentos\n",
        "\n",
        "## 5.1. Comparación con Counting Sort y Radix Sort\n",
        "\n",
        "A continuación se muestra la implementación de los algoritmos Counting Sort y Radix Sort, los cuales, al igual que Bucket Sort, poseen complejidad lineal."
      ],
      "metadata": {
        "id": "_WddDIiioclW"
      }
    },
    {
      "cell_type": "code",
      "source": [
        "def counting_sort(A,k):\n",
        "  B = [0] * len(A)\n",
        "  C = [0] * (k+1)\n",
        "\n",
        "  for i in range(0, len(A)):\n",
        "    C[A[i]] += 1\n",
        "\n",
        "  for j in range(1, k+1):\n",
        "    C[j] += C[j-1]\n",
        "\n",
        "  for i in range(len(A)-1, -1, -1):\n",
        "    B[C[A[i]]-1] = A[i]\n",
        "    C[A[i]] -= 1\n",
        "\n",
        "  return B\n",
        "\n",
        "A = [2,4,1,5,9,6,2,7]\n",
        "counting_sort(A,9)"
      ],
      "metadata": {
        "colab": {
          "base_uri": "https://localhost:8080/"
        },
        "id": "3oYn1fN-ostc",
        "outputId": "ee9b1df7-07b9-4fcf-b1fa-f755a660297d"
      },
      "execution_count": 219,
      "outputs": [
        {
          "output_type": "execute_result",
          "data": {
            "text/plain": [
              "[1, 2, 2, 4, 5, 6, 7, 9]"
            ]
          },
          "metadata": {},
          "execution_count": 219
        }
      ]
    },
    {
      "cell_type": "code",
      "source": [
        "def get_digit(n, d):\n",
        "  return n % (10 ** d) // (10 ** (d-1))\n",
        "\n",
        "def radix_sort(A,d):\n",
        "  for k in range(1, d+1):\n",
        "    B = [0] * len(A)\n",
        "    C = [0] * 10\n",
        "\n",
        "    for i in range(0, len(A)):\n",
        "      C[get_digit(A[i], k)] += 1\n",
        "\n",
        "    for j in range(1, 10):\n",
        "      C[j] += C[j-1]\n",
        "\n",
        "    for i in range(len(A)-1, -1, -1):\n",
        "      B[C[get_digit(A[i], k)]-1] = A[i]\n",
        "      C[get_digit(A[i], k)] -= 1\n",
        "    \n",
        "    A = B\n",
        "\n",
        "  return B\n",
        "\n",
        "A = [124,29,37,5,372,666,98,4]\n",
        "radix_sort(A,3)"
      ],
      "metadata": {
        "colab": {
          "base_uri": "https://localhost:8080/"
        },
        "id": "TuVAZZj2tPA3",
        "outputId": "c5208193-79dd-40d2-f002-633bea1ef9f8"
      },
      "execution_count": 220,
      "outputs": [
        {
          "output_type": "execute_result",
          "data": {
            "text/plain": [
              "[4, 5, 29, 37, 98, 124, 372, 666]"
            ]
          },
          "metadata": {},
          "execution_count": 220
        }
      ]
    },
    {
      "cell_type": "markdown",
      "source": [
        "Para comparar estos algoritmos con Bucket Sort, implementaremos una nueva versión del algoritmo, que pueda recibir como entrada números enteros."
      ],
      "metadata": {
        "id": "WrBroMp1ybh3"
      }
    },
    {
      "cell_type": "code",
      "source": [
        "def int_bucket_sort(A,m):\n",
        "  max_value = max(A)\n",
        "  min_value = min(A)\n",
        "  \n",
        "  rnge = (max_value - min_value) / (m - 1)\n",
        "  B = []\n",
        "  C = []\n",
        "  \n",
        "  for i in range(0,m):\n",
        "    B.append([])\n",
        "  \n",
        "  for i in range(len(A)):\n",
        "    diff = (A[i] - min_value) / rnge - int((A[i] - min_value) / rnge)\n",
        "  \n",
        "    if(diff == 0 and A[i] != min_value):\n",
        "      B[int((A[i] - min_value) / rnge) - 1].append(A[i])\n",
        "    else:\n",
        "      B[int((A[i] - min_value) / rnge)].append(A[i])\n",
        "  \n",
        "  for k in range(0,m):\n",
        "    insertion_sort(B[k])\n",
        "\n",
        "  for i in range(0, m):\n",
        "    for j in range(len(B[i])):\n",
        "      C.append(B[i][j])\n",
        "\n",
        "  return C\n",
        "\n",
        "A = [9, 1.25, 10.14, 2, 8.66, 4.42, 1.37, 6.0, 0.5, 1.98]\n",
        "int_bucket_sort(A,67)"
      ],
      "metadata": {
        "colab": {
          "base_uri": "https://localhost:8080/"
        },
        "id": "wJyAHyvGzVdf",
        "outputId": "9725dad0-751d-420c-cd13-f38eb886d8a0"
      },
      "execution_count": 221,
      "outputs": [
        {
          "output_type": "execute_result",
          "data": {
            "text/plain": [
              "[0.5, 1.25, 1.37, 1.98, 2, 4.42, 6.0, 8.66, 9, 10.14]"
            ]
          },
          "metadata": {},
          "execution_count": 221
        }
      ]
    },
    {
      "cell_type": "markdown",
      "source": [
        "El siguiente gráfico compara el tiempo de ejecución de cada algoritmo para entradas de tamaño $n ∈ [5,999]$, con valores generados aleatoriamente en el intervalo $[1,999]$.\n",
        "\n",
        "\n"
      ],
      "metadata": {
        "id": "ieRnA6UNOJwQ"
      }
    },
    {
      "cell_type": "code",
      "source": [
        "import matplotlib.pyplot as plt\n",
        "import datetime\n",
        "import random\n",
        "from math import sqrt\n",
        "from timeit import repeat\n",
        "\n",
        "x=[]; y1=[]; y2=[]; y3=[]\n",
        "A=[]\n",
        "\n",
        "for n in range(5,1000):\n",
        "  A = random.sample(range(1, 1000), n)\n",
        "\n",
        "  t1 = repeat(setup=\"from __main__ import int_bucket_sort\", stmt=f\"int_bucket_sort({A}, {n})\", repeat=1, number=10)\n",
        "  t2 = repeat(setup=\"from __main__ import counting_sort\", stmt=f\"counting_sort({A}, {max(A)})\", repeat=1, number=10)\n",
        "  t3 = repeat(setup=\"from __main__ import radix_sort\", stmt=f\"radix_sort({A}, 3)\", repeat=1, number=10)\n",
        "\n",
        "  x.append(n)\n",
        "  y1.append(t1)\n",
        "  y2.append(t2)\n",
        "  y3.append(t3)\n",
        "\n",
        "plt.plot(x,y1)\n",
        "plt.plot(x,y2)\n",
        "plt.plot(x,y3)\n",
        "plt.legend([\"BucketSort\", \"CountingSort\", \"RadixSort\"])\n",
        "\n",
        "plt.xlabel('n')\n",
        "plt.ylabel('Tiempo en ms')\n",
        "plt.show()"
      ],
      "metadata": {
        "colab": {
          "base_uri": "https://localhost:8080/",
          "height": 279
        },
        "id": "HWZ4ka7zOXJC",
        "outputId": "79e5d33d-428b-4b87-9ae1-6bceda6a5079"
      },
      "execution_count": 237,
      "outputs": [
        {
          "output_type": "display_data",
          "data": {
            "text/plain": [
              "<Figure size 432x288 with 1 Axes>"
            ],
            "image/png": "[encoded data removed]"
          },
          "metadata": {
            "needs_background": "light"
          }
        }
      ]
    },
    {
      "cell_type": "markdown",
      "source": [
        "### Análisis de resultados\n",
        "\n",
        "Como era de esperar, el tiempo de ejecución de cada algoritmo aumenta en forma lineal. Además, podemos observar que Counting Sort posee un mejor desempeño que Bucket Sort y Radix Sort en cuanto a eficiencia temporal. Sin embargo, se debe tomar en cuenta la gran cantidad de espacio auxiliar ocupado por este algoritmo, que sin duda es una desventaja cuando se trabaja con grandes conjuntos de datos. Radix Sort soluciona este problema, disminuyendo significativamente la cantidad de memoria utilizada, pero a la vez, reduciendo su eficiencia.\n",
        "\n",
        "Es por ello que podemos considerar a Bucket Sort como un algoritmo que busca el equilibrio entre tiempo y memoria, siendo aún así bastante eficiente en comparación al resto.\n",
        "\n"
      ],
      "metadata": {
        "id": "Hk-_MRcqcjXc"
      }
    },
    {
      "cell_type": "markdown",
      "source": [
        "## 5.1. Análisis de Bucket Sort respecto a la cantidad de buckets\n",
        "\n",
        "El siguiente gráfico muestra la variación en el tiempo de ejecución del algoritmo en relación al número de buckets utilizados para ordenar los elementos. Los valores usados como referencia para la cantidad de buckets son $n$, $n/2$ y $\\sqrt{n}$."
      ],
      "metadata": {
        "id": "fVxVFDGXx0QV"
      }
    },
    {
      "cell_type": "code",
      "source": [
        "import matplotlib.pyplot as plt\n",
        "import datetime\n",
        "import random\n",
        "from math import sqrt\n",
        "from timeit import repeat\n",
        "\n",
        "x=[]; y1=[]; y2=[]; y3=[]; y4=[]\n",
        "\n",
        "B=[]\n",
        "for i in range(0,4):\n",
        "  B.append(round(random.uniform(0, 0.99), 4))\n",
        "\n",
        "for n in range(10,2000):\n",
        "  B.append(round(random.uniform(0, 0.99), 4))\n",
        "\n",
        "  t1 = repeat(setup=\"from __main__ import bucket_sort\", stmt=f\"bucket_sort({B}, {n})\", repeat=1, number=10)\n",
        "  t2 = repeat(setup=\"from __main__ import bucket_sort\", stmt=f\"bucket_sort({B}, {n//2})\", repeat=1, number=10)\n",
        "  t3 = repeat(setup=\"from __main__ import bucket_sort\", stmt=f\"bucket_sort({B}, {int(sqrt(n))})\", repeat=1, number=10)\n",
        "\n",
        "  x.append(n)\n",
        "  y1.append(t1)\n",
        "  y2.append(t2)\n",
        "  y3.append(t3)\n",
        "\n",
        "plt.plot(x,y1)\n",
        "plt.plot(x,y2)\n",
        "plt.plot(x,y3)\n",
        "plt.legend([\"$n$\", \"$n/2$\", \"$\\sqrt{n}$\"], title='Buckets')\n",
        "\n",
        "plt.xlabel('n')\n",
        "plt.ylabel('Tiempo en ms')\n",
        "plt.show()"
      ],
      "metadata": {
        "colab": {
          "base_uri": "https://localhost:8080/",
          "height": 279
        },
        "id": "HGsVlRK7PHXM",
        "outputId": "f9c6c86f-510f-49bb-970d-afc167e9d14f"
      },
      "execution_count": 238,
      "outputs": [
        {
          "output_type": "display_data",
          "data": {
            "text/plain": [
              "<Figure size 432x288 with 1 Axes>"
            ],
            "image/png": "[encoded data removed]"
          },
          "metadata": {
            "needs_background": "light"
          }
        }
      ]
    },
    {
      "cell_type": "markdown",
      "source": [
        "### Análisis de resultados\n",
        "\n",
        "Podemos observar que la cantidad de buckets que optimiza la eficiencia del algoritmo es $\\frac{n}{2}$. En general, para $\\frac{n}{k}$ buckets, se espera que cada bucket contenga $k$ elementos. Por ejemplo, notemos que para $n$ buckets, cada uno contendrá solo 1 elemento. Del mismo modo, para $\\frac{n}{2}$ buckets, cada uno contendrá 2 elementos.\n",
        "\n",
        "Luego, estos elementos serán ordenados mediante Insertion Sort. La cantidad exacta de comparaciones realizadas por este algoritmo viene dada por la fórmula:\n",
        "\n",
        "$\\sum\\limits_{i=0}^{k-1} i=\\frac{k(k-1)}{2}$\n",
        "\n",
        "Para $k = 1$, la cantidad de comparaciones realizadas por el algoritmo es 0, mientras que, para $k = 2$, se realiza solo 1 comparación. Al ocupar $\\frac{n}{2}$ buckets, se aumenta mínimamente el tiempo de ejecución de Insertion Sort, sin embargo, se reduce el tiempo del resto de operaciones.\n",
        "\n",
        "Por otra parte, al utilizar $\\sqrt{n}$ buckets, estamos afectando la complejidad del algoritmo. Recordemos que la complejidad de Insertion Sort en ordenar cada bucket se calcula como $O(k^2)$, luego, para $\\sqrt{n}$ buckets la cantidad de elementos también será $\\sqrt{n}$. Es decir, el tiempo ocupado en esta operación es $O(k^2) = O(n)$, lo que implica que el tiempo necesario para ordenar todos los buckets será $O(n\\cdot\\sqrt{n})$. Esta última complejidad será la que predomine en el algoritmo, lo cual se puede apreciar en el gráfico.\n",
        "\n"
      ],
      "metadata": {
        "id": "V2WyQiVUW3B-"
      }
    }
  ],
  "metadata": {
    "colab": {
      "collapsed_sections": [],
      "provenance": [],
      "authorship_tag": "ABX9TyNZ7nM00Sku45eJE4y55O8U",
      "include_colab_link": true
    },
    "kernelspec": {
      "display_name": "Python 3",
      "name": "python3"
    },
    "language_info": {
      "name": "python"
    }
  },
  "nbformat": 4,
  "nbformat_minor": 0
}