{
  "cells": [
    {
      "cell_type": "markdown",
      "metadata": {
        "id": "view-in-github",
        "colab_type": "text"
      },
      "source": [
        "<a href=\"https://colab.research.google.com/github/OscarRojasG/ADA-Informes/blob/main/Informe7-CuttingRod.ipynb\" target=\"_parent\"><img src=\"https://colab.research.google.com/assets/colab-badge.svg\" alt=\"Open In Colab\"/></a>"
      ]
    },
    {
      "cell_type": "markdown",
      "metadata": {
        "id": "deOsebM06Bt0"
      },
      "source": [
        "# 1. Problema del corte de varilla\n",
        "\n",
        "**Entrada**: Largo de varilla $n$, más un vector de precios por cada medida $i=1...n$\n",
        "\n",
        "**Salida**: Retorno máximo $r_n$ que se puede obtener cortando la varilla y vendiendo las partes, más un arreglo $C$ con los cortes necesarios para este retorno.\n",
        "\n",
        "La **programación dinámica** es un método para resolver problemas que se basa en la descomposición y resolución de subproblemas más pequeños. A diferencia de la técnica **divide y vencerás**, la programación dinámica hace uso de las soluciones obtenidas para los problemas más pequeños con el fin de facilitar la resolución de los problemas más grandes y complejos.\n",
        "\n",
        "Para aplicar la técnica de programación dinámica debemos, en primer lugar, identificar una **subestructura óptima** para el problema que queremos resolver, esto es, dividir el problema de entrada en subproblemas cuyas soluciones sean aplicables a la resolución del problema original. El siguiente paso consiste en encontrar una solución recursiva al problema, en base a la subestructura óptima encontrada en el paso anterior. Una vez hecho esto, nuestro objetivo será transformar esta solución de modo que cada subproblema repetido se resuelva una única vez durante todo el proceso del algoritmo. Para lograrlo, podemos guardar las soluciones para cada subproblema y simplemente acceder a ellas en caso de que el problema se repita, sin necesidad de volver a resolverlo.\n",
        "\n",
        "Uno de los problemas más conocidos para entender el concepto de programación dinámica es el problema del **corte de varilla**, el cual se analizará en este informe. Este problema consiste en optimizar el valor máximo que se puede obtener cortando una varilla de largo $n$, a partir de una tabla de precios en función del largo de la varilla. Como veremos más adelante, resolver este problema mediante programación dinámica es mucho más conveniente que utilizar una solución recursiva, la cual muchas veces resulta ineficiente en cuanto al tiempo de ejecución del algoritmo.\n",
        "\n"
      ]
    },
    {
      "cell_type": "markdown",
      "metadata": {
        "id": "ShNc87InQrV1"
      },
      "source": [
        "# 2. Corte de varilla"
      ]
    },
    {
      "cell_type": "markdown",
      "metadata": {
        "id": "qCFujGBVe7Lg"
      },
      "source": [
        "## 2.1 Código "
      ]
    },
    {
      "cell_type": "markdown",
      "source": [
        "### Implementación recursiva"
      ],
      "metadata": {
        "id": "k5vhVFg62-Ek"
      }
    },
    {
      "cell_type": "code",
      "source": [
        "from termcolor import colored\n",
        "\n",
        "def recursive_cutting_rod(P,n,verbose=False,first_call=True):\n",
        "  global calls\n",
        "  calls = calls + 1\n",
        "\n",
        "  if verbose == True and first_call == True:\n",
        "    print(f\"Vector de precios P = {P}\")\n",
        "    print(f\"Largo de varilla a optimizar: {n}\\n\")\n",
        "  else:\n",
        "    verbose = False  \n",
        "\n",
        "  # Caso base: el retorno máximo es 0 para una varilla de largo 0\n",
        "  if n == 0:\n",
        "    return 0, []\n",
        "\n",
        "  r_max = 0 # Guarda el retorno máximo para la varilla de largo n\n",
        "  c_max = [] # Guarda los cortes necesarios para la varilla de largo n\n",
        "\n",
        "  for i in range(1, n+1):\n",
        "    # Se calcula el retorno máximo para cada subproblema\n",
        "    r_prev, cuts = recursive_cutting_rod(P,n-i,verbose,False)\n",
        "\n",
        "    # El retorno actual es igual a r_prev más el precio de la parte restante\n",
        "    r = P[i-1] + r_prev\n",
        "\n",
        "    # Se añade el corte de la iteración actual al arreglo cuts\n",
        "    if n-i != 0 or first_call == False:\n",
        "      cuts.append(i)\n",
        "\n",
        "    # Se actualiza el retorno máximo y los cortes a la varilla \n",
        "    if r > r_max:\n",
        "      r_max = r\n",
        "      c_max = cuts\n",
        "\n",
        "    if verbose == True:\n",
        "      print(f\"Retorno máximo para varilla de largo {n-i} = ({colored(r_prev, 'magenta')})\")\n",
        "      print(f\"Precio para varilla de largo {i} = ({colored(P[i-1], 'green')})\")\n",
        "      print(f\"Retorno obtenido = {colored(r_prev, 'magenta')} + {colored(P[i-1], 'green')} = {colored(r, 'blue')}\")\n",
        "      print(f\"Cortes necesarios: {colored(cuts, 'grey')}\")\n",
        "      print(f\"Retorno máximo actual = {r_max}\\n\")\n",
        "\n",
        "  if verbose == True:\n",
        "    print(f\"Retorno máximo: {r_max}\")\n",
        "    if len(c_max) == 0:\n",
        "      print(f\"Sin cortes\")\n",
        "    else:\n",
        "      print(f\"Cortes realizados: {c_max}\")\n",
        "\n",
        "  return r_max, c_max\n",
        "\n",
        "P = [1,5,8,9,10,17,17,20,24,25]\n",
        "n = 10\n",
        "calls = 0\n",
        "\n",
        "r, c = recursive_cutting_rod(P,10,False)\n",
        "\n",
        "print(f\"El retorno máximo es {r}\")\n",
        "print(f\"Los cortes necesarios son {c}\")\n",
        "print(f\"Cantidad de llamadas recursivas: {calls}\")"
      ],
      "metadata": {
        "id": "PA41bYGuijs8",
        "colab": {
          "base_uri": "https://localhost:8080/"
        },
        "outputId": "76fec5bf-a4ce-4823-c020-f6d3a5dacdcb"
      },
      "execution_count": null,
      "outputs": [
        {
          "output_type": "stream",
          "name": "stdout",
          "text": [
            "El retorno máximo es 27\n",
            "Los cortes necesarios son [6, 2, 2]\n",
            "Cantidad de llamadas recursivas: 1024\n"
          ]
        }
      ]
    },
    {
      "cell_type": "markdown",
      "source": [
        "### Implementación usando programación dinámica"
      ],
      "metadata": {
        "id": "g0gDtzgw2u7D"
      }
    },
    {
      "cell_type": "code",
      "source": [
        "def dynamic_cutting_rod(P,n,verbose=False):\n",
        "  global s\n",
        "\n",
        "  T = [0] * (n+1) # Guarda el retorno máximo por cada varilla de largo i\n",
        "  C = [0] * (n+1) # Guarda el índice donde se corta cada varilla de largo i\n",
        "\n",
        "  if verbose == True:\n",
        "    print(f\"Vector de precios P = {P}\")\n",
        "    print(f\"Largo de varilla a optimizar: {n}\\n\")\n",
        "    print(f\"Creando vector T para guardar retorno máximo por subproblema\")\n",
        "    print(f\"Inicializando T en {T}\\n\")\n",
        "\n",
        "  # Se encuentra el retorno máximo para cada varilla de largo i..n\n",
        "  for i in range(1, n+1):\n",
        "\n",
        "    if verbose == True:\n",
        "      print(f\"Resolviendo subproblema para varilla de largo {i}\")\n",
        "      print(f\"T = {T}\\n\")\n",
        "\n",
        "    for j in range(1, i+1):\n",
        "      # El retorno es la suma del precio de una varilla de largo j\n",
        "      # más el retorno máximo de la parte restante\n",
        "      r = P[j-1] + T[i-j] \n",
        "      s = s + 1\n",
        "\n",
        "      # Se guarda el retorno mayor en T[i] y el corte en C[i]\n",
        "      if r > T[i]:\n",
        "        T[i] = r\n",
        "        C[i] = j\n",
        "\n",
        "      if verbose == True:\n",
        "        print(f\"Cortando varilla en dos partes de largo {j} y {i-j}: \", end='')\n",
        "        print(f\"{colored(f'P[{j}]', 'green')} + \", end='')\n",
        "        print(f\"{colored(f'T[{i-j}]', 'magenta')} = \", end='')\n",
        "        print(f\"{colored(r, 'cyan')}\")\n",
        "\n",
        "    if verbose == True:\n",
        "      print(f\"Retorno máximo obtenido = {colored(T[i], 'blue')}\\n\")  \n",
        "\n",
        "  # Guarda todos los cortes necesarios para una varilla de largo n\n",
        "  cuts = [] \n",
        "  i = n\n",
        "\n",
        "  while True:\n",
        "    # No hay cortes\n",
        "    if C[i] == i:\n",
        "      # Si la varilla ha sido cortada se guarda el largo de la parte actual\n",
        "      if len(cuts) != 0: cuts.insert(0, i)\n",
        "      break\n",
        "\n",
        "    # Se guarda el largo de la subvarilla izquierda\n",
        "    cuts.insert(0, C[i])\n",
        "\n",
        "    # En la siguiente iteración se procesa la subvarilla derecha\n",
        "    i = i-C[i]\n",
        "\n",
        "  if verbose == True:\n",
        "    print(f\"Retorno máximo para varilla de largo {n} = ({colored(T[n], 'blue')})\")\n",
        "    if len(cuts) == 0:\n",
        "      print(f\"Sin cortes\")\n",
        "    else:\n",
        "      print(f\"Cortes realizados: {cuts}\")\n",
        "\n",
        "  return T[n], cuts\n",
        "\n",
        "P = [1,5,8,9,10,17,17,20,24,25]\n",
        "n = 10\n",
        "s = 0\n",
        "\n",
        "r, c = dynamic_cutting_rod(P,10)\n",
        "\n",
        "print(f\"El retorno máximo es {r}\")\n",
        "print(f\"Los cortes necesarios son {c}\")\n",
        "print(f\"Subproblemas resueltos: {s}\")"
      ],
      "metadata": {
        "colab": {
          "base_uri": "https://localhost:8080/"
        },
        "id": "sGo_NFRSkZyM",
        "outputId": "971d74b5-9f47-4a1a-e091-38d89f37f341"
      },
      "execution_count": null,
      "outputs": [
        {
          "output_type": "stream",
          "name": "stdout",
          "text": [
            "El retorno máximo es 27\n",
            "Los cortes necesarios son [6, 2, 2]\n",
            "Subproblemas resueltos: 55\n"
          ]
        }
      ]
    },
    {
      "cell_type": "markdown",
      "source": [
        "## 2.2 Descripción del algoritmo\n",
        "\n",
        "### Subestructura óptima y solución recursiva\n",
        "\n",
        "Si analizamos el problema, podemos notar que para calcular el retorno máximo $r_{n}$ para una varilla de largo $n$, existen dos casos:\n",
        "\n",
        "1. El retorno máximo $r_{n}$ coincide con el precio de la varilla completa, es decir, no se necesitan cortes para optimizar su valor.\n",
        "\n",
        "2. El retorno máximo $r_{n}$ está dado por el precio $p_{i}$ de una subvarilla de largo $i$, más el retorno máximo de la varilla restante.\n",
        "\n",
        "Lo anterior se puede representar en la siguiente imagen:\n",
        "\n",
        "![picture](https://drive.google.com/uc?export=view&id=1NE6oeCZk7NquZLW4nd67YUYhK-MtVJPT)\n",
        "\n",
        "Teniendo esto en cuenta, podemos observar que el problema para una varilla de largo $n$ se puede dividir en $n$ subproblemas distintos. Consideremos, por ejemplo, una varilla de largo 3. ¿Cómo podríamos calcular todos los posibles retornos para esta varilla?\n",
        "\n",
        "$p_{1} + r_{2}$\n",
        "\n",
        "$p_{2} + r_{1}$\n",
        "\n",
        "$p_{3} + r_{0}$\n",
        "\n",
        "Esto último, considerando que $r_{0} = 0$. Luego, \n",
        "podemos calcular el retorno máximo $r_{3}$ como el valor máximo que se obtiene entre estos 3 subproblemas. De manera general, $r_{n}$ se puede calcular mediante la siguiente función recursiva:\n",
        "\n",
        "$r_n=\\max\\limits_{i=1..n}(p_i+r_{n-i})$\n",
        "\n",
        "Una vez que hemos encontrado una **subestructura óptima** y una **solución recursiva** al problema, podemos elaborar un algoritmo recursivo para resolverlo.\n",
        "\n",
        "### Descripción de la solución (algoritmo recursivo)\n",
        "\n",
        "La entrada consiste en un arreglo $P$ con los precios para cada varilla de largo $i = 1..n$, más un parámetro $n$ que corresponde a la longitud de la varilla a calcular el retorno máximo $r_n$. Los pasos realizados por el algoritmo son los siguientes:\n",
        "\n",
        "1. Se inicializa la variable `r_max` en 0 y la variable `c_max` como un arreglo vacío.\n",
        "\n",
        "2. Se divide la varilla en una parte de largo $i = 1..n$ y otra de largo $n-i$.\n",
        "\n",
        "3. Se calcula recursivamente el valor óptimo y los cortes para la varilla de largo $n-i$ en las variables `r_prev` y `cuts` respectivamente.\n",
        "\n",
        "4. Se inserta `i` (largo de la subvarilla no cortada) al arreglo `cuts`.\n",
        "\n",
        "4. Se calcula el retorno con la función `r = P[i-1] + r_prev`.\n",
        "\n",
        "5. Si `r > r_max`, se actualiza `r_max` con el valor de `r`, y `c_max` con la variable `cuts`.\n",
        "\n",
        "6. Al finalizar todas las iteraciones, se retornan las variables `r_max` y `c_max`.\n",
        "\n",
        "\n",
        "### Descripción de la solución (programación dinámica)\n",
        "\n",
        "Aplicando el paradigma de la **programación dinámica**, podemos crear el siguiente algoritmo, que resuelve de manera eficiente el problema del corte de varilla.\n",
        "\n",
        "1. Se crea un vector `T` inicializado con ceros para guardar el retorno máximo obtenido para cada varilla de largo $i$.\n",
        "\n",
        "2. Se crea un vector `C` inicializado con ceros para guardar el índice $j$ donde se corta cada varilla para maximizar su retorno.\n",
        "\n",
        "3. Se resuelve el problema para cada varilla de largo $i = 1..n$\n",
        "\n",
        "4. Se divide la varilla en una parte de largo $j = 1..i$ y otra de largo $i-j$.\n",
        "\n",
        "5. Se calcula el retorno con la función `r = P[j-1] + T[i-j]`\n",
        "\n",
        "6. Si `r > T[i]`, se actualiza `T[i]` con el valor de `r`, y `C[i]` con el índice `j` donde se realizó el corte a la varilla.\n",
        "\n",
        "7. Al finalizar todas las iteraciones, se reconstruyen los cortes para la varilla de largo $n$, guardando en un nuevo arreglo `cuts` los cortes realizados.\n",
        "\n",
        "8. Se retornan las variables `T[n]` y `cuts`.\n",
        "\n",
        "Para la reconstrucción de los cortes, el procedimiento es el siguiente:\n",
        "\n",
        "1. Se crea un arreglo `cuts` vacío para guardar el largo de todas las subvarillas resultantes al cortar la varilla original.\n",
        "\n",
        "2. Se crea una nueva variable `i` inicializada con el valor de $n$ (largo de la varilla original).\n",
        "\n",
        "3. Se inserta `C[i]` al arreglo `cuts`. Recordar que `C[i]` corresponde al índice $j$ donde se realizó el corte a la varilla de largo $i$, y en consecuencia, al largo de la subvarilla izquierda resultante de esa división.\n",
        "\n",
        "4. Se asigna a la variable `i` el valor de `i-C[i]`, que corresponde al largo de la subvarilla derecha.\n",
        "\n",
        "5. Se repiten los pasos 3 y 4 hasta que `C[i] == i`, que indica que la varilla no fue cortada.\n",
        "\n",
        "6. Se inserta el valor final de `i` a `cuts`. \n",
        "\n",
        "\n",
        "\n"
      ],
      "metadata": {
        "id": "naoN1twNlXPL"
      }
    },
    {
      "cell_type": "markdown",
      "source": [
        "## 2.3 Ejemplo\n",
        "\n",
        "Consideremos que se busca el retorno máximo $r_{n}$ para una varilla de largo 5. El estado inicial del arreglo de precios $P$ y el arreglo de soluciones $T$ se muestra en la siguiente imagen:\n",
        "\n",
        "![picture](https://drive.google.com/uc?export=view&id=15UsUtZHT2H0ryliTjnEXNRvnnphZf5E2)\n",
        "\n",
        "Comenzamos calculando la solución para una varilla de largo 1. En este caso, nos quedamos con el precio de la varilla completa, pues no se pueden realizar cortes. Algorítmicamente, se obtiene el retorno sumando el precio $P_{i}$ para una varilla de largo 1 con el retorno $T_{0}$, como se muestra en la imagen:\n",
        "\n",
        "![picture](https://drive.google.com/uc?export=view&id=1aL0J7DKivbczGmVqvZWcLm_QfjM6cYeA)\n",
        "\n",
        "Luego, insertamos el retorno máximo para este subproblema en la casilla correspondiente del vector $T$.\n",
        "\n",
        "![picture](https://drive.google.com/uc?export=view&id=16GP5aLl1fw1auO3mjk03-5q64X1Ds3DO)\n",
        "\n",
        "Repetimos el mismo paso, ahora para una varilla de largo 2. Calculamos el retorno máximo para cada posible división de la varilla:\n",
        "\n",
        "![picture](https://drive.google.com/uc?export=view&id=1BoJpHFRWR_8vQcHKJpO3gApgKRZS-GUW)\n",
        "\n",
        "Obtenemos que el retorno máximo para esta varilla es 14. Insertamos este valor en $T_{2}$:\n",
        "\n",
        "![picture](https://drive.google.com/uc?export=view&id=1JCYVTLh-4VAN3Nqw1-X2HsRKPTndgoAN)\n",
        "\n",
        "Luego, se repite el mismo paso para el resto de subproblemas. El procedimiento completo realizado por el algoritmo se muestra en la siguiente imagen:\n",
        "\n",
        "![picture](https://drive.google.com/uc?export=view&id=1L2J5hgh8hNdCE17nl8SF3uIzakgwpMgw)\n",
        "\n",
        "Finalmente, se retorna la solución para el problema original, valor que se encuentra almacenado en $T_{5}$"
      ],
      "metadata": {
        "id": "KKTUdfSes6B4"
      }
    },
    {
      "cell_type": "markdown",
      "source": [
        "## 2.4. Ejecución del algoritmo paso a paso (`verbose=True`)\n",
        "\n",
        "Usando la opción `verbose=True`, podemos ver lo que ocurre en cada paso de ambos algoritmos.\n",
        "\n"
      ],
      "metadata": {
        "id": "L0VpphJB6FvO"
      }
    },
    {
      "cell_type": "code",
      "source": [
        "import random\n",
        "\n",
        "def cutrod_instance_generator(N):\n",
        "  A = []\n",
        "  prev = 0\n",
        "  for i in range(N):\n",
        "    r=random.randint(0,10)\n",
        "    A.append(prev+r)\n",
        "    prev+=r\n",
        "  return A"
      ],
      "metadata": {
        "id": "vqV2wpSv7BF_"
      },
      "execution_count": null,
      "outputs": []
    },
    {
      "cell_type": "markdown",
      "source": [
        "### Cutting Rod (recursivo)"
      ],
      "metadata": {
        "id": "1MWKsG3nEaOt"
      }
    },
    {
      "cell_type": "code",
      "source": [
        "P = cutrod_instance_generator(5)\n",
        "r = recursive_cutting_rod(P,5,True)"
      ],
      "metadata": {
        "colab": {
          "base_uri": "https://localhost:8080/"
        },
        "id": "22wZroO1yBhk",
        "outputId": "3215929b-4584-4274-dab2-10542e7c59e6"
      },
      "execution_count": null,
      "outputs": [
        {
          "output_type": "stream",
          "name": "stdout",
          "text": [
            "Vector de precios P = [8, 18, 19, 25, 28]\n",
            "Largo de varilla a optimizar: 5\n",
            "\n",
            "Retorno máximo para varilla de largo 4 = (\u001b[35m36\u001b[0m)\n",
            "Precio para varilla de largo 1 = (\u001b[32m8\u001b[0m)\n",
            "Retorno obtenido = \u001b[35m36\u001b[0m + \u001b[32m8\u001b[0m = \u001b[34m44\u001b[0m\n",
            "Cortes necesarios: \u001b[30m[2, 2, 1]\u001b[0m\n",
            "Retorno máximo actual = 44\n",
            "\n",
            "Retorno máximo para varilla de largo 3 = (\u001b[35m26\u001b[0m)\n",
            "Precio para varilla de largo 2 = (\u001b[32m18\u001b[0m)\n",
            "Retorno obtenido = \u001b[35m26\u001b[0m + \u001b[32m18\u001b[0m = \u001b[34m44\u001b[0m\n",
            "Cortes necesarios: \u001b[30m[2, 1, 2]\u001b[0m\n",
            "Retorno máximo actual = 44\n",
            "\n",
            "Retorno máximo para varilla de largo 2 = (\u001b[35m18\u001b[0m)\n",
            "Precio para varilla de largo 3 = (\u001b[32m19\u001b[0m)\n",
            "Retorno obtenido = \u001b[35m18\u001b[0m + \u001b[32m19\u001b[0m = \u001b[34m37\u001b[0m\n",
            "Cortes necesarios: \u001b[30m[2, 3]\u001b[0m\n",
            "Retorno máximo actual = 44\n",
            "\n",
            "Retorno máximo para varilla de largo 1 = (\u001b[35m8\u001b[0m)\n",
            "Precio para varilla de largo 4 = (\u001b[32m25\u001b[0m)\n",
            "Retorno obtenido = \u001b[35m8\u001b[0m + \u001b[32m25\u001b[0m = \u001b[34m33\u001b[0m\n",
            "Cortes necesarios: \u001b[30m[1, 4]\u001b[0m\n",
            "Retorno máximo actual = 44\n",
            "\n",
            "Retorno máximo para varilla de largo 0 = (\u001b[35m0\u001b[0m)\n",
            "Precio para varilla de largo 5 = (\u001b[32m28\u001b[0m)\n",
            "Retorno obtenido = \u001b[35m0\u001b[0m + \u001b[32m28\u001b[0m = \u001b[34m28\u001b[0m\n",
            "Cortes necesarios: \u001b[30m[]\u001b[0m\n",
            "Retorno máximo actual = 44\n",
            "\n",
            "Retorno máximo: 44\n",
            "Cortes realizados: [2, 2, 1]\n"
          ]
        }
      ]
    },
    {
      "cell_type": "markdown",
      "source": [
        "### Cutting Rod (bottom-up)"
      ],
      "metadata": {
        "id": "CSKKBcokEfDe"
      }
    },
    {
      "cell_type": "code",
      "source": [
        "P = cutrod_instance_generator(5)\n",
        "r = dynamic_cutting_rod(P,5,True)"
      ],
      "metadata": {
        "colab": {
          "base_uri": "https://localhost:8080/"
        },
        "id": "3QlbCNiDxr4k",
        "outputId": "3bf279bf-9263-43c7-9517-962f162769be"
      },
      "execution_count": null,
      "outputs": [
        {
          "output_type": "stream",
          "name": "stdout",
          "text": [
            "Vector de precios P = [8, 10, 20, 20, 27]\n",
            "Largo de varilla a optimizar: 5\n",
            "\n",
            "Creando vector T para guardar retorno máximo por subproblema\n",
            "Inicializando T en [0, 0, 0, 0, 0, 0]\n",
            "\n",
            "Resolviendo subproblema para varilla de largo 1\n",
            "T = [0, 0, 0, 0, 0, 0]\n",
            "\n",
            "Cortando varilla en dos partes de largo 1 y 0: \u001b[32mP[1]\u001b[0m + \u001b[35mT[0]\u001b[0m = \u001b[36m8\u001b[0m\n",
            "Retorno máximo obtenido = \u001b[34m8\u001b[0m\n",
            "\n",
            "Resolviendo subproblema para varilla de largo 2\n",
            "T = [0, 8, 0, 0, 0, 0]\n",
            "\n",
            "Cortando varilla en dos partes de largo 1 y 1: \u001b[32mP[1]\u001b[0m + \u001b[35mT[1]\u001b[0m = \u001b[36m16\u001b[0m\n",
            "Cortando varilla en dos partes de largo 2 y 0: \u001b[32mP[2]\u001b[0m + \u001b[35mT[0]\u001b[0m = \u001b[36m10\u001b[0m\n",
            "Retorno máximo obtenido = \u001b[34m16\u001b[0m\n",
            "\n",
            "Resolviendo subproblema para varilla de largo 3\n",
            "T = [0, 8, 16, 0, 0, 0]\n",
            "\n",
            "Cortando varilla en dos partes de largo 1 y 2: \u001b[32mP[1]\u001b[0m + \u001b[35mT[2]\u001b[0m = \u001b[36m24\u001b[0m\n",
            "Cortando varilla en dos partes de largo 2 y 1: \u001b[32mP[2]\u001b[0m + \u001b[35mT[1]\u001b[0m = \u001b[36m18\u001b[0m\n",
            "Cortando varilla en dos partes de largo 3 y 0: \u001b[32mP[3]\u001b[0m + \u001b[35mT[0]\u001b[0m = \u001b[36m20\u001b[0m\n",
            "Retorno máximo obtenido = \u001b[34m24\u001b[0m\n",
            "\n",
            "Resolviendo subproblema para varilla de largo 4\n",
            "T = [0, 8, 16, 24, 0, 0]\n",
            "\n",
            "Cortando varilla en dos partes de largo 1 y 3: \u001b[32mP[1]\u001b[0m + \u001b[35mT[3]\u001b[0m = \u001b[36m32\u001b[0m\n",
            "Cortando varilla en dos partes de largo 2 y 2: \u001b[32mP[2]\u001b[0m + \u001b[35mT[2]\u001b[0m = \u001b[36m26\u001b[0m\n",
            "Cortando varilla en dos partes de largo 3 y 1: \u001b[32mP[3]\u001b[0m + \u001b[35mT[1]\u001b[0m = \u001b[36m28\u001b[0m\n",
            "Cortando varilla en dos partes de largo 4 y 0: \u001b[32mP[4]\u001b[0m + \u001b[35mT[0]\u001b[0m = \u001b[36m20\u001b[0m\n",
            "Retorno máximo obtenido = \u001b[34m32\u001b[0m\n",
            "\n",
            "Resolviendo subproblema para varilla de largo 5\n",
            "T = [0, 8, 16, 24, 32, 0]\n",
            "\n",
            "Cortando varilla en dos partes de largo 1 y 4: \u001b[32mP[1]\u001b[0m + \u001b[35mT[4]\u001b[0m = \u001b[36m40\u001b[0m\n",
            "Cortando varilla en dos partes de largo 2 y 3: \u001b[32mP[2]\u001b[0m + \u001b[35mT[3]\u001b[0m = \u001b[36m34\u001b[0m\n",
            "Cortando varilla en dos partes de largo 3 y 2: \u001b[32mP[3]\u001b[0m + \u001b[35mT[2]\u001b[0m = \u001b[36m36\u001b[0m\n",
            "Cortando varilla en dos partes de largo 4 y 1: \u001b[32mP[4]\u001b[0m + \u001b[35mT[1]\u001b[0m = \u001b[36m28\u001b[0m\n",
            "Cortando varilla en dos partes de largo 5 y 0: \u001b[32mP[5]\u001b[0m + \u001b[35mT[0]\u001b[0m = \u001b[36m27\u001b[0m\n",
            "Retorno máximo obtenido = \u001b[34m40\u001b[0m\n",
            "\n",
            "Retorno máximo para varilla de largo 5 = (\u001b[34m40\u001b[0m)\n",
            "Cortes realizados: [1, 1, 1, 1, 1]\n"
          ]
        }
      ]
    },
    {
      "cell_type": "markdown",
      "source": [
        "# 3. Correctitud\n",
        "\n",
        "### **Teorema 1: Correctitud de Cutting Rod (bottom-up)**\n",
        "\n",
        "*El algoritmo **Cutting Rod** retorna correctamente la ganancia máxima $r_n$ que se puede obtener al dividir una varilla de largo $n$ y vender sus partes.*\n",
        "\n",
        "## Prueba del Teorema\n",
        "\n",
        "Para demostrar la correctitud del algoritmo, demostraremos el teorema anterior $P(n)$ utilizando inducción.\n",
        "\n",
        "**Caso base**\n",
        "\n",
        "Para $n = 1$, el algoritmo retorna el precio para una varilla de largo 1. Puesto que este es el tamaño mínimo que puede tener una varilla, esta no puede dividirse, y por lo tanto, existe un único caso para el valor de $r_n$\n",
        "\n",
        "**Paso inductivo**\n",
        "\n",
        "Para $n > 1$, se calcula el precio óptimo a partir de la fórmula $r_{n} = P_{j} + r_{n-j}$, con $j = 1..n$, donde $P_{j}$ corresponde al precio de una varilla de largo $j$, y $r_{n-j}$ es la ganancia máxima para la varilla restante.\n",
        "\n",
        "Observemos que, por el paso inductivo, sabemos que la ganancia máxima para cualquier varilla de largo $n-j$, con $j \\geq 1$, será calculada correctamente.\n",
        "\n",
        "Al finalizar el algoritmo, se retorna el valor $r_n$ máximo de todos los valores obtenidos por la función. Puesto que se consideran todos los subproblemas posibles que resultan al dividir el problema original, sabemos que uno de estos valores será el que maximice la solución buscada.\n",
        "\n",
        "Como la hipótesis $P(n)$ se cumple para el **caso base** y para el **paso inductivo**, queda demostrada la correctitud del algoritmo Cutting Rod. $\\Box$\n",
        "\n",
        "\n"
      ],
      "metadata": {
        "id": "I5GOiuFRgdTW"
      }
    },
    {
      "cell_type": "markdown",
      "source": [
        "# 4. Tiempo de ejecución y complejidad espacial\n",
        "\n",
        "### **Teorema 2: Tiempo de ejecución del algoritmo Cutting Rod (bottom-up)**\n",
        "\n",
        "*El algoritmo Cutting Rod tiene un **tiempo de ejecución** $\\Theta(n^2)$*\n",
        "\n",
        "## Prueba del teorema\n",
        "\n",
        "Recordemos que, para encontrar el retorno máximo $r_{n}$, el algoritmo debe resolver el problema para cada varilla de largo $i = 1..n$, antes de encontrar la solución al problema original. Por cada problema $i$, el algoritmo encuentra cada una de las posibles divisiones de la varilla, siendo $j = 1..i$ el punto de corte. Es decir, por cada problema $i$ se resuelven $i$ subproblemas. Luego, podemos plantear la siguiente función para calcular la cantidad total de subproblemas resueltos por el algoritmo:\n",
        "\n",
        "$\\sum\\limits_{i=1}^{n} i=\\frac{n(n+1)}{2}$\n",
        "\n",
        "El tiempo ocupado en resolver cada subproblema es constante, puesto que para encontrar la solución se utiliza la función $r_{i} = P_{j} + r_{i-j}$, cuyos valores se obtienen accediendo a los arreglos $P$ y $T$ con un tiempo $O(1)$.\n",
        "\n",
        "Por último, reconstruir la solución, esto es, obtener los cortes necesarios para la varilla, tiene un tiempo de ejecución $O(n)$. Los cortes necesarios se obtienen a partir de un arreglo $C$ de tamaño $n$ que guarda el índice $j$ donde se realizó un corte para cada varilla de largo $i$. El peor caso ocurrirá cuando el corte para cada una de estas varillas se realice en $j = 1$. En este caso, la solución final consistirá en $n$ varillas de largo 1. \n",
        "\n",
        "A partir de esto, podemos calcular el tiempo de ejecución de la función a partir de la fórmula:\n",
        "\n",
        "$T(n) = f(n) \\cdot g(n) + h(n)$,\n",
        "\n",
        "donde $f(n)$ corresponde a la cantidad de subproblemas, $g(n)$ corresponde al tiempo necesario para resolver cada subproblema, y $h(n)$ es el tiempo empleado en reconstruir la solución final. Reemplazando, obtenemos:\n",
        "\n",
        "$T(n) = O(n^2) \\cdot O(1) + O(n)$\n",
        "\n",
        "$T(n) = O(n^2)$\n",
        "\n",
        "Finalmente, notemos que no existe un peor ni un mejor caso para este algoritmo. Puesto que se trata de un algoritmo de **optimización**, se considerarán todos los casos posibles para el valor de $r_{n}$, sin importar los valores de entrada para el precio de las varillas. Debido a esto, podemos decir que el tiempo ocupado por cada operación solo depende del tamaño del problema, y por lo tanto, podemos expresar su complejidad con la notación $\\Theta(n^2)$. $\\Box$\n",
        "\n",
        "### **Teorema 3: Complejidad espacial del algoritmo Cutting Rod (bottom-up)**\n",
        "\n",
        "*El algoritmo Cutting Rod tiene una **complejidad espacial** $O(n)$*\n",
        "\n",
        "## Prueba del teorema\n",
        "\n",
        "El algoritmo hace uso de dos arreglos, $T$ y $C$, para guardar el retorno máximo y los cortes necesarios para cada subproblema. Ambos arreglos se inicializan al comienzo del algoritmo con $n+1$ casillas, es decir, tienen una complejidad espacial $O(n)$. La complejidad espacial para el resto de variables auxiliares es $O(1)$. Considerando esto, la complejidad espacial general del algoritmo es $O(n)$. $\\Box$\n",
        "\n",
        "\n",
        "\n",
        "\n"
      ],
      "metadata": {
        "id": "SBnAbVFz_tvd"
      }
    },
    {
      "cell_type": "markdown",
      "source": [
        "# 5. Experimentos\n",
        "\n",
        "## 5.1. Comparación entre implementación recursiva y bottom-up\n",
        "\n",
        "A continuación se presenta una comparación del tiempo de ejecución de ambos algoritmos. Para visualizar de forma clara la curva de tiempo que sigue cada algoritmo, se creará un gráfico para cada uno por separado, y finalmente, se elaborará un único gráfico para mostrar la diferencia de tiempo que existe entre ellos."
      ],
      "metadata": {
        "id": "_WddDIiioclW"
      }
    },
    {
      "cell_type": "markdown",
      "source": [
        "### Tiempo experimental de Cutting Rod (recursivo)\n",
        "\n",
        "Para este gráfico, los valores del arreglo $P$ serán generados de forma aleatoria con $n \\in [5,20]$"
      ],
      "metadata": {
        "id": "8U-blqFTIriX"
      }
    },
    {
      "cell_type": "code",
      "source": [
        "import matplotlib.pyplot as plt\n",
        "import datetime\n",
        "import random\n",
        "from timeit import repeat\n",
        "\n",
        "x=[]; y1=[];\n",
        "\n",
        "for n in range(5,21):\n",
        "  P = cutrod_instance_generator(n)\n",
        "\n",
        "  t1 = repeat(setup=\"from __main__ import recursive_cutting_rod\", stmt=f\"recursive_cutting_rod({P}, {n})\", repeat=1, number=10)\n",
        "\n",
        "  x.append(n)\n",
        "  y1.append(t1)\n",
        "\n",
        "plt.plot(x,y1)\n",
        "plt.xlabel('n')\n",
        "plt.ylabel('Tiempo en ms')\n",
        "plt.show()"
      ],
      "metadata": {
        "colab": {
          "base_uri": "https://localhost:8080/",
          "height": 279
        },
        "id": "zEGSH_nyHTn4",
        "outputId": "92b345a1-40cd-4863-82df-71cd7709231d"
      },
      "execution_count": null,
      "outputs": [
        {
          "output_type": "display_data",
          "data": {
            "text/plain": [
              "<Figure size 432x288 with 1 Axes>"
            ],
            "image/png": "[encoded data removed]"
          },
          "metadata": {
            "needs_background": "light"
          }
        }
      ]
    },
    {
      "cell_type": "markdown",
      "source": [
        "### Tiempo experimental de Cutting Rod (bottom-up)\n",
        "\n",
        "Para este gráfico, los valores del arreglo $P$ serán generados de forma aleatoria con $n \\in [5,500]$"
      ],
      "metadata": {
        "id": "fAJ3xKZULL0L"
      }
    },
    {
      "cell_type": "code",
      "source": [
        "x=[]; y1=[];\n",
        "\n",
        "for n in range(5,501):\n",
        "  P = cutrod_instance_generator(n)\n",
        "\n",
        "  t1 = repeat(setup=\"from __main__ import dynamic_cutting_rod\", stmt=f\"dynamic_cutting_rod({P}, {n})\", repeat=1, number=10)\n",
        "\n",
        "  x.append(n)\n",
        "  y1.append(t1)\n",
        "\n",
        "plt.plot(x,y1)\n",
        "plt.xlabel('n')\n",
        "plt.ylabel('Tiempo en ms')\n",
        "plt.show()"
      ],
      "metadata": {
        "colab": {
          "base_uri": "https://localhost:8080/",
          "height": 279
        },
        "id": "SlXGjwCgLHeT",
        "outputId": "d92648f7-4ec0-4733-8660-6bca29711962"
      },
      "execution_count": null,
      "outputs": [
        {
          "output_type": "display_data",
          "data": {
            "text/plain": [
              "<Figure size 432x288 with 1 Axes>"
            ],
            "image/png": "[encoded data removed]"
          },
          "metadata": {
            "needs_background": "light"
          }
        }
      ]
    },
    {
      "cell_type": "markdown",
      "source": [
        "### Tiempo experimental para ambos algoritmos\n",
        "\n",
        "Para este gráfico, los valores del arreglo $P$ serán generados de forma aleatoria con $n \\in [5,20]$"
      ],
      "metadata": {
        "id": "iFi60LbJLm5y"
      }
    },
    {
      "cell_type": "code",
      "source": [
        "x=[]; y1=[]; y2=[];\n",
        "\n",
        "for n in range(5,21):\n",
        "  P = cutrod_instance_generator(n)\n",
        "\n",
        "  t1 = repeat(setup=\"from __main__ import recursive_cutting_rod\", stmt=f\"recursive_cutting_rod({P}, {n})\", repeat=1, number=10)\n",
        "  t2 = repeat(setup=\"from __main__ import dynamic_cutting_rod\", stmt=f\"dynamic_cutting_rod({P}, {n})\", repeat=1, number=10)\n",
        "\n",
        "  x.append(n)\n",
        "  y1.append(t1)\n",
        "  y2.append(t2)\n",
        "\n",
        "plt.plot(x,y1)\n",
        "plt.plot(x,y2)\n",
        "plt.legend([\"Recursivo\", \"Bottom-up\"])\n",
        "\n",
        "plt.xlabel('n')\n",
        "plt.ylabel('Tiempo en ms')\n",
        "plt.show()"
      ],
      "metadata": {
        "colab": {
          "base_uri": "https://localhost:8080/",
          "height": 279
        },
        "id": "ycN9MM8iLd5C",
        "outputId": "cc8c3a8c-cfde-4bae-c7b4-7e8236973a9b"
      },
      "execution_count": null,
      "outputs": [
        {
          "output_type": "display_data",
          "data": {
            "text/plain": [
              "<Figure size 432x288 with 1 Axes>"
            ],
            "image/png": "[encoded data removed]"
          },
          "metadata": {
            "needs_background": "light"
          }
        }
      ]
    },
    {
      "cell_type": "markdown",
      "source": [
        "### Análisis de resultados\n",
        "\n",
        "Como se puede apreciar, el tiempo de ejecución del algoritmo recursivo crece a un nivel exponencial, mientras que, la implementación usando programación dinámica es mucho más eficiente, pues sigue una curva cuadrática.\n",
        "\n",
        "A la hora de comparar ambos algoritmos, podemos notar que el tiempo del algoritmo recursivo predomina totalmente en el gráfico. Esto se debe a la complejidad $O(2^n)$ del algoritmo recursivo, cuya tasa de crecimiento es significativamente mayor que la complejidad $O(n^2)$ del algoritmo bottom-up.\n"
      ],
      "metadata": {
        "id": "ptSomB5JpTFE"
      }
    },
    {
      "cell_type": "markdown",
      "source": [
        "## 5.2. Cantidad de subproblemas (bottom-up)"
      ],
      "metadata": {
        "id": "3XVCqdgENDg0"
      }
    },
    {
      "cell_type": "markdown",
      "source": [
        "El siguiente gráfico compara la cantidad de subproblemas $s$ que debe resolver el algoritmo en relación al tamaño del problema, con $n \\in [5,500]$"
      ],
      "metadata": {
        "id": "CoGtoDV8f1VW"
      }
    },
    {
      "cell_type": "code",
      "source": [
        "import matplotlib.pyplot as plt\n",
        "import random\n",
        "\n",
        "x = []; y = []; \n",
        "\n",
        "for n in range(5,501):\n",
        "  P = cutrod_instance_generator(n)\n",
        "  s = 0\n",
        "  dynamic_cutting_rod(P,n)\n",
        "  x.append(n)\n",
        "  y.append(s)\n",
        "\n",
        "plt.plot(x,y)\n",
        "\n",
        "plt.xlabel('n')\n",
        "plt.ylabel('Cantidad de subproblemas')\n",
        "plt.show()"
      ],
      "metadata": {
        "colab": {
          "base_uri": "https://localhost:8080/",
          "height": 279
        },
        "id": "NQ37Zg5Tfy9F",
        "outputId": "a8d36a61-6f90-4075-d3e7-9f436dfd032e"
      },
      "execution_count": null,
      "outputs": [
        {
          "output_type": "display_data",
          "data": {
            "text/plain": [
              "<Figure size 432x288 with 1 Axes>"
            ],
            "image/png": "[encoded data removed]"
          },
          "metadata": {
            "needs_background": "light"
          }
        }
      ]
    },
    {
      "cell_type": "markdown",
      "source": [
        "### Análisis de resultados\n",
        "\n",
        "Como era de esperarse, la cantidad de subproblemas aumenta cuadráticamente en relación al tamaño del problema $n$. Recordemos que la fórmula para calcular la cantidad de subproblemas es: \n",
        "\n",
        "$\\sum\\limits_{i=1}^{n} i=\\frac{n(n+1)}{2}$\n",
        "\n",
        "Podemos notar fácilmente que esta función posee una complejidad $O(n^2)$, lo cual se ve reflejado en el gráfico.\n",
        "\n",
        "Algo importante a considerar es que la cantidad de subproblemas a resolver no depende del arreglo de entrada $P$, sino que solo depende del tamaño inicial del problema.\n",
        "\n"
      ],
      "metadata": {
        "id": "Sf1CM9aGA5ZA"
      }
    }
  ],
  "metadata": {
    "colab": {
      "collapsed_sections": [],
      "provenance": [],
      "authorship_tag": "ABX9TyMHCPBV0uKClhL9JEr5pewi",
      "include_colab_link": true
    },
    "kernelspec": {
      "display_name": "Python 3",
      "name": "python3"
    },
    "language_info": {
      "name": "python"
    }
  },
  "nbformat": 4,
  "nbformat_minor": 0
}