{
  "nbformat": 4,
  "nbformat_minor": 0,
  "metadata": {
    "colab": {
      "provenance": [],
      "authorship_tag": "ABX9TyPjn0miJ2OWsMsaBnwd5UmE",
      "include_colab_link": true
    },
    "kernelspec": {
      "name": "python3",
      "display_name": "Python 3"
    },
    "language_info": {
      "name": "python"
    }
  },
  "cells": [
    {
      "cell_type": "markdown",
      "metadata": {
        "id": "view-in-github",
        "colab_type": "text"
      },
      "source": [
        "<a href=\"https://colab.research.google.com/github/OscarRojasG/ADA-Informes/blob/main/Informe13-TSP.ipynb\" target=\"_parent\"><img src=\"https://colab.research.google.com/assets/colab-badge.svg\" alt=\"Open In Colab\"/></a>"
      ]
    },
    {
      "cell_type": "markdown",
      "source": [
        "# 1. TSP\n",
        "\n",
        "**Entrada**: Un grafo completo no dirigido $G=(V,E)$ y un valor $c_e$ para cada arco $e\\in E$.\n",
        "\n",
        "**Salida**: Un ciclo que pase por todos los vértices del grafo solo una vez con el coste mínimo, es decir, que minimice $\\sum\\limits_{e\\in T}c_e$\n",
        "\n",
        "El **TSP** (travelling salesman problem), o problema del vendedor viajero, consiste en determinar la ruta más corta pasando por todos los vértices de un grafo solo una vez y volviendo al vértice de origen. El siguiente ejemplo muestra una instancia del TSP, en donde los arcos sombreados forman el tour con el coste mínimo:\n",
        "\n",
        "<img src=\"data:image/png;base64,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\" width=\"250\" />\n",
        "\n",
        "El TSP es un problema **NP-hard**. Esto se puede demostrar fácilmente aplicando reducción al problema del **ciclo hamiltoniano**, pues ambos problemas tratan de encontrar un ciclo que pase por todos los nodos del grafo. Por otro lado, al ser un problema NP-hard, es poco probable encontrar una solución en tiempo polinomial. Es por ello que se han inventado algoritmos que resuelven este problema de manera aproximada, entregando una solución en un tiempo razonable.\n",
        "\n",
        "La cantidad total de rutas en un grafo completo es $(n-1)!/2$. Es decir, encontrar el tour más corto mediante un método de fuerza bruta que verifique cada uno de los caminos posibles tomaría un tiempo $O(n!)$, lo cual es bastante ineficiente. Por esta razón, se prefiere trabajar con algoritmos aproximados que entregan una solución inexacta al problema en tiempo polinomial."
      ],
      "metadata": {
        "id": "yxqHkJw0tgGV"
      }
    },
    {
      "cell_type": "markdown",
      "source": [
        "# 2. TSP"
      ],
      "metadata": {
        "id": "XsTsAvlp87QO"
      }
    },
    {
      "cell_type": "markdown",
      "source": [
        "## Generador de instancias"
      ],
      "metadata": {
        "id": "A6Gdm0g__1Ju"
      }
    },
    {
      "cell_type": "code",
      "source": [
        "import numpy as np\n",
        "\n",
        "def dist(c1, c2):\n",
        "   return np.sqrt( (c1[0]-c2[0])**2 + (c1[1]-c2[1])**2 )    \n",
        "\n",
        "def generate_tsp_instance(n: int):\n",
        "    \"\"\"\n",
        "        Input: cantidad de vértices.\n",
        "        Output: una matriz de n x n. Cada posición M[i][j] dentro de la matriz indica la distancia que existe entre el vértice i y el vértice j.\n",
        "    \"\"\"\n",
        "    cities = []\n",
        "    for i in range(n):\n",
        "        x, y = np.random.uniform(-100, 100), np.random.uniform(-100, 100)\n",
        "        cities.append([x, y])\n",
        "        \n",
        "    instance = []\n",
        "    for i, coord1 in enumerate(cities):\n",
        "        instance.append([])\n",
        "        for j, coord2 in enumerate(cities):\n",
        "            if i != j:\n",
        "                instance[i].append(dist(coord1, coord2))\n",
        "            else:\n",
        "                instance[i].append(0)\n",
        "          \n",
        "    return instance"
      ],
      "metadata": {
        "id": "Oe30HGwc_X1u"
      },
      "execution_count": 43,
      "outputs": []
    },
    {
      "cell_type": "markdown",
      "source": [
        "## Algoritmo de búsqueda local"
      ],
      "metadata": {
        "id": "UWbz4g_k_4MV"
      }
    },
    {
      "cell_type": "code",
      "source": [
        "import numpy as np\n",
        "\n",
        "def tsp_local_search(G):\n",
        "\n",
        "  # Calcula el costo del camino actual\n",
        "  def calculate_cost():\n",
        "    cost = 0\n",
        "    for i in range(n-1):\n",
        "      cost += G[path[i]][path[i+1]]\n",
        "    return cost\n",
        "\n",
        "  n = len(G) # Cantidad de vértices\n",
        "\n",
        "  path = np.arange(n) # Camino ordenado de 0 a n\n",
        "  np.random.shuffle(path) # Solución aleatoria\n",
        "\n",
        "  while True:\n",
        "    max_change = 0 # Decrecimiento máximo\n",
        "    max_i = 0\n",
        "    max_j = 0\n",
        "\n",
        "    for i in range(n-2):\n",
        "      for j in range(i+2, n-1):\n",
        "        current = G[path[i]][path[i+1]] + G[path[j]][path[j+1]] # Costo actual\n",
        "        new = G[path[i]][path[j]] + G[path[i+1]][path[j+1]] # Costo nuevo\n",
        "\n",
        "        change = current - new # Se calcula el decrecimiento del costo\n",
        "\n",
        "        if change > max_change: # Se guarda el decrecimiento máximo\n",
        "          max_change = change\n",
        "          max_i = i\n",
        "          max_j = j\n",
        "          \n",
        "    # Dejamos de iterar cuando la solución no pueda mejorarse\n",
        "    if max_change == 0: break\n",
        "\n",
        "    # Creamos el nuevo camino para reducir el costo\n",
        "    path[max_i+1:max_j+1] = path[max_i+1:max_j+1][::-1]\n",
        "\n",
        "    cost = calculate_cost()\n",
        "\n",
        "  return path, cost"
      ],
      "metadata": {
        "id": "O8kWyigt_bhk"
      },
      "execution_count": 65,
      "outputs": []
    },
    {
      "cell_type": "code",
      "source": [
        "graph = generate_tsp_instance(10)\n",
        "path, cost = tsp_local_search(graph)\n",
        "print(f\"Tour: {path}\")\n",
        "print(f\"Costo: {cost}\")"
      ],
      "metadata": {
        "colab": {
          "base_uri": "https://localhost:8080/"
        },
        "id": "NCfHPRvLAdq_",
        "outputId": "3a5070be-4b9e-40df-895c-71f0e4f416a9"
      },
      "execution_count": 67,
      "outputs": [
        {
          "output_type": "stream",
          "name": "stdout",
          "text": [
            "Tour: [2 3 5 0 4 8 1 6 7 9]\n",
            "Costo: 399.1060413309257\n"
          ]
        }
      ]
    }
  ]
}