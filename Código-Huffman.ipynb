{
  "nbformat": 4,
  "nbformat_minor": 0,
  "metadata": {
    "colab": {
      "provenance": [],
      "authorship_tag": "ABX9TyOG/TTJUsEMohJCW4bc39Fr",
      "include_colab_link": true
    },
    "kernelspec": {
      "name": "python3",
      "display_name": "Python 3"
    },
    "language_info": {
      "name": "python"
    }
  },
  "cells": [
    {
      "cell_type": "markdown",
      "metadata": {
        "id": "view-in-github",
        "colab_type": "text"
      },
      "source": [
        "<a href=\"https://colab.research.google.com/github/OscarRojasG/ADA-Informes/blob/presentaciones/C%C3%B3digo-Huffman.ipynb\" target=\"_parent\"><img src=\"https://colab.research.google.com/assets/colab-badge.svg\" alt=\"Open In Colab\"/></a>"
      ]
    },
    {
      "cell_type": "markdown",
      "source": [
        "# Algoritmo y descripción"
      ],
      "metadata": {
        "id": "WPm4pzefNv9y"
      }
    },
    {
      "cell_type": "markdown",
      "source": [
        "## Funciones y clases auxiliares"
      ],
      "metadata": {
        "id": "ZlHufrq5-NS_"
      }
    },
    {
      "cell_type": "code",
      "source": [
        "class Node:\n",
        "  def __init__(self, key, priority):\n",
        "    self.key = key\n",
        "    self.priority = priority\n",
        "    self.left = None\n",
        "    self.right = None\n",
        "    self.parent = None\n",
        "\n",
        "def get_nodes(root):\n",
        "  if root == None: return []\n",
        "\n",
        "  n_left = get_nodes(root.left)\n",
        "  n_right = get_nodes(root.right)\n",
        "\n",
        "  n = n_left + n_right\n",
        "  n.append(root)\n",
        "\n",
        "  return n\n",
        "\n",
        "class Heap:\n",
        "  def __init__(self):\n",
        "    self.A = list()\n",
        "    self.size = 0\n",
        "\n",
        "  def insert(self, node):\n",
        "    if self.size == len(self.A): self.A.append(node)\n",
        "    else: self.A[self.size] = node\n",
        "    curr = self.size\n",
        "\n",
        "    while True:  \n",
        "      if curr == 0: break\n",
        "      parent = (curr-1)//2\n",
        "\n",
        "      if self.A[parent].priority > node.priority:\n",
        "        curr = parent\n",
        "      else: break\n",
        "\n",
        "    self.A[self.size], self.A[curr] = self.A[curr], self.A[self.size]\n",
        "    self.size += 1\n",
        "\n",
        "  def pop(self):\n",
        "    if self.size == 0: return\n",
        "\n",
        "    node = self.A[0]\n",
        "    self.A[0] = self.A[self.size-1]\n",
        "    self.size -= 1\n",
        "    curr = 0\n",
        "\n",
        "    while True:\n",
        "      left = curr*2+1\n",
        "      right = curr*2+2\n",
        "      aux = curr\n",
        "\n",
        "      if left < self.size and self.A[left].priority < self.A[curr].priority:\n",
        "        curr = left\n",
        "\n",
        "      if right < self.size and self.A[right].priority < self.A[curr].priority:\n",
        "        curr = right\n",
        "\n",
        "      if curr == aux: break\n",
        "      self.A[aux], self.A[curr] = self.A[curr], self.A[aux]\n",
        "\n",
        "    return node\n",
        "\n",
        "  def get_nodes(self):\n",
        "    return self.A[:self.size]"
      ],
      "metadata": {
        "id": "IvUaCcCL4H1z"
      },
      "execution_count": null,
      "outputs": []
    },
    {
      "cell_type": "code",
      "source": [
        "def binary_tree_layout(G, root, width = 1., vert_gap = 0.2, vert_loc = 0, \n",
        "                       xcenter = 0.5, pos = None, parent = None):\n",
        "  if pos == None:\n",
        "    pos = {root:(xcenter, vert_loc)}\n",
        "  else:\n",
        "    pos[root] = (xcenter, vert_loc)\n",
        "\n",
        "  neighbors = list(G.neighbors(root))\n",
        "  \n",
        "  if len(neighbors) != 0:\n",
        "\n",
        "    dx = width/2.\n",
        "    leftx = xcenter - dx/2\n",
        "    rightx = xcenter + dx/2\n",
        "\n",
        "    for neighbor in neighbors:\n",
        "      if G.nodes[neighbor]['child_status'] == 'LEFT':\n",
        "        pos = binary_tree_layout(G, neighbor, width = dx, vert_gap = vert_gap*1.15, \n",
        "                                 vert_loc = vert_loc-vert_gap, xcenter=leftx, \n",
        "                                 pos=pos, parent = root)\n",
        "      \n",
        "      elif G.nodes[neighbor]['child_status'] == 'RIGHT':\n",
        "        pos = binary_tree_layout(G, neighbor, width = dx, vert_gap = vert_gap*1.15,\n",
        "                                 vert_loc = vert_loc-vert_gap, xcenter=rightx,\n",
        "                                 pos=pos, parent = root)\n",
        "  return pos"
      ],
      "metadata": {
        "id": "WpfuYDDq-aQF"
      },
      "execution_count": null,
      "outputs": []
    },
    {
      "cell_type": "code",
      "source": [
        "import networkx as nx\n",
        "import matplotlib.pyplot as plt\n",
        "from networkx.drawing.nx_pydot import graphviz_layout\n",
        "\n",
        "def visualize_tree(N):\n",
        "  T = nx.DiGraph()\n",
        "  labels = dict()\n",
        "\n",
        "  for i in range(0,len(N)):\n",
        "    labels[N[i].key] = str(N[i].key) + '\\n' + str(N[i].priority)\n",
        "\n",
        "    if N[i].parent == None:\n",
        "      T.add_node(N[i].key, child_status='LEFT')\n",
        "      root_key = N[i].key\n",
        "      continue\n",
        "\n",
        "    if N[i].parent.left == N[i]:\n",
        "      T.add_node(N[i].key, child_status='LEFT')\n",
        "      T.add_edge(N[i].parent.key, N[i].key, weight=0)\n",
        "    else:\n",
        "      T.add_node(N[i].key, child_status='RIGHT')\n",
        "      T.add_edge(N[i].parent.key, N[i].key, weight=1)\n",
        "\n",
        "  tree_pos = binary_tree_layout(T, root_key)\n",
        "  nx.draw(T, tree_pos, with_labels=True, font_size=9.5, node_size=1200,\n",
        "          node_color='white', edgecolors='black', labels=labels)\n",
        "  \n",
        "  edge_labels = nx.get_edge_attributes(T, 'weight')\n",
        "  nx.draw_networkx_edge_labels(T, tree_pos, edge_labels, font_size=9.5,\n",
        "                               rotate=False)"
      ],
      "metadata": {
        "id": "iu36T_7P-dPF"
      },
      "execution_count": null,
      "outputs": []
    },
    {
      "cell_type": "markdown",
      "source": [
        "## Código de Huffman"
      ],
      "metadata": {
        "id": "AqEzwrW5-S4_"
      }
    },
    {
      "cell_type": "code",
      "execution_count": null,
      "metadata": {
        "colab": {
          "base_uri": "https://localhost:8080/",
          "height": 319
        },
        "id": "e2rnRxlv1irc",
        "outputId": "e4173ecb-df61-47d2-b29b-0431f9587330"
      },
      "outputs": [
        {
          "output_type": "display_data",
          "data": {
            "text/plain": [
              "<Figure size 432x288 with 1 Axes>"
            ],
            "image/png": "[encoded data removed]"
          },
          "metadata": {}
        }
      ],
      "source": [
        "def huffman(F, visualize=False):\n",
        "  heap = Heap()\n",
        "  for key, value in F.items():\n",
        "    node = Node(key, value)\n",
        "    heap.insert(node)\n",
        "\n",
        "  for i in range(heap.size-1):\n",
        "    x = heap.pop()\n",
        "    y = heap.pop()\n",
        "\n",
        "    z = Node(x.key + y.key, x.priority + y.priority)\n",
        "    z.left = x\n",
        "    z.right = y\n",
        "    x.parent = z\n",
        "    y.parent = z\n",
        "\n",
        "    heap.insert(z)\n",
        "\n",
        "  root = heap.pop()\n",
        "  if visualize:\n",
        "    visualize_tree(get_nodes(root))\n",
        "\n",
        "  return root\n",
        "\n",
        "frecuencias = {'A': 15 , 'B': 7 , 'C': 6, 'D': 6 , 'E': 5}\n",
        "\n",
        "root = huffman(frecuencias, visualize=True)"
      ]
    },
    {
      "cell_type": "markdown",
      "source": [
        "## Descripción\n",
        "\n",
        "La entrada consiste en un diccionario con las frecuencias de cada caracter. Los pasos del algoritmo son los siguientes:\n",
        "\n",
        "1. Se insertan los caracteres en un montículo de mínimos ordenados por su frecuencia (el caracter con menor frecuencia es la raíz).\n",
        "\n",
        "2. Se elimina dos veces la raíz del montículo y se guardan estos elementos en dos nodos $x$ e $y$.\n",
        "\n",
        "3. Se crea un nodo padre para $x$ e $y$ concatenando sus claves y sumando sus frecuencias. Ej: $a: 25, b: 30 → ab: 55$.\n",
        "\n",
        "4. Se inserta este nodo en el montículo. (Nota: a pesar de que este nodo tiene dos hijos, esto no influye en las operaciones del montículo, ya que solamente se usa la clave y la frecuencia de los nodos)\n",
        "\n",
        "5. Se repite desde el paso 2 hasta que el montículo tenga un solo elemento.\n",
        "\n",
        "6. Se retorna la raíz del montículo (que también corresponde a la raíz del árbol de decodificación final)."
      ],
      "metadata": {
        "id": "ApH9QryTOBtp"
      }
    },
    {
      "cell_type": "markdown",
      "source": [
        "## Ejemplo\n",
        "\n",
        "Tenemos la siguiente tabla de caracteres con su frecuencia:\n",
        "\n",
        "$F = \\{a: 30, b: 40, c: 20, d: 10\\}$\n",
        "\n",
        "Insertamos nodos de la forma (clave, frecuencia) en un montículo de mínimos:\n",
        "\n",
        "<img src=\"https://drive.google.com/uc?export=view&id=121VKBmf11Zsse6MwUVf7E417cz3ys2Nc\" width=\"500\"/>\n",
        "\n",
        "Eliminamos los dos elementos menores del montículo y los guardamos en los nodos $x$ e $y$:\n",
        "\n",
        "$x = \\{d, 10\\}$\n",
        "\n",
        "$y = \\{c, 20\\}$\n",
        "\n",
        "<img src=\"https://drive.google.com/uc?export=view&id=1cqBmiTjbju1NDllv4tVI2MV0xLQDXKwE\" width=\"500\"/>\n",
        "\n",
        "Creamos un nuevo nodo $z$ padre de $x$ e $y$ con la clave $dc$ y frecuencia $30$:\n",
        "\n",
        "<img src=\"https://drive.google.com/uc?export=view&id=1LslbxRtyWCT_Dn42jv1YK9jl7Vz2xT-T\" width=\"500\"/>\n",
        "\n",
        "Insertamos el nodo $\\{dc, 30\\}$ en el montículo:\n",
        "\n",
        "<img src=\"https://drive.google.com/uc?export=view&id=12o24Lrw5U2ImZBR_2u4FQHSbTfZpfucR\" width=\"500\"/>\n",
        "\n",
        "Eliminamos los dos elementos menores del montículo y los guardamos en los nodos $x$ e $y$:\n",
        "\n",
        "$x = \\{a, 30\\}$\n",
        "\n",
        "$y = \\{dc, 30\\}$\n",
        "\n",
        "<img src=\"https://drive.google.com/uc?export=view&id=1JpXWAo-nz7zOrJNzihP0VQ8lvULN_NgR\" width=\"500\"/>\n",
        "\n",
        "Creamos un nuevo nodo $z$ padre de $x$ e $y$ con la clave $adc$ y frecuencia $60$:\n",
        "\n",
        "<img src=\"https://drive.google.com/uc?export=view&id=1csAg8hwyOYCq4sBAohXTqI7Qpvl-HT7q\" width=\"500\"/>\n",
        "\n",
        "Insertamos el nodo $\\{adc, 60\\}$ en el montículo:\n",
        "\n",
        "<img src=\"https://drive.google.com/uc?export=view&id=1DoQ97w7Pfr5l5RxR2sA45ORJ3Ek0WjvM\" width=\"500\"/>\n",
        "\n",
        "Eliminamos los dos elementos menores del montículo y los guardamos en los nodos $x$ e $y$:\n",
        "\n",
        "$x = \\{b, 40\\}$\n",
        "\n",
        "$y = \\{adc, 60\\}$\n",
        "\n",
        "Creamos un nuevo nodo $z$ padre de $x$ e $y$ con la clave $badc$ y frecuencia $100$:\n",
        "\n",
        "<img src=\"https://drive.google.com/uc?export=view&id=1-ok_MNaDqF54bVURKjE_tnz4eWlxGcSg\" width=\"500\"/>\n",
        "\n",
        "Listo! Ya tenemos nuestro árbol de decodificación. Para codificar o decodificar un string, podemos crear una tabla con un código binario óptimo para cada caracter, según la ubicación del nodo (hijo izquierdo: 0, hijo derecho: 1)\n",
        "\n",
        "<img src=\"https://drive.google.com/uc?export=view&id=1un_8caW0-bWOFIqUO2ZunUrIfsd1vPCB\" width=\"500\"/>\n",
        "\n",
        "<img src=\"https://drive.google.com/uc?export=view&id=1BL903BNwm4MKVRLjPYVX-CAb3_yBqSzG\" width=\"400\"/>"
      ],
      "metadata": {
        "id": "gVBxYx3oTELK"
      }
    },
    {
      "cell_type": "markdown",
      "source": [
        "# Correctitud\n",
        "\n",
        "### **Teorema 1: Optimalidad**\n",
        "\n",
        "*El algoritmo de Huffman construye un árbol óptimo donde $x$ e $y$ son los nodos con menor frecuencia y están en la máxima profundidad del árbol.*\n",
        "\n",
        "Asumiendo que los caracteres de un string cumplen con las frecuencias de entrada, entonces la cantidad de bits del string codificado se calcula como:\n",
        "\n",
        "$B(T) = \\sum\\limits_i p_i \\cdot d_T(i)$\n",
        "\n",
        "donde los nodos $i$ corresponden a las hojas del árbol de decodificación, $p_i$ corresponde a la frecuencia del caracter y $d_i$ corresponde a la profundidad del nodo.\n",
        "\n",
        "**Nota:** esta definición es muy parecida a la de costo esperado del árbol de búsqueda óptimo, sin embargo, en este caso solo consideramos los nodos hoja.\n",
        "\n",
        "## Prueba del teorema\n",
        "\n",
        "Supongamos que tenemos dos árboles $T$ y $T^\\prime$. El árbol $T$ representa una árbol óptimo arbitrario mientras que $T^\\prime$ representa el árbol generado por el algoritmo de Huffman. Ambos árboles tienen los mismos nodos, sin embargo el árbol $T$ tiene dos nodos $a$ y $b$ con frecuencia arbitraria ubicados en la parte más baja del árbol, mientras que el árbol $T^\\prime$ posee a esta misma profundidad los nodos $x$ e $y$ con las menores frecuencias.\n",
        "\n",
        "Árbol $T$:\n",
        "\n",
        "<img src=\"https://drive.google.com/uc?export=view&id=1a3CKIfZTotFbw8XWpfu71R4sEzWRA1Tf\" width=\"500\"/>\n",
        "\n",
        "Árbol $T^\\prime$\n",
        "\n",
        "<img src=\"https://drive.google.com/uc?export=view&id=1tgrOw47pl0kjsfYbFc0krxf9kxUpBji2\" width=\"500\"/>\n",
        "\n",
        "Para demostrar la optimalidad del algoritmo, debemos demostrar que $B(T) \\geq B(T^\\prime)$. Con esto estamos diciendo que el algoritmo genera, de todos los árboles posibles, aquel que tiene un menor costo.\n",
        "\n",
        "$B(T) \\geq B(T^\\prime)$\n",
        "\n",
        "$B(T) - B(T^\\prime) \\geq 0$\n",
        "\n",
        "$\\sum\\limits_i p_i \\cdot d_T(i) - \\sum\\limits_i p_i \\cdot d_{T^\\prime}(i) \\geq 0$\n",
        "\n",
        "Nota: el resto de nodos permanece en la misma posición en ambos árboles, por lo tanto, solo consideramos los nodos $a$, $b$, $x$ e $y$.\n",
        "\n",
        "$p_a \\cdot d_T(a) + p_b \\cdot d_T(b) + p_x \\cdot d_T(x) + p_y \\cdot d_T(y) - p_a \\cdot d_{T^\\prime}(a) - p_b \\cdot d_{T^\\prime}(b) - p_x \\cdot d_{T^\\prime}(x) - p_y \\cdot d_{T^\\prime}(y) \\geq 0$\n",
        "\n",
        "Observemos que:\n",
        "\n",
        "$d_{T^\\prime}(a) = d_T(x)$\n",
        "\n",
        "$d_{T^\\prime}(b) = d_T(y)$\n",
        "\n",
        "$d_{T^\\prime}(x) = d_T(a)$\n",
        "\n",
        "$d_{T^\\prime}(y) = d_T(b)$\n",
        "\n",
        "Reemplazando:\n",
        "\n",
        "$p_a \\cdot d_T(a) + p_b \\cdot d_T(b) + p_x \\cdot d_T(x) + p_y \\cdot d_T(y) - p_a \\cdot d_T(x) - p_b \\cdot d_T(y) - p_x \\cdot d_T(a) - p_y \\cdot d_T(b) \\geq 0$\n",
        "\n",
        "Factorizando:\n",
        "\n",
        "$p_a(d_T(a) - d_T(x)) + p_b(d_T(b) - d_T(y)) + p_x(d_T(x) - d_T(a)) + p_y(d_T(y) - d_T(b)) \\geq 0$\n",
        "\n",
        "$(p_a - p_x)(d_T(a) - d_T(x)) + (p_b - p_y)(d_T(b) - d_T(y)) \\geq 0$\n",
        "\n",
        "Luego, sabemos que $p_a - p_x \\geq 0$, pues $x$ corresponde al nodo con la menor frecuencia. De igual manera, $p_b - p_y \\geq 0$. También sabemos que $d_T(a) - d_T(x) \\geq 0$ y $d_T(b) - d_T(y) \\geq 0$, pues $a$ y $b$ corresponden a los nodos con mayor profundidad del árbol $T$. Por lo tanto, ambos productos son positivos y la inecuación se cumple. $\\Box$\n",
        "\n",
        "\n",
        "\n",
        "\n",
        "\n",
        "\n",
        "\n"
      ],
      "metadata": {
        "id": "xnyEgm6izZq-"
      }
    },
    {
      "cell_type": "code",
      "source": [
        "import numpy as np\n",
        "\n",
        "def huffman_instance_generator(n):\n",
        "  arr1 = np.random.random(n)\n",
        "  arr1 /= arr1.sum()\n",
        "  arr2 = arr1.copy()\n",
        "  arr2 /= 2\n",
        "    \n",
        "  f1 = dict(); f2 = dict()\n",
        "  for i in range(n):\n",
        "    f1[i] = arr1[i]\n",
        "    f2[i] = arr2[i]\n",
        "\n",
        "  f2[0] = f2[0] + 0.5\n",
        "\n",
        "  return f1, f2"
      ],
      "metadata": {
        "id": "VWilc56xUH4w"
      },
      "execution_count": null,
      "outputs": []
    },
    {
      "cell_type": "code",
      "source": [
        "huffman_instance_generator(5)"
      ],
      "metadata": {
        "colab": {
          "base_uri": "https://localhost:8080/"
        },
        "id": "Q7u0qvyAaihM",
        "outputId": "fab33ebf-bd78-4296-c309-6c95ce245c23"
      },
      "execution_count": null,
      "outputs": [
        {
          "output_type": "execute_result",
          "data": {
            "text/plain": [
              "({0: 0.25260666931605974,\n",
              "  1: 0.04935566618038697,\n",
              "  2: 0.288035745230752,\n",
              "  3: 0.1880773642776544,\n",
              "  4: 0.221924554995147},\n",
              " {0: 0.6263033346580299,\n",
              "  1: 0.024677833090193484,\n",
              "  2: 0.144017872615376,\n",
              "  3: 0.0940386821388272,\n",
              "  4: 0.1109622774975735})"
            ]
          },
          "metadata": {},
          "execution_count": 109
        }
      ]
    },
    {
      "cell_type": "code",
      "source": [
        "import matplotlib.pyplot as plt\n",
        "import numpy as np\n",
        "from timeit import repeat\n",
        "\n",
        "x=[]; y1=[]\n",
        "\n",
        "for n in range(5,301):\n",
        "  f1, f2 = huffman_instance_generator(n)\n",
        "\n",
        "  t1 = repeat(setup=\"from __main__ import huffman\", stmt=f\"huffman({f1})\", repeat=1, number=10)\n",
        "\n",
        "  x.append(n)\n",
        "  y1.append(t1)\n",
        "\n",
        "plt.plot(x,y1)\n",
        "plt.legend([\"Caso promedio\"])\n",
        "\n",
        "plt.xlabel('n')\n",
        "plt.ylabel('Tiempo en ms')\n",
        "plt.show()"
      ],
      "metadata": {
        "colab": {
          "base_uri": "https://localhost:8080/",
          "height": 279
        },
        "id": "XNC6sGJ5T2Q5",
        "outputId": "16a6e471-615d-4958-cdb2-8b65067fd4de"
      },
      "execution_count": null,
      "outputs": [
        {
          "output_type": "display_data",
          "data": {
            "text/plain": [
              "<Figure size 432x288 with 1 Axes>"
            ],
            "image/png": "[encoded data removed]"
          },
          "metadata": {
            "needs_background": "light"
          }
        }
      ]
    },
    {
      "cell_type": "code",
      "source": [
        "def runLengthEncoding(message):\n",
        "    encoded_message = \"\"\n",
        "    i = 0\n",
        " \n",
        "    while (i <= len(message)-1):\n",
        "        count = 1\n",
        "        ch = message[i]\n",
        "        j = i\n",
        "        while (j < len(message)-1):\n",
        "            if (message[j] == message[j+1]):\n",
        "                count = count+1\n",
        "                j = j+1\n",
        "            else:\n",
        "                break\n",
        "        encoded_message=encoded_message+str(count)+ch\n",
        "        i = j+1\n",
        "    return encoded_message\n",
        " \n",
        "#Provide different values for message and test your program\n",
        "encoded_message=runLengthEncoding(\"ABBBBCCCBB\")\n",
        "print(encoded_message)"
      ],
      "metadata": {
        "colab": {
          "base_uri": "https://localhost:8080/"
        },
        "id": "dDsSNbgLefV0",
        "outputId": "2b781323-d2eb-4e89-8cf3-f4a72cfea345"
      },
      "execution_count": 169,
      "outputs": [
        {
          "output_type": "stream",
          "name": "stdout",
          "text": [
            "1A4B3C2B\n"
          ]
        }
      ]
    },
    {
      "cell_type": "code",
      "source": [
        "def generate_code_dict(root, T, code):\n",
        "  if root.left == None:\n",
        "    T[root.key] = code\n",
        "    return\n",
        "  generate_code_dict(root.left, T, code + '0')\n",
        "  generate_code_dict(root.right, T, code + '1')"
      ],
      "metadata": {
        "id": "ik9fiRm6hFWT"
      },
      "execution_count": 170,
      "outputs": []
    },
    {
      "cell_type": "code",
      "source": [
        "def count_chars(s):\n",
        "  f = dict()\n",
        "  for c in s:\n",
        "    f[c] = 0\n",
        "\n",
        "  for c in s:\n",
        "    f[c] += 1\n",
        "    \n",
        "  return f"
      ],
      "metadata": {
        "id": "bpN1lfVvmqVd"
      },
      "execution_count": 171,
      "outputs": []
    },
    {
      "cell_type": "code",
      "source": [
        "def encodeHuffman(s):\n",
        "  f = count_chars(s)\n",
        "  r = huffman(f)\n",
        "  T = dict()\n",
        "  generate_code_dict(r, T, '')\n",
        "  \n",
        "  x = ''\n",
        "  for c in s:\n",
        "    x = x + T[c]\n",
        "  return x"
      ],
      "metadata": {
        "id": "MiI67pI-nWne"
      },
      "execution_count": 172,
      "outputs": []
    },
    {
      "cell_type": "code",
      "source": [
        "import random\n",
        "import string\n",
        "n = 25\n",
        "s1 = ''.join(random.choices(string.ascii_uppercase + string.digits, k = n//2))\n",
        "s2 = 'A' * (n//2)\n",
        "s = s1 + s2\n",
        "runLengthEncoding(s)\n",
        "\n",
        "print(s)\n",
        "print(runLengthEncoding(s))\n",
        "print(encodeHuffman(s))"
      ],
      "metadata": {
        "colab": {
          "base_uri": "https://localhost:8080/"
        },
        "id": "1x1bG6WOlgAF",
        "outputId": "47f5865d-fc3f-496e-d506-7bb3aab327ae"
      },
      "execution_count": 173,
      "outputs": [
        {
          "output_type": "stream",
          "name": "stdout",
          "text": [
            "IHM23TSKYM1FAAAAAAAAAAAA\n",
            "1I1H1M12131T1S1K1Y1M111F12A\n",
            "111001110110010111111111010110111100111110100110001010000000000000\n"
          ]
        }
      ]
    },
    {
      "cell_type": "code",
      "source": [
        "def encodeBinary(s):\n",
        "  return ''.join(format(ord(x), 'b') for x in s)\n",
        "\n",
        "s = \"aabbbccddeejjjlll\"\n",
        "print(encodeBinary(runLengthEncoding(s)))\n",
        "print(encodeHuffman(s))"
      ],
      "metadata": {
        "colab": {
          "base_uri": "https://localhost:8080/"
        },
        "id": "f2YVOkuVwgsu",
        "outputId": "c0545060-5437-4630-d660-808cff8902fe"
      },
      "execution_count": 215,
      "outputs": [
        {
          "output_type": "stream",
          "name": "stdout",
          "text": [
            "1100101100001110011110001011001011000111100101100100110010110010111001111010101100111101100\n",
            "100100000000011011101101010010111111111110110110\n"
          ]
        }
      ]
    },
    {
      "cell_type": "code",
      "source": [
        "import matplotlib.pyplot as plt\n",
        "import numpy as np\n",
        "from timeit import repeat\n",
        "\n",
        "x=[]; y1=[]; y2=[];\n",
        "\n",
        "for n in range(10,1001):\n",
        "  s = ''.join(random.choices(string.ascii_uppercase, k = n))\n",
        "\n",
        "  codeBinary = encodeBinary(s)\n",
        "  codeHuffman = encodeHuffman(s)\n",
        "\n",
        "  x.append(n)\n",
        "  y1.append(len(codeBinary))\n",
        "  y2.append(len(codeHuffman))\n",
        "\n",
        "plt.plot(x,y1)\n",
        "plt.plot(x,y2)\n",
        "plt.legend([\"Normal\", \"Huffman\"])\n",
        "\n",
        "plt.xlabel('n')\n",
        "plt.ylabel('Largo del string')\n",
        "plt.show()"
      ],
      "metadata": {
        "colab": {
          "base_uri": "https://localhost:8080/",
          "height": 279
        },
        "id": "xQ1CaCijqWr-",
        "outputId": "52497105-c671-4a26-add3-6349a503a903"
      },
      "execution_count": 214,
      "outputs": [
        {
          "output_type": "display_data",
          "data": {
            "text/plain": [
              "<Figure size 432x288 with 1 Axes>"
            ],
            "image/png": "[encoded data removed]"
          },
          "metadata": {
            "needs_background": "light"
          }
        }
      ]
    }
  ]
}