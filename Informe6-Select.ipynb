{
  "cells": [
    {
      "cell_type": "markdown",
      "metadata": {
        "id": "view-in-github",
        "colab_type": "text"
      },
      "source": [
        "<a href=\"https://colab.research.google.com/github/OscarRojasG/ADA-Informes/blob/main/Informe6-Select.ipynb\" target=\"_parent\"><img src=\"https://colab.research.google.com/assets/colab-badge.svg\" alt=\"Open In Colab\"/></a>"
      ]
    },
    {
      "cell_type": "markdown",
      "metadata": {
        "id": "deOsebM06Bt0"
      },
      "source": [
        "# 1. Problema de selección\n",
        "\n",
        "**Entrada**: Conjunto $A$ con $n$ números diferentes más un índice $i$.\n",
        "\n",
        "**Salida**: Elemento $x \\in A$, que es mayor exactamente a $i-1$ elementos de $A$.\n",
        "\n",
        "El problema de selección consiste en encontrar el i-ésimo elemento más pequeño de una lista. Este valor también se conoce como **estadístico de orden $i$**, y se aplica en una gran variedad de algoritmos. Existen estadísticos de orden especiales. Por ejemplo, el menor elemento corresponde al estadístico de orden $i = 1$, mientras que el mayor elemento corresponde al estadístico de orden $n$-ésimo. Otro estadístico de orden bastante conocido es la **mediana**, que podemos definir informalmente como el punto medio de un conjunto de valores.\n",
        "\n",
        "Existen infinitas formas de resolver el problema de selección. Por ejemplo, podríamos resolver fácilmente este problema en tiempo $O(n^2)$, recorriendo el arreglo $i$ veces y guardando en cada iteración $i$ el estadístico de orden $i$-ésimo. Luego, en la siguiente iteración, se buscaría el menor elemento que sea mayor al estadístico de orden encontrado en la iteración anterior, hasta encontrar el estadístico de orden buscado. Otra forma de resolver este problema consiste en ordenar los elementos, convenientemente con un algoritmo de complejidad temporal $O(n\\log{n})$, y luego obtener el estadístico de orden $i$-ésimo accediendo al elemento ubicado en la posición $i$-ésima.\n",
        "\n",
        "La solución abordada en este informe presenta una complejidad temporal de $O(n)$, siendo más eficiente que los algoritmos antes mencionados.\n",
        "\n",
        "\n",
        "\n"
      ]
    },
    {
      "cell_type": "markdown",
      "metadata": {
        "id": "ShNc87InQrV1"
      },
      "source": [
        "# 2. Select"
      ]
    },
    {
      "cell_type": "markdown",
      "metadata": {
        "id": "qCFujGBVe7Lg"
      },
      "source": [
        "## 2.1 Código\n",
        "\n",
        "El siguiente código muestra una implementación del algoritmo **Select**, el cual retorna el **estadístico de orden $i$-ésimo** de un conjunto de $n$ elementos."
      ]
    },
    {
      "cell_type": "code",
      "source": [
        "def insertion_sort(A):\n",
        "  # Variable global para contar las comparaciones\n",
        "  global c\n",
        "\n",
        "  for i in range(1, len(A)):\n",
        "    j = i; c += 1\n",
        "    \n",
        "    # Mientras j > 0 y el elemento anterior sea mayor al actual\n",
        "    while j > 0 and A[j] < A[j - 1]:\n",
        "      # Se intercambian los elementos\n",
        "      A[j], A[j - 1] = A[j - 1], A[j]\n",
        "      j -= 1\n",
        "\n",
        "      if j > 0: c += 1\n",
        "\n",
        "  return A"
      ],
      "metadata": {
        "id": "PA41bYGuijs8"
      },
      "execution_count": 153,
      "outputs": []
    },
    {
      "cell_type": "code",
      "source": [
        "def pivot_selection(A):\n",
        "  # Arreglo de medianas\n",
        "  M = []\n",
        "\n",
        "  # Se recorre cada subgrupo de 5 elementos del arreglo\n",
        "  for i in range(0, len(A)//5):\n",
        "    ini = i*5\n",
        "    fin = ini+5\n",
        "\n",
        "    # Se ordena cada subgrupo y se obtiene la mediana\n",
        "    B = insertion_sort(A[ini:fin])\n",
        "    M.append(B[2])\n",
        "\n",
        "  # Se aplica el mismo procedimiento con los elementos restantes\n",
        "  if len(A) % 5 != 0:\n",
        "    B = insertion_sort(A[len(A)//5*5:len(A)])\n",
        "    M.append(B[(len(B)-1)//2])\n",
        "\n",
        "  # Se retorna la mediana encontrada\n",
        "  if len(M) == 1: return M[0]\n",
        "\n",
        "  # Si hay más de una mediana se repite el procedimiento\n",
        "  return pivot_selection(M)"
      ],
      "metadata": {
        "id": "ByXy0UJpoT5A"
      },
      "execution_count": 154,
      "outputs": []
    },
    {
      "cell_type": "code",
      "execution_count": 155,
      "metadata": {
        "id": "f77TEBCkQ4pP"
      },
      "outputs": [],
      "source": [
        "def partition(A, p):\n",
        "  # Se intercambia pivote con el último elemento\n",
        "  A[p], A[len(A)-1] = A[len(A)-1], A[p]\n",
        "  p = len(A)-1\n",
        "\n",
        "  # Se particiona el arreglo\n",
        "  i = -1\n",
        "  for j in range(len(A)-1):\n",
        "    if A[j] <= A[p]:\n",
        "      A[j], A[i+1] = A[i+1], A[j]\n",
        "      i += 1\n",
        "\n",
        "  # Se mueve el pivote a su posición correspondiente\n",
        "  A[p], A[i+1] = A[i+1], A[p]\n",
        "\n",
        "  # Se retorna la posición final del pivote\n",
        "  return i+1"
      ]
    },
    {
      "cell_type": "code",
      "source": [
        "def select(A, i,):\n",
        "  # Se retorna el único elemento del arreglo\n",
        "  if len(A) == 1: return A[0]\n",
        "\n",
        "  # Se ajusta estadístico de orden [1...n] con posición del pivote [0...n-1]\n",
        "  k = i - 1\n",
        "\n",
        "  # Se selecciona el pivote y se encuentra su posición en el arreglo\n",
        "  m = pivot_selection(A)\n",
        "  p = A.index(m)\n",
        "\n",
        "  # Se realiza la partición del arreglo\n",
        "  q = partition(A, p)\n",
        "\n",
        "  # La posición del pivote coincide con el estadístico de orden\n",
        "  if k == q: return A[q]\n",
        "\n",
        "  # Estadístico de orden se encuentra en la partición izquierda\n",
        "  if k < q: return select(A[:q], i)\n",
        "\n",
        "  # Estadístico de orden se encuentra en la partición derecha\n",
        "  return select(A[q+1:], k-q)\n",
        "\n",
        "A = [12,17,26,8,30,18,21,5,10,24]\n",
        "i = 3; c = 0\n",
        "\n",
        "# Busco el estadístico de orden i-ésimo\n",
        "x = select(A, i)\n",
        "\n",
        "print(f\"El estadístico de orden {i} es {x}\")\n",
        "print(f\"Comparaciones: {c}\")"
      ],
      "metadata": {
        "colab": {
          "base_uri": "https://localhost:8080/"
        },
        "id": "UKrOSc20Muwj",
        "outputId": "e010552a-d184-4a20-fcfe-107e22f8338c"
      },
      "execution_count": 182,
      "outputs": [
        {
          "output_type": "stream",
          "name": "stdout",
          "text": [
            "El estadístico de orden 3 es 10\n",
            "Comparaciones: 20\n"
          ]
        }
      ]
    },
    {
      "cell_type": "markdown",
      "source": [
        "## 2.2 Descripción del algoritmo\n",
        "\n",
        "La entrada consiste en un arreglo $A$ de $n$ elementos **distintos**, más un parámetro $i$ para buscar el estadístico de orden $i$-ésimo dentro del arreglo. Los pasos realizados por el algoritmo son los siguientes:\n",
        "\n",
        "1. Se encuentra una mediana $m$ para el arreglo $A$ mediante la función `pivot_selection`.\n",
        "\n",
        "2. La función `partition` divide el arreglo $A$ en dos partes iguales a partir del pivote $m$. La partición izquierda contendrá todos los elementos menores a $m$, mientras que la partición derecha estará formada por los elementos mayores.\n",
        "\n",
        "3. Elegimos la partición que contenga el $i$-ésimo menor elemento.\n",
        "\n",
        "4. Repetimos los pasos anteriores con la nueva partición hasta que la posición de $m$ luego de llamar a `partition` sea igual a $i$.\n",
        "\n",
        "5. Finalmente retornamos el valor $A[i]$, que corresponderá al estadístico de orden $i$-ésimo dentro del conjunto de entrada.\n",
        "\n",
        "Los pasos realizados por la función `pivot_selection` son los siguientes:\n",
        "\n",
        "1. Se divide el arreglo en grupos de 5 elementos cada uno (el último grupo puede quedar con menos elementos).\n",
        "\n",
        "2. Cada sub-arreglo se ordena mediante Insertion Sort.\n",
        "\n",
        "3. Se obtiene la mediana de cada sub-arreglo.\n",
        "\n",
        "4. Se llama recursivamente a la función `pivot_selection` para encontrar la mediana $m$ de las medianas identificadas en el paso anterior.  \n"
      ],
      "metadata": {
        "id": "naoN1twNlXPL"
      }
    },
    {
      "cell_type": "markdown",
      "source": [
        "## 2.3 Ejemplo\n",
        "\n",
        "Supongamos que queremos encontrar el estadístico de orden 9 del siguiente arreglo de entrada:\n",
        "\n",
        "![picture](https://drive.google.com/uc?export=view&id=1nijNMQHeOKGp5lKnoPKT_xSi87X57eIx)\n",
        "\n",
        "En primer lugar, debemos encontrar la mediana que posteriormente nos permitirá particionar el arreglo. Para ello llamamos a la función `pivot_selection`, que dividirá el arreglo en grupos de 5, los ordenará y encontrará la mediana para cada uno de ellos.\n",
        "\n",
        "![picture](https://drive.google.com/uc?export=view&id=1ya1IwxFSCTdNoAxyNMo_Oo1ERgO7n_VU)\n",
        "\n",
        "Luego debemos encontrar la mediana $m$ de las medianas resultantes del paso anterior. Para ello, llamamos recursivamente a la misma función:\n",
        "\n",
        "![picture](https://drive.google.com/uc?export=view&id=1x0yFg_uN2k8EmzQ-7ahtuv-I2xkvcQpu)\n",
        "\n",
        "De este modo obtenemos la mediana $m = 11$, valor a partir del cual particionaremos el arreglo inicial mediante la función `partition`. Los elementos menores a $m$ quedaran a la izquierda y los mayores a la derecha:\n",
        "\n",
        "![picture](https://drive.google.com/uc?export=view&id=1TpAd0CzUh26XO5lO3jE8rX6J07-pkwpp)\n",
        "\n",
        "Nos quedamos con la partición que contenga el estadístico de orden buscado, en este caso 9. Sabemos que $m$ corresponde al estadístico de orden 7, por lo tanto, elegimos la partición derecha.\n",
        "\n",
        "Luego, repetimos los pasos anteriores para esta partición, empezando por encontrar la mediana de estos elementos mediante la función `pivot_selection`:\n",
        "\n",
        "![picture](https://drive.google.com/uc?export=view&id=1jhcrJrDcvk24MeBWGZ5bMtU3qolEKE3v)\n",
        "\n",
        "Llamamos recursivamente a la función. En este caso, consideraremos que la mediana de un conjunto de elementos par, será simplemente el primero de los dos elementos intermedios:\n",
        "\n",
        "![picture](https://drive.google.com/uc?export=view&id=15yOVx2Zq5ZmkLIWgKZgdgQY8d-JmX9MO)\n",
        "\n",
        "Luego de obtener el valor de la mediana para esta partición, volvemos a dividir este conjunto, considerando el pivote $m = 20$:\n",
        "\n",
        "![picture](https://drive.google.com/uc?export=view&id=1YPEOxMcZ3UJgY8Mk-Dv_zHzeVi5V4zpT)\n",
        "\n",
        "El estadístico de orden 9 se encuentra a la izquierda, por lo tanto, trabajaremos con esta partición. Nuevamente calculamos la mediana de estos elementos:\n",
        "\n",
        "![picture](https://drive.google.com/uc?export=view&id=1DfsklsGnC3GNFNSWiWW4PoJu7hTav6gd)\n",
        "\n",
        "Dividimos la partición considerando el pivote $m = 14$:\n",
        "\n",
        "![picture](https://drive.google.com/uc?export=view&id=1uBelk0clmzL7HOm14xXCXpmyTdmZPVXD)\n",
        "\n",
        "Finalmente, observemos que la posición resultante del pivote coincide con el estadístico de orden que estamos buscando, por lo tanto, retornamos el valor correspondiente a esta posición, en este caso, 14."
      ],
      "metadata": {
        "id": "KKTUdfSes6B4"
      }
    },
    {
      "cell_type": "markdown",
      "source": [
        "## 2.4. Ejecución del algoritmo paso a paso (`verbose=True`)\n",
        "\n",
        "Añadiendo la opción `verbose=True`, podemos ver lo que ocurre en cada paso del algoritmo."
      ],
      "metadata": {
        "id": "L0VpphJB6FvO"
      }
    },
    {
      "cell_type": "code",
      "source": [
        "from termcolor import colored\n",
        "\n",
        "def select_verbose(A, i, verbose=False, first_call=True):\n",
        "  if len(A) == 1:\n",
        "\n",
        "    if verbose == True:\n",
        "      print(f\"Retornando el único elemento del arreglo\\n\")\n",
        "      print(f\"Salida: {A[0]}\")\n",
        "\n",
        "    return A[0]\n",
        "\n",
        "  if verbose == True:\n",
        "\n",
        "    if first_call == True:\n",
        "      print(f\"Entrada: {A}\")\n",
        "      print(f\"Buscando estadístico de orden {i}\\n\")   \n",
        "\n",
        "    else: print(f\"Llamando recursivamente a select con A = {A}\\n\")\n",
        "\n",
        "  k = i - 1\n",
        "  m = pivot_selection(A)\n",
        "  p = A.index(m)\n",
        "  q = partition(A, p)\n",
        "\n",
        "  if verbose == True:\n",
        "    print(f\"Obteniendo mediana m = {colored(m, 'magenta')}\")\n",
        "    print(f\"Particionando arreglo: [\", end='')\n",
        "\n",
        "    if q != 0: print(colored(str(A[:q])[1:-1] + ', ', 'blue'), end='')\n",
        "    print(colored(A[q], 'magenta'), end='')\n",
        "\n",
        "    if q + 1 != len(A): print(colored(', ' + str(A[q+1:])[1:-1], 'red'), end='')\n",
        "    print(\"]\")\n",
        "\n",
        "  if k == q: \n",
        "\n",
        "    if verbose == True:\n",
        "      print(f\"Posición del pivote coincide con estadístico de orden {i}\\n\")\n",
        "      print(f\"Salida: {A[q]}\")\n",
        "\n",
        "    return A[q]\n",
        "\n",
        "  if k < q:\n",
        "\n",
        "    if verbose == True:\n",
        "      print(\"Elemento se encuentra en partición izquierda: \", end='')\n",
        "      print(colored(A[0:q], \"blue\"), end='\\n\\n')\n",
        "\n",
        "    return select_verbose(A[:q], i, verbose, False)\n",
        "\n",
        "  print(\"Elemento se encuentra en partición derecha: \", end='')\n",
        "  print(colored(A[q+1:], \"red\"))\n",
        "  print(f\"Actualizando valor de estadístico de orden a {k-q}\", end='\\n\\n')\n",
        "\n",
        "  return select_verbose(A[q+1:], k-q, verbose, False)"
      ],
      "metadata": {
        "id": "AJbxVNYqW2uZ"
      },
      "execution_count": 121,
      "outputs": []
    },
    {
      "cell_type": "code",
      "source": [
        "import random\n",
        "A = random.sample(range(1, 100), 15)\n",
        "n = select_verbose(A, 5, verbose=True)"
      ],
      "metadata": {
        "colab": {
          "base_uri": "https://localhost:8080/"
        },
        "id": "fcM8oPKj76LQ",
        "outputId": "64545d5b-858b-48e8-96c9-eaf94bb0ae0c"
      },
      "execution_count": 147,
      "outputs": [
        {
          "output_type": "stream",
          "name": "stdout",
          "text": [
            "Entrada: [8, 33, 9, 79, 92, 81, 47, 37, 59, 87, 95, 86, 32, 30, 50]\n",
            "Buscando estadístico de orden 5\n",
            "\n",
            "Obteniendo mediana m = \u001b[35m50\u001b[0m\n",
            "Particionando arreglo: [\u001b[34m8, 33, 9, 47, 37, 32, 30, \u001b[0m\u001b[35m50\u001b[0m\u001b[31m, 59, 87, 95, 86, 81, 79, 92\u001b[0m]\n",
            "Elemento se encuentra en partición izquierda: \u001b[34m[8, 33, 9, 47, 37, 32, 30]\u001b[0m\n",
            "\n",
            "Llamando recursivamente a select con A = [8, 33, 9, 47, 37, 32, 30]\n",
            "\n",
            "Obteniendo mediana m = \u001b[35m30\u001b[0m\n",
            "Particionando arreglo: [\u001b[34m8, 9, \u001b[0m\u001b[35m30\u001b[0m\u001b[31m, 47, 37, 32, 33\u001b[0m]\n",
            "Elemento se encuentra en partición derecha: \u001b[31m[47, 37, 32, 33]\u001b[0m\n",
            "Actualizando valor de estadístico de orden a 2\n",
            "\n",
            "Llamando recursivamente a select con A = [47, 37, 32, 33]\n",
            "\n",
            "Obteniendo mediana m = \u001b[35m33\u001b[0m\n",
            "Particionando arreglo: [\u001b[34m32, \u001b[0m\u001b[35m33\u001b[0m\u001b[31m, 47, 37\u001b[0m]\n",
            "Posición del pivote coincide con estadístico de orden 2\n",
            "\n",
            "Salida: 33\n"
          ]
        }
      ]
    },
    {
      "cell_type": "markdown",
      "source": [
        "# 3. Correctitud\n",
        "\n",
        "### **Teorema 1 (Correctitud de Select).**\n",
        "\n",
        "*El algoritmo Select retorna el i-ésimo menor elemento de un arreglo de tamaño $n$, considerando que $1 \\leq i \\leq n$*\n",
        "\n",
        "## Prueba del Teorema\n",
        "\n",
        "Para demostrar la correctitud del algoritmo, demostraremos la hipótesis $P(n)$ utilizando inducción.\n",
        "\n",
        "**Caso base**\n",
        "\n",
        "Para $n = 1$, por la condición planteada en el teorema, se cumple necesariamente que $i = 1$, por lo tanto, estaremos buscando el menor elemento. En este caso, el algoritmo retorna el único elemento del arreglo, que coincide trivialmente con el elemento más pequeño.\n",
        "\n",
        "**Paso inductivo**\n",
        "\n",
        "Para $n > 1$, la función `partition` divide el arreglo en dos mitades a partir de un pivote, dejando los elementos menores a la izquierda, y los mayores a la derecha. Sea $q$ la posición final del pivote luego de reordenar el arreglo, podemos decir que el pivote corresponde al estadístico de orden $q$-ésimo del arreglo. Luego, existen 3 casos:\n",
        "\n",
        "1. Si $i < q$, el estadístico de orden se encuentra en la partición izquierda, y se repite el algoritmo para esta partición.\n",
        "\n",
        "2. Si $i > q$, el estadístico de orden se encuentra en la partición derecha, y se repite el algoritmo para esta partición. Puesto que el tamaño de este sub-arreglo es igual a $n - q$, es necesario ajustar el estadístico de orden buscado a $i - q$\n",
        "\n",
        "3. Si $i = q$, el estadístico de orden corresponde al pivote, por lo tanto, se retorna este elemento.\n",
        "\n",
        "Observemos que en los primeros dos casos, se repite el algoritmo para un sub-arreglo de tamaño $m$. Luego, por el paso inductivo, sabemos que la hipótesis $P(m)$ es cierta para cualquier $m < n$.\n",
        "\n",
        "Como la hipótesis se cumple para el **caso base** y para el **paso inductivo**, queda demostrada la correctitud del algoritmo Select. $\\Box$\n",
        "\n",
        "\n"
      ],
      "metadata": {
        "id": "I5GOiuFRgdTW"
      }
    },
    {
      "cell_type": "markdown",
      "source": [
        "# 4. Tiempo de ejecución\n",
        "\n",
        "### **Teorema 2 (Tiempo de ejecución del algoritmo Select)**\n",
        "\n",
        "*El algoritmo Select tiene un **tiempo de ejecución** $\\Theta(n)$*\n",
        "\n",
        "## Prueba del teorema\n",
        "\n",
        "Debido a la naturaleza recursiva del algoritmo, podemos expresar su tiempo de ejecución mediante una **función de recurrencia** $T(n)$. Para ello, analizaremos individualmente cada operación realizada por el algoritmo.\n",
        "\n",
        "En primer lugar, se llama a la función `pivot-selection` que retornará un pivote óptimo para particionar el arreglo. A continuación se presenta el análisis de tiempo para cada procedimiento de la función:\n",
        "\n",
        "1. Dividir el arreglo en $⌊n/5⌋$ grupos de 5 elementos y como máximo 1 grupo con los elementos restantes tiene un tiempo de ejecución $O(n)$\n",
        "\n",
        "2. Encontrar la mediana para cada grupo ordenando los elementos con Insertion Sort tiene un tiempo de ejecución **total** de $O(n)$\n",
        "\n",
        "4. Encontrar la mediana de las $\\lceil n/5 \\rceil$ medianas identificadas en el paso anterior tiene un tiempo de ejecución $T(\\lceil n/5 \\rceil)$.\n",
        "\n",
        "Luego de encontrar el pivote, se llama a la función `partition`, la cual reordena los elementos del arreglo de modo que los valores menores al pivote se ubiquen a la izquierda, y los valores mayores a la derecha. El tiempo de ejecución de esta función es $O(n)$.\n",
        "\n",
        "Finalmente, se llama recursivamente a la función `select` para repetir el algoritmo con la partición en donde se encuentra el estadístico de orden buscado. Observemos que la cantidad de elementos a procesar en cada llamada recursiva dependerá de la partición escogida, lo que a su vez dependerá del pivote obtenido por la función `pivot-selection`.\n",
        "\n",
        "Notemos que la mediana $m$ de todas las medianas obtenidas por la función `pivot-selection` es mayor a la mitad de las medianas. Luego, $m$ es mayor a los elementos ubicados a la izquierda de estas medianas. Es decir, la mitad de grupos contiene al menos 3 elementos menores a la mediana $m$. En general, la cantidad de elementos menores a $m$ en un arreglo de $n$ elementos es igual a:\n",
        "\n",
        "$3 \\cdot \\frac{n}{5} \\cdot \\frac{1}{2} = \\frac{3n}{10}$\n",
        "\n",
        "Por lo tanto, una vez se divide el arreglo por la función `partition`, en el peor caso se formarán dos particiones con $\\frac{3n}{10}$ y $\\frac{7n}{10}$ elementos respectivamente. Para analizar el peor caso del algoritmo Select, consideremos que se elige la partición de $\\frac{7n}{10}$ elementos.\n",
        "\n",
        "Luego, la función de recurrencia $T(n)$ queda expresada de la siguiente manera:\n",
        "\n",
        "$T(n) = T(\\lceil \\frac{n}{5} \\rceil) + T(\\frac{7n}{10}) + O(n)$\n",
        "\n",
        "Utilizaremos el **método de sustitución** para demostrar que la complejidad del algoritmo es $O(n)$. Reemplazamos en la recursión los valores de $T(n)$ por $dn$ y la complejidad $O(n)$ por $cn$. Luego, debemos demostrar que $T(n) \\leq dn$ para algún valor $d > 0$.\n",
        "\n",
        "$\\frac{dn}{5} + \\frac{7dn}{10} + cn \\leq dn$\n",
        "\n",
        "Resolviendo la inecuación, obtenemos que para cualquier valor $d \\geq 10c$ se cumple que $T(n) \\leq dn$. Luego, podemos afirmar que el algoritmo select tiene un tiempo de ejecución $O(n)$ en el peor caso. \n",
        "\n",
        "Por otro lado, la mayoría de operaciones no recursivas del algoritmo poseen una complejidad $\\Omega(n)$. Es decir, los límites asintóticos superior e inferior de la función $T(n)$ son iguales. Luego, el tiempo de ejecución del algoritmo **Select** se puede expresar como $\\Theta(n)$. $\\Box$"
      ],
      "metadata": {
        "id": "SBnAbVFz_tvd"
      }
    },
    {
      "cell_type": "markdown",
      "source": [
        "# 5. Experimentos\n",
        "\n",
        "## 5.1. Número de comparaciones\n",
        "\n",
        "### Número de comparaciones en el peor caso teórico\n",
        "\n",
        "La cantidad de divisiones o subgrupos de 5 elementos formados por `pivot-selection` se puede expresar mediante la fórmula:\n",
        "\n",
        "$\\frac{n}{5} + \\frac{n}{25} + \\frac{n}{125} + ... + 1$\n",
        "\n",
        "Desarrollando, nos queda:\n",
        "\n",
        "$\\frac{n}{5^1} + \\frac{n}{5^2} + \\frac{n}{5^3} + ... + \\frac{n}{5^{log_{5}{n}}}$\n",
        "\n",
        "$\\frac{5^{log_{5}{n}}}{5^1} + \\frac{5^{log_{5}{n}}}{5^2} + \\frac{5^{log_{5}{n}}}{5^3} + ... + \\frac{5^{log_{5}{n}}}{5^{log_{5}{n}}}$\n",
        "\n",
        "$5^{log_{5}{n}-1} + 5^{log_{5}{n}-2} + 5^{log_{5}{n}-3} + ... 5^0$\n",
        "\n",
        "$\\sum\\limits_{k=0}^{log_{5}{n}-1} 5^k$\n",
        "\n",
        "Aplicando la fórmula de sumatoria para una progresión geométrica:\n",
        "\n",
        "$\\sum\\limits_{k=0}^{n} ar^k = a\\left(\\frac{1-r^{n-1}}{r-1}\\right)$\n",
        "\n",
        "Obtenemos:\n",
        "\n",
        "$\\sum\\limits_{k=0}^{log_{5}{n}-1} 5^k = \\frac{1-5^{log_{5}{n}}}{1-5} = \\frac{1-n}{-4} = \\frac{n-1}{4}$\n",
        "\n",
        "Luego la cantidad total de subgrupos en el **peor caso** considerando todas las llamadas recursivas a la función se calcula como:\n",
        "\n",
        "$\\frac{n-1}{4} + \\frac{\\frac{7n}{10}-1}{4} + \\frac{\\frac{49n}{100}-1}{4} + ... + 1$\n",
        "\n",
        "$\\frac{n-1}{4} \\left(1 + \\frac{7}{10} + \\frac{49}{100} + ... \\right)$\n",
        "\n",
        "$\\frac{n-1}{4} \\left(\\left(\\frac{7}{10}\\right)^0 + \\left(\\frac{7}{10}\\right)^1 + \\left(\\frac{7}{10}\\right)^2 ... \\right)$\n",
        "\n",
        "$\\frac{n-1}{4} \\sum\\limits_{k=0}^{\\infty} \\left(\\frac{7}{10}\\right)^k$\n",
        "\n",
        "Aplicando la fórmula de sumatoria para una progresión geométrica infinita:\n",
        "\n",
        "$\\sum\\limits_{k=0}^{n} ar^k = \\frac{a}{1-r}$\n",
        "\n",
        "Nos queda:\n",
        "\n",
        "$\\frac{n-1}{4} \\sum\\limits_{k=0}^{\\infty} \\left(\\frac{7}{10}\\right)^k = \\frac{n-1}{4} \\cdot \\frac{1}{1-\\frac{7}{10}} = \\frac{n-1}{4} \\cdot \\frac{10}{3} = \\frac{5(n-1)}{6}$\n",
        "\n",
        "Podemos calcular la cantidad de comparaciones en el peor caso realizadas por **Insertion Sort** para un arreglo de tamaño 5 con la siguiente fórmula:\n",
        "\n",
        "$\\sum\\limits_{i=0}^{n-1} i=\\frac{n(n-1)}{2} = \\frac{5(4)}{2} = 10$\n",
        "\n",
        "Finalmente, la cantidad total de comparaciones es igual a:\n",
        "\n",
        "$10 \\cdot \\frac{5(n-1)}{6} = \\frac{25(n-1)}{3}$\n",
        "\n",
        "### Número de comparaciones en el mejor caso teórico\n",
        "\n",
        "Para el mejor caso, podemos considerar que la posición del pivote coincide inmediatamente con el estadístico de orden buscado en la primera llamada a `select`. Luego, la cantidad de subgrupos de 5 elementos que resultan de llamar a la función `pivot-selection` para encontrar el pivote es igual a $\\frac{n-1}{4}$.\n",
        "\n",
        "Para calcular el total de comparaciones, debemos multiplicar este valor por la cantidad de comparaciones realizadas por Insertion Sort en el mejor caso para 5 elementos, lo que se calcula como $n-1$, donde $n$ corresponde al tamaño del arreglo. En este caso, para 5 elementos solo se realizarán 4 comparaciones. Finalmente, la cantidad total de comparaciones de Select en el mejor caso es:\n",
        "\n",
        "$4 \\cdot \\frac{n-1}{4} = n-1$\n",
        "\n",
        "### Gráfico de comparaciones en cada caso\n",
        "\n",
        "A continuación se muestra gráficamente una comparación entre:\n",
        "\n",
        "* Cantidad de comparaciones del peor caso calculadas matemáticamente.\n",
        "* Cantidad de comparaciones del mejor caso calculadas matemáticamente.\n",
        "* Cantidad de comparaciones realizadas experimentalmente para entradas aleatorias con $n \\in [5,1000]$.\n",
        "\n",
        "Los arreglos de entrada son generados aleatoriamente con valores numéricos en el rango de 1 a 1000."
      ],
      "metadata": {
        "id": "_WddDIiioclW"
      }
    },
    {
      "cell_type": "code",
      "source": [
        "import matplotlib.pyplot as plt\n",
        "import random\n",
        "import math\n",
        "\n",
        "x = [n for n in range(5,1001)] \n",
        "y1 = [25*(n-1)/3 for n in range(5,1001)] # Peor caso\n",
        "y2 = [n-1 for n in range(5,1001)] # Mejor caso\n",
        "y = []; \n",
        "\n",
        "for n in range(5,1001):\n",
        "  c = 0\n",
        "  A = random.sample(range(1, 1001), n)\n",
        "  select(A, 1)\n",
        "  y.append(c)\n",
        "\n",
        "plt.plot(x,y)\n",
        "plt.plot(x,y1)\n",
        "plt.plot(x,y2)\n",
        "plt.legend([\"Caso promedio\", \"Peor caso teórico\", \"Mejor caso teórico\"])\n",
        "\n",
        "plt.xlabel('n')\n",
        "plt.ylabel('Cantidad de comparaciones')\n",
        "plt.show()"
      ],
      "metadata": {
        "colab": {
          "base_uri": "https://localhost:8080/",
          "height": 279
        },
        "id": "DsrHIQ7o57xo",
        "outputId": "82f7a0c7-4f3e-4d2e-e8fe-bb323dd6a037"
      },
      "execution_count": 183,
      "outputs": [
        {
          "output_type": "display_data",
          "data": {
            "text/plain": [
              "<Figure size 432x288 with 1 Axes>"
            ],
            "image/png": "[encoded data removed]"
          },
          "metadata": {
            "needs_background": "light"
          }
        }
      ]
    },
    {
      "cell_type": "markdown",
      "source": [
        "### Análisis de resultados\n",
        "\n",
        "En primer lugar, observemos que la cantidad de comparaciones en los tres casos aumenta linealmente en relación a $n$. Esto era de esperarse, pues anteriormente calculamos que la complejidad de Select es $O(n)$.\n",
        "\n",
        "Luego, podemos ver que la curva de comparaciones experimental se aproxima más al mejor caso. Esto podría deberse a que, en la práctica, la ocurrencia del peor caso es poco probable, pues estamos considerando que en cada llamada a Select se escoge una partición con $\\frac{7n}{10}$ elementos, lo que aumenta significativamente el número de comparaciones si, por ejemplo, consideramos que en promedio se elige una partición con $\\frac{n}{2}$ elementos como es de esperarse. En otras palabras, mientras más elementos se consideren para la siguiente llamada recursiva a Select, más lentamente disminuye la cantidad de comparaciones de esta función."
      ],
      "metadata": {
        "id": "ptSomB5JpTFE"
      }
    },
    {
      "cell_type": "markdown",
      "source": [
        "## 5.2. Comparación con Randomized Select\n",
        "\n",
        "A continuación se presenta un gráfico con el tiempo de ejecución de los algoritmos **Select** y **Randomized Select**. Este último realiza una elección del pivote aleatoria para particionar el arreglo."
      ],
      "metadata": {
        "id": "3XVCqdgENDg0"
      }
    },
    {
      "cell_type": "code",
      "source": [
        "from random import randint\n",
        "\n",
        "def random_select(A, i):\n",
        "  k = i-1\n",
        "  p = randint(0, len(A)-1)\n",
        "  q = partition(A, p)\n",
        "\n",
        "  if k == q: return A[q]\n",
        "  if k < q: return random_select(A[:q], i)\n",
        "  return random_select(A[q+1:], k-q)\n",
        "\n",
        "i = 2\n",
        "A = [1,8,6,5,4,9,7]\n",
        "x = select(A, i)\n",
        "print(f\"El estadístico de orden {i} es {x}\")"
      ],
      "metadata": {
        "colab": {
          "base_uri": "https://localhost:8080/"
        },
        "id": "ikGwIauuNwsm",
        "outputId": "7e660599-dda6-478d-f9d7-c7e617b42ab7"
      },
      "execution_count": 135,
      "outputs": [
        {
          "output_type": "stream",
          "name": "stdout",
          "text": [
            "El estadístico de orden 2 es 4\n"
          ]
        }
      ]
    },
    {
      "cell_type": "code",
      "source": [
        "import matplotlib.pyplot as plt\n",
        "import datetime\n",
        "import random\n",
        "from timeit import repeat\n",
        "\n",
        "x=[]; y1=[]; y2=[];\n",
        "\n",
        "for n in range(5,2001):\n",
        "  A = random.sample(range(1, 2001), n)\n",
        "\n",
        "  t1 = repeat(setup=\"from __main__ import select\", stmt=f\"select({A}, {1})\", repeat=1, number=10)\n",
        "  t2 = repeat(setup=\"from __main__ import random_select\", stmt=f\"random_select({A}, {1})\", repeat=1, number=10)\n",
        "\n",
        "  x.append(n)\n",
        "  y1.append(t1)\n",
        "  y2.append(t2)\n",
        "\n",
        "plt.plot(x,y1)\n",
        "plt.plot(x,y2)\n",
        "plt.legend([\"Select\", \"Randomized Select\"])\n",
        "\n",
        "plt.xlabel('n')\n",
        "plt.ylabel('Tiempo en ms')\n",
        "plt.show()"
      ],
      "metadata": {
        "colab": {
          "base_uri": "https://localhost:8080/",
          "height": 280
        },
        "id": "FsockpqAMn42",
        "outputId": "ed0c3b17-2742-4118-87dc-9e50317bef5e"
      },
      "execution_count": 148,
      "outputs": [
        {
          "output_type": "display_data",
          "data": {
            "text/plain": [
              "<Figure size 432x288 with 1 Axes>"
            ],
            "image/png": "[encoded data removed]"
          },
          "metadata": {
            "needs_background": "light"
          }
        }
      ]
    },
    {
      "cell_type": "markdown",
      "source": [
        "### Análisis de resultados\n",
        "\n",
        "Podemos apreciar que ambos algoritmos tienen una complejidad temporal promedio de $O(n)$. Además, el algoritmo Randomized Select parece ser mucho más eficiente que el algoritmo Select. Esto podría deberse a la gran cantidad de operaciones adicionales que utiliza Select para encontrar la mediana.\n",
        "\n",
        "Podríamos haber pensado que el algoritmo Select era más eficiente, puesto que realiza una mejor elección del pivote que optimiza el tiempo total ocupado por la función partition. También podríamos considerar que el peor caso para Randomized Select es $O(n^2)$, si por ejemplo, buscamos el estadístico de orden 1, y escogemos como pivote el elemento mayor del arreglo en cada iteración. Sin embargo, la probabilidad de que ocurra este caso es prácticamente nula, pues la elección del pivote es completamente aleatoria, por lo que cada elemento tiene la misma probabilidad de ser escogido como pivote.\n",
        "\n",
        "Así como Randomized Select puede escoger particiones con un mayor número de elementos que Select, es decir, una partición con más de $\\frac{7n}{10}$ elementos, también podría escoger una partición con menos de $\\frac{3n}{10}$ elementos, realizando una menor cantidad de llamadas recursivas a la función en comparación a Select. El peor caso mencionado anteriormente para Randomized Select, en el que escogemos el mayor elemento como pivote, podría también ser el mejor caso si buscamos el estadístico de orden $n$.\n",
        "\n",
        "En conclusión, la aleatoriedad de Randomized Select aumenta de igual manera la probabilidad de ocurrencia de un peor y de un mejor caso. Considerando además todas las constantes ocultas en el tiempo de ejecución de Select, es de esperar que Randomized Select sea un algoritmo más eficiente.\n"
      ],
      "metadata": {
        "id": "Sf1CM9aGA5ZA"
      }
    }
  ],
  "metadata": {
    "colab": {
      "collapsed_sections": [],
      "provenance": [],
      "authorship_tag": "ABX9TyNypm7kOP1Qo8SgoJCM8rzB",
      "include_colab_link": true
    },
    "kernelspec": {
      "display_name": "Python 3",
      "name": "python3"
    },
    "language_info": {
      "name": "python"
    }
  },
  "nbformat": 4,
  "nbformat_minor": 0
}