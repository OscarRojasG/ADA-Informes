{
  "nbformat": 4,
  "nbformat_minor": 0,
  "metadata": {
    "colab": {
      "name": "HeapSort.ipynb",
      "provenance": [],
      "collapsed_sections": [],
      "authorship_tag": "ABX9TyNXEV0L78ULoseoL9Wwzw6U",
      "include_colab_link": true
    },
    "kernelspec": {
      "name": "python3",
      "display_name": "Python 3"
    },
    "language_info": {
      "name": "python"
    }
  },
  "cells": [
    {
      "cell_type": "markdown",
      "metadata": {
        "id": "view-in-github",
        "colab_type": "text"
      },
      "source": [
        "<a href=\"https://colab.research.google.com/github/OscarRojasG/ADA-Informes/blob/presentaciones/HeapSort.ipynb\" target=\"_parent\"><img src=\"https://colab.research.google.com/assets/colab-badge.svg\" alt=\"Open In Colab\"/></a>"
      ]
    },
    {
      "cell_type": "markdown",
      "source": [
        "# HeapSort"
      ],
      "metadata": {
        "id": "QtfQuiHmyL4b"
      }
    },
    {
      "cell_type": "markdown",
      "source": [
        "## 2.1 Código"
      ],
      "metadata": {
        "id": "DZa0Xn9dyUDD"
      }
    },
    {
      "cell_type": "code",
      "execution_count": null,
      "metadata": {
        "colab": {
          "base_uri": "https://localhost:8080/"
        },
        "id": "DW5dSGYuMFOv",
        "outputId": "0dfab52e-d324-4ec4-98c4-9a611d53dd53"
      },
      "outputs": [
        {
          "output_type": "stream",
          "name": "stdout",
          "text": [
            "[1, 2, 3, 4, 5, 6, 7, 8]\n"
          ]
        }
      ],
      "source": [
        "def build_heap(A, n):\n",
        "   for i in range(n//2 - 1, -1, -1):\n",
        "      heapify(A, n, i)\n",
        "\n",
        "def heapify(A, n, i):\n",
        "  left = 2*i + 1\n",
        "  right = 2*i + 2\n",
        "  largest = i\n",
        "\n",
        "  if left < n and A[left] > A[largest]:\n",
        "    largest = left\n",
        "\n",
        "  if right < n and A[right] > A[largest]:\n",
        "    largest = right\n",
        "\n",
        "  if largest != i:\n",
        "    A[i], A[largest] = A[largest], A[i]\n",
        "    heapify(A, n, largest)\n",
        "\n",
        "def heap_sort(A):\n",
        "  n = len(A)\n",
        "  build_heap(A, n)\n",
        "\n",
        "  for i in range(n-1, 0, -1):\n",
        "    A[0], A[i] = A[i], A[0]\n",
        "    heapify(A, i, 0)\n",
        "\n",
        "A = [6,4,3,5,1,2,8,7]\n",
        "heap_sort(A)\n",
        "print(A)"
      ]
    },
    {
      "cell_type": "markdown",
      "source": [
        "## 2.2 Descripción del algoritmo\n",
        "\n",
        "El algoritmo recibe como entrada un arreglo de tamaño $n$ con números aleatorios y retorna un arreglo ordenado con los mismos valores. Los pasos del algoritmo son los siguientes:\n",
        "\n",
        "1. La función `build_heap` reordena el arreglo de modo que se cumpla la propiedad del montículo, es decir, que cada nodo tenga un valor mayor al de sus hijos.\n",
        "\n",
        "2. Una vez reconstruido el montículo, la función `heap_sort` elimina la raíz hasta que el montículo tenga un único elemento. Luego de eliminar todos los nodos, el arreglo estará ordenado.\n",
        "\n",
        "Los pasos de la función `build_heap` son los siguientes:\n",
        "\n",
        "1. Se comienza iterando el arreglo desde la posición $i = n/2 - 1$ hasta $i = 0$. Los últimos $n/2$ elementos corresponden a los nodos hoja, por lo tanto ya cumplen la propiedad.\n",
        "\n",
        "2. La función `heapify` busca el nodo hijo que sea mayor. Las posiciones del hijo izquierdo y derecho del nodo $i$ son $2i + 1$ y $2i + 2$ respectivamente. \n",
        "\n",
        "3. Si el nodo padre es mayor a sus hijos, se avanza a la siguiente iteración.\n",
        "\n",
        "4. En caso contrario, el nodo padre se intercambia con el nodo hijo mayor. Luego, se debe verificar que el nodo padre (en su nueva posición), siga cumpliendo la propiedad. Se vuelve a llamar a la función `heapify` hasta que la propiedad se cumpla.\n",
        "\n",
        "5. Luego de finalizar la última iteración, se habrá reconstruido el montículo. \n",
        "\n",
        "Los pasos de la función `heap_sort` son los siguientes:\n",
        "\n",
        "1. Se reconstruye el montículo a partir del arreglo de entrada.\n",
        "\n",
        "2. Se elimina cada nodo raíz hasta vaciar el montículo. Eliminar un nodo raíz consiste en intercambiarlo con el último elemento y disminuir el tamaño del montículo en 1. Notemos que al final del arreglo se irán ubicando todos los nodos eliminados, y se irá formando un sub-arreglo ordenado de menor a mayor.\n",
        "\n",
        "3. Después de cada eliminación, se debe verificar que el nuevo nodo raíz cumpla la propiedad. Para ello, se llama a la función `heapify` las veces que sea suficiente hasta que el nodo quede bien ubicado. Luego se prosigue con la siguiente iteración hasta que el montículo quede vacío.\n",
        "\n"
      ],
      "metadata": {
        "id": "S4HGwuhIzkFk"
      }
    },
    {
      "cell_type": "markdown",
      "source": [
        "# 2.3 Ejemplo\n",
        "\n",
        "Consideremos el siguiente arreglo:\n",
        "\n",
        "$A = [4, 1, 8, 2, 3, 5]$\n",
        "\n",
        "Primero, llamaremos a la función `build_heap` para que reconstruya el montículo.\n",
        "\n",
        "Comenzaremos iterando desde el elemento $n/2 - 1$, en este caso $i = 2$ que corresponde al 8.\n",
        "\n",
        "Hijo izquierdo = $A[2i + 1] = A[2 ̇\\cdot 2 + 1] = A[5] = 5$\n",
        "\n",
        "Hijo derecho = $A[2i + 2] = A[2 ̇\\cdot 2 + 2] = A[6] = ∄$\n",
        "\n",
        "Comparamos el 8 con el 5. Como $8 > 5$, no hay intercambios.\n",
        "\n",
        "Luego, seguimos con el elemento anterior $i = 1$ que corresponde al 1.\n",
        "\n",
        "Hijo izquierdo = $A[2i + 1] = A[2 ̇\\cdot 1 + 1] = A[3] = 2$\n",
        "\n",
        "Hijo derecho = $A[2i + 2] = A[2 ̇\\cdot 1 + 2] = A[4] = 3$\n",
        "\n",
        "Como el hijo mayor es el derecho, comparamos el 1 con el 3. Como $1 < 3$, se intercambian. El arreglo queda de la siguiente manera: \n",
        "\n",
        "$A = [4, 3, 8, 2, 1, 5]$\n",
        "\n",
        "Ahora, se debe comprobar que la nueva posición del 1 cumpla la propiedad. En este caso no es necesario, ya que el elemento quedó en la posición de un nodo hoja, y por lo tanto, no tiene hijos.\n",
        "\n",
        "Por último, seguimos con el elemento $i = 0$ que corresponde al 4.\n",
        "\n",
        "Hijo izquierdo = $A[2i + 1] = A[2 ̇\\cdot 0 + 1] = A[1] = 3$\n",
        "\n",
        "Hijo derecho = $A[2i + 2] = A[2 ̇\\cdot 0 + 2] = A[2] = 8$\n",
        "\n",
        "Como $4 < 8$, se intercambian. El arreglo queda de la siguiente forma:\n",
        "\n",
        "$A = [8,3,4,2,1,5]$\n",
        "\n",
        "Se verifica que el 4 cumpla la propiedad en su nueva posición.\n",
        "\n",
        "Hijo izquierdo = $A[2i + 1] = A[2 ̇\\cdot 2 + 1] = A[5] = 5$\n",
        "\n",
        "Hijo derecho = $A[2i + 2] = A[2 ̇\\cdot 2 + 2] = A[6] = ∄$\n",
        "\n",
        "Como $5 > 4$, se intercambian.\n",
        "\n",
        "$A = [8,3,5,2,1,4]$\n",
        "\n",
        "Luego, se verifica que el 4 siga cumpliendo la propiedad. Como el 4 ahora es un nodo hoja, la propiedad se cumple.\n",
        "\n",
        "Finalmente se forma el siguiente montículo:\n",
        "\n",
        "![picture](https://drive.google.com/uc?export=view&id=1_JF1rslYc-RwVbFkX83xMqxXjXTt1Xcf)\n",
        "\n",
        "Luego, se va eliminando el nodo raíz uno por uno. A continuación se muestra el estado del montículo y del arreglo por cada eliminación.\n",
        "\n",
        "![picture](https://drive.google.com/uc?export=view&id=1TKJ57F_iObp-EiqVBrFxB8hipaiqJkth)\n",
        "\n",
        "$A = [5,4,2,1,3,8]$\n",
        "\n",
        "![picture](https://drive.google.com/uc?export=view&id=10uGFMKWAf_aRSzohg5pD1T7keplwsdbV)\n",
        "\n",
        "$A = [4,3,1,2,5,8]$\n",
        "\n",
        "![picture](https://drive.google.com/uc?export=view&id=1fiduUsGvtASFbZeOnSqphkwOJVXZzr8H)\n",
        "\n",
        "$A = [3,2,1,4,5,8]$\n",
        "\n",
        "![picture](https://drive.google.com/uc?export=view&id=1vFcr5gueVirI_7rVXcDbsVpk85JXwPlu)\n",
        "\n",
        "$A = [2,1,3,4,5,8]$\n",
        "\n",
        "![picture](https://drive.google.com/uc?export=view&id=1COO3l55HiZ1ZvxPkmpQleF8gWVAJFg64)\n",
        "\n",
        "$A = [1,2,3,4,5,8]$"
      ],
      "metadata": {
        "id": "Baiw-2CJyXpD"
      }
    },
    {
      "cell_type": "markdown",
      "source": [
        "# 3. Correctitud"
      ],
      "metadata": {
        "id": "WZTJsuH2Jbeh"
      }
    },
    {
      "cell_type": "markdown",
      "source": [
        "### **Teorema 1 (Correctitud de la función build_heap).**\n",
        "\n",
        "*La función build_heap construye un max-heap a partir de un arreglo con $n$ elementos.*\n",
        "\n",
        "## Prueba del Teorema\n",
        "\n",
        "Para probar el teorema podemos considerar la siguiente **propiedad invariante de bucle**:\n",
        "\n",
        "> Al comienzo de cada iteración los nodos i+1,i+2,…, son raíces de un max-heap.\n",
        "\n",
        "**Inicialización**\n",
        "\n",
        "Como la primera iteración comienza desde $i = n/2 - 1$, se cumple que todos los i+1,i+2,..., corresponden a nodos hoja, en donde cada uno es parte de la raíz de un sub-montículo con un único elemento.\n",
        "\n",
        "**Mantención**\n",
        "\n",
        "Aplicando un razonamiento inductivo, asumiremos que la propiedad se cumple en la iteración $i+1$. Luego, en la siguiente iteración el elemento $i$ será reubicado de modo que cumpla la propiedad del montículo. En general, existen dos casos:\n",
        "\n",
        "1. El nodo $i$ es mayor a sus hijos. En este caso, no ocurren intercambios en el arreglo, ya que el nodo se encuentra correctamente ubicado. Luego, al finalizar la iteración y al comienzo de la siguiente, la propiedad seguirá cumpliéndose para los nodos i,i+1,i+2,...\n",
        "\n",
        "2. El nodo $i$ es menor al menos a uno de sus hijos. Llamaremos $n_{i}$ al nodo actual en la posición $i$, $n_{0}$ al nodo inicial en la posición $i$, $n_{1}$ al hijo mayor de $n_{0}$ y $n_{2}$ al hijo menor de $n_{0}$ y hermano de $n_{1}$. Sabemos que, inicialmente, $n_{0} > n_{1}$, por lo cual ocurre un intercambio entre ambos nodos, tal que $n_{i} = n_{1}$. Luego, existen dos situaciones:\n",
        "\n",
        "* No ocurren más intercambios. En este caso, los hijos de $n_{i} = n_{1}$ corresponderán a $n_{0}$ y $n_{2}$. Sabemos que $n_{0}$ se intercambió inicialmente con su hijo mayor $n_{1}$, por lo cual se tiene que $n_{i} = n_{1} > n_{0}, n_{2}$, de modo que se cumple la propiedad.\n",
        "\n",
        "* El nodo $n_{0}$ continuará intercambiandose hasta una posición en que cumpla la propiedad del montículo. En este caso, los hijos de $n_{i} = n_{1}$ corresponderán a $n_{2}$ y al hijo mayor de $n_{1}$. Observemos que nuevamente se cumple que $n_{i}$ es mayor a sus dos hijos.\n",
        "\n",
        "Luego, como la propiedad se cumple para $n_{i}$, y por la hipótesis inductiva también se cumple para $n_{i+1}$,$n_{i+2}$... queda demostrada la mantención de la propiedad.\n",
        "\n",
        "**Correctitud**\n",
        "\n",
        "Finalmente, como la propiedad de bucle invariante es verdadera al inicio del bucle y se mantiene en cada iteración, podemos decir que al **finalizar la última iteración del algoritmo**, se genera un montículo tal que los nodos 1,2,...,n son raíces de un max-heap.$\\Box$"
      ],
      "metadata": {
        "id": "qZHC3yoqXriD"
      }
    }
  ]
}