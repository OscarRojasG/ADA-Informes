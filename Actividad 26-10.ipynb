{
  "nbformat": 4,
  "nbformat_minor": 0,
  "metadata": {
    "colab": {
      "provenance": [],
      "collapsed_sections": [],
      "authorship_tag": "ABX9TyMmI9HxKaKIWM3u/OS9f1ir",
      "include_colab_link": true
    },
    "kernelspec": {
      "name": "python3",
      "display_name": "Python 3"
    },
    "language_info": {
      "name": "python"
    }
  },
  "cells": [
    {
      "cell_type": "markdown",
      "metadata": {
        "id": "view-in-github",
        "colab_type": "text"
      },
      "source": [
        "<a href=\"https://colab.research.google.com/github/OscarRojasG/ADA-Informes/blob/tareas/Actividad%2026-10.ipynb\" target=\"_parent\"><img src=\"https://colab.research.google.com/assets/colab-badge.svg\" alt=\"Open In Colab\"/></a>"
      ]
    },
    {
      "cell_type": "markdown",
      "source": [
        "# Actividad 1\n",
        "\n",
        "## Algoritmo de Prim"
      ],
      "metadata": {
        "id": "vdYYrsO9xMux"
      }
    },
    {
      "cell_type": "markdown",
      "source": [
        "<img src=\"https://drive.google.com/uc?export=view&id=1uxr5Z-ws4kjtMdRTQBj3_Fh4PzXQA0NR\" width=\"800\"/>"
      ],
      "metadata": {
        "id": "FWugj2_8w64E"
      }
    },
    {
      "cell_type": "markdown",
      "source": [
        "## Algoritmo de Kruskal\n",
        "\n",
        "<img src=\"https://drive.google.com/uc?export=view&id=1cJuyBjR-uWXG5Umkp5i8f-2zTTJRDpTH\" width=\"800\"/>"
      ],
      "metadata": {
        "id": "Nw7YLMjmxiNZ"
      }
    },
    {
      "cell_type": "markdown",
      "source": [
        "# Actividad 2\n",
        "\n",
        "## Propiedad 1\n",
        "\n",
        "### Creación de ciclos\n",
        "\n",
        "Sabemos que $v \\leadsto w$ ya que se encuentran en el mismo componente conectado, por lo tanto, si se agrega un nuevo arco $\n",
        "(w,v)$ existirá un nuevo camino $w \\leadsto v$, creándose al menos un ciclo.\n",
        "\n",
        "### Fusión de componentes\n",
        "\n",
        "Si $v$ y $w$ se encuentran en distintos componentes conectados, agregar un arco $(v, w)$ agrega un solo camino $v \\leadsto w$, y en ningún caso existirá un camino $w \\leadsto v$, por lo tanto no se forman nuevos ciclos.\n",
        "\n",
        "## Propiedad 2\n",
        "\n",
        "En un árbol recubridor cada par de nodos estará conectado por un solo arco. Por lo tanto, para $n$ nodos o vértices existirán $n-1$ arcos.\n",
        "\n",
        "## Propiedad 3\n",
        "\n",
        "Para que exista un ciclo, cada par de nodos debe estar conectado por más de un arco, contradiciendo la propiedad anterior, por lo tanto, un árbol recubridor no puede tener ciclos.\n",
        "\n",
        "# Actividad 3\n",
        "\n",
        "Se utilizará un mapa donde cada clave representará un nodo del grafo y su valor corresponderá al padre de ese nodo.\n",
        "\n",
        "**Find**: encuentra la raíz del componente al cual pertenece un nodo $x$, *iterando* por el padre de cada nodo hasta encontrar un nodo que apunte a sí mismo.\n",
        "\n",
        "**Union**: une los conjuntos que contienen a los nodos $x$ e $y$, encontrando la raíz del conjunto con menor cantidad de elementos y asignándole como padre la raíz del conjunto con mayor cantidad de elementos."
      ],
      "metadata": {
        "id": "hSWnlKtV0Y_a"
      }
    }
  ]
}