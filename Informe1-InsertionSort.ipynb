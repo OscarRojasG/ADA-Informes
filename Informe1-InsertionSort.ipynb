{
  "nbformat": 4,
  "nbformat_minor": 0,
  "metadata": {
    "colab": {
      "name": "Informe1-InsertionSort",
      "provenance": [],
      "collapsed_sections": [],
      "authorship_tag": "ABX9TyNJyBVzacQdYvr5Z02w1Ze4",
      "include_colab_link": true
    },
    "kernelspec": {
      "name": "python3",
      "display_name": "Python 3"
    },
    "language_info": {
      "name": "python"
    }
  },
  "cells": [
    {
      "cell_type": "markdown",
      "metadata": {
        "id": "view-in-github",
        "colab_type": "text"
      },
      "source": [
        "<a href=\"https://colab.research.google.com/github/OscarRojasG/ADA-Informes/blob/main/Informe1-InsertionSort.ipynb\" target=\"_parent\"><img src=\"https://colab.research.google.com/assets/colab-badge.svg\" alt=\"Open In Colab\"/></a>"
      ]
    },
    {
      "cell_type": "markdown",
      "source": [
        "# 1. Problema de ordenamiento\n",
        "\n",
        "**Entrada**: Arreglo de tamaño n con valores numéricos $[a_1,a_2,...,a_n]$\n",
        "\n",
        "**Salida**: Arreglo de la forma: $[a_1',a_2',...,a_n']$, de modo que $a_1'\\leq a_2' \\leq... \\leq a_n'$.\n",
        "\n",
        "Ordenar una secuencia de números es un problema bastante usual y conocido en el mundo de la informática. A pesar de que se conocen decenas de algoritmos de ordenamiento, este problema sigue siendo de gran interés para los informáticos, especialmente a la hora de decidir cuál de ellos resulta más eficiente al ordenar un determinado conjunto de datos.\n",
        "\n",
        "Por ejemplo, InsertionSort es uno de los algoritmos más sencillos e intuitivos, puesto que se asemeja a ordenar un mazo de cartas. Sin embargo, otros algoritmos como QuickSort o MergeSort podrían resultar más eficientes cuando se tiene un gran conjunto de datos. \n"
      ],
      "metadata": {
        "id": "deOsebM06Bt0"
      }
    },
    {
      "cell_type": "markdown",
      "source": [
        "# 2. Insertion Sort"
      ],
      "metadata": {
        "id": "ShNc87InQrV1"
      }
    },
    {
      "cell_type": "markdown",
      "source": [
        "## 2.1 Código\n",
        "\n",
        "El siguiente código muestra una implementación del algoritmo **InsertionSort**."
      ],
      "metadata": {
        "id": "qCFujGBVe7Lg"
      }
    },
    {
      "cell_type": "code",
      "source": [
        "from termcolor import colored\n",
        "\n",
        "def insertion_sort(A, verbose=False):\n",
        "    n = len(A)\n",
        "    t = 0 # Contador de comparaciones\n",
        "\n",
        "    if verbose == True: print(\"Arreglo inicial: \", A)\n",
        "\n",
        "    for i in range(1, n):\n",
        "        if verbose == True: print(\"\\nPasada \",i)\n",
        "\n",
        "        j = i # Variable auxiliar usada para recorrer el arreglo hacia atrás\n",
        "\n",
        "        if verbose == True and A[j] >= A[j - 1]:\n",
        "            print(\"No hay intercambios\")\n",
        "\n",
        "        t += 1 # Se realiza la primera comparación\n",
        "        # Si el elemento es menor al anterior se intercambian\n",
        "        while A[j] < A[j - 1]:\n",
        "\n",
        "            if verbose == True:\n",
        "                if j - 1 > 0:\n",
        "                    print(str(A[:j-1])[1:-1] + ', ', end='')\n",
        "\n",
        "                print(colored(f\"{str(A[j-1:j+1])[1:-1]}\", \"red\"), end='')\n",
        "\n",
        "                if j + 1 < n:\n",
        "                    print(', ', end='')   \n",
        "                print(str(A[j+1:])[1:-1])\n",
        "\n",
        "            A[j], A[j - 1] = A[j - 1], A[j]\n",
        "            j -= 1\n",
        "\n",
        "            if j == 0: break\n",
        "\n",
        "            t += 1 # Luego del intercambio debe realizarse una nueva comparación\n",
        "\n",
        "        if verbose == True: \n",
        "          print(\"\\nAl finalizar pasada:\")\n",
        "          print(str(A)[1:-1])\n",
        "\n",
        "    if verbose == True: print(\"\\nArreglo ordenado: \", A)\n",
        "\n",
        "    return A, t\n",
        "\n",
        "# Ejemplo\n",
        "A = [7,5,1,8,2]\n",
        "print(\"Entrada: \", A)\n",
        "A, cont = insertion_sort(A)\n",
        "print(\"Salida: \", A)\n",
        "print(\"Comparaciones: \", cont)"
      ],
      "metadata": {
        "colab": {
          "base_uri": "https://localhost:8080/"
        },
        "id": "f77TEBCkQ4pP",
        "outputId": "0ceb0571-f20e-44cf-8cac-e655b3b090ae"
      },
      "execution_count": 44,
      "outputs": [
        {
          "output_type": "stream",
          "name": "stdout",
          "text": [
            "Entrada:  [7, 5, 1, 8, 2]\n",
            "Salida:  [1, 2, 5, 7, 8]\n",
            "Comparaciones:  8\n"
          ]
        }
      ]
    },
    {
      "cell_type": "markdown",
      "source": [
        "## 2.2. Descripción del algoritmo\n",
        "\n",
        "El algoritmo recibe como entrada un arreglo con la secuencia de números que queremos ordenar. Luego, el algoritmo ordena los números de menor a mayor y finalmente retorna el arreglo resultante. Los pasos realizados por el algoritmo son los siguientes:\n",
        "\n",
        "1. Se comienza iterando en el arreglo desde la posición `i = 1`. Luego de cada iteración, la variable $i$ se incrementa en 1 hasta llegar a la última posición del arreglo.\n",
        "\n",
        "2. En cada iteración, se asigna el valor de $i$ a una variable auxiliar $j$.\n",
        "\n",
        "3. En cada iteración, mientras `A[j] < A[j-1]` y `j > 0`, entonces los elementos se intercambian de posición y la variable $j$ disminuye en 1.\n",
        "\n",
        "4. Al finalizar, se retorna el arreglo ordenado y un contador de comparaciones $t$."
      ],
      "metadata": {
        "id": "uCIAmnHffTPh"
      }
    },
    {
      "cell_type": "markdown",
      "source": [
        "## 2.3. Ejemplo\n",
        "\n",
        "Consideremos, por ejemplo, el arreglo:\n",
        "\n",
        "$a=[4,2,5,1]$\n",
        "\n",
        "En la primera iteración (comenzando desde `i = 1`), se intercambia el 2 por el 4:\n",
        "\n",
        "$a=[2,4,5,1]$\n",
        "\n",
        "En la segunda iteración, notamos que `5 > 4`, por lo cual no se realizan intercambios.\n",
        "\n",
        "En la tercera iteración, se intercambia el 1 por el 5:\n",
        "\n",
        "$a=[2,4,1,5]$\n",
        "\n",
        "Luego, se intercambia el 1 por el 4:\n",
        "\n",
        "$a=[2,1,4,5]$\n",
        "\n",
        "Por último, se intercambia el 1 por el 2:\n",
        "\n",
        "$a=[1,2,4,5]$\n",
        "\n",
        "Y ya tenemos el arreglo ordenado.\n"
      ],
      "metadata": {
        "id": "tBQIweOsm3jZ"
      }
    },
    {
      "cell_type": "markdown",
      "source": [
        "## 2.4. Ejecución del algoritmo paso a paso (`verbose=True`)\n",
        "\n",
        "Usando la opción `verbose=True`, podemos ver lo que ocurre en cada iteración del algoritmo."
      ],
      "metadata": {
        "id": "jhPqk51Mt1yd"
      }
    },
    {
      "cell_type": "code",
      "source": [
        "import random\n",
        "A = random.sample(range(1, 100), 6)\n",
        "A, cont = insertion_sort(A,verbose=True)"
      ],
      "metadata": {
        "colab": {
          "base_uri": "https://localhost:8080/"
        },
        "id": "r24IQysvuHz1",
        "outputId": "164e2267-b4a5-4ab2-9ce2-d254e2291921"
      },
      "execution_count": 45,
      "outputs": [
        {
          "output_type": "stream",
          "name": "stdout",
          "text": [
            "Arreglo inicial:  [97, 78, 90, 55, 85, 81]\n",
            "\n",
            "Pasada  1\n",
            "\u001b[31m97, 78\u001b[0m, 90, 55, 85, 81\n",
            "\n",
            "Al finalizar pasada:\n",
            "78, 97, 90, 55, 85, 81\n",
            "\n",
            "Pasada  2\n",
            "78, \u001b[31m97, 90\u001b[0m, 55, 85, 81\n",
            "\n",
            "Al finalizar pasada:\n",
            "78, 90, 97, 55, 85, 81\n",
            "\n",
            "Pasada  3\n",
            "78, 90, \u001b[31m97, 55\u001b[0m, 85, 81\n",
            "78, \u001b[31m90, 55\u001b[0m, 97, 85, 81\n",
            "\u001b[31m78, 55\u001b[0m, 90, 97, 85, 81\n",
            "\n",
            "Al finalizar pasada:\n",
            "55, 78, 90, 97, 85, 81\n",
            "\n",
            "Pasada  4\n",
            "55, 78, 90, \u001b[31m97, 85\u001b[0m, 81\n",
            "55, 78, \u001b[31m90, 85\u001b[0m, 97, 81\n",
            "\n",
            "Al finalizar pasada:\n",
            "55, 78, 85, 90, 97, 81\n",
            "\n",
            "Pasada  5\n",
            "55, 78, 85, 90, \u001b[31m97, 81\u001b[0m\n",
            "55, 78, 85, \u001b[31m90, 81\u001b[0m, 97\n",
            "55, 78, \u001b[31m85, 81\u001b[0m, 90, 97\n",
            "\n",
            "Al finalizar pasada:\n",
            "55, 78, 81, 85, 90, 97\n",
            "\n",
            "Arreglo ordenado:  [55, 78, 81, 85, 90, 97]\n"
          ]
        }
      ]
    },
    {
      "cell_type": "markdown",
      "source": [
        "En cada iteración se intercambian los elementos en rojo."
      ],
      "metadata": {
        "id": "4twXvbeeukxe"
      }
    },
    {
      "cell_type": "markdown",
      "source": [
        "# 3. Correctitud\n",
        "\n",
        "### **Teorema (Correctitud).**\n",
        "\n",
        "*El algoritmo **InsertionSort** genera un arreglo: $[a_1',a_2',...,a_n']$, con los mismos elementos del arreglo de entrada ordenados de menor a mayor, es decir,* $a_1'\\leq a_2' \\leq... \\leq a_n'$.\n",
        "\n",
        "\n",
        "## Prueba del Teorema\n",
        "\n",
        "Luego de cada iteración, en caso de que el elemento $i$ del arreglo sea desplazado a una posición $j$, podemos observar que se cumple la propiedad $a_{j-1} \\leq a_{j} \\leq a_{j+1}$. En caso de que no hayan ocurrido intercambios, observamos que $a_{i-1} \\leq a_{i}$. A partir de esto, podemos formular la siguiente **propiedad invariante de bucle**:\n",
        "\n",
        "> Al comienzo de cada iteración $i$ del bucle más grande, los primeros $i$ elementos del arreglo forman un subarreglo ordenado de menor a mayor.\n",
        "\n",
        "**Inicialización**\n",
        "\n",
        "Al comienzo de la primera iteración (i=1), los primeros $i$ elementos del arreglo cumplen la propiedad. Esto es trivialmente cierto.\n",
        "\n",
        "**Mantención**\n",
        "\n",
        "Aplicando inducción, asumimos que al comienzo de cada iteración se cumple la propiedad. Es decir, los primeros $i$ elementos del arreglo forman un subconjunto ya ordenado.\n",
        "\n",
        "Consideremos $x$ como el menor elemento de la primera parte del arreglo ubicado en la posición $i$. Durante la ejecución del algoritmo, este elemento se desplazará a la primera posición del arreglo. Podemos notar que los elementos anteriores a $x$, luego de ser intercambiados, son desplazados una posición a la derecha, de modo que el orden entre estos elementos se mantiene.\n",
        "\n",
        "Al finalizar la iteración (y al comienzo de la siguiente), se seguirá cumpliendo la **propiedad invariante**.\n",
        "\n",
        "**Correctitud**\n",
        "\n",
        "Finalmente, como la propiedad de bucle invariante es verdadera al inicio del bucle y se mantiene en cada iteración, podemos decir que al **finalizar la n-ésima iteración del algoritmo**, se genera un arreglo $[a_1',a_2',...,a_n']$, con los mismos elementos del arreglo de entrada ordenados de menor a mayor. $\\Box$\n",
        "\n"
      ],
      "metadata": {
        "id": "JZwbastivEvl"
      }
    },
    {
      "cell_type": "markdown",
      "source": [
        "# 4. Tiempo de ejecución\n",
        "\n",
        "### **Teorema (Tiempo de ejecución).**\n",
        "\n",
        "*El algoritmo **InsertionSort** tiene un **tiempo de ejecución de** $O(n^2)$ en el peor caso.*\n",
        "\n",
        "## Prueba del teorema\n",
        "\n",
        "En base a la demostración anterior, podemos intuir que el peor caso para este algoritmo ocurrirá cuando los elementos estén dispuestos en orden inverso, es decir, de mayor a menor. Esto implica que en cada iteración $i$ se realizarán $i$ comparaciones e intercambios. Dicho de otra forma, el elemento en la posición $i$ deberá intercambiarse con todos los elementos anteriores hasta desplazarse a la posición correcta."
      ],
      "metadata": {
        "id": "Wj-XpRcq_4fe"
      }
    },
    {
      "cell_type": "markdown",
      "source": [
        "## Ejemplo"
      ],
      "metadata": {
        "id": "3Y9Z0aBwCrr2"
      }
    },
    {
      "cell_type": "code",
      "source": [
        "A = [5,4,3,2,1]\n",
        "print(\"Entrada: \", A)\n",
        "A, cont = insertion_sort(A, True)\n",
        "print(\"Salida: \", A)\n",
        "print(\"Comparaciones: \", cont)"
      ],
      "metadata": {
        "colab": {
          "base_uri": "https://localhost:8080/"
        },
        "id": "uXF9ze-OCs5V",
        "outputId": "5c26b17c-73da-4c85-8c1e-9946ee1f3709"
      },
      "execution_count": 46,
      "outputs": [
        {
          "output_type": "stream",
          "name": "stdout",
          "text": [
            "Entrada:  [5, 4, 3, 2, 1]\n",
            "Arreglo inicial:  [5, 4, 3, 2, 1]\n",
            "\n",
            "Pasada  1\n",
            "\u001b[31m5, 4\u001b[0m, 3, 2, 1\n",
            "\n",
            "Al finalizar pasada:\n",
            "4, 5, 3, 2, 1\n",
            "\n",
            "Pasada  2\n",
            "4, \u001b[31m5, 3\u001b[0m, 2, 1\n",
            "\u001b[31m4, 3\u001b[0m, 5, 2, 1\n",
            "\n",
            "Al finalizar pasada:\n",
            "3, 4, 5, 2, 1\n",
            "\n",
            "Pasada  3\n",
            "3, 4, \u001b[31m5, 2\u001b[0m, 1\n",
            "3, \u001b[31m4, 2\u001b[0m, 5, 1\n",
            "\u001b[31m3, 2\u001b[0m, 4, 5, 1\n",
            "\n",
            "Al finalizar pasada:\n",
            "2, 3, 4, 5, 1\n",
            "\n",
            "Pasada  4\n",
            "2, 3, 4, \u001b[31m5, 1\u001b[0m\n",
            "2, 3, \u001b[31m4, 1\u001b[0m, 5\n",
            "2, \u001b[31m3, 1\u001b[0m, 4, 5\n",
            "\u001b[31m2, 1\u001b[0m, 3, 4, 5\n",
            "\n",
            "Al finalizar pasada:\n",
            "1, 2, 3, 4, 5\n",
            "\n",
            "Arreglo ordenado:  [1, 2, 3, 4, 5]\n",
            "Salida:  [1, 2, 3, 4, 5]\n",
            "Comparaciones:  10\n"
          ]
        }
      ]
    },
    {
      "cell_type": "markdown",
      "source": [
        "En este caso, podemos observar que el número de la iteración coincide con la cantidad de comparaciones realizadas en ella.\n",
        "\n",
        "Considerando que el algoritmo realiza $n-1$ iteraciones en total, podemos concluir que se deberían realizar $\\sum\\limits_{i=0}^{n-1} i=\\frac{n(n-1)}{2}$ comparaciones, por lo que el tiempo de ejecución del algoritmo en el peor caso es $O(n^2)$. $\\Box$"
      ],
      "metadata": {
        "id": "bUlCWvokDk5g"
      }
    },
    {
      "cell_type": "markdown",
      "source": [
        "# 5. Experimentos\n",
        "\n",
        "## 5.1. Número de comparaciones\n",
        "\n",
        "A continuación se muestra gráficamente una comparación entre:\n",
        "\n",
        "* Cantidad de comparaciones del peor caso calculadas matemáticamente,\n",
        "* Cantidad de comparaciones del mejor caso calculadas matemáticamente (n-1 comparaciones si el arreglo está ordenado)\n",
        "* Cantidad de comparaciones realizadas experimentalmente para entradas aleatorias para tamaños de problema con $n \\in [5,19]$.\n",
        "\n",
        "Los arreglos de entrada son generados aleatoriamente con valores numéricos en el rango de 1 a 100."
      ],
      "metadata": {
        "id": "IP92BKaAS2IS"
      }
    },
    {
      "cell_type": "code",
      "source": [
        "import matplotlib.pyplot as plt\n",
        "\n",
        "x = [n for n in range(5,20)] \n",
        "y1 = [n*(n-1)/2 for n in range(5,20)] # Peor caso\n",
        "y2 = [n-1 for n in range(5,20)] # Mejor caso\n",
        "y = []; \n",
        "\n",
        "for n in range(5,20):\n",
        "    A = random.sample(range(1, 101), n)\n",
        "    A, cont = insertion_sort(A)\n",
        "    y.append(cont)\n",
        "\n",
        "plt.plot(x,y)\n",
        "plt.plot(x,y1)\n",
        "plt.plot(x,y2)\n",
        "plt.legend([\"Caso promedio\", \"Peor caso teórico\", \"Mejor caso teórico\"])\n",
        "\n",
        "plt.xlabel('n')\n",
        "plt.ylabel('Cantidad de operaciones')\n",
        "plt.show()"
      ],
      "metadata": {
        "colab": {
          "base_uri": "https://localhost:8080/",
          "height": 279
        },
        "id": "JO3XXDUkUElb",
        "outputId": "6224d8a6-d1e8-4ab8-bf9c-cbd90353fe72"
      },
      "execution_count": 48,
      "outputs": [
        {
          "output_type": "display_data",
          "data": {
            "text/plain": [
              "<Figure size 432x288 with 1 Axes>"
            ],
            "image/png": "[encoded data removed]"
          },
          "metadata": {
            "needs_background": "light"
          }
        }
      ]
    },
    {
      "cell_type": "markdown",
      "source": [
        "### Análisis de resultados\n",
        "\n",
        "Como se puede observar en el gráfico, la curva de comparaciones que deben realizarse para ordenar un arreglo aleatorio toma valores intermedios, que no se acercan a los casos extremos."
      ],
      "metadata": {
        "id": "n7V7u-EPVL5w"
      }
    },
    {
      "cell_type": "markdown",
      "source": [
        "## 5.2 Análisis del algoritmo para arreglos casi completamente ordenados\n",
        "\n",
        "A continuación se calculará experimentalmente la cantidad de comparaciones necesarias cuando se utiliza un arreglo casi completamente ordenado, en comparación al número de comparaciones en el mejor y peor caso.\n",
        "\n",
        "Se considerará un arreglo casi completamente ordenado como aquel cuyos últimos 3 elementos están dispuestos en orden inverso, mientras que el resto de elementos ya se encuentran correctamente ordenados.\n",
        "\n",
        "Los arreglos de entrada son generados para tamaños de problema con $n \\in [5,19]$, y sus valores seguirán una secuencia ordenada de 1 hasta $n$, a excepción de los últimos 3 elementos que estarán dispuestos de mayor a menor. Por ejemplo, para $n = 7$, se generará el arreglo $[1, 2, 3, 4, 7, 6, 5]$"
      ],
      "metadata": {
        "id": "qq_12i10V_Cn"
      }
    },
    {
      "cell_type": "code",
      "source": [
        "import matplotlib.pyplot as plt\n",
        "\n",
        "x = [n for n in range(5,20)] \n",
        "y1 = [n*(n-1)/2 for n in range(5,20)] # Peor caso\n",
        "y2 = [n-1 for n in range(5,20)] # Mejor caso\n",
        "y = []; \n",
        "\n",
        "for n in range(5, 20):\n",
        "    A1 = [x for x in range(1,n-2)]\n",
        "    A2 = [x for x in range(n,n-3,-1)]\n",
        "    A = A1 + A2\n",
        "    A, cont = insertion_sort(A)\n",
        "    y.append(cont)\n",
        "\n",
        "plt.plot(x,y)\n",
        "plt.plot(x,y1)\n",
        "plt.plot(x,y2)\n",
        "plt.legend([\"Caso arreglo semiordenado\", \"Peor caso teórico\", \"Mejor caso teórico\"])\n",
        "\n",
        "plt.xlabel('n')\n",
        "plt.ylabel('Cantidad de operaciones')\n",
        "plt.show()\n"
      ],
      "metadata": {
        "colab": {
          "base_uri": "https://localhost:8080/",
          "height": 279
        },
        "id": "Xw4Xul3CY7H_",
        "outputId": "e1c4b33d-d338-43e9-93a1-1b2d3d186f32"
      },
      "execution_count": 49,
      "outputs": [
        {
          "output_type": "display_data",
          "data": {
            "text/plain": [
              "<Figure size 432x288 with 1 Axes>"
            ],
            "image/png": "[encoded data removed]"
          },
          "metadata": {
            "needs_background": "light"
          }
        }
      ]
    },
    {
      "cell_type": "markdown",
      "source": [
        "### Análisis de resultados\n",
        "\n",
        "Se puede observar que la curva para el caso de arreglos semiordenados se acerca a la curva del mejor caso. Esto permite inferir que el orden previo que exista en los valores de entrada es un factor relevante a la hora de determinar el número de comparaciones y el tiempo de ejecución del algoritmo."
      ],
      "metadata": {
        "id": "FtYYlDxyWGZG"
      }
    },
    {
      "cell_type": "markdown",
      "source": [
        "## 5.3 Tiempo de ejecución y comparación con BubbleSort\n",
        "\n",
        "En primer lugar, definiremos una nueva función para ordenar los datos mediante el algoritmo BubbleSort."
      ],
      "metadata": {
        "id": "9AgIqXvq1OGs"
      }
    },
    {
      "cell_type": "code",
      "source": [
        "def bubble_sort(A):\n",
        "    n = len(A)\n",
        "    t = 0 # Contador de comparaciones\n",
        "\n",
        "    for i in range(1, n+1):\n",
        "        # Flag que indica si el arreglo ya se encuentra ordenado\n",
        "        already_sorted = True\n",
        "\n",
        "        # Se recorre el arreglo\n",
        "        for j in range(n - i):\n",
        "            t +=1\n",
        "            if A[j] > A[j + 1]:\n",
        "                # Si el elemento es mayor al siguiente se intercambia\n",
        "                A[j], A[j + 1] = A[j + 1], A[j]\n",
        "                already_sorted = False\n",
        "\n",
        "        if already_sorted:\n",
        "            break\n",
        "\n",
        "    return A, t"
      ],
      "metadata": {
        "id": "dvVviT9l2buH"
      },
      "execution_count": 50,
      "outputs": []
    },
    {
      "cell_type": "markdown",
      "source": [
        "A continuación, se muestra la comparación del tiempo de ejecución de ambos algoritmos al utilizar como entrada arreglos generados de forma aleatoria, con $n \\in [5,500]$ y valores en el rango de 1 a 1000."
      ],
      "metadata": {
        "id": "D5IodCe33jEd"
      }
    },
    {
      "cell_type": "code",
      "source": [
        "import matplotlib.pyplot as plt\n",
        "import datetime\n",
        "from timeit import repeat\n",
        "\n",
        "x=[]; y1=[]; y2=[];\n",
        "\n",
        "for n in range(5,501):\n",
        "\n",
        "    A = random.sample(range(1, 1001), n)\n",
        "\n",
        "    # La función repeat ejecuta 20 veces el algoritmo con el arreglo A y retorna el mejor tiempo obtenido.\n",
        "    t_insert = repeat(setup=\"from __main__ import insertion_sort\", stmt=f\"insertion_sort({A})\", repeat=1, number=10)\n",
        "    t_bubble = repeat(setup=\"from __main__ import bubble_sort\", stmt=f\"bubble_sort({A})\", repeat=1, number=10)\n",
        "\n",
        "    x.append(n)\n",
        "    y1.append(t_insert)\n",
        "    y2.append(t_bubble)\n",
        "\n",
        "plt.plot(x,y1)\n",
        "plt.plot(x,y2)\n",
        "plt.legend([\"InsertionSort\", \"BubbleSort\"])\n",
        "\n",
        "plt.xlabel('n')\n",
        "plt.ylabel('Tiempo en ms')\n",
        "plt.show()"
      ],
      "metadata": {
        "colab": {
          "base_uri": "https://localhost:8080/",
          "height": 279
        },
        "id": "IkDHzRPU49Bb",
        "outputId": "0c5f3ae5-78f0-4b1a-b5b5-857410194967"
      },
      "execution_count": 54,
      "outputs": [
        {
          "output_type": "display_data",
          "data": {
            "text/plain": [
              "<Figure size 432x288 with 1 Axes>"
            ],
            "image/png": "[encoded data removed]"
          },
          "metadata": {
            "needs_background": "light"
          }
        }
      ]
    },
    {
      "cell_type": "markdown",
      "source": [
        "### Análisis de resultados\n",
        "\n",
        "Como se puede apreciar, ambos algoritmos aumentan su tiempo de ejecución de forma cuadrática en función del tamaño del problema. Sin embargo, InsertionSort presenta un mejor desempeño para valores grandes de $n$. Esto se debe a que el algoritmo BubbleSort realiza una mayor cantidad de comparaciones en el caso promedio, cuyos valores son cercanos a los del peor caso. En cambio, InsertionSort resulta un algoritmo más eficiente en el caso promedio, puesto que la cantidad de comparaciones que realiza es significativamente menor a la del peor caso.\n",
        "\n",
        "Además, se observan algunos peaks de tiempo en el gráfico. Estos podrían deberse al comportamiento impredecible del procesador u otros procesos en ejecución.\n",
        "\n"
      ],
      "metadata": {
        "id": "1O4s3qkIAlKk"
      }
    }
  ]
}