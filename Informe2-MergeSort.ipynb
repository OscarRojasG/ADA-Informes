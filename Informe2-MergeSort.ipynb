{
  "cells": [
    {
      "cell_type": "markdown",
      "metadata": {
        "id": "view-in-github",
        "colab_type": "text"
      },
      "source": [
        "<a href=\"https://colab.research.google.com/github/OscarRojasG/ADA-Informes/blob/main/Informe2-MergeSort.ipynb\" target=\"_parent\"><img src=\"https://colab.research.google.com/assets/colab-badge.svg\" alt=\"Open In Colab\"/></a>"
      ]
    },
    {
      "cell_type": "markdown",
      "metadata": {
        "id": "deOsebM06Bt0"
      },
      "source": [
        "# 1. Problema de ordenamiento\n",
        "\n",
        "**Entrada**: Arreglo de tamaño n con valores numéricos $[a_1,a_2,...,a_n]$\n",
        "\n",
        "**Salida**: Arreglo de la forma: $[a_1',a_2',...,a_n']$, de modo que $a_1'\\leq a_2' \\leq... \\leq a_n'$.\n",
        "\n",
        "Ordenar una secuencia numérica es un problema bastante usual en el mundo de la informática. Puede parecer algo sencillo, sin embargo, debido a la gran cantidad de algoritmos que se han inventado para resolver este problema, existe un gran interés por determinar aquel que lo hace con mayor eficiencia.\n",
        "\n",
        "En este contexto, **MergeSort** resulta uno de los mejores algoritmos a la hora \n",
        "de ordenar un arreglo numérico, ya que resuelve el problema en un tiempo considerablemente menor en comparación a otros. Este algoritmo se caracteriza por ocupar la técnica *divide y vencerás*, que consiste en dividir un problema en dos o más subproblemas más pequeños, luego los resuelve de manera **recursiva** y finalmente combina las soluciones para resolver el problema original.\n",
        "\n"
      ]
    },
    {
      "cell_type": "markdown",
      "metadata": {
        "id": "ShNc87InQrV1"
      },
      "source": [
        "# 2. MergeSort"
      ]
    },
    {
      "cell_type": "markdown",
      "metadata": {
        "id": "qCFujGBVe7Lg"
      },
      "source": [
        "## 2.1 Código\n",
        "\n",
        "El siguiente código muestra una implementación recursiva del algoritmo **MergeSort**."
      ]
    },
    {
      "cell_type": "code",
      "execution_count": 17,
      "metadata": {
        "id": "f77TEBCkQ4pP",
        "colab": {
          "base_uri": "https://localhost:8080/"
        },
        "outputId": "8642ec45-8013-4e8b-ccc3-58ccb2366791"
      },
      "outputs": [
        {
          "output_type": "stream",
          "name": "stdout",
          "text": [
            "Entrada:  [1, 2, 3, 4, 5, 6, 7, 8, 9, 10, 11, 12, 13, 14, 15, 16, 17, 18, 19]\n",
            "Salida:  [1, 2, 3, 4, 5, 6, 7, 8, 9, 10, 11, 12, 13, 14, 15, 16, 17, 18, 19]\n",
            "Comparaciones:  82\n",
            "Llamadas recursivas:  36\n"
          ]
        }
      ],
      "source": [
        "from termcolor import colored\n",
        "\n",
        "c = 0 # Contador de comparaciones de la función merge\n",
        "k = 0 # Contador de llamadas recursivas de la función merge_sort\n",
        "\n",
        "def merge(A, p, q, r, verbose=False):\n",
        "  global c\n",
        "  i = p # Recorre subarreglo de la parte izquierda\n",
        "  j = q + 1 # Recorre subarreglo de la parte derecha\n",
        "  B = [] # Se insertan los elementos ordenados\n",
        "\n",
        "  if verbose == True:\n",
        "    print(f\"Ordenando subarreglos {A[p:q+1]} y {A[q+1:r+1]} -> \", end='')\n",
        "\n",
        "  # La iteración termina cuando se insertan todos los elementos de un subarreglo\n",
        "  while i <= q and j <= r:\n",
        "    c += 1\n",
        "    if A[i] < A[j]:\n",
        "      B.append(A[i])\n",
        "      i += 1\n",
        "    else:\n",
        "      B.append(A[j])\n",
        "      j += 1\n",
        "\n",
        "  # Los elementos restantes del otro subarreglo se insertan directamente en B\n",
        "  if i > q:\n",
        "    c += r+1-j\n",
        "    B = B + A[j:r+1] \n",
        "  else:\n",
        "    c += q+1-i\n",
        "    B = B + A[i:q+1]\n",
        "\n",
        "  # Se copia el contenido de B en A[p..r]\n",
        "  A[p:r+1] = B\n",
        "\n",
        "  if verbose == True:\n",
        "    print(B)\n",
        "    print(\"Estado actual del arreglo: [\", end='')\n",
        "\n",
        "    if p != 0:\n",
        "      print(str(A[:p])[1:-1] + \", \", end='')\n",
        "    print(colored(f\"{str(A[p:r+1])[1:-1]}\", \"magenta\"), end='')\n",
        "\n",
        "    if r + 1 != len(A):\n",
        "      print(\", \" + str(A[r+1:])[1:-1], end='')\n",
        "    print(\"]\\n\")\n",
        "\n",
        "def merge_sort(A, p=0, r=None, verbose=False):\n",
        "  global k\n",
        "\n",
        "  if r == None:\n",
        "    r = len(A) - 1\n",
        "\n",
        "  if p == r: \n",
        "    return 0 # La secuencia tiene un solo elemento\n",
        "\n",
        "  q = int((p + r)/2) # Elemento medio del arreglo\n",
        "  if verbose == True:\n",
        "    if (r - p + 1) == len(A):\n",
        "      print(f\"Arreglo de entrada: {A}\\n\")\n",
        "\n",
        "    print(\"Dividiendo arreglo \", end='')\n",
        "    print(\"[\" + colored(f\"{str(A[p:q+1])[1:-1]}, \", \"red\"), end='')\n",
        "    print(colored(f\"{str(A[q+1:r+1])[1:-1]}\", \"blue\") + \"] \", end='')\n",
        "    print(\"en la posición q = \" + str(q) + \"\\n\")\n",
        "\n",
        "  merge_sort(A, p, q, verbose) # Ordena la parte izquierda del arreglo\n",
        "  merge_sort(A, q + 1, r, verbose) # Ordena la parte derecha del arreglo\n",
        "  merge(A, p, q, r, verbose) # Combina y ordena ambos subarreglos ordenados\n",
        "  k += 2 \n",
        "\n",
        "  if verbose == True:\n",
        "    if (r - p + 1) == len(A):\n",
        "      print(f\"Arreglo de salida: {A}\")\n",
        "  \n",
        "# Ejemplo\n",
        "A = [5,6,1,8,7,4]\n",
        "print(\"Entrada: \", A)\n",
        "cont = merge_sort(A)\n",
        "print(\"Salida: \", A)\n",
        "print(\"Comparaciones: \", c)\n",
        "print(\"Llamadas recursivas: \", k)"
      ]
    },
    {
      "cell_type": "markdown",
      "metadata": {
        "id": "uCIAmnHffTPh"
      },
      "source": [
        "## 2.2. Descripción del algoritmo\n",
        "\n",
        "El algoritmo recibe como entrada un arreglo con la secuencia de números que queremos ordenar. Luego, el algoritmo ordena los números de menor a mayor y finalmente retorna el arreglo resultante. Los pasos realizados por el algoritmo son los siguientes:\n",
        "\n",
        "1. Se divide el arreglo inicial por la mitad, luego, se repite este proceso de manera recursiva para cada subarreglo formado, hasta obtener pares de subarreglos con 1 solo elemento.\n",
        "\n",
        "2. Cada par de subarreglos se reagrupa de manera ordenada. Para ello, se compara el primer elemento de cada par, y el menor de ellos se inserta en un nuevo arreglo auxiliar. Luego, el elemento insertado es descartado del subarreglo de origen. Se repite este proceso hasta insertar todos los elementos de un subarreglo.\n",
        "\n",
        "3. Los elementos restantes de la otra secuencia, se copian directamente en el arreglo auxiliar.\n",
        "\n",
        "4. Se copia el contenido del arreglo auxiliar en el subarreglo padre."
      ]
    },
    {
      "cell_type": "markdown",
      "metadata": {
        "id": "tBQIweOsm3jZ"
      },
      "source": [
        "## 2.3. Ejemplo\n",
        "\n",
        "Consideremos, por ejemplo, el arreglo:\n",
        "\n",
        "$a=[5,1,4,8,2,6]$\n",
        "\n",
        "Para empezar, debemos dividir este arreglo por la mitad, y repetir este paso con cada subarreglo hasta formar conjuntos de 1 solo elemento.\n",
        "\n",
        "![picture](https://drive.google.com/uc?export=view&id=15yEpCCMyD3st5clyPoxc6snPbysvDlrQ)\n",
        "\n",
        "Luego, se reagrupará cada par de subarreglos de manera ordenada comenzando desde el nivel más bajo.\n",
        "\n",
        "![picture](https://drive.google.com/uc?export=view&id=1h1YkIgeU_v9C1z9rg2vq8noDYgJhxVNS)\n",
        "\n",
        "Una vez reagrupados todos los subarreglos, se forma un nuevo arreglo $a'=[1,2,4,5,6,8]$ con los mismos elementos que el arreglo de entrada, pero dispuestos en orden creciente.\n",
        "\n"
      ]
    },
    {
      "cell_type": "markdown",
      "metadata": {
        "id": "jhPqk51Mt1yd"
      },
      "source": [
        "## 2.4. Ejecución del algoritmo paso a paso (`verbose=True`)\n",
        "\n",
        "Usando la opción `verbose=True`, podemos ver lo que ocurre en cada iteración del algoritmo."
      ]
    },
    {
      "cell_type": "code",
      "execution_count": 11,
      "metadata": {
        "colab": {
          "base_uri": "https://localhost:8080/"
        },
        "id": "r24IQysvuHz1",
        "outputId": "ba1f4dfe-c813-4485-d9a4-11a5f08446cb"
      },
      "outputs": [
        {
          "output_type": "stream",
          "name": "stdout",
          "text": [
            "Arreglo de entrada: [95, 30, 60, 44, 16, 13]\n",
            "\n",
            "Dividiendo arreglo [\u001b[31m95, 30, 60, \u001b[0m\u001b[34m44, 16, 13\u001b[0m] en la posición q = 2\n",
            "\n",
            "Dividiendo arreglo [\u001b[31m95, 30, \u001b[0m\u001b[34m60\u001b[0m] en la posición q = 1\n",
            "\n",
            "Dividiendo arreglo [\u001b[31m95, \u001b[0m\u001b[34m30\u001b[0m] en la posición q = 0\n",
            "\n",
            "Ordenando subarreglos [95] y [30] -> [30, 95]\n",
            "Estado actual del arreglo: [\u001b[35m30, 95\u001b[0m, 60, 44, 16, 13]\n",
            "\n",
            "Ordenando subarreglos [30, 95] y [60] -> [30, 60, 95]\n",
            "Estado actual del arreglo: [\u001b[35m30, 60, 95\u001b[0m, 44, 16, 13]\n",
            "\n",
            "Dividiendo arreglo [\u001b[31m44, 16, \u001b[0m\u001b[34m13\u001b[0m] en la posición q = 4\n",
            "\n",
            "Dividiendo arreglo [\u001b[31m44, \u001b[0m\u001b[34m16\u001b[0m] en la posición q = 3\n",
            "\n",
            "Ordenando subarreglos [44] y [16] -> [16, 44]\n",
            "Estado actual del arreglo: [30, 60, 95, \u001b[35m16, 44\u001b[0m, 13]\n",
            "\n",
            "Ordenando subarreglos [16, 44] y [13] -> [13, 16, 44]\n",
            "Estado actual del arreglo: [30, 60, 95, \u001b[35m13, 16, 44\u001b[0m]\n",
            "\n",
            "Ordenando subarreglos [30, 60, 95] y [13, 16, 44] -> [13, 16, 30, 44, 60, 95]\n",
            "Estado actual del arreglo: [\u001b[35m13, 16, 30, 44, 60, 95\u001b[0m]\n",
            "\n",
            "Arreglo de salida: [13, 16, 30, 44, 60, 95]\n"
          ]
        }
      ],
      "source": [
        "import random\n",
        "A = random.sample(range(1, 100), 6)\n",
        "cont = merge_sort(A, verbose=True)"
      ]
    },
    {
      "cell_type": "markdown",
      "metadata": {
        "id": "JZwbastivEvl"
      },
      "source": [
        "# 3. Correctitud\n",
        "\n",
        "### **Teorema 1 (Correctitud de la función Merge).**\n",
        "\n",
        "*La función **Merge** genera un arreglo: $[a_1',a_2',...,a_n']$, que contiene los mismos elementos de cada subarreglo de entrada ordenados de menor a mayor, es decir,* $a_1'\\leq a_2' \\leq... \\leq a_n'$.\n",
        "\n",
        "## Prueba del Teorema\n",
        "\n",
        "Previamente observamos que la función Merge, en cada iteración, compara el primer elemento de cada subarreglo e inserta el menor de ellos en el arreglo de salida. A partir de esto, podemos formular la siguiente **propiedad invariante de bucle** para la función `Merge`:\n",
        "\n",
        "> Al comienzo de cada iteración $i$, el arreglo de salida contiene $i-1$ elementos ordenados menores a los elementos restantes de cada subarreglo. El primer elemento restante de cada subarreglo corresponde al menor de su respectivo conjunto.\n",
        "\n",
        "**Inicialización**\n",
        "\n",
        "Al comienzo de la primera iteración (i=1), el arreglo de salida contiene $i - 1 = 0$ elementos, puesto que no han ocurrido inserciones. Como cada arreglo de entrada se encuentra inicialmente ordenado, podemos afirmar que el menor elemento de cada uno de ellos se encuentra en la primera posición, por lo cual se cumple la propiedad. \n",
        "\n",
        "**Mantención**\n",
        "\n",
        "Para determinar si se mantiene la propiedad, asumiremos que en la iteración $i$, el siguiente elemento a insertar se encuentra al principio del primer subarreglo.\n",
        "\n",
        "Por lo tanto, al finalizar la iteración y al comienzo de la siguiente, el arreglo de salida tendrá $i$ elementos ordenados.\n",
        "\n",
        "Notemos que al descartar elementos en los subarreglos de entrada, el orden no se ve afectado, por lo cual el menor elemento, una vez eliminado el anterior, seguirá estando al principio. A partir de esto, podemos concluir que la invariante de bucle vuelve a cumplirse en la siguiente iteración.\n",
        "\n",
        "**Correctitud**\n",
        "\n",
        "Finalmente, como la propiedad de bucle invariante es verdadera al inicio del bucle y se mantiene en cada iteración, podemos decir que al **finalizar la n-ésima iteración del algoritmo**, se que genera un arreglo $[a_1',a_2',...,a_n']$, con los mismos elementos de cada subarreglo de entrada ordenados de menor a mayor. $\\Box$\n"
      ]
    },
    {
      "cell_type": "markdown",
      "source": [
        "### **Teorema 2 (Correctitud del algoritmo MergeSort).**\n",
        "\n",
        "*El algoritmo **MergeSort** genera un arreglo: $[a_1',a_2',...,a_n']$, con los mismos elementos del arreglo de entrada ordenados de menor a mayor, es decir,* $a_1'\\leq a_2' \\leq... \\leq a_n'$.\n",
        "\n",
        "## Prueba del Teorema\n",
        "\n",
        "Debido a la naturaleza recursiva de este algoritmo, usaremos inducción matemática para demostrar su correctitud. Para ello, consideraremos la hipótesis $P(n)$ como el teorema antes descrito.\n",
        "\n",
        "**Caso base**\n",
        "\n",
        "Para un tamaño de problema $n = 1$, la función retorna un único elemento trivialmente ordenado, por lo cual se cumple $P(1)$.\n",
        "\n",
        "**Paso inductivo**\n",
        "\n",
        "Para $n > 1$, el algoritmo divide el arreglo en dos subarreglos de tamaño $m = \\frac{n}{2}$. Estos subarreglos son ordenados y combinados a partir de la función `merge`, la cual asumiremos que es correcta basándonos en las demostraciones anteriores. Como la hipótesis $P(m)$ es cierta para $m < n$, entonces también lo será para $P(n)$.$\\Box$"
      ],
      "metadata": {
        "id": "xmpCc9fUfWsX"
      }
    },
    {
      "cell_type": "markdown",
      "metadata": {
        "id": "Wj-XpRcq_4fe"
      },
      "source": [
        "# 4. Tiempo de ejecución\n",
        "\n",
        "### **Teorema 3 (Tiempo de ejecución).**\n",
        "\n",
        "*El algoritmo **MergeSort** tiene un **tiempo de ejecución de** $O(n\\;log(n))$ en el peor caso.*\n",
        "\n",
        "## Prueba del teorema\n",
        "\n",
        "Para demostrar la complejidad del algoritmo MergeSort, utilizaremos un árbol de recursión. Para ello, primero debemos encontrar su función de recurrencia. En general, existen dos casos:\n",
        "\n",
        "*   Para un tamaño de problema $n = 1$, el tiempo de ejecución $T(N)$ del algoritmo será constante, es decir, $T(N) = O(1)$\n",
        "*   Para $n > 1$, el algoritmo dividirá el arreglo original en dos subarreglos de tamaño $n/2$. El tiempo que tardará el algoritmo en ordenar ambos subarreglos será $2T(N/2)$. Luego, la función merge se encargará de combinar ambas secuencias ordenadas en un único arreglo, en un tiempo de ejecución $C(n) = O(n)$. Por último, el tiempo que tarda el algoritmo en dividir el arreglo es constante, por lo tanto $D(n) = O(1)$. \n",
        "\n",
        "En consecuencia, la función de recurrencia queda expresada de la siguiente manera:\n",
        "\n",
        "$T(n) =\n",
        "     \\begin{cases}\n",
        "       \\text{$O(1)$} &\\quad\\text{$n = 1$}\\\\\n",
        "       \\text{$2T(n/2) + O(n)$} &\\quad\\text{$n > 1$} \\\\ \n",
        "     \\end{cases}\n",
        "$\n",
        "\n",
        "Luego, reemplazamos las complejidades $O(1)$ por una constante $c$ y las complejidades $O(n)$ por el termino $c \\cdot n$.\n",
        "\n",
        "$T(n) =\n",
        "     \\begin{cases}\n",
        "       \\text{$c$} &\\quad\\text{$n = 1$}\\\\\n",
        "       \\text{$2T(n/2) + c \\cdot n$} &\\quad\\text{$n > 1$} \\\\ \n",
        "     \\end{cases}\n",
        "$\n",
        "\n",
        "A partir de esta nueva función, podemos crear el siguiente árbol de recurrencia:\n",
        "\n",
        "![picture](https://drive.google.com/uc?export=view&id=16YMmJrb0BO2pRkgPs-3EiPWinm65ASi0)\n",
        "\n",
        "Notemos que cada nodo del árbol corresponde al coste de tiempo del algoritmo en procesar cada subarreglo. Luego, al expandir el árbol por completo, hasta $n = 1$, se tiene lo siguiente:\n",
        "\n",
        "![picture](https://drive.google.com/uc?export=view&id=1NMn8k_i71uTJgl5NFqm-VPCpaJ-NY3rL)\n",
        "\n",
        "Al sumar el tiempo de ejecución por cada nivel del árbol, siempre se obtendrá el resultado $cn$.\n",
        "\n",
        "Por otro lado, la altura del árbol se calcula como $\\log_{2} n$.\n",
        "\n",
        "Al multiplicar ambos factores, obtenemos el resultado $cn \\log_{2} n$, que representa el tiempo de ejecución total del algoritmo. La complejidad de esta función puede expresarse como $O(n\\;log(n))$, que corresponde a la complejidad temporal de MergeSort.\n"
      ]
    },
    {
      "cell_type": "markdown",
      "metadata": {
        "id": "IP92BKaAS2IS"
      },
      "source": [
        "# 5. Experimentos\n",
        "\n",
        "## 5.1. Número de comparaciones\n",
        "\n",
        "A continuación se muestra gráficamente una comparación entre:\n",
        "\n",
        "* Cantidad de comparaciones del peor y del mejor caso calculadas matemáticamente.\n",
        "* Cantidad de comparaciones realizadas experimentalmente para entradas aleatorias con $n \\in [5,19]$.\n",
        "\n",
        "Los arreglos de entrada son generados aleatoriamente con valores numéricos en el rango de 1 a 100."
      ]
    },
    {
      "cell_type": "code",
      "execution_count": 13,
      "metadata": {
        "colab": {
          "base_uri": "https://localhost:8080/",
          "height": 279
        },
        "id": "JO3XXDUkUElb",
        "outputId": "64eb93ed-6f8e-4feb-e664-09b26a9a0df2"
      },
      "outputs": [
        {
          "output_type": "display_data",
          "data": {
            "text/plain": [
              "<Figure size 432x288 with 1 Axes>"
            ],
            "image/png": "[encoded data removed]"
          },
          "metadata": {
            "needs_background": "light"
          }
        }
      ],
      "source": [
        "import matplotlib.pyplot as plt\n",
        "import random\n",
        "import math\n",
        "\n",
        "x = [n for n in range(5,20)] \n",
        "y1 = [n * math.log2(n) for n in range(5,20)] # Peor caso\n",
        "y2 = y1 # Mejor caso\n",
        "y = []; \n",
        "\n",
        "for n in range(5,20):\n",
        "    c = 0\n",
        "    A = random.sample(range(1, 101), n)\n",
        "    merge_sort(A)\n",
        "    y.append(c)\n",
        "\n",
        "plt.plot(x,y)\n",
        "plt.plot(x,y1)\n",
        "plt.plot(x,y2)\n",
        "plt.legend([\"Caso promedio\", \"Peor caso teórico\", \"Mejor caso teórico\"])\n",
        "\n",
        "plt.xlabel('n')\n",
        "plt.ylabel('Cantidad de operaciones')\n",
        "plt.show()"
      ]
    },
    {
      "cell_type": "markdown",
      "source": [
        "### Análisis de resultados\n",
        "\n",
        "Podemos observar que la curva de comparaciones del caso promedio es similar a la curva del peor y del mejor caso. Sin embargo, existen pequeñas diferencias en algunos valores. Esto se debe a que las divisiones de los arreglos realizadas por el algoritmo podrían no ser exactas, lo cual afectaría mínimamente el número de comparaciones final. Por ejemplo, para $n = 3$, teóricamente el arreglo debería dividirse en dos subarreglos de tamaño $n = \\frac{3}{2}.$ Sabemos que esto no es posible, por lo cual el número exacto de comparaciones del algoritmo solo coincidirá con la función $n\\;log(n)$ cuando $n$ es una potencia de 2."
      ],
      "metadata": {
        "id": "JKpjxG6gFz8K"
      }
    },
    {
      "cell_type": "markdown",
      "metadata": {
        "id": "9AgIqXvq1OGs"
      },
      "source": [
        "## 5.2 Comparación con InsertionSort\n",
        "\n",
        "En primer lugar, definiremos una nueva función para ordenar los datos mediante el algoritmo InsertionSort."
      ]
    },
    {
      "cell_type": "code",
      "execution_count": 18,
      "metadata": {
        "id": "dvVviT9l2buH"
      },
      "outputs": [],
      "source": [
        "def insertion_sort(A, verbose=False):\n",
        "    n = len(A)\n",
        "    t = 0 # Contador de comparaciones\n",
        "\n",
        "    for i in range(1, n):\n",
        "        j = i # Variable auxiliar usada para recorrer el arreglo hacia atrás\n",
        "        t += 1 # Se realiza la primera comparación\n",
        "        \n",
        "        # Si el elemento es menor al anterior se intercambian\n",
        "        while A[j] < A[j - 1]:\n",
        "            A[j], A[j - 1] = A[j - 1], A[j]\n",
        "            j -= 1\n",
        "\n",
        "            if j == 0: break\n",
        "\n",
        "            t += 1 # Luego del intercambio debe realizarse una nueva comparación\n",
        "\n",
        "    return A, t"
      ]
    },
    {
      "cell_type": "markdown",
      "metadata": {
        "id": "D5IodCe33jEd"
      },
      "source": [
        "A continuación, se muestra la comparación del tiempo de ejecución de ambos algoritmos al utilizar como entrada arreglos generados de forma aleatoria, con $n \\in [5,500]$ y valores en el rango de 1 a 1000."
      ]
    },
    {
      "cell_type": "code",
      "execution_count": 16,
      "metadata": {
        "colab": {
          "base_uri": "https://localhost:8080/",
          "height": 279
        },
        "id": "IkDHzRPU49Bb",
        "outputId": "8eb99ef7-b93e-48ee-8e74-5833c20428d7"
      },
      "outputs": [
        {
          "output_type": "display_data",
          "data": {
            "text/plain": [
              "<Figure size 432x288 with 1 Axes>"
            ],
            "image/png": "[encoded data removed]"
          },
          "metadata": {
            "needs_background": "light"
          }
        }
      ],
      "source": [
        "import matplotlib.pyplot as plt\n",
        "import datetime\n",
        "from timeit import repeat\n",
        "\n",
        "x=[]; y1=[]; y2=[];\n",
        "\n",
        "for n in range(5,501):\n",
        "\n",
        "    A = random.sample(range(1, 1001), n)\n",
        "\n",
        "    # La función repeat ejecuta 20 veces el algoritmo con el arreglo A y retorna el mejor tiempo obtenido.\n",
        "    t_merge = repeat(setup=\"from __main__ import merge_sort\", stmt=f\"merge_sort({A})\", repeat=1, number=10)\n",
        "    t_insert = repeat(setup=\"from __main__ import insertion_sort\", stmt=f\"insertion_sort({A})\", repeat=1, number=10)\n",
        "\n",
        "    x.append(n)\n",
        "    y1.append(t_merge)\n",
        "    y2.append(t_insert)\n",
        "\n",
        "plt.plot(x,y1)\n",
        "plt.plot(x,y2)\n",
        "plt.legend([\"MergeSort\", \"InsertionSort\"])\n",
        "\n",
        "plt.xlabel('n')\n",
        "plt.ylabel('Tiempo en ms')\n",
        "plt.show()"
      ]
    },
    {
      "cell_type": "markdown",
      "metadata": {
        "id": "1O4s3qkIAlKk"
      },
      "source": [
        "### Análisis de resultados\n",
        "\n",
        "Como se puede apreciar, el tiempo de ejecución de InsertionSort aumenta en forma cuadrática en relación al tamaño del problema, lo cual coincide con la complejidad temporal de este algoritmo, la cual es $O(n^2)$. Del mismo modo, la curva de tiempo de MergeSort crece en relación a su complejidad, la cual es $O(n\\;log(n))$.\n",
        "\n",
        "En base a esto, podemos observar que para tamaños grandes de $n$, el algoritmo MergeSort resuelve el problema de ordenamiento con una eficiencia significativamente mayor a la de InsertionSort. \n",
        "\n"
      ]
    }
  ],
  "metadata": {
    "colab": {
      "collapsed_sections": [],
      "name": "Informe2-MergeSort",
      "provenance": [],
      "authorship_tag": "ABX9TyP1nkbT2YuW2B3bYWEcmc1F",
      "include_colab_link": true
    },
    "kernelspec": {
      "display_name": "Python 3",
      "name": "python3"
    },
    "language_info": {
      "name": "python"
    }
  },
  "nbformat": 4,
  "nbformat_minor": 0
}