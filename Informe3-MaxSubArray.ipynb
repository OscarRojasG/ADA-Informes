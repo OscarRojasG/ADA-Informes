{
  "cells": [
    {
      "cell_type": "markdown",
      "metadata": {
        "id": "view-in-github",
        "colab_type": "text"
      },
      "source": [
        "<a href=\"https://colab.research.google.com/github/OscarRojasG/ADA-Informes/blob/main/Informe3-MaxSubArray.ipynb\" target=\"_parent\"><img src=\"https://colab.research.google.com/assets/colab-badge.svg\" alt=\"Open In Colab\"/></a>"
      ]
    },
    {
      "cell_type": "markdown",
      "metadata": {
        "id": "deOsebM06Bt0"
      },
      "source": [
        "# 1. Problema: Sub-arreglo máximo\n",
        "\n",
        "**Entrada**: Arreglo de tamaño n con valores numéricos $[a_1,a_2,...,a_n]$\n",
        "\n",
        "**Salida**: Sub-arreglo de la forma: $[a_i,a_{i+1},...,a_j]$, tal que\n",
        "$\\sum\\limits_{k=i}^j a_k \\geq \\sum\\limits_{k=i'}^{j'} a_k$ para cualquier par $(i',j')$, con $i \\leq j \\leq n$\n",
        "\n",
        "Supongamos que somos trabajadores de una empresa, y queremos analizar durante qué periodo se produjo el máximo crecimiento a lo largo de un mes. Para ello, disponemos de un gráfico con los ingresos obtenidos por día durante ese tiempo. ¿Cómo podemos determinar en qué instante se produjo el mayor aumento de ingresos?\n",
        "\n",
        "Una posible idea, sería calcular la variación de ingresos por día respecto al anterior, para así obtener una tasa de cambio. Luego, lo que queremos es maximizar esta variación para encontrar el periodo de mayor crecimiento. Consideremos que cada uno de estos valores estará guardado en un arreglo, donde cada casilla corresponderá a un día del mes. Para obtener la máxima variación neta, necesitamos encontrar un sub-arreglo de modo que al sumar sus elementos, obtengamos el mayor resultado posible. Es aquí donde cobra importancia el **problema del sub-arreglo máximo**.\n",
        "\n",
        "Existen múltiples formas de resolver este problema, sin embargo, en este informe nos enfocaremos principalmente en su solución recursiva, puesto que es una de las más eficientes que existen.\n",
        "\n",
        "Cabe destacar que este problema tiene numerosas aplicaciones, que van desde la Inteligencia Artificial, como por ejemplo, detectar el área con mayor brillo de una imagen, hasta la bioinformática, en el análisis de secuencias de proteínas.\n",
        "\n",
        "\n"
      ]
    },
    {
      "cell_type": "markdown",
      "metadata": {
        "id": "ShNc87InQrV1"
      },
      "source": [
        "# 2. Descripción del algoritmo"
      ]
    },
    {
      "cell_type": "markdown",
      "metadata": {
        "id": "qCFujGBVe7Lg"
      },
      "source": [
        "## 2.1 Código\n",
        "\n",
        "El siguiente código muestra una implementación recursiva para resolver el problema del **sub-arreglo máximo**:"
      ]
    },
    {
      "cell_type": "code",
      "execution_count": 2,
      "metadata": {
        "id": "f77TEBCkQ4pP",
        "colab": {
          "base_uri": "https://localhost:8080/"
        },
        "outputId": "a1197a0f-04f8-48f5-d428-f54b8dd672c5"
      },
      "outputs": [
        {
          "output_type": "stream",
          "name": "stdout",
          "text": [
            "Entrada:  [7, -8, 4, -2, 8, -15]\n",
            "Sub-arreglo máximo:  [4, -2, 8]\n"
          ]
        }
      ],
      "source": [
        "from termcolor import colored\n",
        "\n",
        "def maxSubArrayMid(A, low, mid, high):\n",
        "  sum = 0\n",
        "  left_sum = A[mid]\n",
        "  max_left = mid\n",
        "\n",
        "  for i in range(mid,low-1,-1):\n",
        "    sum += A[i]\n",
        "    if sum > left_sum:\n",
        "      left_sum, max_left = sum, i\n",
        "\n",
        "  sum = 0\n",
        "  right_sum = A[mid+1]\n",
        "  max_right = mid+1\n",
        "\n",
        "  for j in range(mid+1,high+1):\n",
        "    sum += A[j]\n",
        "    if sum > right_sum:\n",
        "      right_sum, max_right = sum, j\n",
        "\n",
        "  return max_left, max_right, left_sum + right_sum\n",
        "\n",
        "def maxSubArray(A, low=0, high=None, verbose=False):\n",
        "  if high == None:\n",
        "    high = len(A)-1\n",
        "  \n",
        "  if low == high: # Arreglo contiene un solo elemento\n",
        "    return low, high, A[low]\n",
        "\n",
        "  mid = int((low+high)/2) # Mitad del arreglo\n",
        "\n",
        "  if verbose == True:\n",
        "    if (high - low + 1) == len(A):\n",
        "      print(f\"Entrada: {A}\\n\")\n",
        "\n",
        "    print(\"Dividiendo arreglo \", end='')\n",
        "    print(\"[\" + colored(f\"{str(A[low:mid+1])[1:-1]}, \", \"red\"), end='')\n",
        "    print(colored(f\"{str(A[mid+1:high+1])[1:-1]}\", \"blue\") + \"] \", end='')\n",
        "    print(\"en la posición mid = \" + str(mid) + \"\\n\")\n",
        "\n",
        "  left_low, left_high, left_sum = maxSubArray(A,low,mid,verbose) # Suma máxima en el sub-arreglo izquierdo\n",
        "  right_low, right_high, right_sum = maxSubArray(A,mid+1,high,verbose) # Suma máxima en el sub-arreglo derecho\n",
        "  mid_low, mid_high, mid_sum = maxSubArrayMid(A,low,mid,high)\n",
        "\n",
        "  if verbose == True:\n",
        "    print(f\"Comparando sub-arreglos: \", end='')\n",
        "    print(f\"Left = {A[left_low:left_high+1]} ({colored(str(left_sum), 'magenta')}) - \", end='')\n",
        "    print(f\"Right = {A[right_low:right_high+1]} ({colored(str(right_sum), 'magenta')}) - \", end='');\n",
        "    print(f\"Mid = {A[mid_low:mid_high+1]} ({colored(str(mid_sum), 'magenta')})\");\n",
        "\n",
        "  if left_sum > right_sum and left_sum > mid_sum:\n",
        "    if verbose == True: print(f\"Sub-arreglo máximo: Left = {A[left_low:left_high+1]}\\n\")\n",
        "    return left_low, left_high, left_sum\n",
        "\n",
        "  if right_sum > left_sum and right_sum > mid_sum:\n",
        "    if verbose == True: print(f\"Sub-arreglo máximo: Right = {A[right_low:right_high+1]}\\n\")\n",
        "    return right_low, right_high, right_sum\n",
        "\n",
        "  if verbose == True: print(f\"Sub-arreglo máximo: Mid = {A[mid_low:mid_high+1]}\\n\")\n",
        "  return mid_low, mid_high, mid_sum\n",
        "\n",
        "# Ejemplo\n",
        "A = [7,-8,4,-2,8,-15]\n",
        "print(\"Entrada: \", A)\n",
        "\n",
        "i, j, sum = maxSubArray(A)\n",
        "print(\"Sub-arreglo máximo: \", A[i:j+1])"
      ]
    },
    {
      "cell_type": "markdown",
      "metadata": {
        "id": "uCIAmnHffTPh"
      },
      "source": [
        "## 2.2. Descripción del algoritmo\n",
        "\n",
        "La entrada consiste en un arreglo de tamaño $n$ con números reales. El algoritmo busca y retorna los índices del subarreglo tal que la suma de sus elementos sea la máxima posible. Los pasos realizados por el algoritmo son los siguientes:\n",
        "\n",
        "1. Se divide el arreglo inicial por la mitad y se busca recursivamente el sub-arreglo que maximice la suma de los elementos de cada mitad.\n",
        "\n",
        "2. Luego, la función `maxSubArrayMid` busca un sub-arreglo que maximice la suma de elementos cruzados, es decir, considerando un sub-arreglo que contenga elementos continuos de ambas mitades.\n",
        "\n",
        "3. Se retornan los índices inicial y final del sub-arreglo máximo y la suma de sus elementos.\n",
        "\n",
        "Los pasos realizados por la función `maxSubArrayMid` son los siguientes:\n",
        "\n",
        "1. Se busca un sub-arreglo que maximice la suma en la parte izquierda del arreglo, iterando desde $i = mid$ hasta $i = low$. La variable `sum` guardará la suma acumulada de todos los elementos recorridos, la variable `left_sum` guardará la suma máxima, y la variable `max_left` guardará el índice que maximiza la suma.\n",
        "\n",
        "2. Se repite el mismo paso para la parte derecha del arreglo, iterando desde $j = mid + 1$ hasta $j = high$. La variable `sum` guardará la suma acumulada de todos los elementos recorridos, la variable `right_sum` guardará la suma máxima, y la variable `max_right` guardará el índice que maximiza la suma.\n",
        "\n",
        "3. Se retornan los índices `max_left` y `max_right`, que corresponden a los índices inicial y final del sub-arreglo máximo que pasa por el punto de división. En tercer lugar se retorna la suma total de sus elementos, que es igual a `left_sum + right_sum`. \n",
        "\n"
      ]
    },
    {
      "cell_type": "markdown",
      "metadata": {
        "id": "tBQIweOsm3jZ"
      },
      "source": [
        "## 2.3. Ejemplo\n",
        "\n",
        "El siguiente ejemplo muestra una representación gráfica de los pasos realizados por el algoritmo para encontrar el sub-arreglo máximo:\n",
        "\n",
        "![picture](https://drive.google.com/uc?export=view&id=1UiSxTRfouL54RScGWeBQLPwE359UF2gJ)\n",
        "\n",
        "Recordemos que el algoritmo **MaxSubArray** compara 3 subarreglos por cada llamada a la función. Por ejemplo, observemos que en el penúltimo nivel del árbol, se comparan los arreglos $A_{left}$, $A_{right}$ y$A_{mid}$ del arreglo inicial, puesto que este nivel representa en realidad la primera llamada a la función.\n",
        "\n",
        "Observemos que los sub-arreglos $A_{left} = [6,2,7]$, $A_{right} = [5]$ corresponden a los sub-arreglos máximos del arreglo inicial $A = [-4,6,2,7,-8,5,-1]$, donde $A[mid] = A[3] = 7$ y $A[mid+1] = A[4] = -8$. Considerando que $A_{mid}$ debe contener estos dos elementos, podemos obtener intuitivamente el sub-arreglo máximo que pasa por el punto de división, el cual es $A_{mid} = [6,2,7,-8,5]$.\n",
        "\n",
        "Luego, debemos comparar la suma de cada sub-arreglo obtenido. En este caso, obtenemos los valores $S_{left} = 15$, $S_{right} = 5$ y $S_{mid} = 12$. Como se cumple que $S_{left} > S_{mid} > S_{right}$, el arreglo retornado por la función será $A_{max} = A_{left}$."
      ]
    },
    {
      "cell_type": "markdown",
      "metadata": {
        "id": "jhPqk51Mt1yd"
      },
      "source": [
        "## 2.4. Ejecución del algoritmo paso a paso (`verbose=True`)\n",
        "\n",
        "Usando la opción `verbose=True`, podemos ver lo que ocurre en cada paso del algoritmo."
      ]
    },
    {
      "cell_type": "code",
      "execution_count": 4,
      "metadata": {
        "colab": {
          "base_uri": "https://localhost:8080/"
        },
        "id": "r24IQysvuHz1",
        "outputId": "283a231a-1808-4971-d5fe-05c647eae304"
      },
      "outputs": [
        {
          "output_type": "stream",
          "name": "stdout",
          "text": [
            "Entrada: [-1, 11, -16, 14, 1, -5]\n",
            "\n",
            "Dividiendo arreglo [\u001b[31m-1, 11, -16, \u001b[0m\u001b[34m14, 1, -5\u001b[0m] en la posición mid = 2\n",
            "\n",
            "Dividiendo arreglo [\u001b[31m-1, 11, \u001b[0m\u001b[34m-16\u001b[0m] en la posición mid = 1\n",
            "\n",
            "Dividiendo arreglo [\u001b[31m-1, \u001b[0m\u001b[34m11\u001b[0m] en la posición mid = 0\n",
            "\n",
            "Comparando sub-arreglos: Left = [-1] (\u001b[35m-1\u001b[0m) - Right = [11] (\u001b[35m11\u001b[0m) - Mid = [-1, 11] (\u001b[35m10\u001b[0m)\n",
            "Sub-arreglo máximo: Right = [11]\n",
            "\n",
            "Comparando sub-arreglos: Left = [11] (\u001b[35m11\u001b[0m) - Right = [-16] (\u001b[35m-16\u001b[0m) - Mid = [11, -16] (\u001b[35m-5\u001b[0m)\n",
            "Sub-arreglo máximo: Left = [11]\n",
            "\n",
            "Dividiendo arreglo [\u001b[31m14, 1, \u001b[0m\u001b[34m-5\u001b[0m] en la posición mid = 4\n",
            "\n",
            "Dividiendo arreglo [\u001b[31m14, \u001b[0m\u001b[34m1\u001b[0m] en la posición mid = 3\n",
            "\n",
            "Comparando sub-arreglos: Left = [14] (\u001b[35m14\u001b[0m) - Right = [1] (\u001b[35m1\u001b[0m) - Mid = [14, 1] (\u001b[35m15\u001b[0m)\n",
            "Sub-arreglo máximo: Mid = [14, 1]\n",
            "\n",
            "Comparando sub-arreglos: Left = [14, 1] (\u001b[35m15\u001b[0m) - Right = [-5] (\u001b[35m-5\u001b[0m) - Mid = [14, 1, -5] (\u001b[35m10\u001b[0m)\n",
            "Sub-arreglo máximo: Left = [14, 1]\n",
            "\n",
            "Comparando sub-arreglos: Left = [11] (\u001b[35m11\u001b[0m) - Right = [14, 1] (\u001b[35m15\u001b[0m) - Mid = [11, -16, 14, 1] (\u001b[35m10\u001b[0m)\n",
            "Sub-arreglo máximo: Right = [14, 1]\n",
            "\n",
            "Salida:  [14, 1]\n"
          ]
        }
      ],
      "source": [
        "import random\n",
        "A = random.sample(range(-20, 21), 6)\n",
        "i, j, sum = maxSubArray(A, verbose=True)\n",
        "print(\"Salida:\", A[i:j+1])"
      ]
    },
    {
      "cell_type": "markdown",
      "metadata": {
        "id": "JZwbastivEvl"
      },
      "source": [
        "# 3. Correctitud\n",
        "\n",
        "### **Teorema 1 (Correctitud de la función MaxSubArrayMid).**\n",
        "\n",
        "*La función **MaxSubArrayMid** retorna el sub-arreglo máximo del arreglo de entrada que contiene las posiciones $mid$ y $mid+1$.*\n",
        "\n",
        "## Prueba del Teorema\n",
        "\n",
        "Puesto que la función `maxSubArrayMid` utiliza un bucle distinto para iterar cada mitad del arreglo, demostraremos el teorema utilizando una **propiedad invariante** para cada ciclo.\n",
        "\n",
        "Para la iteración de la mitad izquierda del arreglo, se cumple la siguiente propiedad:\n",
        "\n",
        "> Al comienzo de cada iteración $i$, se cumple que `A[max_left...mid]` es el sub-arreglo máximo contenido dentro de `A[mid-i...mid]` y que contiene el elemento `A[mid]`. Además, `left_sum` corresponde a la suma de sus elementos.\n",
        "\n",
        "Así mismo, para la mitad derecha del arreglo, la propiedad invariante es la siguiente:\n",
        "\n",
        "> Al comienzo de cada iteración $j$, se cumple que `A[mid+1...max_right]` es el sub-arreglo máximo contenido dentro de `A[mid+1...mid+1+j]` y que contiene el elemento `A[mid+1]`. Además, `right_sum` corresponde a la suma de sus elementos.\n",
        "\n",
        "Debido a que el procedimiento realizado por cada bucle es distinto, pero ambos utilizan un algoritmo similar, nos enfocaremos en demostrar la propiedad invariante de bucle para la mitad izquierda del arreglo.\n",
        "\n",
        "\n",
        "**Inicialización**\n",
        "\n",
        "En la iteración $i = 0$, la variable `max_left` fue previamente inicializada con el valor de `mid`, por lo cual `A[max_left...mid] = A[mid...mid]` es el sub-arreglo máximo contenido dentro de `A[mid-i...mid] = A[mid...mid]`. Esto es trivialmente cierto, ya que el sub-arreglo máximo de un arreglo que contiene un único elemento, será el mismo arreglo. Además, `left_sum` fue inicializada con el valor de `A[mid]`, que es el único valor del arreglo, y por lo tanto, es igual a la suma máxima. \n",
        "\n",
        "**Mantención**\n",
        "\n",
        "Para determinar si la propiedad se mantiene, demostraremos que se cumple para cualquier iteración $i$ aplicando inducción.\n",
        "\n",
        "Asumamos que la propiedad es correcta para la iteración $i-1$. En la siguiente iteración, la variable `sum` guardará la suma total de los elementos del arreglo `A[mid-i...mid]`. Luego, existen dos posibles casos:\n",
        "\n",
        "1. La suma total del arreglo es mayor que la suma máxima: `sum > left_sum`. Como se ha encontrado un sub-arreglo cuya suma es mayor, `left_sum` toma el valor de `sum` y `max_left` toma el valor de `mid-i`, puesto que se ha encontrado un nuevo sub-arreglo `A[max_left...mid]` que maximiza la suma. \n",
        "\n",
        "2. La suma total del arreglo es menor o igual que la suma máxima: `sum <= left_sum`. En este caso, las variables `left_sum` y `max_left` no se actualizan, manteniendo los valores de la última iteración. Sabemos por la hipótesis inductiva que la propiedad es correcta para la iteración anterior, por lo cual los valores de `left_sum` y `max_left` también son correctos.\n",
        "\n",
        "**Correctitud**\n",
        "\n",
        "Finalmente, como la propiedad ambos bucles es verdadera al inicio y se mantiene en cada iteración, podemos decir que al **finalizar el algoritmo**, se generan dos sub-arreglos $A_{left} = [a_{max_{left}},...,a_{mid-1},a_{mid}]$ y $A_{right} = [a_{mid+1},a_{mid+2},...,a_{max_{right}}]$ que corresponden a los sub-arreglos máximos de cada mitad del arreglo. Luego, al combinar ambas secuencias, obtenemos un nuevo arreglo $A_{mid} = [a_{max_{left}},...,a_{max_{right}}]$ que corresponde al sub-arreglo máximo que pasa por el punto de división del arreglo de entrada. $\\Box$"
      ]
    },
    {
      "cell_type": "markdown",
      "source": [
        "### **Teorema 2 (Correctitud del algoritmo MaxSubArray).**\n",
        "\n",
        "*El algoritmo **MaxSubArray** retorna el sub-arreglo máximo a partir de un arreglo de tamaño $n$.*\n",
        "\n",
        "## Prueba del Teorema\n",
        "\n",
        "Demostraremos la correctitud del algoritmo usando inducción. Asumiremos que el algoritmo MaxSubArray es correcto para cualquier arreglo de tamaño $n \\geq 1$.\n",
        "\n",
        "**Caso base**\n",
        "\n",
        "Para $n = 1$, dado que estamos buscando la suma máxima en un arreglo de un solo elemento, el algoritmo retornará el mismo elemento, dado que cumple trivialmente la propiedad.\n",
        "\n",
        "**Paso inductivo**\n",
        "\n",
        "Para $n > 1$, el algoritmo llama a la función `maxSubArray` de manera recursiva para ambas mitades del arreglo, cada una de tamaño $n/2$. Sabemos que, por la hipótesis inductiva, la función retorna correctamente el sub-arreglo máximo de cada mitad. Llamaremos $S_{left}$ y $S_{right}$ a la suma de los sub-arreglos retornados para la mitad izquierda y derecha respectivamente.\n",
        "\n",
        "Luego, se llama a la función `maxSubArrayMid` para buscar el sub-arreglo máximo que contenga el punto de división. En base a la demostración del Teorema 1, asumiremos que la función encuentra y retorna correctamente el sub-arreglo con la suma máxima de elementos cruzados. Llamaremos $S_{mid}$ a la suma de este sub-arreglo.\n",
        "\n",
        "En consecuencia, existen 3 posibles casos para el sub-arreglo máximo, cuya suma denotaremos por $S_{max}$:\n",
        "\n",
        "1. El sub-arreglo máximo se encuentra en la mitad izquierda del arreglo. En este caso, $S_{left} = S_{max}$, dado que si $S_{left} > S_{max}$, estaríamos contradiciendo que $S_{max}$ sea el sub-arreglo máximo. Si $S_{left} < S_{max}$, entonces la función `maxSubArray` sería incorrecta, puesto que sabemos que el $S_{max}$ se encuentra en la parte izquierda del arreglo. Luego, sabemos que $S_{left} = S_{max}$ corresponde al sub-arreglo máximo, por consiguiente se cumple que $S_{left} \\geq S_{right}, S_{mid}$, demostrando así la correctitud de este caso.\n",
        "\n",
        "2. El sub-arreglo máximo se encuentra en la mitad derecha del arreglo. Este caso es simétricamente opuesto al primero, por lo cual se omitirá su explicación.\n",
        "\n",
        "3. El sub-arreglo máximo pasa por la mitad del arreglo. En este caso, tenemos que $S_{mid} = S_{max}$, dado que si $S_{mid} > S_{max}$, estaríamos contradiciendo la definición de $S_{max}$. En caso contrario, si $S_{mid} < S_{max}$, la función `maxSubArrayMid` sería incorrecta, ya que existe un sub-arreglo mayor al retornado por la función. Luego, sabemos que $S_{mid} = S_{max}$ corresponde al sub-arreglo máximo, por lo tanto se cumple que $S_{mid} \\geq S_{left}, S_{right}$. En consecuencia, queda demostrada la correctitud de este caso.\n",
        "\n",
        "Como en todos los casos el algoritmo `maxSubArray` retorna correctamente el sub-arreglo máximo para un arreglo de tamaño $n$, por inducción tenemos que para $n \\geq 1$, seguirá cumpliéndose la correctitud del algoritmo.$\\Box$"
      ],
      "metadata": {
        "id": "xmpCc9fUfWsX"
      }
    },
    {
      "cell_type": "markdown",
      "metadata": {
        "id": "Wj-XpRcq_4fe"
      },
      "source": [
        "# 4. Tiempo de ejecución\n",
        "\n",
        "### **Teorema 3 (Tiempo de ejecución).**\n",
        "\n",
        "*El algoritmo **MaxSubArray** tiene un **tiempo de ejecución de** $O(n\\;log(n))$ en el peor y mejor caso.*\n",
        "\n",
        "## Prueba del teorema\n",
        "\n",
        "En primer lugar, demostraremos que el tiempo de ejecución del algoritmo solo depende del tamaño del arreglo, y no del orden de sus elementos, es decir, el peor caso es igual al mejor caso.\n",
        "\n",
        "Observemos que la función `maxSubArray` divide el arreglo de entrada considerando únicamente los índices `low` y `high`, por lo cual, en ningún caso el orden de los elementos es un factor relevante que influya en la cantidad de llamadas recursivas de la función.\n",
        "\n",
        "Luego, la función `maxSubArrayMid` busca el sub-arreglo máximo que pasa por el punto de división. Para ello, se recorre el arreglo de entrada desde los índices `mid` hasta `low` y luego desde `mid+1` hasta `high`, guardando en variables auxiliares los índices inicial y final del sub-arreglo máximo encontrado en la iteración $i$ y $j$ respectivamente. Como se puede ver, no es posible determinar cuál es el sub-arreglo máximo sin antes haber recorrido todos los elementos del arreglo, por esta razón, el orden de los elementos del arreglo no influye en el número de iteraciones de la función.\n",
        "\n",
        "Ahora que se ha demostrado que solo existe un único caso para este algoritmo, nos enfocaremos en demostrar su complejidad temporal.\n",
        "\n",
        "Denotaremos $T(n)$ como el tiempo de ejecución total del algoritmo. Para el caso base, cuando $n = 1$, obtenemos que $T(n)$ es constante. Sin embargo, para el caso recursivo, cuando $n > 1$, debemos analizar cada operación del algoritmo por partes:\n",
        "\n",
        "*   El tiempo que tarda el algoritmo en encontrar el máximo sub-arreglo por cada recursión es $2T(n/2)$, debido a que el arreglo inicial se divide en 2 sub-arreglos de tamaño $n/2$.\n",
        "*   La función `maxSubArrayMid` tiene un tiempo de ejecución lineal $O(n)$.\n",
        "*   Comparar la suma de cada sub-arreglo encontrado tiene un tiempo de ejecución constante $O(1)$.\n",
        "\n",
        "A partir de este análisis, podemos formular la siguiente **función de recurrencia** del algoritmo: \n",
        "\n",
        "$T(n) =\n",
        "     \\begin{cases}\n",
        "       \\text{$O(1)$} &\\quad\\text{$n = 1$}\\\\\n",
        "       \\text{$2T(n/2) + O(n)$} &\\quad\\text{$n > 1$} \\\\ \n",
        "     \\end{cases}\n",
        "$\n",
        "\n",
        "Como se puede observar, la recurrencia es la misma que la del algoritmo **MergeSort**. De esta manera, podemos comprobar que la complejidad del algoritmo es $O(n\\;log(n))$ utilizando el **método de sustitución** para resolver recurrencias.\n",
        "\n",
        "En primer lugar, reemplazaremos $T(n)$ por su complejidad aparente, la cual representaremos con el término $dn\\;log(n)$. Del mismo modo, usaremos el término $cn$ para sustituir la complejidad $O(n)$. Luego, la función queda expresada de la siguiente manera:\n",
        "\n",
        "$dn\\;log(n) = 2d(\\frac{n}{2})\\;log(\\frac{n}{2}) + cn$\n",
        "\n",
        "A continuación, debemos demostrar que $O(n\\;log(n))$ es una cota superior de la función, por lo cual reescribiremos la igualdad como una inecuación:\n",
        "\n",
        "$dn\\;log(n) \\geq 2d(\\frac{n}{2})\\;log(\\frac{n}{2}) + cn$\n",
        "\n",
        "Para demostrar nuestra hipótesis, debemos encontrar algún valor $d > 0$ de modo que la inecuación se cumpla. Desarrollando, obtenemos lo siguiente:\n",
        "\n",
        "$d \\geq \\frac{c}{log(2)}$\n",
        "\n",
        "Luego, podemos afirmar que existe un valor $d > 0$ tal que $dn\\;log(n) \\geq T(n)$, por lo que efectivamente $O(n\\;log(n))$ es una cota superior para el algoritmo.$\\Box$\n",
        "\n",
        "\n",
        "\n",
        "\n",
        "\n",
        "\n",
        "\n"
      ]
    },
    {
      "cell_type": "markdown",
      "metadata": {
        "id": "IP92BKaAS2IS"
      },
      "source": [
        "# 5. Experimentos\n",
        "\n",
        "## 5.1. Comparación con algoritmo de Kadane\n",
        "\n",
        "A continuación se muestra una implementación con complejidad lineal para resolver el problema del subarreglo máximo, conocida como **algoritmo de Kadane**:"
      ]
    },
    {
      "cell_type": "code",
      "execution_count": null,
      "metadata": {
        "id": "JO3XXDUkUElb",
        "colab": {
          "base_uri": "https://localhost:8080/"
        },
        "outputId": "867aee50-42b5-45dc-c9eb-42f5bedcb661"
      },
      "outputs": [
        {
          "output_type": "stream",
          "name": "stdout",
          "text": [
            "Entrada:  [3, -2, -8, 7, 3, -1, 4, -5]\n",
            "Sub-arreglo máximo:  [7, 3, -1, 4]\n"
          ]
        }
      ],
      "source": [
        "def maxSubArrayKadane(A,size):\n",
        "    global_max = -float(\"inf\") - 1\n",
        "    current_max = 0\n",
        "    start = 0\n",
        "    end = 0\n",
        "    s = 0\n",
        "  \n",
        "    for i in range(0,size):\n",
        "        current_max += A[i]\n",
        "  \n",
        "        if current_max > global_max:\n",
        "            global_max = current_max\n",
        "            start = s\n",
        "            end = i\n",
        "  \n",
        "        if current_max < 0:\n",
        "            current_max = 0\n",
        "            s = i+1\n",
        "\n",
        "    return start, end, global_max\n",
        "\n",
        "A = [3,-2,-8,7,3,-1,4,-5]\n",
        "print(\"Entrada: \", A)\n",
        "\n",
        "i, j, sum = maxSubArrayKadane(A, len(A))\n",
        "print(\"Sub-arreglo máximo: \", A[i:j+1])"
      ]
    },
    {
      "cell_type": "markdown",
      "source": [
        "Para comparar el algoritmo de Kadane con la implementación recursiva explicada en este informe, se elaborará un gráfico para medir el tiempo de ejecución de ambos algoritmos.\n",
        "\n",
        "La entrada consistirá en un arreglo generado de forma aleatoria, con $n \\in [5,500]$ y valores en el rango de -1000 a 1000."
      ],
      "metadata": {
        "id": "FXssN2A1eEw9"
      }
    },
    {
      "cell_type": "code",
      "source": [
        "import matplotlib.pyplot as plt\n",
        "from timeit import repeat\n",
        "import random\n",
        "\n",
        "x=[]; y1=[]; y2=[];\n",
        "\n",
        "for n in range(5,501):\n",
        "\n",
        "    A = random.sample(range(-1000, 1001), n)\n",
        "\n",
        "    # La función repeat ejecuta 20 veces el algoritmo con el arreglo A y retorna el mejor tiempo obtenido.\n",
        "    t1 = repeat(setup=\"from __main__ import maxSubArray\", stmt=f\"maxSubArray({A})\", repeat=1, number=10)\n",
        "    t2 = repeat(setup=\"from __main__ import maxSubArrayKadane\", stmt=f\"maxSubArrayKadane({A},{len(A)})\", repeat=1, number=10)\n",
        "\n",
        "    x.append(n)\n",
        "    y1.append(t1)\n",
        "    y2.append(t2)\n",
        "\n",
        "plt.plot(x,y1)\n",
        "plt.plot(x,y2)\n",
        "plt.legend([\"MaxSubArray\", \"Algoritmo de Kadane\"])\n",
        "\n",
        "plt.xlabel('n')\n",
        "plt.ylabel('Tiempo en ms')\n",
        "plt.show()"
      ],
      "metadata": {
        "colab": {
          "base_uri": "https://localhost:8080/",
          "height": 279
        },
        "id": "aaRzzEJ0fGk0",
        "outputId": "ed667fb1-1b1e-40ba-adc4-a2cdc1984e7c"
      },
      "execution_count": null,
      "outputs": [
        {
          "output_type": "display_data",
          "data": {
            "text/plain": [
              "<Figure size 432x288 with 1 Axes>"
            ],
            "image/png": "[encoded data removed]"
          },
          "metadata": {
            "needs_background": "light"
          }
        }
      ]
    },
    {
      "cell_type": "markdown",
      "source": [
        "### Análisis de resultados\n",
        "\n",
        "A partir del gráfico, podemos observar que el algoritmo de Kadane es significativamente más eficiente que la implementación recursiva. Esto se debe a la complejidad temporal de cada solución, la cual es $O(n)$ para el algoritmo de Kadane, y $O(n\\;log(n))$ para la implementación recursiva. Sabemos que, matemáticamente, la función $f(n) = n\\;log(n)$ crece más rápidamente en comparación a la función $g(n) = n$, lo cual se ve reflejado en el gráfico."
      ],
      "metadata": {
        "id": "JKpjxG6gFz8K"
      }
    },
    {
      "cell_type": "markdown",
      "metadata": {
        "id": "9AgIqXvq1OGs"
      },
      "source": [
        "## 5.2 Comparación con algoritmo de fuerza bruta.\n",
        "\n",
        "Es posible resolver el problema del sub-arreglo máximo usando el enfoque de **fuerza bruta**, que consiste en recorrer cada sub-arreglo existente dentro del arreglo de entrada e ir guardando aquel que sea mayor. El siguiente código muestra una implementación para este algoritmo:"
      ]
    },
    {
      "cell_type": "code",
      "source": [
        "def maxSubArrayFuerzaBruta(A,size):\n",
        "  global_max = 0\n",
        "  start = 0\n",
        "  end = 0\n",
        "\n",
        "  for i in range(0,size):\n",
        "    current_sum = 0\n",
        "\n",
        "    for j in range(i,size):\n",
        "      current_sum += A[j]\n",
        "\n",
        "      if current_sum > global_max:\n",
        "        global_max = current_sum\n",
        "        start = i\n",
        "        end = j\n",
        "\n",
        "  return start, end, global_max\n",
        "\n",
        "A = [3,-2,-8,7,3,-1,4,-5]\n",
        "print(\"Entrada: \", A)\n",
        "\n",
        "i, j, sum = maxSubArrayFuerzaBruta(A, len(A))\n",
        "print(\"Sub-arreglo máximo: \", A[i:j+1])"
      ],
      "metadata": {
        "colab": {
          "base_uri": "https://localhost:8080/"
        },
        "id": "BG4-l49BkRiZ",
        "outputId": "3c13ad16-2373-4695-e642-c7091af8e113"
      },
      "execution_count": null,
      "outputs": [
        {
          "output_type": "stream",
          "name": "stdout",
          "text": [
            "Entrada:  [3, -2, -8, 7, 3, -1, 4, -5]\n",
            "Sub-arreglo máximo:  [7, 3, -1, 4]\n"
          ]
        }
      ]
    },
    {
      "cell_type": "markdown",
      "source": [
        "Para visualizar la diferencia en la eficiencia temporal de ambos algoritmos, se elaborará gráfico similar al anterior, comparando cómo crece el tiempo de ejecución en relación al tamaño del problema.\n",
        "\n",
        "La entrada consistirá en un arreglo generado de forma aleatoria, con $n \\in [5,500]$ y valores en el rango de -1000 a 1000."
      ],
      "metadata": {
        "id": "pbLDksxclkHG"
      }
    },
    {
      "cell_type": "code",
      "source": [
        "import matplotlib.pyplot as plt\n",
        "from timeit import repeat\n",
        "import random\n",
        "\n",
        "x=[]; y1=[]; y2=[];\n",
        "\n",
        "for n in range(5,501):\n",
        "\n",
        "    A = random.sample(range(-1000, 1001), n)\n",
        "\n",
        "    # La función repeat ejecuta 20 veces el algoritmo con el arreglo A y retorna el mejor tiempo obtenido.\n",
        "    t1 = repeat(setup=\"from __main__ import maxSubArray\", stmt=f\"maxSubArray({A})\", repeat=1, number=10)\n",
        "    t2 = repeat(setup=\"from __main__ import maxSubArrayFuerzaBruta\", stmt=f\"maxSubArrayFuerzaBruta({A},{len(A)})\", repeat=1, number=10)\n",
        "\n",
        "    x.append(n)\n",
        "    y1.append(t1)\n",
        "    y2.append(t2)\n",
        "\n",
        "plt.plot(x,y1)\n",
        "plt.plot(x,y2)\n",
        "plt.legend([\"MaxSubArray\", \"Algoritmo de Fuerza Bruta\"])\n",
        "\n",
        "plt.xlabel('n')\n",
        "plt.ylabel('Tiempo en ms')\n",
        "plt.show()"
      ],
      "metadata": {
        "colab": {
          "base_uri": "https://localhost:8080/",
          "height": 279
        },
        "id": "TIDUe58tkLYa",
        "outputId": "71a81df5-2c90-460d-e7d2-8c5e2b1fb9f5"
      },
      "execution_count": null,
      "outputs": [
        {
          "output_type": "display_data",
          "data": {
            "text/plain": [
              "<Figure size 432x288 with 1 Axes>"
            ],
            "image/png": "[encoded data removed]"
          },
          "metadata": {
            "needs_background": "light"
          }
        }
      ]
    },
    {
      "cell_type": "markdown",
      "metadata": {
        "id": "1O4s3qkIAlKk"
      },
      "source": [
        "### Análisis de resultados\n",
        "\n",
        "Como era de esperar, el tiempo de ejecución del algoritmo de fuerza bruta aumenta cuadráticamente en relación al tamaño del problema, debido a que su complejidad temporal es $O(n^2)$. Este algoritmo toma significativamente más tiempo que su versión recursiva, puesto que $n^2 > n\\;log(n)$. \n",
        "\n"
      ]
    }
  ],
  "metadata": {
    "colab": {
      "collapsed_sections": [],
      "name": "Informe3-MaxSubArray",
      "provenance": [],
      "authorship_tag": "ABX9TyNkKBVH/kZeUxy7j6GKASe1",
      "include_colab_link": true
    },
    "kernelspec": {
      "display_name": "Python 3",
      "name": "python3"
    },
    "language_info": {
      "name": "python"
    }
  },
  "nbformat": 4,
  "nbformat_minor": 0
}