{
  "cells": [
    {
      "cell_type": "markdown",
      "metadata": {
        "id": "view-in-github",
        "colab_type": "text"
      },
      "source": [
        "<a href=\"https://colab.research.google.com/github/OscarRojasG/ADA-Informes/blob/main/Informe8-OptimalBST.ipynb\" target=\"_parent\"><img src=\"https://colab.research.google.com/assets/colab-badge.svg\" alt=\"Open In Colab\"/></a>"
      ]
    },
    {
      "cell_type": "markdown",
      "metadata": {
        "id": "deOsebM06Bt0"
      },
      "source": [
        "# 1. Problema del árbol de búsqueda óptimo\n",
        "\n",
        "**Entrada**:\n",
        "\n",
        "**Salida**:\n",
        "\n"
      ]
    },
    {
      "cell_type": "markdown",
      "metadata": {
        "id": "ShNc87InQrV1"
      },
      "source": [
        "# 2. Optimal BST"
      ]
    },
    {
      "cell_type": "markdown",
      "metadata": {
        "id": "qCFujGBVe7Lg"
      },
      "source": [
        "## 2.1 Código "
      ]
    },
    {
      "cell_type": "markdown",
      "source": [
        "### Funciones auxiliares"
      ],
      "metadata": {
        "id": "1TQFSwQ-Ci9D"
      }
    },
    {
      "cell_type": "code",
      "source": [
        "class Node:\n",
        "  right = None\n",
        "  left = None\n",
        "  key = None\n",
        "  \n",
        "  def __init__(self, key):\n",
        "    self.key = key \n",
        "\n",
        "class Tree:\n",
        "  root = None\n",
        "\n",
        "  def insert(self, key):\n",
        "    if self.root == None:\n",
        "      self.root = Node(key)\n",
        "      return None, 0\n",
        "\n",
        "    parent = self.root\n",
        "\n",
        "    while True:\n",
        "      if key <= parent.key:\n",
        "        if parent.left == None:\n",
        "          parent.left = Node(key)\n",
        "          return parent, 1\n",
        "        else:\n",
        "          parent = parent.left\n",
        "      \n",
        "      else:\n",
        "        if parent.right == None:\n",
        "          parent.right = Node(key)\n",
        "          return parent, 2\n",
        "        else:\n",
        "          parent = parent.right"
      ],
      "metadata": {
        "id": "xdIKunIYtPxG"
      },
      "execution_count": 2,
      "outputs": []
    },
    {
      "cell_type": "code",
      "source": [
        "import networkx as nx\n",
        "\n",
        "# Obtenido de https://stackoverflow.com/questions/33439810/\n",
        "\n",
        "def binary_tree_layout(G, root, width=1., vert_gap = 0.2, vert_loc = 0, \n",
        "                       xcenter = 0.5, pos = None, parent = None):\n",
        "  if pos == None:\n",
        "    pos = {root:(xcenter,vert_loc)}\n",
        "  else:\n",
        "    pos[root] = (xcenter, vert_loc)\n",
        "\n",
        "  neighbors = list(G.neighbors(root))\n",
        "\n",
        "  if len(neighbors) != 0:\n",
        "\n",
        "    dx = width/2.\n",
        "    leftx = xcenter - dx/2\n",
        "    rightx = xcenter + dx/2\n",
        "\n",
        "    for neighbor in neighbors:\n",
        "      if G.nodes[neighbor]['child_status'] == 'left':\n",
        "        pos = binary_tree_layout(G, neighbor, width = dx, vert_gap = vert_gap, \n",
        "                                 vert_loc = vert_loc-vert_gap, xcenter=leftx, \n",
        "                                 pos=pos, parent = root)\n",
        "        \n",
        "      elif G.nodes[neighbor]['child_status'] == 'right':\n",
        "        pos = binary_tree_layout(G, neighbor, width = dx, vert_gap = vert_gap,\n",
        "                                 vert_loc = vert_loc-vert_gap, xcenter=rightx,\n",
        "                                 pos=pos, parent = root)\n",
        "        \n",
        "  return pos"
      ],
      "metadata": {
        "id": "UPRGTEkLzmdY"
      },
      "execution_count": 3,
      "outputs": []
    },
    {
      "cell_type": "code",
      "source": [
        "import networkx as nx\n",
        "from networkx.drawing.nx_pydot import graphviz_layout\n",
        "\n",
        "def visualize_tree(n):\n",
        "  T = nx.DiGraph()\n",
        "\n",
        "  tree = Tree()\n",
        "  for i in range(len(n)):\n",
        "    parent, pos = tree.insert(n[i])\n",
        "\n",
        "    if pos == 0 or pos == 1:\n",
        "      T.add_node(n[i], child_status='left')\n",
        "    else:\n",
        "      T.add_node(n[i], child_status='right')\n",
        "\n",
        "    if parent:\n",
        "      T.add_edge(parent.key, n[i])\n",
        "\n",
        "  tree_pos = binary_tree_layout(T, n[0])\n",
        "  nx.draw(T, tree_pos, with_labels=True, font_size=12, node_size=1000, node_color='white', edgecolors='black')"
      ],
      "metadata": {
        "id": "74R3f5kOf7Ph"
      },
      "execution_count": 4,
      "outputs": []
    },
    {
      "cell_type": "code",
      "source": [
        "from termcolor import colored\n",
        "\n",
        "def print_matrix(A, m, n, k, color):\n",
        "  print(\"%2s \" % '', end='')\n",
        "  for i in range(1,m):\n",
        "    print(\"%-5d \" % (i-1), end='')\n",
        "  print()\n",
        "  for i in range(1,m):\n",
        "    print(\"%-2d \" % i, end='')\n",
        "    for j in range(n):\n",
        "      if j-i+1 == k:\n",
        "        print(colored(\"%.3f \" % A[i][j], color), end='')\n",
        "      else:\n",
        "        print(\"%.3f \" % A[i][j], end='')\n",
        "    print()\n",
        "  print()"
      ],
      "metadata": {
        "id": "y6Mx3F7N0_DU"
      },
      "execution_count": 5,
      "outputs": []
    },
    {
      "cell_type": "markdown",
      "source": [
        "### Optimal BST (recursivo)"
      ],
      "metadata": {
        "id": "ThLy_sqxCtBB"
      }
    },
    {
      "cell_type": "code",
      "execution_count": 6,
      "metadata": {
        "colab": {
          "base_uri": "https://localhost:8080/",
          "height": 354
        },
        "id": "fEbIxL2syWn4",
        "outputId": "9f157d20-64d6-4aa3-b569-34d6df4ce458"
      },
      "outputs": [
        {
          "output_type": "stream",
          "name": "stdout",
          "text": [
            "Costo esperado mínimo: 3.12\n",
            "Llamadas recursivas: 2187\n"
          ]
        },
        {
          "output_type": "display_data",
          "data": {
            "text/plain": [
              "<Figure size 432x288 with 1 Axes>"
            ],
            "image/png": "[encoded data removed]"
          },
          "metadata": {}
        }
      ],
      "source": [
        "from math import inf\n",
        "from termcolor import colored\n",
        "\n",
        "def recursive_optimal_bst(k,p,q,i,j,visualize=False,verbose=False,first_call=True):\n",
        "  # Contador de llamadas recursivas\n",
        "  global c\n",
        "  c = c+1\n",
        "\n",
        "  if verbose and first_call:\n",
        "    print(f\"Entrada:\")\n",
        "    print(f\"Claves del árbol: {k}\")\n",
        "    print(f\"Probabilidades de las claves reales: {np.around(p,3)}\")\n",
        "    print(f\"Probabilidades de las claves ficticias: {np.around(q,3)}\\n\")\n",
        "\n",
        "  # Caso base\n",
        "  if j < i: return q[i-1], []\n",
        "\n",
        "  # Suma de probabilidades de los nodos del árbol\n",
        "  w = sum(p[i-1:j]) + sum(q[i-1:j+1])\n",
        "\n",
        "  if verbose:\n",
        "    print(f\"Calculando suma de probabilidades para los nodos {i}..{j}: \", end='')\n",
        "    print(f\"({colored(round(w,3), 'blue')})\\n\")\n",
        "\n",
        "  # Nos aseguramos de que e se actualice en la primera iteración\n",
        "  e = inf\n",
        "\n",
        "  for r in range(i, j+1):\n",
        "    # Costo óptimo del subárbol izquierdo\n",
        "    e_left, t_left = recursive_optimal_bst(k, p, q, i, r-1, visualize=False,\n",
        "                                           verbose=False, first_call=False)\n",
        "\n",
        "    # Costo óptimo del subárbol derecho\n",
        "    e_right, t_right = recursive_optimal_bst(k, p, q, r+1, j, visualize=False,\n",
        "                                             verbose=False, first_call=False)\n",
        "\n",
        "    # Costo óptimo del árbol con raíz r\n",
        "    x = e_left + e_right + w\n",
        "\n",
        "    # Nos quedamos con el costo mínimo\n",
        "    if x < e:\n",
        "      e = x\n",
        "\n",
        "      # Se reconstruye el árbol\n",
        "      tree = t_right + t_left\n",
        "      tree.insert(0,k[r-1])\n",
        "\n",
        "    if verbose:\n",
        "      print(f\"Calculando costo esperado para árbol con raíz {r}\")\n",
        "      print(f\"Calculando recursivamente costo para subárbol {i}..{r-1}: \", end='')\n",
        "      print(f\"({colored(round(e_right,3), 'green')})\")\n",
        "      print(f\"Calculando recursivamente costo para subárbol {r+1}..{j}: \", end='')\n",
        "      print(f\"({colored(round(e_left,3), 'magenta')})\")\n",
        "      print(f\"Costo esperado: {round(e_left,3)} + {round(e_right,3)} + {round(w,3)} = {round(x,3)}\")\n",
        "      print(f\"Costo esperado mínimo: {round(e,3)}\\n\")\n",
        "\n",
        "  if verbose:\n",
        "    print(f\"Costo mínimo del árbol: {round(e,3)}\")\n",
        "\n",
        "  # Se dibuja el árbol \n",
        "  if visualize:\n",
        "    visualize_tree(tree)\n",
        "\n",
        "  return e, tree\n",
        "\n",
        "c = 0\n",
        "k = [1, 2, 3, 4, 5, 6, 7]\n",
        "p = [0.04, 0.06, 0.08, 0.02, 0.10, 0.12, 0.14]\n",
        "q = [0.06, 0.06, 0.06, 0.06, 0.05, 0.05, 0.05, 0.05]\n",
        "\n",
        "e, tree = recursive_optimal_bst(k,p,q,1,len(p),visualize=True)\n",
        "\n",
        "print(f\"Costo esperado mínimo: {e}\")\n",
        "print(f\"Llamadas recursivas: {c}\")"
      ]
    },
    {
      "cell_type": "markdown",
      "source": [
        "### Optimal BST (bottom-up)"
      ],
      "metadata": {
        "id": "9c7_L-tIDZ2_"
      }
    },
    {
      "cell_type": "code",
      "execution_count": 55,
      "metadata": {
        "colab": {
          "base_uri": "https://localhost:8080/",
          "height": 354
        },
        "id": "xfn8BOW0rPmy",
        "outputId": "73507e71-f3ff-4c54-db4d-c3341d761574"
      },
      "outputs": [
        {
          "output_type": "stream",
          "name": "stdout",
          "text": [
            "Costo esperado mínimo: 2.75\n",
            "Subproblemas resueltos: 15\n"
          ]
        },
        {
          "output_type": "display_data",
          "data": {
            "text/plain": [
              "<Figure size 432x288 with 1 Axes>"
            ],
            "image/png": "[encoded data removed]"
          },
          "metadata": {}
        }
      ],
      "source": [
        "import numpy as np\n",
        "from math import inf\n",
        "\n",
        "def optimal_bst(k,p,q,n,visualize=False,verbose=False):\n",
        "  # Contador de subproblemas\n",
        "  global s\n",
        "\n",
        "  # Matriz que almacena el costo mínimo de cada subárbol\n",
        "  e = np.zeros(shape=(n+2,n+1))\n",
        "\n",
        "  # Matriz que almacena la suma de probabilidades de cada subárbol\n",
        "  w = np.zeros(shape=(n+2,n+1))\n",
        "\n",
        "  # Matriz que almacena la raíz óptima de cada subárbol\n",
        "  root = np.zeros(shape=(n+2,n+2), dtype=int)\n",
        "\n",
        "  if verbose:\n",
        "    print(f\"Entrada:\")\n",
        "    print(f\"Claves del árbol: {k}\")\n",
        "    print(f\"Probabilidades de las claves reales: {np.around(p,3)}\")\n",
        "    print(f\"Probabilidades de las claves ficticias: {np.around(q,3)}\\n\")\n",
        "\n",
        "  # Valores para búsquedas fallidas\n",
        "  for i in range(1,n+2):\n",
        "    e[i][i-1] = q[i-1]\n",
        "    w[i][i-1] = q[i-1]\n",
        "\n",
        "  if verbose:\n",
        "    print(\"Inicializando matriz de probabilidades:\")\n",
        "    print_matrix(w,n+2,n+1,0,'blue')\n",
        "    print(\"Inicializando matriz de costos:\")\n",
        "    print_matrix(e,n+2,n+1,0,'green')\n",
        "\n",
        "  for k in range(1,n+1):\n",
        "    for i in range(1,n-k+2):\n",
        "      j = i+k-1\n",
        "      s = s+1\n",
        "\n",
        "      # Se calcula la suma de probabilidades para el subárbol i..j\n",
        "      w[i][j] = w[i][j-1] + p[j-1] + q[j]\n",
        "\n",
        "      if verbose:\n",
        "        print(f\"Calculando suma de probabilidades para los nodos {i}..{j}: \", end='')\n",
        "        print(f\"({colored(round(w[i][j],3), 'blue')})\")\n",
        "\n",
        "      # Nos aseguramos de que e[i][j] se actualice en la primera iteración\n",
        "      e[i][j] = inf\n",
        "\n",
        "      for r in range(i,j+1):\n",
        "        # Costo óptimo del árbol con raíz r\n",
        "        x = e[i][r-1] + e[r+1][j] + w[i][j]\n",
        "\n",
        "        # Nos quedamos con el costo mínimo\n",
        "        if x < e[i][j]:\n",
        "\n",
        "          # Guardamos el costo en la matriz e y la raíz en la matriz root\n",
        "          e[i][j] = x\n",
        "          root[i][j] = r\n",
        "\n",
        "      if verbose:\n",
        "        print(f\"Calculando costo esperado para subárbol {i}..{j}: \", end='')\n",
        "        print(f\"({colored(round(e[i][j],3), 'green')})\\n\")\n",
        "\n",
        "    if verbose:\n",
        "      print(\"Matriz de probabilidades:\")\n",
        "      print_matrix(w,n+2,n+1,k,'blue')\n",
        "      print(\"Matriz de costos:\")\n",
        "      print_matrix(e,n+2,n+1,k,'green')\n",
        "\n",
        "  if verbose:\n",
        "    print(f\"Costo mínimo del árbol: {round(e[1][n],3)}\")\n",
        "\n",
        "  # Se reconstruye y se dibuja el árbol\n",
        "  if visualize:\n",
        "    tree = construct_optimal_bst(root, k, 1, n)\n",
        "    visualize_tree(tree)\n",
        "\n",
        "  return e[1][n], root\n",
        "\n",
        "def construct_optimal_bst(root, k, i, j):\n",
        "  # Caso base\n",
        "  if i > j:\n",
        "    return []\n",
        "\n",
        "  # Raíz del árbol i..j\n",
        "  r = root[i][j]\n",
        "\n",
        "  # Obtenemos los nodos de cada subárbol desde la raíz hacia abajo\n",
        "  t_right = construct_optimal_bst(root, k, i, r-1)\n",
        "  t_left = construct_optimal_bst(root, k, r+1, j)\n",
        "\n",
        "  # Juntamos los nodos de cada subárbol e insertamos la raíz de ambos\n",
        "  tree = t_left + t_right\n",
        "  tree.insert(0, r)\n",
        "\n",
        "  return tree\n",
        "  \n",
        "s = 0\n",
        "k = [1, 2, 3, 4, 5]\n",
        "p = [0.15, 0.10, 0.05, 0.10, 0.20]\n",
        "q = [0.05, 0.10, 0.05, 0.05, 0.05, 0.10]\n",
        "\n",
        "e, root = optimal_bst(k,p,q,5,visualize=True)\n",
        "\n",
        "print(f\"Costo esperado mínimo: {e}\")\n",
        "print(f\"Subproblemas resueltos: {s}\")"
      ]
    },
    {
      "cell_type": "markdown",
      "metadata": {
        "id": "naoN1twNlXPL"
      },
      "source": [
        "## 2.2 Descripción del algoritmo\n",
        "\n",
        "### Subestructura óptima y solución recursiva\n",
        "\n",
        "### Descripción de la solución (algoritmo recursivo)\n",
        "\n",
        "### Descripción de la solución (programación dinámica)\n",
        "\n",
        "\n",
        "\n"
      ]
    },
    {
      "cell_type": "markdown",
      "metadata": {
        "id": "KKTUdfSes6B4"
      },
      "source": [
        "## 2.3 Ejemplo\n"
      ]
    },
    {
      "cell_type": "markdown",
      "metadata": {
        "id": "L0VpphJB6FvO"
      },
      "source": [
        "## 2.4. Ejecución del algoritmo paso a paso (`verbose=True`)\n",
        "\n",
        "Usando la opción `verbose=True`, podemos ver lo que ocurre en cada paso de ambos algoritmos.\n",
        "\n"
      ]
    },
    {
      "cell_type": "markdown",
      "source": [
        "### Optimal BST (recursivo)"
      ],
      "metadata": {
        "id": "XzuWc55zmhvn"
      }
    },
    {
      "cell_type": "code",
      "source": [
        "import random\n",
        "import numpy as np\n",
        "\n",
        "def optimal_bst_instance_generator(n):\n",
        "    keys = sorted(random.sample(range(1, 101), n))\n",
        "    arr = np.random.random(n*2+1)\n",
        "    arr /= arr.sum()\n",
        "    \n",
        "    p = list(arr[:n]) # Probabilidad de las claves\n",
        "    q = arr[n:] # Probabilidad de las claves ficticias\n",
        "    return keys, p, q"
      ],
      "metadata": {
        "id": "0i3MG5zLbyL-"
      },
      "execution_count": 88,
      "outputs": []
    },
    {
      "cell_type": "code",
      "source": [
        "k, p, q = optimal_bst_instance_generator(5)\n",
        "e, tree = recursive_optimal_bst(k,p,q,1,len(p),visualize=True,verbose=True)"
      ],
      "metadata": {
        "colab": {
          "base_uri": "https://localhost:8080/",
          "height": 978
        },
        "id": "rtcqU0ahfphB",
        "outputId": "a62965a5-c455-4d43-9d65-ab55c283bd4f"
      },
      "execution_count": null,
      "outputs": [
        {
          "output_type": "stream",
          "name": "stdout",
          "text": [
            "Entrada:\n",
            "Claves del árbol: [1, 6, 15, 27, 29]\n",
            "Probabilidades de las claves reales: [0.111 0.071 0.079 0.118 0.116]\n",
            "Probabilidades de las claves ficticias: [0.115 0.111 0.102 0.064 0.083 0.031]\n",
            "\n",
            "Calculando suma de probabilidades para los nodos 1..5: (\u001b[34m1.0\u001b[0m)\n",
            "\n",
            "Calculando costo esperado para árbol con raíz 1\n",
            "Calculando recursivamente costo para subárbol 1..0: (\u001b[32m2.065\u001b[0m)\n",
            "Calculando recursivamente costo para subárbol 2..5: (\u001b[35m0.115\u001b[0m)\n",
            "Costo esperado: 0.115 + 2.065 + 1.0 = 3.18\n",
            "Costo esperado mínimo: 3.18\n",
            "\n",
            "Calculando costo esperado para árbol con raíz 2\n",
            "Calculando recursivamente costo para subárbol 1..1: (\u001b[32m1.346\u001b[0m)\n",
            "Calculando recursivamente costo para subárbol 3..5: (\u001b[35m0.561\u001b[0m)\n",
            "Costo esperado: 0.561 + 1.346 + 1.0 = 2.908\n",
            "Costo esperado mínimo: 2.908\n",
            "\n",
            "Calculando costo esperado para árbol con raíz 3\n",
            "Calculando recursivamente costo para subárbol 1..2: (\u001b[32m0.82\u001b[0m)\n",
            "Calculando recursivamente costo para subárbol 4..5: (\u001b[35m1.119\u001b[0m)\n",
            "Costo esperado: 1.119 + 0.82 + 1.0 = 2.938\n",
            "Costo esperado mínimo: 2.908\n",
            "\n",
            "Calculando costo esperado para árbol con raíz 4\n",
            "Calculando recursivamente costo para subárbol 1..3: (\u001b[32m0.343\u001b[0m)\n",
            "Calculando recursivamente costo para subárbol 5..5: (\u001b[35m1.624\u001b[0m)\n",
            "Costo esperado: 1.624 + 0.343 + 1.0 = 2.967\n",
            "Costo esperado mínimo: 2.908\n",
            "\n",
            "Calculando costo esperado para árbol con raíz 5\n",
            "Calculando recursivamente costo para subárbol 1..4: (\u001b[32m0.031\u001b[0m)\n",
            "Calculando recursivamente costo para subárbol 6..5: (\u001b[35m2.353\u001b[0m)\n",
            "Costo esperado: 2.353 + 0.031 + 1.0 = 3.384\n",
            "Costo esperado mínimo: 2.908\n",
            "\n",
            "Costo mínimo del árbol: 2.908\n"
          ]
        },
        {
          "output_type": "display_data",
          "data": {
            "text/plain": [
              "<Figure size 432x288 with 1 Axes>"
            ],
            "image/png": "[encoded data removed]"
          },
          "metadata": {}
        }
      ]
    },
    {
      "cell_type": "markdown",
      "source": [
        "### Optimal BST (bottom-up)"
      ],
      "metadata": {
        "id": "mJrL7Dcvmm80"
      }
    },
    {
      "cell_type": "code",
      "source": [
        "k, p, q = optimal_bst_instance_generator(5)\n",
        "e, tree = optimal_bst(k,p,q,5,visualize=True,verbose=True)"
      ],
      "metadata": {
        "colab": {
          "base_uri": "https://localhost:8080/",
          "height": 1000
        },
        "id": "g0YN1enOmsYz",
        "outputId": "7de899f1-7d09-4d7a-bebd-5c4c0639c1f0"
      },
      "execution_count": null,
      "outputs": [
        {
          "output_type": "stream",
          "name": "stdout",
          "text": [
            "Entrada:\n",
            "Claves del árbol: [18, 43, 75, 84, 95]\n",
            "Probabilidades de las claves reales: [0.121 0.129 0.109 0.019 0.033]\n",
            "Probabilidades de las claves ficticias: [0.01  0.126 0.114 0.135 0.145 0.059]\n",
            "\n",
            "Inicializando matriz de probabilidades:\n",
            "   0     1     2     3     4     5     \n",
            "1  \u001b[34m0.010 \u001b[0m0.000 0.000 0.000 0.000 0.000 \n",
            "2  0.000 \u001b[34m0.126 \u001b[0m0.000 0.000 0.000 0.000 \n",
            "3  0.000 0.000 \u001b[34m0.114 \u001b[0m0.000 0.000 0.000 \n",
            "4  0.000 0.000 0.000 \u001b[34m0.135 \u001b[0m0.000 0.000 \n",
            "5  0.000 0.000 0.000 0.000 \u001b[34m0.145 \u001b[0m0.000 \n",
            "6  0.000 0.000 0.000 0.000 0.000 \u001b[34m0.059 \u001b[0m\n",
            "\n",
            "Inicializando matriz de costos:\n",
            "   0     1     2     3     4     5     \n",
            "1  \u001b[32m0.010 \u001b[0m0.000 0.000 0.000 0.000 0.000 \n",
            "2  0.000 \u001b[32m0.126 \u001b[0m0.000 0.000 0.000 0.000 \n",
            "3  0.000 0.000 \u001b[32m0.114 \u001b[0m0.000 0.000 0.000 \n",
            "4  0.000 0.000 0.000 \u001b[32m0.135 \u001b[0m0.000 0.000 \n",
            "5  0.000 0.000 0.000 0.000 \u001b[32m0.145 \u001b[0m0.000 \n",
            "6  0.000 0.000 0.000 0.000 0.000 \u001b[32m0.059 \u001b[0m\n",
            "\n",
            "Calculando suma de probabilidades para los nodos 1..1: (\u001b[34m0.257\u001b[0m)\n",
            "Calculando costo esperado para subárbol 1..1: (\u001b[32m0.394\u001b[0m)\n",
            "\n",
            "Calculando suma de probabilidades para los nodos 2..2: (\u001b[34m0.369\u001b[0m)\n",
            "Calculando costo esperado para subárbol 2..2: (\u001b[32m0.61\u001b[0m)\n",
            "\n",
            "Calculando suma de probabilidades para los nodos 3..3: (\u001b[34m0.358\u001b[0m)\n",
            "Calculando costo esperado para subárbol 3..3: (\u001b[32m0.607\u001b[0m)\n",
            "\n",
            "Calculando suma de probabilidades para los nodos 4..4: (\u001b[34m0.299\u001b[0m)\n",
            "Calculando costo esperado para subárbol 4..4: (\u001b[32m0.579\u001b[0m)\n",
            "\n",
            "Calculando suma de probabilidades para los nodos 5..5: (\u001b[34m0.237\u001b[0m)\n",
            "Calculando costo esperado para subárbol 5..5: (\u001b[32m0.441\u001b[0m)\n",
            "\n",
            "Matriz de probabilidades:\n",
            "   0     1     2     3     4     5     \n",
            "1  0.010 \u001b[34m0.257 \u001b[0m0.000 0.000 0.000 0.000 \n",
            "2  0.000 0.126 \u001b[34m0.369 \u001b[0m0.000 0.000 0.000 \n",
            "3  0.000 0.000 0.114 \u001b[34m0.358 \u001b[0m0.000 0.000 \n",
            "4  0.000 0.000 0.000 0.135 \u001b[34m0.299 \u001b[0m0.000 \n",
            "5  0.000 0.000 0.000 0.000 0.145 \u001b[34m0.237 \u001b[0m\n",
            "6  0.000 0.000 0.000 0.000 0.000 0.059 \n",
            "\n",
            "Matriz de costos:\n",
            "   0     1     2     3     4     5     \n",
            "1  0.010 \u001b[32m0.394 \u001b[0m0.000 0.000 0.000 0.000 \n",
            "2  0.000 0.126 \u001b[32m0.610 \u001b[0m0.000 0.000 0.000 \n",
            "3  0.000 0.000 0.114 \u001b[32m0.607 \u001b[0m0.000 0.000 \n",
            "4  0.000 0.000 0.000 0.135 \u001b[32m0.579 \u001b[0m0.000 \n",
            "5  0.000 0.000 0.000 0.000 0.145 \u001b[32m0.441 \u001b[0m\n",
            "6  0.000 0.000 0.000 0.000 0.000 0.059 \n",
            "\n",
            "Calculando suma de probabilidades para los nodos 1..2: (\u001b[34m0.5\u001b[0m)\n",
            "Calculando costo esperado para subárbol 1..2: (\u001b[32m1.008\u001b[0m)\n",
            "\n",
            "Calculando suma de probabilidades para los nodos 2..3: (\u001b[34m0.613\u001b[0m)\n",
            "Calculando costo esperado para subárbol 2..3: (\u001b[32m1.347\u001b[0m)\n",
            "\n",
            "Calculando suma de probabilidades para los nodos 3..4: (\u001b[34m0.522\u001b[0m)\n",
            "Calculando costo esperado para subárbol 3..4: (\u001b[32m1.215\u001b[0m)\n",
            "\n",
            "Calculando suma de probabilidades para los nodos 4..5: (\u001b[34m0.391\u001b[0m)\n",
            "Calculando costo esperado para subárbol 4..5: (\u001b[32m0.966\u001b[0m)\n",
            "\n",
            "Matriz de probabilidades:\n",
            "   0     1     2     3     4     5     \n",
            "1  0.010 0.257 \u001b[34m0.500 \u001b[0m0.000 0.000 0.000 \n",
            "2  0.000 0.126 0.369 \u001b[34m0.613 \u001b[0m0.000 0.000 \n",
            "3  0.000 0.000 0.114 0.358 \u001b[34m0.522 \u001b[0m0.000 \n",
            "4  0.000 0.000 0.000 0.135 0.299 \u001b[34m0.391 \u001b[0m\n",
            "5  0.000 0.000 0.000 0.000 0.145 0.237 \n",
            "6  0.000 0.000 0.000 0.000 0.000 0.059 \n",
            "\n",
            "Matriz de costos:\n",
            "   0     1     2     3     4     5     \n",
            "1  0.010 0.394 \u001b[32m1.008 \u001b[0m0.000 0.000 0.000 \n",
            "2  0.000 0.126 0.610 \u001b[32m1.347 \u001b[0m0.000 0.000 \n",
            "3  0.000 0.000 0.114 0.607 \u001b[32m1.215 \u001b[0m0.000 \n",
            "4  0.000 0.000 0.000 0.135 0.579 \u001b[32m0.966 \u001b[0m\n",
            "5  0.000 0.000 0.000 0.000 0.145 0.441 \n",
            "6  0.000 0.000 0.000 0.000 0.000 0.059 \n",
            "\n",
            "Calculando suma de probabilidades para los nodos 1..3: (\u001b[34m0.744\u001b[0m)\n",
            "Calculando costo esperado para subárbol 1..3: (\u001b[32m1.745\u001b[0m)\n",
            "\n",
            "Calculando suma de probabilidades para los nodos 2..4: (\u001b[34m0.777\u001b[0m)\n",
            "Calculando costo esperado para subárbol 2..4: (\u001b[32m1.965\u001b[0m)\n",
            "\n",
            "Calculando suma de probabilidades para los nodos 3..5: (\u001b[34m0.614\u001b[0m)\n",
            "Calculando costo esperado para subárbol 3..5: (\u001b[32m1.662\u001b[0m)\n",
            "\n",
            "Matriz de probabilidades:\n",
            "   0     1     2     3     4     5     \n",
            "1  0.010 0.257 0.500 \u001b[34m0.744 \u001b[0m0.000 0.000 \n",
            "2  0.000 0.126 0.369 0.613 \u001b[34m0.777 \u001b[0m0.000 \n",
            "3  0.000 0.000 0.114 0.358 0.522 \u001b[34m0.614 \u001b[0m\n",
            "4  0.000 0.000 0.000 0.135 0.299 0.391 \n",
            "5  0.000 0.000 0.000 0.000 0.145 0.237 \n",
            "6  0.000 0.000 0.000 0.000 0.000 0.059 \n",
            "\n",
            "Matriz de costos:\n",
            "   0     1     2     3     4     5     \n",
            "1  0.010 0.394 1.008 \u001b[32m1.745 \u001b[0m0.000 0.000 \n",
            "2  0.000 0.126 0.610 1.347 \u001b[32m1.965 \u001b[0m0.000 \n",
            "3  0.000 0.000 0.114 0.607 1.215 \u001b[32m1.662 \u001b[0m\n",
            "4  0.000 0.000 0.000 0.135 0.579 0.966 \n",
            "5  0.000 0.000 0.000 0.000 0.145 0.441 \n",
            "6  0.000 0.000 0.000 0.000 0.000 0.059 \n",
            "\n",
            "Calculando suma de probabilidades para los nodos 1..4: (\u001b[34m0.908\u001b[0m)\n",
            "Calculando costo esperado para subárbol 1..4: (\u001b[32m2.495\u001b[0m)\n",
            "\n",
            "Calculando suma de probabilidades para los nodos 2..5: (\u001b[34m0.869\u001b[0m)\n",
            "Calculando costo esperado para subárbol 2..5: (\u001b[32m2.445\u001b[0m)\n",
            "\n",
            "Matriz de probabilidades:\n",
            "   0     1     2     3     4     5     \n",
            "1  0.010 0.257 0.500 0.744 \u001b[34m0.908 \u001b[0m0.000 \n",
            "2  0.000 0.126 0.369 0.613 0.777 \u001b[34m0.869 \u001b[0m\n",
            "3  0.000 0.000 0.114 0.358 0.522 0.614 \n",
            "4  0.000 0.000 0.000 0.135 0.299 0.391 \n",
            "5  0.000 0.000 0.000 0.000 0.145 0.237 \n",
            "6  0.000 0.000 0.000 0.000 0.000 0.059 \n",
            "\n",
            "Matriz de costos:\n",
            "   0     1     2     3     4     5     \n",
            "1  0.010 0.394 1.008 1.745 \u001b[32m2.495 \u001b[0m0.000 \n",
            "2  0.000 0.126 0.610 1.347 1.965 \u001b[32m2.445 \u001b[0m\n",
            "3  0.000 0.000 0.114 0.607 1.215 1.662 \n",
            "4  0.000 0.000 0.000 0.135 0.579 0.966 \n",
            "5  0.000 0.000 0.000 0.000 0.145 0.441 \n",
            "6  0.000 0.000 0.000 0.000 0.000 0.059 \n",
            "\n",
            "Calculando suma de probabilidades para los nodos 1..5: (\u001b[34m1.0\u001b[0m)\n",
            "Calculando costo esperado para subárbol 1..5: (\u001b[32m2.974\u001b[0m)\n",
            "\n",
            "Matriz de probabilidades:\n",
            "   0     1     2     3     4     5     \n",
            "1  0.010 0.257 0.500 0.744 0.908 \u001b[34m1.000 \u001b[0m\n",
            "2  0.000 0.126 0.369 0.613 0.777 0.869 \n",
            "3  0.000 0.000 0.114 0.358 0.522 0.614 \n",
            "4  0.000 0.000 0.000 0.135 0.299 0.391 \n",
            "5  0.000 0.000 0.000 0.000 0.145 0.237 \n",
            "6  0.000 0.000 0.000 0.000 0.000 0.059 \n",
            "\n",
            "Matriz de costos:\n",
            "   0     1     2     3     4     5     \n",
            "1  0.010 0.394 1.008 1.745 2.495 \u001b[32m2.974 \u001b[0m\n",
            "2  0.000 0.126 0.610 1.347 1.965 2.445 \n",
            "3  0.000 0.000 0.114 0.607 1.215 1.662 \n",
            "4  0.000 0.000 0.000 0.135 0.579 0.966 \n",
            "5  0.000 0.000 0.000 0.000 0.145 0.441 \n",
            "6  0.000 0.000 0.000 0.000 0.000 0.059 \n",
            "\n",
            "Costo mínimo del árbol: 2.974\n"
          ]
        },
        {
          "output_type": "display_data",
          "data": {
            "text/plain": [
              "<Figure size 432x288 with 1 Axes>"
            ],
            "image/png": "[encoded data removed]"
          },
          "metadata": {}
        }
      ]
    },
    {
      "cell_type": "markdown",
      "metadata": {
        "id": "I5GOiuFRgdTW"
      },
      "source": [
        "# 3. Correctitud\n",
        "\n",
        "### **Teorema 1: Correctitud de Optimal BST (bottom-up)**\n",
        "\n",
        "*El algoritmo **Optimal BST** retorna correctamente el costo esperado mínimo para un árbol con claves $k_1 \\ldots k_n$*\n",
        "\n",
        "## Prueba del Teorema\n",
        "\n",
        "### Subestructura óptima\n",
        "\n",
        "La subestructura óptima para este algoritmo considera que, si un árbol $T$ con claves $k_{i} \\ldots k_{j}$ es óptimo, necesariamente sus subárboles también deben serlo. Si un subárbol no lo fuera, estaríamos diciendo que existe otro subárbol con un menor costo esperado. De cumplirse este caso, estaríamos contradiciendo la optimalidad de $T$.\n",
        "\n",
        "Además, sabemos que para un árbol con claves $k_i \\ldots k_j$ existe una clave $k_{r}$ para la cual el subárbol izquierdo con claves $k_i \\ldots k_{r-1}$ y el subárbol derecho con claves $k_{r+1} \\ldots k_{j}$ son óptimos. Es decir, si seleccionamos cada una de las claves del árbol como raíz, nos aseguramos de encontrar un árbol de búsqueda óptimo.\n",
        "\n",
        "Es importante notar que al elegir uno de los nodos extremos como raíz, obtendremos un subárbol vacío. En la práctica, debemos considerar que cada subárbol contiene, además de claves $k_i \\ldots k_j$, claves ficticias $d_{i-1} \\ldots d_j$, que igualmente serán consideradas para el cálculo de la solución. Por lo tanto, si escogemos como raíz la clave $k_i$, el subárbol izquierdo no contendrá claves reales, sino una única clave ficticia $d_{i-1}$. Del mismo modo, si escogemos como raíz la clave $k_j$, el subárbol derecho contendrá una única clave ficticia $d_j$.\n",
        "\n",
        "### Solución recursiva\n",
        "\n",
        "Definiremos $e[i, j]$ como el costo esperado mínimo de un árbol con claves $k_i \\ldots k_j$. En primer lugar, consideremos los casos extremos. Cuando $k_r = k_i$, el costo para el subárbol izquierdo se expresará como $e[i,i-1]$, mientras que, cuando $k_r = k_j$, el costo para el subárbol derecho será $e[j+1,j]$. En ambos casos, el costo esperado $e[i, j]$ se calculará como $q_{i-1}$, que corresponde a la probabilidad de búsqueda de la única clave ficticia de estos árboles.\n",
        "\n",
        "Para el caso general, calcularemos el costo mínimo considerando cada uno de los nodos como la raíz del árbol, con $r = i \\ldots j$. Los costos para los subárboles izquierdo y derecho se expresarán como $e[i, r-1]$ y $e[r+1, j]$ respectivamente. Sin embargo, debemos considerar que cada uno de estos árboles pasará a ser un subárbol del nodo con clave $k_r$, por lo tanto, debemos calcular la variación que esto produce en el costo esperado. Recordemos que la fórmula del costo esperado es:\n",
        "\n",
        "$E(T) = \\sum\\limits_{i=1}^{n} (h(k_i)+1) \\cdot p_i + \\sum\\limits_{i=0}^{n} (h(d_i)+1) \\cdot q_i$\n",
        "\n",
        "$E(T) = 1 + \\sum\\limits_{i=1}^{n} h(k_i) \\cdot p_i + \\sum\\limits_{i=0}^{n} h(d_i) \\cdot q_i$\n",
        "\n",
        "A partir de esta fórmula, obtenemos que al aumentar la profundidad del árbol en 1, el costo esperado aumenta con un factor equivalente a la suma de probabilidades de los nodos del árbol. Esta suma se define como:\n",
        "\n",
        "$w(i, j) = \\sum\\limits_{k=i}^{j} p_k + \\sum\\limits_{k=i-1}^{j} q_k$\n",
        "\n",
        "Por lo tanto, si $k_r$ es la raíz de un árbol óptimo con claves $k_i \\ldots k_j$, tenemos que:\n",
        "\n",
        "$e[i, j] = p_r + (e[i, r-1] + w(i, r-1)) + (e[r+1, j] + w(r+1, j))$\n",
        "\n",
        "Observemos que:\n",
        "\n",
        "$w(i, j) = p_r + w(i, r-1) + w(r+1, j)$\n",
        "\n",
        "Reescribiendo la fórmula para $e[i, j]$:\n",
        "\n",
        "$e[i, j] = e[i, r-1] + e[r+1, j] + w(i, j)$\n",
        "\n",
        "Finalmente, la fórmula recursiva final para $e[i, j]$, considerando los casos extremos y todos los valores posibles de $r$ es: \n",
        "\n",
        "$   \n",
        "e[i, j] = \n",
        "     \\begin{cases}\n",
        "       q_{i-1} &\\quad\\text{si } i = j+1 \\\\\n",
        "       \\min\\limits_{i \\leq r \\leq j} \\{e[i, r-1] + e[r+1, j] + w(i, j)\\} &\\quad\\text{si } i \\leq j \\\\\n",
        "     \\end{cases}\n",
        "$\n",
        "\n",
        "### Correctitud\n",
        "\n",
        "Demostraremos la correctitud del algoritmo mediante inducción. Nuestra hipótesis $P(n)$ dice que, para un árbol con $n$ nodos cuyas claves son $k_1, k_2 \\ldots k_n$, se calculará correctamente el costo esperado $e[1,n]$. \n",
        "\n",
        "**Caso base**\n",
        "\n",
        "Para $P(0)$, se calculará $e[1,0]$, cumpliéndose el primer caso de la fórmula recursiva antes planteada. Por lo tanto, el valor retornado será $q_{i-1} = q_{0}$. En este caso existe un único nodo ficticio con altura $h = 0$. Aplicando la definición de costo esperado, tenemos que $E(T) = (h(d_i) + 1) \\cdot q_{i-1} = q_{0}$, por lo cual el valor retornado es correcto.\n",
        "\n",
        "**Paso inductivo**\n",
        "\n",
        "Para $P(n)$, con $n \\geq 1$, se calculará $e[1,n]$ cumpliéndose el segundo caso de la fórmula recursiva. El algoritmo itera por todas las posibles raíces del árbol óptimo, desde $1$ hasta $n$, y calcula el costo esperado de los subárboles resultantes.\n",
        "\n",
        "\n"
      ]
    },
    {
      "cell_type": "markdown",
      "metadata": {
        "id": "SBnAbVFz_tvd"
      },
      "source": [
        "# 4. Tiempo de ejecución y complejidad espacial\n",
        "\n",
        "### **Teorema 2: Tiempo de ejecución del algoritmo Optimal BST (recursivo)**\n",
        "\n",
        "*El algoritmo **Optimal BST** recursivo tiene un tiempo de ejecución $\\Theta(3^n)$.*\n",
        "\n",
        "## Prueba del teorema\n",
        "\n",
        "Notemos que el algoritmo calcula recursivamente la solución para el subárbol izquierdo y derecho a partir de la raíz $r$, la cual varía entre 1 y $n$. A partir de esto, podemos expresar el tiempo de ejecución del algoritmo mediante la siguiente función de recurrencia:\n",
        "\n",
        "$   \n",
        "T(n) = \n",
        "     \\begin{cases}\n",
        "       \\Theta(1) &\\quad\\text{si } n = 0 \\\\\n",
        "       \\sum\\limits_{r=1}^{n} T(r-1) + T(n-r) &\\quad\\text{si } n \\geq 1 \\\\\n",
        "     \\end{cases}\n",
        "$\n",
        "\n",
        "Desarrollando la fórmula para $n \\geq 1$, nos queda:\n",
        "\n",
        "$T(n) = T(0) + \\ldots + T(n-1) + T(n-1) + \\ldots + T(0)$\n",
        "\n",
        "$T(n) = 2 \\cdot [T(0) + T(1) + ... + T(n-1) ]$\n",
        "\n",
        "$T(n) = 2 \\cdot \\sum\\limits_{r=1}^{n} T(r-1)$\n",
        "\n",
        "Luego, podemos demostrar por inducción que $T(n) = 3^n$. Para el caso base, tenemos que $T(0) = 3^0 = 1$. Aplicando la hipótesis inductiva a la ecuación anterior, obtenemos:\n",
        "\n",
        "$T(n) = 1 + 2 \\cdot \\sum\\limits_{r=1}^{n} 3^{r-1}$\n",
        "\n",
        "$T(n) = 1 + 2 \\cdot \\frac{3^n - 1}{3-1}$\n",
        "\n",
        "$T(n) = 1 + 3^n - 1$\n",
        "\n",
        "$T(n) = 3^n$\n",
        "\n",
        "Por lo tanto, la complejidad temporal del algoritmo Optimal BST recursivo es $\\Theta(3^n)$. $\\Box$\n",
        "\n",
        "### **Teorema 3: Tiempo de ejecución del algoritmo Optimal BST (bottom-up)**\n",
        "\n",
        "*El algoritmo **Optimal BST** implementado con programación dinámica tiene un tiempo de ejecución $\\Theta(n^3)$.*\n",
        "\n",
        "## Prueba del teorema\n",
        "\n",
        "Para demostrar el teorema, calcularemos matemáticamente la cantidad de subproblemas que debe resolver este algoritmo. Observemos que la cantidad de subproblemas corresponde al número de subárboles a los cuales se calcula el costo esperado mínimo. Estos valores son almacenados en una matriz triangular superior, en las casillas que se muestran en la figura ($n = 5$).\n",
        "\n",
        "![picture](https://drive.google.com/uc?export=view&id=11dEi4btP5Y6Vcw8FGj41ccUOeoZ-5xpM)\n",
        "\n",
        "Generalizando, para un problema de tamaño $n$ se ocupará la mitad de casillas de una matriz $n \\times n$, es decir, se resolverán exactamente $\\frac{n^2}{2}$ subproblemas. Por lo tanto, podemos decir que la cantidad de subproblemas a resolver tiene complejidad $O(n^2)$.\n",
        "\n",
        "Luego, cada subproblema es resuelto con la fórmula recursiva:\n",
        "\n",
        "$  \n",
        "e[i,j] = \n",
        "     \\begin{cases}\n",
        "       q_{i-1} &\\quad\\text{si } j = i - 1\\\\\n",
        "       \\min\\limits_{i \\leq r \\leq j} e[i,r-1] + e[r+1,j] + w[i,j] &\\quad\\text{si } i \\leq j\\\\\n",
        "     \\end{cases}\n",
        "$\n",
        "\n",
        "Como se puede ver, encontrar la solución de manera recursiva requiere iterar por todas las raíces posibles que puede tener el subárbol $i \\ldots j$. Por lo tanto, encontrar la solución a cada subproblema tiene un tiempo de $O(n)$.\n",
        "\n",
        "Por último, reconstruir el árbol con la función `construct_optimal_bst` tiene un tiempo de ejecución $O(\\log{n})$.\n",
        "\n",
        "Considerando esto, podemos calcular el tiempo total del algoritmo con la función $T(n) = f(n) \\cdot g(n) + h(n)$, donde $f(n)$ corresponde a la cantidad de subproblemas, $g(n)$ corresponde al tiempo necesario para resolver cada subproblema, y $h(n)$ es el tiempo empleado en reconstruir la solución final. Reemplazando, obtenemos:\n",
        "\n",
        "$T(n) = O(n^2) \\cdot O(n) + O(\\log{n})$\n",
        "\n",
        "$T(n) = O(n^3)$\n",
        "\n",
        "Finalmente, notemos que no existe un peor ni un mejor caso para este algoritmo. Puesto que se trata de un algoritmo de **optimización**, se considerarán todos los casos posibles para encontrar la solución final. Debido a esto, podemos decir que el tiempo ocupado por el algoritmo solo depende del tamaño del problema, y por lo tanto, podemos expresar su complejidad con la notación $\\Theta(n^3)$. $\\Box$\n",
        "\n",
        "\n",
        "\n"
      ]
    },
    {
      "cell_type": "markdown",
      "metadata": {
        "id": "_WddDIiioclW"
      },
      "source": [
        "# 5. Experimentos\n",
        "\n",
        "## 5.1. Comparación entre implementación recursiva y bottom-up\n"
      ]
    },
    {
      "cell_type": "markdown",
      "metadata": {
        "id": "8U-blqFTIriX"
      },
      "source": [
        "### Tiempo experimental de Optimal BST (recursivo)\n",
        "\n",
        "Los valores de entrada para este gráfico serán generados de forma aleatoria con $n \\in [5,15]$"
      ]
    },
    {
      "cell_type": "code",
      "execution_count": null,
      "metadata": {
        "colab": {
          "base_uri": "https://localhost:8080/",
          "height": 279
        },
        "id": "zEGSH_nyHTn4",
        "outputId": "7b8e5300-ddd2-43a2-c6c0-ba06fda5d698"
      },
      "outputs": [
        {
          "output_type": "display_data",
          "data": {
            "text/plain": [
              "<Figure size 432x288 with 1 Axes>"
            ],
            "image/png": "[encoded data removed]"
          },
          "metadata": {
            "needs_background": "light"
          }
        }
      ],
      "source": [
        "import matplotlib.pyplot as plt\n",
        "import numpy as np\n",
        "from timeit import repeat\n",
        "\n",
        "x=[]; y=[];\n",
        "\n",
        "for n in range(5,16):\n",
        "  k, p, q = optimal_bst_instance_generator(n)\n",
        "  t = repeat(setup=\"from __main__ import recursive_optimal_bst\", stmt=f\"recursive_optimal_bst({k},{p},{q.tolist()},{1},{n})\", repeat=1, number=10)\n",
        "\n",
        "  x.append(n)\n",
        "  y.append(t)\n",
        "\n",
        "plt.plot(x,y)\n",
        "plt.xlabel('n')\n",
        "plt.ylabel('Tiempo en ms')\n",
        "plt.show()"
      ]
    },
    {
      "cell_type": "markdown",
      "metadata": {
        "id": "fAJ3xKZULL0L"
      },
      "source": [
        "### Tiempo experimental de Optimal BST (bottom-up)\n",
        "\n",
        "Los valores de entrada para este gráfico serán generados de forma aleatoria con $n \\in [5,100]$"
      ]
    },
    {
      "cell_type": "code",
      "execution_count": 91,
      "metadata": {
        "id": "SlXGjwCgLHeT",
        "colab": {
          "base_uri": "https://localhost:8080/",
          "height": 283
        },
        "outputId": "e122cca9-c45a-41c0-ad1c-4107c5075f0d"
      },
      "outputs": [
        {
          "output_type": "display_data",
          "data": {
            "text/plain": [
              "<Figure size 432x288 with 1 Axes>"
            ],
            "image/png": "[encoded data removed]"
          },
          "metadata": {
            "needs_background": "light"
          }
        }
      ],
      "source": [
        "x=[]; y=[];\n",
        "\n",
        "for n in range(5,100):\n",
        "  k, p, q = optimal_bst_instance_generator(n)\n",
        "  t = repeat(setup=\"from __main__ import optimal_bst\", stmt=f\"optimal_bst({k},{p},{q.tolist()},{n})\", repeat=1, number=10)\n",
        "\n",
        "  x.append(n)\n",
        "  y.append(t)\n",
        "\n",
        "plt.plot(x,y, color='tab:orange')\n",
        "plt.xlabel('n')\n",
        "plt.ylabel('Tiempo en ms')\n",
        "plt.show()"
      ]
    },
    {
      "cell_type": "markdown",
      "metadata": {
        "id": "iFi60LbJLm5y"
      },
      "source": [
        "### Tiempo experimental para ambos algoritmos\n",
        "\n",
        "Los valores de entrada para este gráfico serán generados de forma aleatoria con $n \\in [5,15]$"
      ]
    },
    {
      "cell_type": "code",
      "execution_count": null,
      "metadata": {
        "colab": {
          "base_uri": "https://localhost:8080/",
          "height": 280
        },
        "id": "ycN9MM8iLd5C",
        "outputId": "f77d3a89-f2d0-414d-95b9-d4e23660d44e"
      },
      "outputs": [
        {
          "output_type": "display_data",
          "data": {
            "text/plain": [
              "<Figure size 432x288 with 1 Axes>"
            ],
            "image/png": "[encoded data removed]"
          },
          "metadata": {
            "needs_background": "light"
          }
        }
      ],
      "source": [
        "x=[]; y1=[]; y2=[];\n",
        "\n",
        "for n in range(5,16):\n",
        "  k, p, q = optimal_bst_instance_generator(n)\n",
        "  t1 = repeat(setup=\"from __main__ import recursive_optimal_bst\", stmt=f\"recursive_optimal_bst({k},{p},{q.tolist()},{1},{n})\", repeat=1, number=10)\n",
        "  t2 = repeat(setup=\"from __main__ import optimal_bst\", stmt=f\"optimal_bst({k},{p},{q.tolist()},{n})\", repeat=1, number=10)\n",
        "\n",
        "  x.append(n)\n",
        "  y1.append(t1)\n",
        "  y2.append(t2)\n",
        "\n",
        "plt.plot(x,y1)\n",
        "plt.plot(x,y2)\n",
        "plt.legend([\"Recursivo\", \"Bottom-up\"])\n",
        "\n",
        "plt.xlabel('n')\n",
        "plt.ylabel('Tiempo en ms')\n",
        "plt.show()"
      ]
    },
    {
      "cell_type": "markdown",
      "metadata": {
        "id": "ptSomB5JpTFE"
      },
      "source": [
        "### Análisis de resultados\n",
        "\n",
        "Como era de esperar, el tiempo de ejecución del algoritmo recursivo crece a un nivel exponencial, a diferencia de la implementación con programación dinámica, cuya curva tiene un crecimiento polinómico.\n",
        "\n",
        "A la hora de comparar ambos algoritmos, podemos notar que el tiempo del algoritmo recursivo predomina totalmente en el gráfico. Esto se debe a la complejidad $O(3^n)$ del algoritmo recursivo, cuya tasa de crecimiento es significativamente mayor que la complejidad $O(n^3)$ del algoritmo bottom-up.\n"
      ]
    },
    {
      "cell_type": "markdown",
      "metadata": {
        "id": "3XVCqdgENDg0"
      },
      "source": [
        "## 5.2. Optimal BST con raíz fija"
      ]
    },
    {
      "cell_type": "markdown",
      "source": [
        "A continuación se presenta un algoritmo modificado para el problema del árbol de búsqueda óptimo, el cual calcula un costo esperado mínimo aproximado, dejando como raíz del árbol al elemento con mayor probabilidad de ser buscado. Este algoritmo fue implementado tanto en su versión recursiva como en su versión con programación dinámica."
      ],
      "metadata": {
        "id": "_9w43uv0EPEk"
      }
    },
    {
      "cell_type": "markdown",
      "source": [
        "### Optimal BST modificado (recursivo)"
      ],
      "metadata": {
        "id": "Y5XHfr8UHiqA"
      }
    },
    {
      "cell_type": "code",
      "source": [
        "import numpy\n",
        "\n",
        "def modified_recursive_optimal_bst(k,p,q,n):\n",
        "  # Índice del nodo con mayor probabilidad (1...n)\n",
        "  r = np.argmax(p) + 1\n",
        "\n",
        "  e_left = recursive_optimal_bst(k,p,q,1,r-1)[0]\n",
        "  e_right = recursive_optimal_bst(k,p,q,r+1,n)[0]\n",
        "  e = e_left + e_right + sum(p) + sum(q)\n",
        "\n",
        "  return e\n",
        "\n",
        "k = [1, 2, 3, 4, 5]\n",
        "p = [0.15, 0.10, 0.05, 0.10, 0.20]\n",
        "q = [0.05, 0.10, 0.05, 0.05, 0.05, 0.10]\n",
        "\n",
        "modified_recursive_optimal_bst(k,p,q,5)"
      ],
      "metadata": {
        "colab": {
          "base_uri": "https://localhost:8080/"
        },
        "id": "6qvbIEGxB-QZ",
        "outputId": "a22a8025-1f5f-45e8-cba6-bc608afcbcd1"
      },
      "execution_count": 70,
      "outputs": [
        {
          "output_type": "execute_result",
          "data": {
            "text/plain": [
              "2.85"
            ]
          },
          "metadata": {},
          "execution_count": 70
        }
      ]
    },
    {
      "cell_type": "markdown",
      "source": [
        "### Optimal BST modificado (programación dinámica)"
      ],
      "metadata": {
        "id": "WmCONEcVHomw"
      }
    },
    {
      "cell_type": "code",
      "source": [
        "import numpy\n",
        "\n",
        "def modified_optimal_bst(k,p,q,n):\n",
        "  # Índice del nodo con mayor probabilidad (0...n-1)\n",
        "  r = np.argmax(p)\n",
        "\n",
        "  e_left = optimal_bst(k[:r],p[:r],q[:r+1],r)[0]\n",
        "  e_right = optimal_bst(k[r+1:],p[r+1:],q[r+1:],n-r-1)[0]\n",
        "  e = e_left + e_right + sum(p) + sum(q)\n",
        "  return e\n",
        "\n",
        "k = [1, 2, 3, 4, 5]\n",
        "p = [0.15, 0.10, 0.05, 0.10, 0.20]\n",
        "q = [0.05, 0.10, 0.05, 0.05, 0.05, 0.10]\n",
        "\n",
        "modified_optimal_bst(k,p,q,5)"
      ],
      "metadata": {
        "colab": {
          "base_uri": "https://localhost:8080/"
        },
        "id": "qwxxtvKwHm9t",
        "outputId": "c3f034b8-7670-44f1-b704-d90711153195"
      },
      "execution_count": 76,
      "outputs": [
        {
          "output_type": "execute_result",
          "data": {
            "text/plain": [
              "2.85"
            ]
          },
          "metadata": {},
          "execution_count": 76
        }
      ]
    },
    {
      "cell_type": "markdown",
      "source": [
        "### Comparación del costo esperado real vs aproximado"
      ],
      "metadata": {
        "id": "i8JQQ9VeHydO"
      }
    },
    {
      "cell_type": "markdown",
      "source": [
        "Puesto que ambos algoritmos tienen la misma salida, es irrelevante cuál de ellos se escoja para comparar el costo esperado. Sin embargo, por razones de eficiencia, se hará uso del algoritmo con programación dinámica.\n",
        "\n",
        "Los valores de entrada para este gráfico serán generados de forma aleatoria con $n \\in [5,100]$"
      ],
      "metadata": {
        "id": "RRsN-QroH72m"
      }
    },
    {
      "cell_type": "code",
      "source": [
        "import matplotlib.pyplot as plt\n",
        "import numpy as np\n",
        "\n",
        "x=[]; y1=[]; y2=[]\n",
        "\n",
        "for n in range(5,101):\n",
        "  k, p, q = optimal_bst_instance_generator(n)\n",
        "\n",
        "  e_real = optimal_bst(k,p,q,n)[0]\n",
        "  e_aprox = modified_optimal_bst(k,p,q,n)\n",
        "\n",
        "  x.append(n)\n",
        "  y1.append(e_real)\n",
        "  y2.append(e_aprox)\n",
        "\n",
        "plt.plot(x,y1)\n",
        "plt.plot(x,y2)\n",
        "plt.legend([\"Costo real\", \"Costo aproximado\"])\n",
        "\n",
        "plt.xlabel('n')\n",
        "plt.ylabel('Costo esperado')\n",
        "plt.show()"
      ],
      "metadata": {
        "colab": {
          "base_uri": "https://localhost:8080/",
          "height": 279
        },
        "id": "9T13I8T8x_zE",
        "outputId": "ea5333ae-3184-4c9a-ec14-24f05138895d"
      },
      "execution_count": 92,
      "outputs": [
        {
          "output_type": "display_data",
          "data": {
            "text/plain": [
              "<Figure size 432x288 with 1 Axes>"
            ],
            "image/png": "[encoded data removed]"
          },
          "metadata": {
            "needs_background": "light"
          }
        }
      ]
    },
    {
      "cell_type": "markdown",
      "source": [
        "### Comparación entre implementación recursiva real vs modificada\n",
        "\n",
        "Los valores de entrada para este gráfico serán generados de forma aleatoria con $n \\in [5,15]$"
      ],
      "metadata": {
        "id": "mQkGOYbuJ7Q1"
      }
    },
    {
      "cell_type": "code",
      "source": [
        "import matplotlib.pyplot as plt\n",
        "import numpy as np\n",
        "from timeit import repeat\n",
        "\n",
        "x=[]; y1=[]; y2=[]\n",
        "\n",
        "for n in range(5,16):\n",
        "  k, p, q = optimal_bst_instance_generator(n)\n",
        "\n",
        "  t1 = repeat(setup=\"from __main__ import recursive_optimal_bst\", stmt=f\"recursive_optimal_bst({k},{p},{q.tolist()},{1},{n})\", repeat=1, number=10)\n",
        "  t2 = repeat(setup=\"from __main__ import modified_recursive_optimal_bst\", stmt=f\"modified_recursive_optimal_bst({k},{p},{q.tolist()},{n})\", repeat=1, number=10)\n",
        "\n",
        "  x.append(n)\n",
        "  y1.append(t1)\n",
        "  y2.append(t2)\n",
        "\n",
        "plt.plot(x,y1)\n",
        "plt.plot(x,y2)\n",
        "plt.legend([\"Recursivo\", \"Recursivo modificado\"])\n",
        "\n",
        "plt.xlabel('n')\n",
        "plt.ylabel('Tiempo en ms')\n",
        "plt.show()"
      ],
      "metadata": {
        "colab": {
          "base_uri": "https://localhost:8080/",
          "height": 279
        },
        "id": "Rjw_IyyoKqtO",
        "outputId": "5edb5edd-030b-4c70-81c3-d89dde9cd7b9"
      },
      "execution_count": 94,
      "outputs": [
        {
          "output_type": "display_data",
          "data": {
            "text/plain": [
              "<Figure size 432x288 with 1 Axes>"
            ],
            "image/png": "[encoded data removed]"
          },
          "metadata": {
            "needs_background": "light"
          }
        }
      ]
    },
    {
      "cell_type": "markdown",
      "source": [
        "### Comparación entre implementación bottom-up real vs modificada\n",
        "\n",
        "Los valores de entrada para este gráfico serán generados de forma aleatoria con $n \\in [5,100]$"
      ],
      "metadata": {
        "id": "ryYHuCGWMBf8"
      }
    },
    {
      "cell_type": "code",
      "source": [
        "x=[]; y1=[]; y2=[]\n",
        "\n",
        "for n in range(5,100):\n",
        "  k, p, q = optimal_bst_instance_generator(n)\n",
        "\n",
        "  t1 = repeat(setup=\"from __main__ import optimal_bst\", stmt=f\"optimal_bst({k},{p},{q.tolist()},{n})\", repeat=1, number=10)\n",
        "  t2 = repeat(setup=\"from __main__ import modified_optimal_bst\", stmt=f\"modified_optimal_bst({k},{p},{q.tolist()},{n})\", repeat=1, number=10)\n",
        "\n",
        "  x.append(n)\n",
        "  y1.append(t1)\n",
        "  y2.append(t2)\n",
        "\n",
        "plt.plot(x,y1)\n",
        "plt.plot(x,y2)\n",
        "plt.legend([\"Bottom-up\", \"Bottom-up modificado\"])\n",
        "\n",
        "plt.xlabel('n')\n",
        "plt.ylabel('Tiempo en ms')\n",
        "plt.show()"
      ],
      "metadata": {
        "colab": {
          "base_uri": "https://localhost:8080/",
          "height": 279
        },
        "id": "V9YUMwVELvMe",
        "outputId": "8e2ff41b-9207-4fec-aa18-69bf86ed3dfd"
      },
      "execution_count": 99,
      "outputs": [
        {
          "output_type": "display_data",
          "data": {
            "text/plain": [
              "<Figure size 432x288 with 1 Axes>"
            ],
            "image/png": "[encoded data removed]"
          },
          "metadata": {
            "needs_background": "light"
          }
        }
      ]
    },
    {
      "cell_type": "markdown",
      "metadata": {
        "id": "Sf1CM9aGA5ZA"
      },
      "source": [
        "### Análisis de resultados\n",
        "\n",
        "Observando el primer gráfico, notamos que la variación entre el costo esperado mínimo real y el costo aproximado no es significativa, por lo cual, utilizar el algoritmo modificado no parece ser una mala opción, especialmente para problemas de gran tamaño.\n",
        "\n",
        "Luego, si comparamos el tiempo de ejecución del algoritmo recursivo real con su versión modificada, observamos que esta última es más eficiente, sin embargo, debemos tener en cuenta que el tiempo ocupado por este algoritmo es variable, pues depende de dónde se encuentre la clave con mayor probabilidad. Si se encuentra al principio, se llamará a la función `recursive_optimal_bst` para encontrar el costo del subárbol derecho con $n-1$ nodos, lo cual se traduce en un tiempo de $O(3^{n-1})$. Si se encontrase a la mitad, encontrar el costo mínimo de ambos subárboles tendrá un tiempo aproximado de $2 \\cdot O(3^{n/2})$. A pesar de esto, sabemos que la versión modificada siempre será más eficiente, pues en el peor caso, su complejidad será $O(3^{n-1})$.\n",
        "\n",
        "Por otro lado, la diferencia en el tiempo de ejecución del algoritmo bottom-up real en comparación con su versión modificada no es tan evidente. Al igual que el algoritmo recursivo modificado, su tiempo es variable, pues depende de la ubicación de la clave con mayor probabilidad. Si realizamos un análisis similar, obtendremos que su complejidad, en el peor caso, será $O((n-1)^3)$, y por lo tanto, siempre será más eficiente que la implementación original. \n",
        "\n",
        "\n"
      ]
    }
  ],
  "metadata": {
    "colab": {
      "collapsed_sections": [
        "deOsebM06Bt0",
        "naoN1twNlXPL",
        "KKTUdfSes6B4",
        "L0VpphJB6FvO",
        "I5GOiuFRgdTW",
        "SBnAbVFz_tvd",
        "_WddDIiioclW",
        "8U-blqFTIriX",
        "fAJ3xKZULL0L",
        "iFi60LbJLm5y",
        "ptSomB5JpTFE",
        "3XVCqdgENDg0",
        "Sf1CM9aGA5ZA"
      ],
      "provenance": [],
      "authorship_tag": "ABX9TyO7+b7fzSuxly08dkeDbOKQ",
      "include_colab_link": true
    },
    "kernelspec": {
      "display_name": "Python 3",
      "name": "python3"
    },
    "language_info": {
      "name": "python"
    }
  },
  "nbformat": 4,
  "nbformat_minor": 0
}