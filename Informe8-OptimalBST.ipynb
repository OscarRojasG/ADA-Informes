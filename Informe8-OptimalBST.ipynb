{
  "cells": [
    {
      "cell_type": "markdown",
      "metadata": {
        "id": "view-in-github",
        "colab_type": "text"
      },
      "source": [
        "<a href=\"https://colab.research.google.com/github/OscarRojasG/ADA-Informes/blob/main/Informe8-OptimalBST.ipynb\" target=\"_parent\"><img src=\"https://colab.research.google.com/assets/colab-badge.svg\" alt=\"Open In Colab\"/></a>"
      ]
    },
    {
      "cell_type": "markdown",
      "metadata": {
        "id": "deOsebM06Bt0"
      },
      "source": [
        "# 1. Problema del árbol de búsqueda óptimo\n",
        "\n",
        "**Entrada**: Secuencia ordenada de $n$ claves: $K=\\left<k_1,k_2,...,k_n\\right>$. Cada clave $k_i$ tiene una probabilidad $p_i$ de ser buscada. Existen claves ficticias $d_i$ que representan búsquedas fallidas con $k_{i-1} \\leq d_i \\leq k_i$. Cada clave $d_i$ tiene una probabilidad $q_i$ de ser buscada. La suma de probabilidades debe ser uno, es decir: $\\sum\\limits_{i=1}^n p_i + \\sum\\limits_{j=0}^n q_i = 1$\n",
        "\n",
        "**Salida**: Árbol de búsqueda óptimo que minimice la cantidad esperada de nodos visitados (costo esperado).\n",
        "\n",
        "El problema del árbol de búsqueda óptimo (Optimal BST), consiste en encontrar una configuración para los nodos de un árbol con el fin de minimizar la cantidad promedio de nodos visitados por cada búsqueda. En el caso de que cada nodo tenga la misma probabilidad de ser buscado, esto no sería problema, pues la solución simplemente consistiría en balancear el árbol. Sin embargo, esto no siempre es así, pues existirán casos en los que cada nodo tenga una frecuencia o probabilidad de búsqueda distinta a los demás.\n",
        "\n",
        "La cantidad promedio de nodos visitados por cada búsqueda se denomina **costo esperado**, y se calcula multiplicando el costo de cada nodo por su probabilidad de búsqueda.\n",
        "\n",
        "$\\text{costo esperado} = \\sum\\limits_i p_i c_i$\n",
        "\n",
        "El costo $c_i$ de cada nodo es igual a su altura más uno. Por ejemplo, si consideramos la altura del nodo raíz como 0, entonces su costo será 1.\n",
        "\n",
        "Consideremos el siguiente ejemplo para entender el problema. Tenemos 3 nodos con claves $E$, $F$ y $G$, cuyas probabilidades de búsqueda son $p_E = 0.7$, $p_F = 0.2$ y $p_G = 0.1$. ¿Cuál es el árbol de búsqueda que minimiza el costo esperado? Consideremos estos 3 casos:\n",
        "\n",
        "<img src=\"https://drive.google.com/uc?export=view&id=1J401uwFuhHmFvy5GvSdi86-pvUkiWa6n\" width=\"600\"/>\n",
        "\n",
        "Cabe destacar que en total existen 5 permutaciones distintas para 3 nodos, sin embargo, para este ejemplo solo consideraremos estas 3.\n",
        "\n",
        "En primer lugar, observemos que cada uno de estos árboles cumple con la propiedad del árbol de búsqueda: los nodos menores están ubicados a la izquierda de la raíz, y los mayores a la derecha. Debemos encontrar aquel donde el costo esperado de búsqueda sea menor, para ello, realizamos el cálculo correspondiente para cada árbol:\n",
        "\n",
        "$\\text{costo esperado (1)} = p_E \\cdot c_E + p_F \\cdot c_F + p_G \\cdot c_G = 0.7 \\cdot 2 + 0.2 \\cdot 1 + 0.1 \\cdot 2 = 1.8$\n",
        "\n",
        "$\\text{costo esperado (2)} = p_E \\cdot c_E + p_F \\cdot c_F + p_G \\cdot c_G = 0.7 \\cdot 1 + 0.2 \\cdot 2 + 0.1 \\cdot 3 = 1.4$\n",
        "\n",
        "$\\text{costo esperado (3)} = p_E \\cdot c_E + p_F \\cdot c_F + p_G \\cdot c_G = 0.7 \\cdot 2 + 0.2 \\cdot 3 + 0.1 \\cdot 1 = 2.1$\n",
        "\n",
        "Considerando los resultados obtenidos, el árbol de búsqueda óptimo corresponde a la opción 2, pues tiene un menor costo esperado. Este ejemplo es una simplificación del problema real, pues en la práctica, también debemos considerar el caso de las búsquedas fallidas. Para ello, lo único que debemos hacer es prolongar el árbol añadiendo **claves ficticias** (dummy keys) que representarán el caso cuando el nodo buscado no se encuentre en el árbol. En la siguiente imagen, las claves $k$ corresponden a claves reales, mientras que las claves $d$ corresponden a claves ficticias:\n",
        "\n",
        "<img src=\"https://drive.google.com/uc?export=view&id=1pK8UnfLdhliNLKJaiGoCSWrbtT_ZpEDu\" width=\"400\"/>\n",
        "\n",
        "Por último, es importante mencionar que las claves ficticias también tienen una probabilidad de búsqueda asignada, que en conjunto con las probabilidades de búsqueda de las claves reales deben sumar 1.\n",
        "\n",
        "\n"
      ]
    },
    {
      "cell_type": "markdown",
      "metadata": {
        "id": "ShNc87InQrV1"
      },
      "source": [
        "# 2. Optimal BST"
      ]
    },
    {
      "cell_type": "markdown",
      "metadata": {
        "id": "qCFujGBVe7Lg"
      },
      "source": [
        "## 2.1 Código "
      ]
    },
    {
      "cell_type": "markdown",
      "source": [
        "### Funciones auxiliares"
      ],
      "metadata": {
        "id": "1TQFSwQ-Ci9D"
      }
    },
    {
      "cell_type": "code",
      "source": [
        "class Node:\n",
        "  parent = None\n",
        "  right = None\n",
        "  left = None\n",
        "  key = None\n",
        "  \n",
        "  def __init__(self, key):\n",
        "    self.key = key \n",
        "\n",
        "class Tree:\n",
        "  root = None\n",
        "\n",
        "  def set_left_subtree(self, tree):\n",
        "    self.root.left = tree.root\n",
        "    if tree.root: tree.root.parent = self.root\n",
        "\n",
        "  def set_right_subtree(self, tree):\n",
        "    self.root.right = tree.root\n",
        "    if tree.root: tree.root.parent = self.root\n",
        "\n",
        "  def set_root(self, key):\n",
        "    self.root = Node(key)\n",
        "\n",
        "  def get_nodes(self, root):\n",
        "    if root == None: return []\n",
        "\n",
        "    n_left = self.get_nodes(root.left)\n",
        "    n_right = self.get_nodes(root.right)\n",
        "\n",
        "    n = n_left + n_right\n",
        "    n.append(root)\n",
        "\n",
        "    return n"
      ],
      "metadata": {
        "id": "xdIKunIYtPxG"
      },
      "execution_count": 2,
      "outputs": []
    },
    {
      "cell_type": "code",
      "source": [
        "import networkx as nx\n",
        "\n",
        "# Obtenido de https://stackoverflow.com/questions/33439810/\n",
        "\n",
        "def binary_tree_layout(G, root, width=1., vert_gap = 0.2, vert_loc = 0, \n",
        "                       xcenter = 0.5, pos = None, parent = None):\n",
        "  if pos == None:\n",
        "    pos = {root:(xcenter, vert_loc)}\n",
        "  else:\n",
        "    pos[root] = (xcenter, vert_loc)\n",
        "\n",
        "  neighbors = list(G.neighbors(root))\n",
        "\n",
        "  if len(neighbors) != 0:\n",
        "\n",
        "    dx = width/2.\n",
        "    leftx = xcenter - dx/2\n",
        "    rightx = xcenter + dx/2\n",
        "\n",
        "    for neighbor in neighbors:\n",
        "      if G.nodes[neighbor]['child_status'] == 'LEFT':\n",
        "        pos = binary_tree_layout(G, neighbor, width = dx, vert_gap = vert_gap, \n",
        "                                 vert_loc = vert_loc-vert_gap, xcenter=leftx, \n",
        "                                 pos=pos, parent = root)\n",
        "        \n",
        "      elif G.nodes[neighbor]['child_status'] == 'RIGHT':\n",
        "        pos = binary_tree_layout(G, neighbor, width = dx, vert_gap = vert_gap,\n",
        "                                 vert_loc = vert_loc-vert_gap, xcenter=rightx,\n",
        "                                 pos=pos, parent = root)\n",
        "        \n",
        "  return pos"
      ],
      "metadata": {
        "id": "UPRGTEkLzmdY"
      },
      "execution_count": 3,
      "outputs": []
    },
    {
      "cell_type": "code",
      "source": [
        "import networkx as nx\n",
        "from networkx.drawing.nx_pydot import graphviz_layout\n",
        "\n",
        "def visualize_tree(tree):\n",
        "  T = nx.DiGraph()\n",
        "  N = tree.get_nodes(tree.root)\n",
        "\n",
        "  for i in range(len(N)): \n",
        "    if N[i].parent == None:\n",
        "      T.add_node(N[i].key, child_status='LEFT')\n",
        "      continue\n",
        "\n",
        "    if N[i].parent.left == N[i]:\n",
        "      T.add_node(N[i].key, child_status='LEFT')\n",
        "    else:\n",
        "      T.add_node(N[i].key, child_status='RIGHT')\n",
        "\n",
        "    T.add_edge(N[i].parent.key, N[i].key)\n",
        "\n",
        "  tree_pos = binary_tree_layout(T, tree.root.key)\n",
        "  nx.draw(T, tree_pos, with_labels=True, font_size=12, node_size=1000, node_color='white', edgecolors='black')"
      ],
      "metadata": {
        "id": "74R3f5kOf7Ph"
      },
      "execution_count": 4,
      "outputs": []
    },
    {
      "cell_type": "code",
      "source": [
        "from termcolor import colored\n",
        "\n",
        "def print_matrix(A, m, n, k, color):\n",
        "  print(\"%2s \" % '', end='')\n",
        "  for i in range(1,m):\n",
        "    print(\"%-5d \" % (i-1), end='')\n",
        "  print()\n",
        "  for i in range(1,m):\n",
        "    print(\"%-2d \" % i, end='')\n",
        "    for j in range(n):\n",
        "      if j-i+1 == k:\n",
        "        print(colored(\"%.3f \" % A[i][j], color), end='')\n",
        "      else:\n",
        "        print(\"%.3f \" % A[i][j], end='')\n",
        "    print()\n",
        "  print()"
      ],
      "metadata": {
        "id": "y6Mx3F7N0_DU"
      },
      "execution_count": 5,
      "outputs": []
    },
    {
      "cell_type": "markdown",
      "source": [
        "### Optimal BST (recursivo)"
      ],
      "metadata": {
        "id": "ThLy_sqxCtBB"
      }
    },
    {
      "cell_type": "code",
      "execution_count": 28,
      "metadata": {
        "colab": {
          "base_uri": "https://localhost:8080/",
          "height": 354
        },
        "id": "fEbIxL2syWn4",
        "outputId": "046b1bf0-18d1-4792-e558-a382a861d4e0"
      },
      "outputs": [
        {
          "output_type": "stream",
          "name": "stdout",
          "text": [
            "Costo esperado mínimo: 3.12\n",
            "Llamadas recursivas: 2187\n"
          ]
        },
        {
          "output_type": "display_data",
          "data": {
            "text/plain": [
              "<Figure size 432x288 with 1 Axes>"
            ],
            "image/png": "[encoded data removed]"
          },
          "metadata": {}
        }
      ],
      "source": [
        "from math import inf\n",
        "from termcolor import colored\n",
        "\n",
        "def recursive_optimal_bst(k,p,q,i,j,visualize=False,verbose=False,first_call=True):\n",
        "  # Contador de llamadas recursivas\n",
        "  global c\n",
        "  c = c+1\n",
        "\n",
        "  if verbose and first_call:\n",
        "    print(f\"Entrada:\")\n",
        "    print(f\"Claves del árbol: {k}\")\n",
        "    print(f\"Probabilidades de las claves reales: {np.around(p,3)}\")\n",
        "    print(f\"Probabilidades de las claves ficticias: {np.around(q,3)}\\n\")\n",
        "\n",
        "  # Caso base\n",
        "  if j < i: return q[i-1], Tree()\n",
        "\n",
        "  # Suma de probabilidades de los nodos del árbol\n",
        "  w = sum(p[i-1:j]) + sum(q[i-1:j+1])\n",
        "\n",
        "  if verbose:\n",
        "    print(f\"Calculando suma de probabilidades para los nodos {i}..{j}: \", end='')\n",
        "    print(f\"({colored(round(w,3), 'blue')})\\n\")\n",
        "\n",
        "  # Nos aseguramos de que e se actualice en la primera iteración\n",
        "  e = inf\n",
        "\n",
        "  for r in range(i, j+1):\n",
        "    # Costo óptimo del subárbol izquierdo\n",
        "    left_e, left_t = recursive_optimal_bst(k, p, q, i, r-1, visualize=False,\n",
        "                                           verbose=False, first_call=False)\n",
        "\n",
        "    # Costo óptimo del subárbol derecho\n",
        "    right_e, right_t = recursive_optimal_bst(k, p, q, r+1, j, visualize=False,\n",
        "                                             verbose=False, first_call=False)\n",
        "\n",
        "    # Costo óptimo del árbol con raíz r\n",
        "    x = left_e + right_e + w\n",
        "\n",
        "    # Nos quedamos con el costo mínimo\n",
        "    if x < e:\n",
        "      e = x\n",
        "\n",
        "      # Se reconstruye el árbol insertando la raíz y sus respectivos subárboles\n",
        "      tree = Tree()\n",
        "      tree.set_root(k[r-1])\n",
        "      tree.set_left_subtree(left_t)\n",
        "      tree.set_right_subtree(right_t)\n",
        "\n",
        "    if verbose:\n",
        "      print(f\"Calculando costo esperado para árbol con raíz {r}\")\n",
        "      print(f\"Calculando recursivamente costo para subárbol {i}..{r-1}: \", end='')\n",
        "      print(f\"({colored(round(right_e,3), 'green')})\")\n",
        "      print(f\"Calculando recursivamente costo para subárbol {r+1}..{j}: \", end='')\n",
        "      print(f\"({colored(round(left_e,3), 'magenta')})\")\n",
        "      print(f\"Costo esperado: {round(left_e,3)} + {round(right_e,3)} + {round(w,3)} = {round(x,3)}\")\n",
        "      print(f\"Costo esperado mínimo: {round(e,3)}\\n\")\n",
        "\n",
        "  if verbose:\n",
        "    print(f\"Costo mínimo del árbol: {round(e,3)}\")\n",
        "\n",
        "  # Se dibuja el árbol \n",
        "  if visualize:\n",
        "    visualize_tree(tree)\n",
        "\n",
        "  return e, tree\n",
        "\n",
        "c = 0\n",
        "k = [1, 2, 3, 4, 5, 6, 7]\n",
        "p = [0.04, 0.06, 0.08, 0.02, 0.10, 0.12, 0.14]\n",
        "q = [0.06, 0.06, 0.06, 0.06, 0.05, 0.05, 0.05, 0.05]\n",
        "\n",
        "e = recursive_optimal_bst(k,p,q,1,len(p),visualize=True)[0]\n",
        "\n",
        "print(f\"Costo esperado mínimo: {e}\")\n",
        "print(f\"Llamadas recursivas: {c}\")"
      ]
    },
    {
      "cell_type": "markdown",
      "source": [
        "### Optimal BST (bottom-up)"
      ],
      "metadata": {
        "id": "9c7_L-tIDZ2_"
      }
    },
    {
      "cell_type": "code",
      "execution_count": 7,
      "metadata": {
        "colab": {
          "base_uri": "https://localhost:8080/",
          "height": 354
        },
        "id": "xfn8BOW0rPmy",
        "outputId": "5b8bdb0f-b7d8-4c63-e5f5-2f5d9b2c86fb"
      },
      "outputs": [
        {
          "output_type": "stream",
          "name": "stdout",
          "text": [
            "Costo esperado mínimo: 2.75\n",
            "Subproblemas resueltos: 15\n"
          ]
        },
        {
          "output_type": "display_data",
          "data": {
            "text/plain": [
              "<Figure size 432x288 with 1 Axes>"
            ],
            "image/png": "[encoded data removed]"
          },
          "metadata": {}
        }
      ],
      "source": [
        "import numpy as np\n",
        "from math import inf\n",
        "\n",
        "def optimal_bst(keys,p,q,n,visualize=False,verbose=False):\n",
        "  # Contador de subproblemas\n",
        "  global s\n",
        "\n",
        "  # Matriz que almacena el costo mínimo de cada subárbol\n",
        "  e = np.zeros(shape=(n+2,n+1))\n",
        "\n",
        "  # Matriz que almacena la suma de probabilidades de cada subárbol\n",
        "  w = np.zeros(shape=(n+2,n+1))\n",
        "\n",
        "  # Matriz que almacena la raíz óptima de cada subárbol\n",
        "  root = np.zeros(shape=(n+1,n+1), dtype=int)\n",
        "\n",
        "  if verbose:\n",
        "    print(f\"Entrada:\")\n",
        "    print(f\"Claves del árbol: {keys}\")\n",
        "    print(f\"Probabilidades de las claves reales: {np.around(p,3)}\")\n",
        "    print(f\"Probabilidades de las claves ficticias: {np.around(q,3)}\\n\")\n",
        "\n",
        "  # Valores para búsquedas fallidas\n",
        "  for i in range(1,n+2):\n",
        "    e[i][i-1] = q[i-1]\n",
        "    w[i][i-1] = q[i-1]\n",
        "\n",
        "  if verbose:\n",
        "    print(\"Inicializando matriz de probabilidades:\")\n",
        "    print_matrix(w,n+2,n+1,0,'blue')\n",
        "    print(\"Inicializando matriz de costos:\")\n",
        "    print_matrix(e,n+2,n+1,0,'green')\n",
        "\n",
        "  for k in range(1,n+1):\n",
        "    for i in range(1,n-k+2):\n",
        "      j = i+k-1\n",
        "      s = s+1\n",
        "\n",
        "      # Se calcula la suma de probabilidades para el subárbol i..j\n",
        "      w[i][j] = w[i][j-1] + p[j-1] + q[j]\n",
        "\n",
        "      if verbose:\n",
        "        print(f\"Calculando suma de probabilidades para los nodos {i}..{j}: \", end='')\n",
        "        print(f\"({colored(round(w[i][j],3), 'blue')})\")\n",
        "\n",
        "      # Nos aseguramos de que e[i][j] se actualice en la primera iteración\n",
        "      e[i][j] = inf\n",
        "\n",
        "      for r in range(i,j+1):\n",
        "        # Costo óptimo del árbol con raíz r\n",
        "        x = e[i][r-1] + e[r+1][j] + w[i][j]\n",
        "\n",
        "        # Nos quedamos con el costo mínimo\n",
        "        if x < e[i][j]:\n",
        "\n",
        "          # Guardamos el costo en la matriz e y la raíz en la matriz root\n",
        "          e[i][j] = x\n",
        "          root[i][j] = r\n",
        "\n",
        "      if verbose:\n",
        "        print(f\"Calculando costo esperado para subárbol {i}..{j}: \", end='')\n",
        "        print(f\"({colored(round(e[i][j],3), 'green')})\\n\")\n",
        "\n",
        "    if verbose:\n",
        "      print(\"Matriz de probabilidades:\")\n",
        "      print_matrix(w,n+2,n+1,k,'blue')\n",
        "      print(\"Matriz de costos:\")\n",
        "      print_matrix(e,n+2,n+1,k,'green')\n",
        "\n",
        "  if verbose:\n",
        "    print(f\"Costo mínimo del árbol: {round(e[1][n],3)}\")\n",
        "\n",
        "  # Se reconstruye el árbol\n",
        "  tree = construct_optimal_bst(root, keys, 1, n)\n",
        "\n",
        "  # Se dibuja el árbol\n",
        "  if visualize:\n",
        "    visualize_tree(tree)\n",
        "\n",
        "  return e[1][n], tree\n",
        "\n",
        "def construct_optimal_bst(root, k, i, j):\n",
        "  # Caso base\n",
        "  if i > j: return Tree()\n",
        "\n",
        "  # Raíz del árbol i..j\n",
        "  r = root[i][j]\n",
        "\n",
        "  # Se reconstruye cada subárbol\n",
        "  left_t = construct_optimal_bst(root, k, i, r-1)\n",
        "  right_t = construct_optimal_bst(root, k, r+1, j)\n",
        "\n",
        "  # Se reconstruye el árbol insertando la raíz y sus respectivos subárboles\n",
        "  tree = Tree()\n",
        "  tree.set_root(k[r-1])\n",
        "  tree.set_left_subtree(left_t)\n",
        "  tree.set_right_subtree(right_t)\n",
        "\n",
        "  return tree\n",
        "  \n",
        "s = 0\n",
        "k = [1, 2, 3, 4, 5]\n",
        "p = [0.15, 0.10, 0.05, 0.10, 0.20]\n",
        "q = [0.05, 0.10, 0.05, 0.05, 0.05, 0.10]\n",
        "\n",
        "e = optimal_bst(k,p,q,5,visualize=True)[0]\n",
        "\n",
        "print(f\"Costo esperado mínimo: {e}\")\n",
        "print(f\"Subproblemas resueltos: {s}\")"
      ]
    },
    {
      "cell_type": "markdown",
      "metadata": {
        "id": "naoN1twNlXPL"
      },
      "source": [
        "## 2.2 Descripción del algoritmo\n",
        "\n",
        "### Algoritmo recursivo\n",
        "\n",
        "La entrada consiste en un arreglo $K$ con las claves de los nodos $k_i$, más un arreglo $P$ con las probabilidades $p_{i}$ para cada clave $k_i$, más un arreglo $Q$ con las probabilidades $q_{i-1}$ para cada clave ficticia $d_i$, con $i = 1 \\ldots n$. Además el algoritmo recibe dos índices $i$ y $j$ que determinan las claves $k_i$ inicial y $k_j$ final del subárbol a ser procesado en cada llamada recursiva. Los pasos del algoritmo son los siguientes:\n",
        "\n",
        "1. Se calcula la suma de todas las probabilidades $k_i \\ldots k_j$ y $q_{i-1} \\ldots q_j$\n",
        "\n",
        "2. Se selecciona cada nodo $i \\ldots j$ como la raíz del árbol.\n",
        "\n",
        "3. Se calcula recursivamente el subárbol óptimo izquierdo y derecho a partir de la raíz previamente escogida.\n",
        "\n",
        "4. El costo esperado se calcula como el costo del subárbol izquierdo más el costo del subárbol derecho más la suma de las probabilidades.\n",
        "\n",
        "5. Se guarda el costo mínimo de todos los costos obtenidos.\n",
        "\n",
        "6. Se reconstruye el árbol a partir de la raíz y los subárboles que minimizan el costo.\n",
        "\n",
        "7. Se retorna el árbol óptimo y su costo esperado.\n",
        "\n",
        "### Algoritmo bottom-up\n",
        "\n",
        "La entrada consiste en un arreglo $K$ con las claves de los nodos $k_i$, más un arreglo $P$ con las probabilidades $p_{i}$ para cada clave $k_i$, más un arreglo $Q$ con las probabilidades $q_{i-1}$ para cada clave ficticia $d_i$, con $i = 1 \\ldots n$. Además, el algoritmo recibe la cantidad $n$ de claves a ser procesadas. Los pasos del algoritmo son los siguientes:\n",
        "\n",
        "1. Se crean tres matrices, $E$, $W$ y $root$ para guardar el costo esperado, la suma de probabilidades y la raíz óptima para cada subárbol $i \\ldots j$\n",
        "\n",
        "2. Se inicializan las matrices $E$ y $W$ con los valores correspondientes a las búsquedas fallidas.\n",
        "\n",
        "3. Se calcula el valor de $E_{i,j}$ y $W_{i,j}$ para cada subárbol $i \\ldots j$, comenzando desde los problemas más pequeños.\n",
        "\n",
        "4. Se calcula $W_{i,j}$ como $W_{i,j-1} + P_{j-1} + Q_{j}$ y se guarda en la casilla correspondiente de la matriz $W$. \n",
        "\n",
        "5. Para encontrar el costo esperado de cada subárbol se selecciona cada nodo $i \\ldots j$ como la raíz $r$.\n",
        "\n",
        "6. Se calcula $E_{i,j}$ como $E_{i,r-1} + E_{r+1,j} + W_{i,j}$.\n",
        "\n",
        "7. Se guarda el costo mínimo de todos los costos obtenidos y se guarda en la casilla correspondiente de la matriz $E$. La raíz que minimiza el costo se guarda en la matriz $root$.\n",
        "\n",
        "8. Al finalizar las iteraciones, se reconstruye recursivamente el árbol a partir de la raíz óptima del problema original, la cual quedará guardada en $root_{1,n}$.\n",
        "\n",
        "9. Se retorna el árbol óptimo y su costo esperado, el cual quedará guardado en $E_{1,n}$.\n",
        "\n",
        "\n",
        "\n",
        "\n"
      ]
    },
    {
      "cell_type": "markdown",
      "metadata": {
        "id": "KKTUdfSes6B4"
      },
      "source": [
        "## 2.3 Ejemplo (algoritmo bottom-up)\n"
      ]
    },
    {
      "cell_type": "markdown",
      "source": [
        "Consideremos los siguientes arreglos de entrada, con $n = 3$:\n",
        "\n",
        "$K = [1,2,3]$\n",
        "\n",
        "$P = [0.2, 0.15, 0.3]$\n",
        "\n",
        "$Q = [0.05, 0.10, 0.15, 0.05]$\n",
        "\n",
        "Inicializamos las posiciones de las matrices $E$ y $W$ que representan búsquedas fallidas, es decir, todas las casillas $i,j$ donde se cumple que $i = j + 1$\n",
        "\n",
        "<img src=\"https://drive.google.com/uc?export=view&id=1tquVBZ_8jMhd3QgyOn3je6iAIFZDhOB-\" width=\"500\"/>\n",
        "\n",
        "Comenzamos calculando los subproblemas más pequeños, empezando por el subarbol $1 \\ldots 1$. La única raíz posible de este subárbol es 1, por lo tanto, el costo para el subárbol izquierdo $E_{i,r-1}$ y para el subárbol derecho $E_{r+1,j}$ será $E_{1,0}$ y $E_{2,1}$ respectivamente. Calculemos, en primer lugar, la suma de probabilidades para este subárbol:\n",
        "\n",
        "$W_{i,j} = W_{i,j-1} + P_{j-1} + Q_{j}$\n",
        "\n",
        "$W_{1,1} = W_{1,0} + P_{0} + Q_{1} = 0.05 + 0.2 + 0.10 = 0.35$\n",
        "\n",
        "Luego, procedemos a calcular el costo esperado:\n",
        "\n",
        "$E_{i,j} = E_{i,r-1} + E_{r+1,j} + W_{i,j}$\n",
        "\n",
        "$E_{1,1} = E_{1,0} + E_{2,1} + W_{1,1} = 0.05 + 0.10 + 0.35 = 0.50$\n",
        "\n",
        "Repetimos el procedimiento con el resto de casillas de esta diagonal:\n",
        "\n",
        "<img src=\"https://drive.google.com/uc?export=view&id=1MNtj6BUp5ZOHwfj_qTUe7lzDGVPmh_W8\" width=\"500\"/>\n",
        "\n",
        "Luego, para calcular el costo esperado del subárbol $1 \\ldots 2$, existen dos raíces posibles, sin embargo, notemos que la suma de probabilidades no depende de la raíz escogida:\n",
        "\n",
        "$W_{1,2} = W_{1,1} + P_{1} + Q_{2} = 0.35 + 0.15 + 0.15 = 0.65$\n",
        "\n",
        "Procedemos a calcular el costo esperado para cada caso.\n",
        "\n",
        "Para $r = 1$:\n",
        "\n",
        "$E_{1,2} = E_{1,0} + E_{2,2} + W_{1,2} = 0.05 + 0.65 + 0.65 = 1.35$\n",
        "\n",
        "Para $r = 2$:\n",
        "\n",
        "$E_{1,2} = E_{1,1} + E_{3,2} + W_{1,2} = 0.50 + 0.15 + 0.65 = 1.30$\n",
        "\n",
        "Nos quedamos con el costo mínimo $E_{1,2} = 1.30$ y repetimos este paso para la casilla $E_{2,3}$.\n",
        "\n",
        "<img src=\"https://drive.google.com/uc?export=view&id=1c4ybZnc7zhsIlx5fO5NHrZm3L-rC8E_8\" width=\"500\"/>\n",
        "\n",
        "Por último, calculamos el costo esperado para el árbol $1 \\ldots 3$, que corresponde a nuestro problema inicial. Comenzamos por calcular la suma de probabilidades para este árbol.\n",
        "\n",
        "$W_{1,3} = W_{1,2} + P_{2} + Q_{3} = 0.65 + 0.30 + 0.05 = 1.00$\n",
        "\n",
        "Observemos que nuestro resultado es 1, pues corresponde a la suma de probabilidades de todas las claves ficticias y reales. Luego, procedemos a calcular el costo esperado considerando cada uno de los nodos como la raíz del árbol:\n",
        "\n",
        "Para $r = 1$:\n",
        "\n",
        "$E_{1,3} = E_{1,0} + E_{2,3} + W_{1,3} = 0.05 + 1.45 + 1.00 = 2.50$\n",
        "\n",
        "Para $r = 2$:\n",
        "\n",
        "$E_{1,3} = E_{1,1} + E_{3,3} + W_{1,3} = 0.50 + 0.70 + 1.00 = 2.20$\n",
        "\n",
        "Para $r = 3$:\n",
        "\n",
        "$E_{1,3} = E_{1,2} + E_{4,3} + W_{1,3} = 1.30 + 0.05 + 1.00 = 2.35$\n",
        "\n",
        "Finalmente, obtenemos que el costo esperado mínimo para el problema inicial es $E_{1,3} = 2.20$\n",
        "\n",
        "<img src=\"https://drive.google.com/uc?export=view&id=1KCFY2eoI2qYZ6Kfbr7AA_KyILBbTsiw0\" width=\"500\"/>"
      ],
      "metadata": {
        "id": "I9e_E1rGGFLv"
      }
    },
    {
      "cell_type": "markdown",
      "metadata": {
        "id": "L0VpphJB6FvO"
      },
      "source": [
        "## 2.4. Ejecución del algoritmo paso a paso (`verbose=True`)\n",
        "\n",
        "Usando la opción `verbose=True`, podemos ver lo que ocurre en cada paso de ambos algoritmos.\n",
        "\n"
      ]
    },
    {
      "cell_type": "markdown",
      "source": [
        "### Optimal BST (recursivo)"
      ],
      "metadata": {
        "id": "XzuWc55zmhvn"
      }
    },
    {
      "cell_type": "code",
      "source": [
        "import random\n",
        "import numpy as np\n",
        "\n",
        "def optimal_bst_instance_generator(n):\n",
        "    keys = sorted(random.sample(range(1, 501), n))\n",
        "    arr = np.random.random(n*2+1)\n",
        "    arr /= arr.sum()\n",
        "    \n",
        "    p = list(arr[:n]) # Probabilidad de las claves\n",
        "    q = arr[n:] # Probabilidad de las claves ficticias\n",
        "    return keys, p, q"
      ],
      "metadata": {
        "id": "0i3MG5zLbyL-"
      },
      "execution_count": 113,
      "outputs": []
    },
    {
      "cell_type": "code",
      "source": [
        "k, p, q = optimal_bst_instance_generator(5)\n",
        "e, tree = recursive_optimal_bst(k,p,q,1,len(p),visualize=True,verbose=True)"
      ],
      "metadata": {
        "colab": {
          "base_uri": "https://localhost:8080/",
          "height": 978
        },
        "id": "rtcqU0ahfphB",
        "outputId": "03a04c8b-b2e5-4d52-afcc-9b8d11ddaaca"
      },
      "execution_count": 13,
      "outputs": [
        {
          "output_type": "stream",
          "name": "stdout",
          "text": [
            "Entrada:\n",
            "Claves del árbol: [8, 32, 36, 62, 77]\n",
            "Probabilidades de las claves reales: [0.228 0.114 0.076 0.044 0.054]\n",
            "Probabilidades de las claves ficticias: [0.015 0.044 0.041 0.085 0.274 0.026]\n",
            "\n",
            "Calculando suma de probabilidades para los nodos 1..5: (\u001b[34m1.0\u001b[0m)\n",
            "\n",
            "Calculando costo esperado para árbol con raíz 1\n",
            "Calculando recursivamente costo para subárbol 1..0: (\u001b[32m2.138\u001b[0m)\n",
            "Calculando recursivamente costo para subárbol 2..5: (\u001b[35m0.015\u001b[0m)\n",
            "Costo esperado: 0.015 + 2.138 + 1.0 = 3.154\n",
            "Costo esperado mínimo: 3.154\n",
            "\n",
            "Calculando costo esperado para árbol con raíz 2\n",
            "Calculando recursivamente costo para subárbol 1..1: (\u001b[32m1.58\u001b[0m)\n",
            "Calculando recursivamente costo para subárbol 3..5: (\u001b[35m0.346\u001b[0m)\n",
            "Costo esperado: 0.346 + 1.58 + 1.0 = 2.926\n",
            "Costo esperado mínimo: 2.926\n",
            "\n",
            "Calculando costo esperado para árbol con raíz 3\n",
            "Calculando recursivamente costo para subárbol 1..2: (\u001b[32m1.222\u001b[0m)\n",
            "Calculando recursivamente costo para subárbol 4..5: (\u001b[35m0.74\u001b[0m)\n",
            "Costo esperado: 0.74 + 1.222 + 1.0 = 2.961\n",
            "Costo esperado mínimo: 2.926\n",
            "\n",
            "Calculando costo esperado para árbol con raíz 4\n",
            "Calculando recursivamente costo para subárbol 1..3: (\u001b[32m0.654\u001b[0m)\n",
            "Calculando recursivamente costo para subárbol 5..5: (\u001b[35m1.274\u001b[0m)\n",
            "Costo esperado: 1.274 + 0.654 + 1.0 = 2.928\n",
            "Costo esperado mínimo: 2.926\n",
            "\n",
            "Calculando costo esperado para árbol con raíz 5\n",
            "Calculando recursivamente costo para subárbol 1..4: (\u001b[32m0.026\u001b[0m)\n",
            "Calculando recursivamente costo para subárbol 6..5: (\u001b[35m2.388\u001b[0m)\n",
            "Costo esperado: 2.388 + 0.026 + 1.0 = 3.413\n",
            "Costo esperado mínimo: 2.926\n",
            "\n",
            "Costo mínimo del árbol: 2.926\n"
          ]
        },
        {
          "output_type": "display_data",
          "data": {
            "text/plain": [
              "<Figure size 432x288 with 1 Axes>"
            ],
            "image/png": "[encoded data removed]"
          },
          "metadata": {}
        }
      ]
    },
    {
      "cell_type": "markdown",
      "source": [
        "### Optimal BST (bottom-up)"
      ],
      "metadata": {
        "id": "mJrL7Dcvmm80"
      }
    },
    {
      "cell_type": "code",
      "source": [
        "k, p, q = optimal_bst_instance_generator(5)\n",
        "e, tree = optimal_bst(k,p,q,5,visualize=True,verbose=True)"
      ],
      "metadata": {
        "colab": {
          "base_uri": "https://localhost:8080/",
          "height": 1000
        },
        "id": "g0YN1enOmsYz",
        "outputId": "8202d740-650a-4f06-cbdd-bd41e5d6a59f"
      },
      "execution_count": 14,
      "outputs": [
        {
          "output_type": "stream",
          "name": "stdout",
          "text": [
            "Entrada:\n",
            "Claves del árbol: [3, 49, 54, 56, 67]\n",
            "Probabilidades de las claves reales: [0.089 0.19  0.002 0.023 0.031]\n",
            "Probabilidades de las claves ficticias: [0.182 0.143 0.126 0.026 0.15  0.04 ]\n",
            "\n",
            "Inicializando matriz de probabilidades:\n",
            "   0     1     2     3     4     5     \n",
            "1  \u001b[34m0.182 \u001b[0m0.000 0.000 0.000 0.000 0.000 \n",
            "2  0.000 \u001b[34m0.143 \u001b[0m0.000 0.000 0.000 0.000 \n",
            "3  0.000 0.000 \u001b[34m0.126 \u001b[0m0.000 0.000 0.000 \n",
            "4  0.000 0.000 0.000 \u001b[34m0.026 \u001b[0m0.000 0.000 \n",
            "5  0.000 0.000 0.000 0.000 \u001b[34m0.150 \u001b[0m0.000 \n",
            "6  0.000 0.000 0.000 0.000 0.000 \u001b[34m0.040 \u001b[0m\n",
            "\n",
            "Inicializando matriz de costos:\n",
            "   0     1     2     3     4     5     \n",
            "1  \u001b[32m0.182 \u001b[0m0.000 0.000 0.000 0.000 0.000 \n",
            "2  0.000 \u001b[32m0.143 \u001b[0m0.000 0.000 0.000 0.000 \n",
            "3  0.000 0.000 \u001b[32m0.126 \u001b[0m0.000 0.000 0.000 \n",
            "4  0.000 0.000 0.000 \u001b[32m0.026 \u001b[0m0.000 0.000 \n",
            "5  0.000 0.000 0.000 0.000 \u001b[32m0.150 \u001b[0m0.000 \n",
            "6  0.000 0.000 0.000 0.000 0.000 \u001b[32m0.040 \u001b[0m\n",
            "\n",
            "Calculando suma de probabilidades para los nodos 1..1: (\u001b[34m0.414\u001b[0m)\n",
            "Calculando costo esperado para subárbol 1..1: (\u001b[32m0.738\u001b[0m)\n",
            "\n",
            "Calculando suma de probabilidades para los nodos 2..2: (\u001b[34m0.459\u001b[0m)\n",
            "Calculando costo esperado para subárbol 2..2: (\u001b[32m0.729\u001b[0m)\n",
            "\n",
            "Calculando suma de probabilidades para los nodos 3..3: (\u001b[34m0.154\u001b[0m)\n",
            "Calculando costo esperado para subárbol 3..3: (\u001b[32m0.306\u001b[0m)\n",
            "\n",
            "Calculando suma de probabilidades para los nodos 4..4: (\u001b[34m0.198\u001b[0m)\n",
            "Calculando costo esperado para subárbol 4..4: (\u001b[32m0.373\u001b[0m)\n",
            "\n",
            "Calculando suma de probabilidades para los nodos 5..5: (\u001b[34m0.22\u001b[0m)\n",
            "Calculando costo esperado para subárbol 5..5: (\u001b[32m0.409\u001b[0m)\n",
            "\n",
            "Matriz de probabilidades:\n",
            "   0     1     2     3     4     5     \n",
            "1  0.182 \u001b[34m0.414 \u001b[0m0.000 0.000 0.000 0.000 \n",
            "2  0.000 0.143 \u001b[34m0.459 \u001b[0m0.000 0.000 0.000 \n",
            "3  0.000 0.000 0.126 \u001b[34m0.154 \u001b[0m0.000 0.000 \n",
            "4  0.000 0.000 0.000 0.026 \u001b[34m0.198 \u001b[0m0.000 \n",
            "5  0.000 0.000 0.000 0.000 0.150 \u001b[34m0.220 \u001b[0m\n",
            "6  0.000 0.000 0.000 0.000 0.000 0.040 \n",
            "\n",
            "Matriz de costos:\n",
            "   0     1     2     3     4     5     \n",
            "1  0.182 \u001b[32m0.738 \u001b[0m0.000 0.000 0.000 0.000 \n",
            "2  0.000 0.143 \u001b[32m0.729 \u001b[0m0.000 0.000 0.000 \n",
            "3  0.000 0.000 0.126 \u001b[32m0.306 \u001b[0m0.000 0.000 \n",
            "4  0.000 0.000 0.000 0.026 \u001b[32m0.373 \u001b[0m0.000 \n",
            "5  0.000 0.000 0.000 0.000 0.150 \u001b[32m0.409 \u001b[0m\n",
            "6  0.000 0.000 0.000 0.000 0.000 0.040 \n",
            "\n",
            "Calculando suma de probabilidades para los nodos 1..2: (\u001b[34m0.73\u001b[0m)\n",
            "Calculando costo esperado para subárbol 1..2: (\u001b[32m1.595\u001b[0m)\n",
            "\n",
            "Calculando suma de probabilidades para los nodos 2..3: (\u001b[34m0.487\u001b[0m)\n",
            "Calculando costo esperado para subárbol 2..3: (\u001b[32m0.935\u001b[0m)\n",
            "\n",
            "Calculando suma de probabilidades para los nodos 3..4: (\u001b[34m0.326\u001b[0m)\n",
            "Calculando costo esperado para subárbol 3..4: (\u001b[32m0.781\u001b[0m)\n",
            "\n",
            "Calculando suma de probabilidades para los nodos 4..5: (\u001b[34m0.268\u001b[0m)\n",
            "Calculando costo esperado para subárbol 4..5: (\u001b[32m0.681\u001b[0m)\n",
            "\n",
            "Matriz de probabilidades:\n",
            "   0     1     2     3     4     5     \n",
            "1  0.182 0.414 \u001b[34m0.730 \u001b[0m0.000 0.000 0.000 \n",
            "2  0.000 0.143 0.459 \u001b[34m0.487 \u001b[0m0.000 0.000 \n",
            "3  0.000 0.000 0.126 0.154 \u001b[34m0.326 \u001b[0m0.000 \n",
            "4  0.000 0.000 0.000 0.026 0.198 \u001b[34m0.268 \u001b[0m\n",
            "5  0.000 0.000 0.000 0.000 0.150 0.220 \n",
            "6  0.000 0.000 0.000 0.000 0.000 0.040 \n",
            "\n",
            "Matriz de costos:\n",
            "   0     1     2     3     4     5     \n",
            "1  0.182 0.738 \u001b[32m1.595 \u001b[0m0.000 0.000 0.000 \n",
            "2  0.000 0.143 0.729 \u001b[32m0.935 \u001b[0m0.000 0.000 \n",
            "3  0.000 0.000 0.126 0.306 \u001b[32m0.781 \u001b[0m0.000 \n",
            "4  0.000 0.000 0.000 0.026 0.373 \u001b[32m0.681 \u001b[0m\n",
            "5  0.000 0.000 0.000 0.000 0.150 0.409 \n",
            "6  0.000 0.000 0.000 0.000 0.000 0.040 \n",
            "\n",
            "Calculando suma de probabilidades para los nodos 1..3: (\u001b[34m0.757\u001b[0m)\n",
            "Calculando costo esperado para subárbol 1..3: (\u001b[32m1.801\u001b[0m)\n",
            "\n",
            "Calculando suma de probabilidades para los nodos 2..4: (\u001b[34m0.659\u001b[0m)\n",
            "Calculando costo esperado para subárbol 2..4: (\u001b[32m1.583\u001b[0m)\n",
            "\n",
            "Calculando suma de probabilidades para los nodos 3..5: (\u001b[34m0.396\u001b[0m)\n",
            "Calculando costo esperado para subárbol 3..5: (\u001b[32m1.111\u001b[0m)\n",
            "\n",
            "Matriz de probabilidades:\n",
            "   0     1     2     3     4     5     \n",
            "1  0.182 0.414 0.730 \u001b[34m0.757 \u001b[0m0.000 0.000 \n",
            "2  0.000 0.143 0.459 0.487 \u001b[34m0.659 \u001b[0m0.000 \n",
            "3  0.000 0.000 0.126 0.154 0.326 \u001b[34m0.396 \u001b[0m\n",
            "4  0.000 0.000 0.000 0.026 0.198 0.268 \n",
            "5  0.000 0.000 0.000 0.000 0.150 0.220 \n",
            "6  0.000 0.000 0.000 0.000 0.000 0.040 \n",
            "\n",
            "Matriz de costos:\n",
            "   0     1     2     3     4     5     \n",
            "1  0.182 0.738 1.595 \u001b[32m1.801 \u001b[0m0.000 0.000 \n",
            "2  0.000 0.143 0.729 0.935 \u001b[32m1.583 \u001b[0m0.000 \n",
            "3  0.000 0.000 0.126 0.306 0.781 \u001b[32m1.111 \u001b[0m\n",
            "4  0.000 0.000 0.000 0.026 0.373 0.681 \n",
            "5  0.000 0.000 0.000 0.000 0.150 0.409 \n",
            "6  0.000 0.000 0.000 0.000 0.000 0.040 \n",
            "\n",
            "Calculando suma de probabilidades para los nodos 1..4: (\u001b[34m0.93\u001b[0m)\n",
            "Calculando costo esperado para subárbol 1..4: (\u001b[32m2.45\u001b[0m)\n",
            "\n",
            "Calculando suma de probabilidades para los nodos 2..5: (\u001b[34m0.729\u001b[0m)\n",
            "Calculando costo esperado para subárbol 2..5: (\u001b[32m1.984\u001b[0m)\n",
            "\n",
            "Matriz de probabilidades:\n",
            "   0     1     2     3     4     5     \n",
            "1  0.182 0.414 0.730 0.757 \u001b[34m0.930 \u001b[0m0.000 \n",
            "2  0.000 0.143 0.459 0.487 0.659 \u001b[34m0.729 \u001b[0m\n",
            "3  0.000 0.000 0.126 0.154 0.326 0.396 \n",
            "4  0.000 0.000 0.000 0.026 0.198 0.268 \n",
            "5  0.000 0.000 0.000 0.000 0.150 0.220 \n",
            "6  0.000 0.000 0.000 0.000 0.000 0.040 \n",
            "\n",
            "Matriz de costos:\n",
            "   0     1     2     3     4     5     \n",
            "1  0.182 0.738 1.595 1.801 \u001b[32m2.450 \u001b[0m0.000 \n",
            "2  0.000 0.143 0.729 0.935 1.583 \u001b[32m1.984 \u001b[0m\n",
            "3  0.000 0.000 0.126 0.306 0.781 1.111 \n",
            "4  0.000 0.000 0.000 0.026 0.373 0.681 \n",
            "5  0.000 0.000 0.000 0.000 0.150 0.409 \n",
            "6  0.000 0.000 0.000 0.000 0.000 0.040 \n",
            "\n",
            "Calculando suma de probabilidades para los nodos 1..5: (\u001b[34m1.0\u001b[0m)\n",
            "Calculando costo esperado para subárbol 1..5: (\u001b[32m2.85\u001b[0m)\n",
            "\n",
            "Matriz de probabilidades:\n",
            "   0     1     2     3     4     5     \n",
            "1  0.182 0.414 0.730 0.757 0.930 \u001b[34m1.000 \u001b[0m\n",
            "2  0.000 0.143 0.459 0.487 0.659 0.729 \n",
            "3  0.000 0.000 0.126 0.154 0.326 0.396 \n",
            "4  0.000 0.000 0.000 0.026 0.198 0.268 \n",
            "5  0.000 0.000 0.000 0.000 0.150 0.220 \n",
            "6  0.000 0.000 0.000 0.000 0.000 0.040 \n",
            "\n",
            "Matriz de costos:\n",
            "   0     1     2     3     4     5     \n",
            "1  0.182 0.738 1.595 1.801 2.450 \u001b[32m2.850 \u001b[0m\n",
            "2  0.000 0.143 0.729 0.935 1.583 1.984 \n",
            "3  0.000 0.000 0.126 0.306 0.781 1.111 \n",
            "4  0.000 0.000 0.000 0.026 0.373 0.681 \n",
            "5  0.000 0.000 0.000 0.000 0.150 0.409 \n",
            "6  0.000 0.000 0.000 0.000 0.000 0.040 \n",
            "\n",
            "Costo mínimo del árbol: 2.85\n"
          ]
        },
        {
          "output_type": "display_data",
          "data": {
            "text/plain": [
              "<Figure size 432x288 with 1 Axes>"
            ],
            "image/png": "[encoded data removed]"
          },
          "metadata": {}
        }
      ]
    },
    {
      "cell_type": "markdown",
      "metadata": {
        "id": "I5GOiuFRgdTW"
      },
      "source": [
        "# 3. Correctitud\n",
        "\n",
        "### **Teorema 1: Correctitud de Optimal BST (bottom-up)**\n",
        "\n",
        "*El algoritmo **Optimal BST** retorna correctamente el costo esperado mínimo para un árbol con claves $k_1 \\ldots k_n$*\n",
        "\n",
        "## Prueba del Teorema\n",
        "\n",
        "### Subestructura óptima\n",
        "\n",
        "La subestructura óptima para este algoritmo considera que, si un árbol $T$ con claves $k_{i} \\ldots k_{j}$ es óptimo, necesariamente sus subárboles también deben serlo. Si un subárbol no lo fuera, estaríamos diciendo que existe otro subárbol con un menor costo esperado. De cumplirse este caso, estaríamos contradiciendo la optimalidad de $T$.\n",
        "\n",
        "Además, sabemos que para un árbol con claves $k_i \\ldots k_j$ existe una clave $k_{r}$ para la cual el subárbol izquierdo con claves $k_i \\ldots k_{r-1}$ y el subárbol derecho con claves $k_{r+1} \\ldots k_{j}$ son óptimos. Es decir, si seleccionamos cada una de las claves del árbol como raíz, nos aseguramos de encontrar un árbol de búsqueda óptimo.\n",
        "\n",
        "Es importante notar que al elegir uno de los nodos extremos como raíz, obtendremos un subárbol vacío. En la práctica, debemos considerar que cada subárbol contiene, además de claves $k_i \\ldots k_j$, claves ficticias $d_{i-1} \\ldots d_j$, que igualmente serán consideradas para el cálculo de la solución. Por lo tanto, si escogemos como raíz la clave $k_i$, el subárbol izquierdo no contendrá claves reales, sino una única clave ficticia $d_{i-1}$. Del mismo modo, si escogemos como raíz la clave $k_j$, el subárbol derecho contendrá una única clave ficticia $d_j$.\n",
        "\n",
        "### Solución recursiva\n",
        "\n",
        "Definiremos $e[i, j]$ como el costo esperado mínimo de un árbol con claves $k_i \\ldots k_j$. En primer lugar, consideremos los casos extremos. Cuando $k_r = k_i$, el costo para el subárbol izquierdo se expresará como $e[i,i-1]$, mientras que, cuando $k_r = k_j$, el costo para el subárbol derecho será $e[j+1,j]$. En ambos casos, el costo esperado $e[i, j]$ se calculará como $q_{i-1}$, que corresponde a la probabilidad de búsqueda de la única clave ficticia de estos árboles.\n",
        "\n",
        "Para el caso general, calcularemos el costo mínimo considerando cada uno de los nodos como la raíz del árbol, con $r = i \\ldots j$. Los costos para los subárboles izquierdo y derecho se expresarán como $e[i, r-1]$ y $e[r+1, j]$ respectivamente. Sin embargo, debemos considerar que cada uno de estos árboles pasará a ser un subárbol del nodo con clave $k_r$, por lo tanto, debemos calcular la variación que esto produce en el costo esperado. Recordemos que la fórmula del costo esperado es:\n",
        "\n",
        "$E(T) = \\sum\\limits_{i=1}^{n} (h(k_i)+1) \\cdot p_i + \\sum\\limits_{i=0}^{n} (h(d_i)+1) \\cdot q_i$\n",
        "\n",
        "$E(T) = 1 + \\sum\\limits_{i=1}^{n} h(k_i) \\cdot p_i + \\sum\\limits_{i=0}^{n} h(d_i) \\cdot q_i$\n",
        "\n",
        "A partir de esta fórmula, obtenemos que al aumentar la profundidad del árbol en 1, el costo esperado aumenta con un factor equivalente a la suma de probabilidades de los nodos del árbol. Esta suma se define como:\n",
        "\n",
        "$w(i, j) = \\sum\\limits_{k=i}^{j} p_k + \\sum\\limits_{k=i-1}^{j} q_k$\n",
        "\n",
        "Por lo tanto, si $k_r$ es la raíz de un árbol óptimo con claves $k_i \\ldots k_j$, tenemos que:\n",
        "\n",
        "$e[i, j] = p_r + (e[i, r-1] + w(i, r-1)) + (e[r+1, j] + w(r+1, j))$\n",
        "\n",
        "Observemos que:\n",
        "\n",
        "$w(i, j) = p_r + w(i, r-1) + w(r+1, j)$\n",
        "\n",
        "Reescribiendo la fórmula para $e[i, j]$:\n",
        "\n",
        "$e[i, j] = e[i, r-1] + e[r+1, j] + w(i, j)$\n",
        "\n",
        "Finalmente, la fórmula recursiva final para $e[i, j]$, considerando los casos extremos y todos los valores posibles de $r$ es: \n",
        "\n",
        "$   \n",
        "e[i, j] = \n",
        "     \\begin{cases}\n",
        "       q_{i-1} &\\quad\\text{si } i = j+1 \\\\\n",
        "       \\min\\limits_{i \\leq r \\leq j} \\{e[i, r-1] + e[r+1, j] + w(i, j)\\} &\\quad\\text{si } i \\leq j \\\\\n",
        "     \\end{cases}\n",
        "$\n",
        "\n",
        "### Correctitud\n",
        "\n",
        "Definiremos el tamaño del problema como la cantidad de claves reales contenidas en el árbol. Considerando esta definición, demostraremos la correctitud del algoritmo utilizando la siguiente propiedad invariante de bucle:\n",
        "\n",
        "> Al comienzo de cada iteración $k = 1 \\ldots n$, la matriz $E$ contiene la solución a todos los subproblemas de tamaño $0 \\ldots k-1$.\n",
        "\n",
        "**Inicialización**\n",
        "\n",
        "El primer paso del algoritmo consiste en inicializar la matriz $E$ con el costo óptimo para los subárboles vacíos, es decir, aquellos que no contienen claves reales sino una sola clave ficticia. Un subárbol vacío $i \\ldots j$ corresponde al caso base de la fórmula recursiva antes planteada, cumpliéndose que $i = j + 1$.\n",
        "\n",
        "<img src=\"https://drive.google.com/uc?export=view&id=17TtKNkGt5wOsP-9IR3g3tLksoceV5Llz\" width=\"300\"/>\n",
        "\n",
        "Por lo tanto, al comienzo de la primera iteración ($k = 1$), se habrá calculado correctamente la solución a todos los subproblemas de tamaño 0.\n",
        "\n",
        "**Mantención**\n",
        "\n",
        "Asumiremos mediante inducción que, para cualquier $k \\geq 1$, se cumple la propiedad, es decir, la matriz $E$ contiene la solución a todos los subproblemas de tamaño menor a $k$.\n",
        "\n",
        "En primer lugar, notemos que para cada subárbol $i \\ldots j$, el tamaño del problema se calcula como $k = j - i + 1$. Además, sabemos que para cualquier $k \\geq 1$, la fórmula utilizada para calcular el costo esperado será $e[i, j] = \\min\\limits_{i \\leq r \\leq j} \\{e[i, r-1] + e[r+1, j] + w(i, j)\\}$\n",
        "\n",
        "Para calcular el costo esperado, se considera cada clave como una posible raíz del árbol óptimo. Sabemos que:\n",
        "\n",
        "*   El subárbol izquierdo contiene los nodos $i \\ldots r-1$. En el peor de los casos, cuando $r = j$, se generará un subproblema de tamaño $k_l = j - i$\n",
        "*   El subárbol derecho contiene los nodos $r+1 \\ldots j$. En el peor de los casos, cuando $r = i$, se generará un subproblema de tamaño $k_r = j - i$\n",
        "\n",
        "En ambos casos, se cumple que el tamaño del problema original $k$ es mayor al tamaño de los subproblemas resultantes. Además, por la hipótesis inductiva, sabemos que la matriz contiene la solución para estos subproblemas.\n",
        "\n",
        "Por último, para calcular $w(i,j)$, utilizamos la fórmula $w(i,j) = w(i,j-1) + p_{j-1} + q_{j}$. Mediante un razonamiento similar, podemos formular que la matriz $W$ contiene el valor de $w(i,j)$ para todos los subproblemas de tamaño menor a $k$. Luego, el valor de $w(i,j-1)$ será conocido, y podremos calcular correctamente la suma de probabilidades para el subárbol $i \\ldots j$.\n",
        "\n",
        "<img src=\"https://drive.google.com/uc?export=view&id=1OPuF-AitdoqiiMT_ViQK4ZUk1dcBFMIz\" width=\"1050\"/>\n",
        "\n",
        "**Correctitud**\n",
        "\n",
        "Finalmente, como la propiedad invariante es verdadera al inicio del bucle y se mantiene en cada iteración, podemos decir que al finalizar la $k$-ésima iteración del algoritmo, se obtiene el costo esperado para el subárbol $1 \\ldots n$, que corresponde a la solución del problema inicial. $\\Box$\n"
      ]
    },
    {
      "cell_type": "markdown",
      "metadata": {
        "id": "SBnAbVFz_tvd"
      },
      "source": [
        "# 4. Tiempo de ejecución y complejidad espacial\n",
        "\n",
        "### **Teorema 2: Tiempo de ejecución del algoritmo Optimal BST (recursivo)**\n",
        "\n",
        "*El algoritmo **Optimal BST** recursivo tiene un tiempo de ejecución $\\Theta(3^n)$.*\n",
        "\n",
        "## Prueba del teorema\n",
        "\n",
        "Notemos que el algoritmo calcula recursivamente la solución para el subárbol izquierdo y derecho a partir de la raíz $r$, la cual varía entre 1 y $n$. A partir de esto, podemos expresar el tiempo de ejecución del algoritmo mediante la siguiente función de recurrencia:\n",
        "\n",
        "$   \n",
        "T(n) = \n",
        "     \\begin{cases}\n",
        "       \\Theta(1) &\\quad\\text{si } n = 0 \\\\\n",
        "       \\sum\\limits_{r=1}^{n} T(r-1) + T(n-r) &\\quad\\text{si } n \\geq 1 \\\\\n",
        "     \\end{cases}\n",
        "$\n",
        "\n",
        "Desarrollando la fórmula para $n \\geq 1$, nos queda:\n",
        "\n",
        "$T(n) = T(0) + \\ldots + T(n-1) + T(n-1) + \\ldots + T(0)$\n",
        "\n",
        "$T(n) = 2 \\cdot [T(0) + T(1) + ... + T(n-1) ]$\n",
        "\n",
        "$T(n) = 2 \\cdot \\sum\\limits_{r=1}^{n} T(r-1)$\n",
        "\n",
        "Luego, podemos demostrar por inducción que $T(n) = 3^n$. Para el caso base, tenemos que $T(0) = 3^0 = 1$. Aplicando la hipótesis inductiva a la ecuación anterior, obtenemos:\n",
        "\n",
        "$T(n) = 1 + 2 \\cdot \\sum\\limits_{r=1}^{n} 3^{r-1}$\n",
        "\n",
        "$T(n) = 1 + 2 \\cdot \\frac{3^n - 1}{3-1}$\n",
        "\n",
        "$T(n) = 1 + 3^n - 1$\n",
        "\n",
        "$T(n) = 3^n$\n",
        "\n",
        "Por lo tanto, la complejidad temporal del algoritmo Optimal BST recursivo es $\\Theta(3^n)$. $\\Box$\n",
        "\n",
        "### **Teorema 3: Tiempo de ejecución del algoritmo Optimal BST (bottom-up)**\n",
        "\n",
        "*El algoritmo **Optimal BST** implementado con programación dinámica tiene un tiempo de ejecución $\\Theta(n^3)$.*\n",
        "\n",
        "## Prueba del teorema\n",
        "\n",
        "Para demostrar el teorema, calcularemos matemáticamente la cantidad de subproblemas que debe resolver este algoritmo. Observemos que la cantidad de subproblemas corresponde al número de subárboles a los cuales se calcula el costo esperado mínimo. Estos valores son almacenados en una matriz triangular superior, en las casillas que se muestran en la figura ($n = 5$).\n",
        "\n",
        "<img src=\"https://drive.google.com/uc?export=view&id=11dEi4btP5Y6Vcw8FGj41ccUOeoZ-5xpM\" width=\"300\"/>\n",
        "\n",
        "Generalizando, para un problema de tamaño $n$ se ocupará la mitad de casillas de una matriz $n \\times n$, es decir, se resolverán exactamente $\\frac{n^2}{2}$ subproblemas. Por lo tanto, podemos decir que la cantidad de subproblemas a resolver tiene complejidad $O(n^2)$.\n",
        "\n",
        "Luego, cada subproblema es resuelto con la fórmula:\n",
        "\n",
        "$  \n",
        "e[i,j] = \n",
        "     \\begin{cases}\n",
        "       q_{i-1} &\\quad\\text{si } j = i - 1\\\\\n",
        "       \\min\\limits_{i \\leq r \\leq j} e[i,r-1] + e[r+1,j] + w[i,j] &\\quad\\text{si } i \\leq j\\\\\n",
        "     \\end{cases}\n",
        "$\n",
        "\n",
        "Como se puede ver, calcular este resultado requiere iterar por todas las raíces posibles que puede tener el subárbol $i \\ldots j$. Por lo tanto, encontrar la solución a cada subproblema tiene un tiempo de $O(n)$.\n",
        "\n",
        "Por último, reconstruir el árbol con la función `construct_optimal_bst` tiene un tiempo de ejecución $O(n)$.\n",
        "\n",
        "Considerando esto, podemos calcular el tiempo total del algoritmo con la función $T(n) = f(n) \\cdot g(n) + h(n)$, donde $f(n)$ corresponde a la cantidad de subproblemas, $g(n)$ corresponde al tiempo necesario para resolver cada subproblema, y $h(n)$ es el tiempo empleado en reconstruir la solución final. Reemplazando, obtenemos:\n",
        "\n",
        "$T(n) = O(n^2) \\cdot O(n) + O(n)$\n",
        "\n",
        "$T(n) = O(n^3)$\n",
        "\n",
        "Finalmente, notemos que no existe un peor ni un mejor caso para este algoritmo. Puesto que se trata de un algoritmo de **optimización**, se considerarán todos los casos posibles para encontrar la solución final. Debido a esto, podemos decir que el tiempo ocupado por el algoritmo solo depende del tamaño del problema, y por lo tanto, podemos expresar su complejidad con la notación $\\Theta(n^3)$. $\\Box$\n",
        "\n",
        "### **Teorema 4: Complejidad espacial del algoritmo Optimal BST (recursivo)**\n",
        "\n",
        "*El algoritmo **Optimal BST** recursivo tiene una complejidad espacial de $O(n)$.*\n",
        "\n",
        "## Prueba del teorema\n",
        "\n",
        "Sabemos que la complejidad espacial del algoritmo es al menos $O(n)$, debido al espacio ocupado por los arreglos de entrada. Luego, debemos analizar la cantidad de espacio de memoria ocupado por el algoritmo, considerando también el espacio del stack usado por las llamadas recursivas.\n",
        "\n",
        "Supongamos que, en cada llamada recursiva, calculamos la solución para el subárbol izquierdo considerando siempre el último elemento como raíz. Es decir, cada llamada recursiva disminuye la cantidad de nodos en 1, hasta llegar al caso base, cuando no hay nodos. En otras palabras, calculamos la solución para $n, n-1, n-2, \\ldots 0$ nodos. Por lo tanto, podemos decir que como máximo, se guardarán $O(n)$ llamadas recursivas en el stack de forma **simultánea**. Considerando además que el espacio auxiliar ocupado por la función es $O(1)$, tenemos que la complejidad espacial del algoritmo es $O(n) \\cdot O(1) = O(n)$. $□$\n",
        "\n",
        "### **Teorema 5: Complejidad espacial del algoritmo Optimal BST (bottom-up)**\n",
        "\n",
        "*El algoritmo **Optimal BST** implementado con programación dinámica tiene una complejidad espacial de $O(n^2)$.*\n",
        "\n",
        "## Prueba del teorema\n",
        "\n",
        "Para este algoritmo, se ocupan 3 matrices de complejidad espacial $O(n^2)$ para guardar los datos relevantes de cada subproblema. Considerando que no se hacen llamadas recursivas y el resto de variables auxiliares ocupan un espacio $O(1)$, podemos afirmar que la complejidad espacial de este algoritmo es $O(n^2)$. $\\Box$\n"
      ]
    },
    {
      "cell_type": "markdown",
      "metadata": {
        "id": "_WddDIiioclW"
      },
      "source": [
        "# 5. Experimentos\n",
        "\n",
        "## 5.1. Comparación entre implementación recursiva y bottom-up\n"
      ]
    },
    {
      "cell_type": "markdown",
      "metadata": {
        "id": "8U-blqFTIriX"
      },
      "source": [
        "### Tiempo experimental de Optimal BST (recursivo)\n",
        "\n",
        "Los valores de entrada para este gráfico serán generados de forma aleatoria con $n \\in [5,15]$"
      ]
    },
    {
      "cell_type": "code",
      "execution_count": 11,
      "metadata": {
        "colab": {
          "base_uri": "https://localhost:8080/",
          "height": 279
        },
        "id": "zEGSH_nyHTn4",
        "outputId": "3f46cce9-21d5-40e3-b75d-cc7ab4e980c1"
      },
      "outputs": [
        {
          "output_type": "display_data",
          "data": {
            "text/plain": [
              "<Figure size 432x288 with 1 Axes>"
            ],
            "image/png": "[encoded data removed]"
          },
          "metadata": {
            "needs_background": "light"
          }
        }
      ],
      "source": [
        "import matplotlib.pyplot as plt\n",
        "import numpy as np\n",
        "from timeit import repeat\n",
        "\n",
        "x=[]; y=[];\n",
        "\n",
        "for n in range(5,16):\n",
        "  k, p, q = optimal_bst_instance_generator(n)\n",
        "  t = repeat(setup=\"from __main__ import recursive_optimal_bst\", stmt=f\"recursive_optimal_bst({k},{p},{q.tolist()},{1},{n})\", repeat=1, number=10)\n",
        "\n",
        "  x.append(n)\n",
        "  y.append(t)\n",
        "\n",
        "plt.plot(x,y)\n",
        "plt.xlabel('n')\n",
        "plt.ylabel('Tiempo en ms')\n",
        "plt.show()"
      ]
    },
    {
      "cell_type": "markdown",
      "metadata": {
        "id": "fAJ3xKZULL0L"
      },
      "source": [
        "### Tiempo experimental de Optimal BST (bottom-up)\n",
        "\n",
        "Los valores de entrada para este gráfico serán generados de forma aleatoria con $n \\in [5,100]$"
      ]
    },
    {
      "cell_type": "code",
      "execution_count": null,
      "metadata": {
        "id": "SlXGjwCgLHeT"
      },
      "outputs": [],
      "source": [
        "x=[]; y=[];\n",
        "\n",
        "for n in range(5,100):\n",
        "  k, p, q = optimal_bst_instance_generator(n)\n",
        "  t = repeat(setup=\"from __main__ import optimal_bst\", stmt=f\"optimal_bst({k},{p},{q.tolist()},{n})\", repeat=1, number=10)\n",
        "\n",
        "  x.append(n)\n",
        "  y.append(t)\n",
        "\n",
        "plt.plot(x,y, color='tab:orange')\n",
        "plt.xlabel('n')\n",
        "plt.ylabel('Tiempo en ms')\n",
        "plt.show()"
      ]
    },
    {
      "cell_type": "markdown",
      "metadata": {
        "id": "iFi60LbJLm5y"
      },
      "source": [
        "### Tiempo experimental para ambos algoritmos\n",
        "\n",
        "Los valores de entrada para este gráfico serán generados de forma aleatoria con $n \\in [5,15]$"
      ]
    },
    {
      "cell_type": "code",
      "execution_count": null,
      "metadata": {
        "id": "ycN9MM8iLd5C"
      },
      "outputs": [],
      "source": [
        "x=[]; y1=[]; y2=[];\n",
        "\n",
        "for n in range(5,16):\n",
        "  k, p, q = optimal_bst_instance_generator(n)\n",
        "  t1 = repeat(setup=\"from __main__ import recursive_optimal_bst\", stmt=f\"recursive_optimal_bst({k},{p},{q.tolist()},{1},{n})\", repeat=1, number=10)\n",
        "  t2 = repeat(setup=\"from __main__ import optimal_bst\", stmt=f\"optimal_bst({k},{p},{q.tolist()},{n})\", repeat=1, number=10)\n",
        "\n",
        "  x.append(n)\n",
        "  y1.append(t1)\n",
        "  y2.append(t2)\n",
        "\n",
        "plt.plot(x,y1)\n",
        "plt.plot(x,y2)\n",
        "plt.legend([\"Recursivo\", \"Bottom-up\"])\n",
        "\n",
        "plt.xlabel('n')\n",
        "plt.ylabel('Tiempo en ms')\n",
        "plt.show()"
      ]
    },
    {
      "cell_type": "markdown",
      "metadata": {
        "id": "ptSomB5JpTFE"
      },
      "source": [
        "### Análisis de resultados\n",
        "\n",
        "Como era de esperar, el tiempo de ejecución del algoritmo recursivo crece a un nivel exponencial, a diferencia de la implementación con programación dinámica, cuya curva tiene un crecimiento polinómico.\n",
        "\n",
        "A la hora de comparar ambos algoritmos, podemos notar que el tiempo del algoritmo recursivo predomina totalmente en el gráfico. Esto se debe a la complejidad $O(3^n)$ del algoritmo recursivo, cuya tasa de crecimiento es significativamente mayor que la complejidad $O(n^3)$ del algoritmo bottom-up.\n"
      ]
    },
    {
      "cell_type": "markdown",
      "metadata": {
        "id": "3XVCqdgENDg0"
      },
      "source": [
        "## 5.2. Optimal BST con raíz fija"
      ]
    },
    {
      "cell_type": "markdown",
      "source": [
        "A continuación se presenta un algoritmo modificado para el problema del árbol de búsqueda óptimo, el cual calcula un costo esperado mínimo aproximado, dejando como raíz del árbol al elemento con mayor probabilidad de ser buscado. Este algoritmo fue implementado tanto en su versión recursiva como en su versión con programación dinámica."
      ],
      "metadata": {
        "id": "_9w43uv0EPEk"
      }
    },
    {
      "cell_type": "markdown",
      "source": [
        "### Optimal BST modificado (recursivo)"
      ],
      "metadata": {
        "id": "Y5XHfr8UHiqA"
      }
    },
    {
      "cell_type": "code",
      "source": [
        "import numpy\n",
        "\n",
        "def modified_recursive_optimal_bst(k,p,q,visualize=False):\n",
        "  if len(p) == 0: return q[0], Tree()\n",
        "\n",
        "  # Índice del nodo con mayor probabilidad\n",
        "  r = np.argmax(p)\n",
        "\n",
        "  left_e, left_t = modified_recursive_optimal_bst(k[:r],p[:r],q[:r+1],False)\n",
        "  right_e, right_t = modified_recursive_optimal_bst(k[r+1:],p[r+1:],q[r+1:],False)\n",
        "  e = left_e + right_e + sum(p) + sum(q)\n",
        "\n",
        "  tree = Tree()\n",
        "  tree.set_root(k[r])\n",
        "  tree.set_left_subtree(left_t)\n",
        "  tree.set_right_subtree(right_t)\n",
        "  \n",
        "  if visualize:\n",
        "    visualize_tree(tree)\n",
        "\n",
        "  return e, tree\n",
        "\n",
        "k = [1, 2, 3, 4, 5]\n",
        "p = [0.15, 0.10, 0.05, 0.10, 0.20]\n",
        "q = [0.05, 0.10, 0.05, 0.05, 0.05, 0.10]\n",
        "\n",
        "modified_recursive_optimal_bst(k,p,q,visualize=True)[0]"
      ],
      "metadata": {
        "colab": {
          "base_uri": "https://localhost:8080/",
          "height": 336
        },
        "id": "6qvbIEGxB-QZ",
        "outputId": "5f353ec7-053b-4c31-d09f-7d4fab77de7c"
      },
      "execution_count": 83,
      "outputs": [
        {
          "output_type": "execute_result",
          "data": {
            "text/plain": [
              "3.0500000000000003"
            ]
          },
          "metadata": {},
          "execution_count": 83
        },
        {
          "output_type": "display_data",
          "data": {
            "text/plain": [
              "<Figure size 432x288 with 1 Axes>"
            ],
            "image/png": "[encoded data removed]"
          },
          "metadata": {}
        }
      ]
    },
    {
      "cell_type": "markdown",
      "source": [
        "### Optimal BST modificado (programación dinámica)"
      ],
      "metadata": {
        "id": "WmCONEcVHomw"
      }
    },
    {
      "cell_type": "code",
      "source": [
        "import numpy\n",
        "\n",
        "def modified_optimal_bst(keys,p,q,n,visualize=False):\n",
        "  e = np.zeros(shape=(n+2,n+1))\n",
        "  w = np.zeros(shape=(n+2,n+1))\n",
        "  root = np.zeros(shape=(n+1,n+1), dtype=int)\n",
        "\n",
        "  for i in range(1,n+2):\n",
        "    e[i][i-1] = q[i-1]\n",
        "    w[i][i-1] = q[i-1]\n",
        "\n",
        "  for k in range(1,n+1):\n",
        "    for i in range(1,n-k+2):\n",
        "      j = i+k-1\n",
        "\n",
        "      w[i][j] = w[i][j-1] + p[j-1] + q[j]\n",
        "\n",
        "      # Índice del nodo con mayor probabilidad\n",
        "      r = np.argmax(p[i-1:j]) + i\n",
        "\n",
        "      e[i][j] = e[i][r-1] + e[r+1][j] + w[i][j]\n",
        "      root[i][j] = r\n",
        "\n",
        "  tree = construct_optimal_bst(root, keys, 1, n)\n",
        "\n",
        "  if visualize:\n",
        "    visualize_tree(tree)\n",
        "\n",
        "  return e[1][n], tree\n",
        "\n",
        "k = [1, 2, 3, 4, 5]\n",
        "p = [0.15, 0.10, 0.05, 0.10, 0.20]\n",
        "q = [0.05, 0.10, 0.05, 0.05, 0.05, 0.10]\n",
        "\n",
        "modified_optimal_bst(k,p,q,5,visualize=True)[0]"
      ],
      "metadata": {
        "colab": {
          "base_uri": "https://localhost:8080/",
          "height": 336
        },
        "id": "qwxxtvKwHm9t",
        "outputId": "21fc04fa-f5a4-4069-e7b2-dd811f2de3bc"
      },
      "execution_count": 81,
      "outputs": [
        {
          "output_type": "execute_result",
          "data": {
            "text/plain": [
              "3.0500000000000007"
            ]
          },
          "metadata": {},
          "execution_count": 81
        },
        {
          "output_type": "display_data",
          "data": {
            "text/plain": [
              "<Figure size 432x288 with 1 Axes>"
            ],
            "image/png": "[encoded data removed]"
          },
          "metadata": {}
        }
      ]
    },
    {
      "cell_type": "markdown",
      "source": [
        "### Comparación del costo esperado real vs aproximado"
      ],
      "metadata": {
        "id": "i8JQQ9VeHydO"
      }
    },
    {
      "cell_type": "markdown",
      "source": [
        "Los valores de entrada para este gráfico serán generados de forma aleatoria con $n \\in [5,100]$"
      ],
      "metadata": {
        "id": "RRsN-QroH72m"
      }
    },
    {
      "cell_type": "code",
      "source": [
        "import matplotlib.pyplot as plt\n",
        "import numpy as np\n",
        "\n",
        "x=[]; y1=[]; y2=[]; y3=[]\n",
        "\n",
        "for n in range(5,101):\n",
        "  k, p, q = optimal_bst_instance_generator(n)\n",
        "\n",
        "  optimal_e = optimal_bst(k,p,q,n)[0]\n",
        "  aprox_e1 = modified_recursive_optimal_bst(k,p,q)[0]\n",
        "  aprox_e2 = modified_optimal_bst(k,p,q,n)[0]\n",
        "\n",
        "  x.append(n)\n",
        "  y1.append(optimal_e)\n",
        "  y2.append(aprox_e1)\n",
        "  y3.append(aprox_e2)\n",
        "\n",
        "plt.plot(x,y1)\n",
        "plt.plot(x,y2)\n",
        "plt.plot(x,y3)\n",
        "plt.legend([\"Costo óptimo\", \"Costo aproximado bottom-up\", \"Costo aproximado recursivo\"])\n",
        "\n",
        "plt.xlabel('n')\n",
        "plt.ylabel('Costo esperado')\n",
        "plt.show()"
      ],
      "metadata": {
        "colab": {
          "base_uri": "https://localhost:8080/",
          "height": 279
        },
        "id": "9T13I8T8x_zE",
        "outputId": "d8d48fea-e475-4317-d6bc-127172fd8198"
      },
      "execution_count": 106,
      "outputs": [
        {
          "output_type": "display_data",
          "data": {
            "text/plain": [
              "<Figure size 432x288 with 1 Axes>"
            ],
            "image/png": "[encoded data removed]"
          },
          "metadata": {
            "needs_background": "light"
          }
        }
      ]
    },
    {
      "cell_type": "markdown",
      "source": [
        "### Comparación de tiempo de ambos algoritmos modificados"
      ],
      "metadata": {
        "id": "HqNnKOFsgtz7"
      }
    },
    {
      "cell_type": "markdown",
      "source": [
        "Los valores de entrada para este gráfico serán generados de forma aleatoria con $n \\in [5,100]$"
      ],
      "metadata": {
        "id": "eFk6LLPEg3DD"
      }
    },
    {
      "cell_type": "code",
      "source": [
        "import matplotlib.pyplot as plt\n",
        "import numpy as np\n",
        "from timeit import repeat\n",
        "\n",
        "x=[]; y1=[]; y2=[]\n",
        "\n",
        "for n in range(5,101):\n",
        "  k, p, q = optimal_bst_instance_generator(n)\n",
        "\n",
        "  t1 = repeat(setup=\"from __main__ import modified_recursive_optimal_bst\", stmt=f\"modified_recursive_optimal_bst({k},{p},{q.tolist()})\", repeat=1, number=10)\n",
        "  t2 = repeat(setup=\"from __main__ import modified_optimal_bst\", stmt=f\"modified_optimal_bst({k},{p},{q.tolist()},{n})\", repeat=1, number=10)\n",
        "\n",
        "  x.append(n)\n",
        "  y1.append(t1)\n",
        "  y2.append(t2)\n",
        "\n",
        "plt.plot(x,y1)\n",
        "plt.plot(x,y2)\n",
        "plt.legend([\"Recursivo modificado\", \"Bottom-up modificado\"])\n",
        "\n",
        "plt.xlabel('n')\n",
        "plt.ylabel('Tiempo en ms')\n",
        "plt.show()"
      ],
      "metadata": {
        "colab": {
          "base_uri": "https://localhost:8080/",
          "height": 279
        },
        "id": "ION7r0YbWivv",
        "outputId": "1a84cc18-5c81-4855-ec06-fd2ceeb3d541"
      },
      "execution_count": 97,
      "outputs": [
        {
          "output_type": "display_data",
          "data": {
            "text/plain": [
              "<Figure size 432x288 with 1 Axes>"
            ],
            "image/png": "[encoded data removed]"
          },
          "metadata": {
            "needs_background": "light"
          }
        }
      ]
    },
    {
      "cell_type": "markdown",
      "metadata": {
        "id": "Sf1CM9aGA5ZA"
      },
      "source": [
        "### Análisis de resultados\n",
        "\n",
        "Observando el primer gráfico, vemos que el costo aproximado obtenido por ambos algoritmos modificados es el mismo, es decir, la solución aproximada al problema no depende de la implementación escogida. Luego, notamos que existe una clara variación entre el costo óptimo real y el aproximado, sin embargo, si se requiere obtener este valor de manera eficiente, podría ser conveniente utilizar la solución aproximada.\n",
        "\n",
        "Por otro lado, si comparamos el tiempo de ejecución de ambos algoritmos modificados, observamos que el algoritmo recursivo posee un mejor desempeño. En el peor caso, la complejidad de este algoritmo será $O(n^2)$. Esto sucederá cuando el arreglo de probabilidades se encuentre ordenado, y por lo tanto, la raíz seleccionada siempre será la primera o la última clave del arreglo. Resolver cada subproblema requiere sumar las probabilidades de los nodos, lo cual tiene un tiempo de $O(n)$. Considerando que como máximo se resolverán $O(n)$ subproblemas, la complejidad de este algoritmo es $O(n^2)$. Sin embargo, sabemos que es poco probable que el arreglo de probabilidades se encuentre ordenado, por lo cual, podríamos esperar incluso un tiempo de ejecución $O(n \\log(n))$ si el arreglo se divide en partes iguales.\n",
        "\n",
        "Por otra parte, el algoritmo modificado bottom-up resolverá **siempre** $O(n^2)$ subproblemas. Esto podría explicar que el algoritmo recursivo sea más eficiente, pues posee un mejor desempeño en el caso promedio.\n",
        "\n",
        "\n",
        "\n",
        "\n",
        "\n"
      ]
    }
  ],
  "metadata": {
    "colab": {
      "collapsed_sections": [
        "deOsebM06Bt0",
        "naoN1twNlXPL",
        "L0VpphJB6FvO",
        "I5GOiuFRgdTW",
        "SBnAbVFz_tvd",
        "_WddDIiioclW",
        "8U-blqFTIriX",
        "fAJ3xKZULL0L",
        "iFi60LbJLm5y",
        "ptSomB5JpTFE",
        "3XVCqdgENDg0",
        "Sf1CM9aGA5ZA"
      ],
      "provenance": [],
      "authorship_tag": "ABX9TyMr/JwAGaUWQUrLSh84YCWN",
      "include_colab_link": true
    },
    "kernelspec": {
      "display_name": "Python 3",
      "name": "python3"
    },
    "language_info": {
      "name": "python"
    }
  },
  "nbformat": 4,
  "nbformat_minor": 0
}