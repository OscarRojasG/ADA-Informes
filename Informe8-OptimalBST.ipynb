{
  "cells": [
    {
      "cell_type": "markdown",
      "metadata": {
        "id": "view-in-github",
        "colab_type": "text"
      },
      "source": [
        "<a href=\"https://colab.research.google.com/github/OscarRojasG/ADA-Informes/blob/main/Informe8-OptimalBST.ipynb\" target=\"_parent\"><img src=\"https://colab.research.google.com/assets/colab-badge.svg\" alt=\"Open In Colab\"/></a>"
      ]
    },
    {
      "cell_type": "markdown",
      "metadata": {
        "id": "deOsebM06Bt0"
      },
      "source": [
        "# 1. Problema del árbol de búsqueda óptimo\n",
        "\n",
        "**Entrada**:\n",
        "\n",
        "**Salida**:\n",
        "\n"
      ]
    },
    {
      "cell_type": "markdown",
      "metadata": {
        "id": "ShNc87InQrV1"
      },
      "source": [
        "# 2. Optimal BST"
      ]
    },
    {
      "cell_type": "markdown",
      "metadata": {
        "id": "qCFujGBVe7Lg"
      },
      "source": [
        "## 2.1 Código "
      ]
    },
    {
      "cell_type": "markdown",
      "source": [
        "### Funciones auxiliares"
      ],
      "metadata": {
        "id": "1TQFSwQ-Ci9D"
      }
    },
    {
      "cell_type": "code",
      "source": [
        "class Node:\n",
        "  right = None\n",
        "  left = None\n",
        "  key = None\n",
        "  \n",
        "  def __init__(self, key):\n",
        "    self.key = key \n",
        "\n",
        "class Tree:\n",
        "  root = None\n",
        "\n",
        "  def insert(self, key):\n",
        "    if self.root == None:\n",
        "      self.root = Node(key)\n",
        "      return None, 0\n",
        "\n",
        "    parent = self.root\n",
        "\n",
        "    while True:\n",
        "      if key <= parent.key:\n",
        "        if parent.left == None:\n",
        "          parent.left = Node(key)\n",
        "          return parent, 1\n",
        "        else:\n",
        "          parent = parent.left\n",
        "      \n",
        "      else:\n",
        "        if parent.right == None:\n",
        "          parent.right = Node(key)\n",
        "          return parent, 2\n",
        "        else:\n",
        "          parent = parent.right"
      ],
      "metadata": {
        "id": "xdIKunIYtPxG"
      },
      "execution_count": 28,
      "outputs": []
    },
    {
      "cell_type": "code",
      "source": [
        "import networkx as nx\n",
        "\n",
        "# Obtenido de https://stackoverflow.com/questions/33439810/\n",
        "\n",
        "def binary_tree_layout(G, root, width=1., vert_gap = 0.2, vert_loc = 0, \n",
        "                       xcenter = 0.5, pos = None, parent = None):\n",
        "  if pos == None:\n",
        "    pos = {root:(xcenter,vert_loc)}\n",
        "  else:\n",
        "    pos[root] = (xcenter, vert_loc)\n",
        "\n",
        "  neighbors = list(G.neighbors(root))\n",
        "\n",
        "  if len(neighbors) != 0:\n",
        "\n",
        "    dx = width/2.\n",
        "    leftx = xcenter - dx/2\n",
        "    rightx = xcenter + dx/2\n",
        "\n",
        "    for neighbor in neighbors:\n",
        "      if G.nodes[neighbor]['child_status'] == 'left':\n",
        "        pos = binary_tree_layout(G, neighbor, width = dx, vert_gap = vert_gap, \n",
        "                                 vert_loc = vert_loc-vert_gap, xcenter=leftx, \n",
        "                                 pos=pos, parent = root)\n",
        "        \n",
        "      elif G.nodes[neighbor]['child_status'] == 'right':\n",
        "        pos = binary_tree_layout(G, neighbor, width = dx, vert_gap = vert_gap,\n",
        "                                 vert_loc = vert_loc-vert_gap, xcenter=rightx,\n",
        "                                 pos=pos, parent = root)\n",
        "        \n",
        "  return pos"
      ],
      "metadata": {
        "id": "UPRGTEkLzmdY"
      },
      "execution_count": 92,
      "outputs": []
    },
    {
      "cell_type": "code",
      "source": [
        "import networkx as nx\n",
        "from networkx.drawing.nx_pydot import graphviz_layout\n",
        "\n",
        "def visualize_tree(n):\n",
        "  T = nx.DiGraph()\n",
        "\n",
        "  tree = Tree()\n",
        "  for i in range(len(n)):\n",
        "    parent, pos = tree.insert(n[i])\n",
        "\n",
        "    if pos == 0 or pos == 1:\n",
        "      T.add_node(n[i], child_status='left')\n",
        "    else:\n",
        "      T.add_node(n[i], child_status='right')\n",
        "\n",
        "    if parent:\n",
        "      T.add_edge(parent.key, n[i])\n",
        "\n",
        "  tree_pos = binary_tree_layout(T, n[0])\n",
        "  nx.draw(T, tree_pos, with_labels=True, font_size=12, node_size=1000, node_color='white', edgecolors='black')"
      ],
      "metadata": {
        "id": "74R3f5kOf7Ph"
      },
      "execution_count": 107,
      "outputs": []
    },
    {
      "cell_type": "markdown",
      "source": [
        "### Optimal BST (recursivo)"
      ],
      "metadata": {
        "id": "ThLy_sqxCtBB"
      }
    },
    {
      "cell_type": "code",
      "execution_count": 134,
      "metadata": {
        "colab": {
          "base_uri": "https://localhost:8080/",
          "height": 354
        },
        "id": "fEbIxL2syWn4",
        "outputId": "a4237ad7-8bb9-4d1b-bb32-7d632e5d02ae"
      },
      "outputs": [
        {
          "output_type": "stream",
          "name": "stdout",
          "text": [
            "Costo esperado mínimo: 3.12\n",
            "Llamadas recursivas: 2187\n"
          ]
        },
        {
          "output_type": "display_data",
          "data": {
            "text/plain": [
              "<Figure size 432x288 with 1 Axes>"
            ],
            "image/png": "[encoded data removed]"
          },
          "metadata": {}
        }
      ],
      "source": [
        "from math import inf\n",
        "\n",
        "def recursive_optimal_bst(p,q,k,i,j,visualize=True):\n",
        "  # Contador de llamadas recursivas\n",
        "  global c\n",
        "  c = c+1\n",
        "\n",
        "  # Caso base\n",
        "  if j < i: return q[i-1], []\n",
        "\n",
        "  # Nos aseguramos de que e se actualice en la primera iteración\n",
        "  e = inf\n",
        "\n",
        "  for r in range(i, j+1):\n",
        "    # Costo óptimo del subárbol izquierdo\n",
        "    e_left, t_left = recursive_optimal_bst(p, q, k, i, r-1, False)\n",
        "\n",
        "    # Costo óptimo del subárbol derecho\n",
        "    e_right, t_right = recursive_optimal_bst(p, q, k, r+1, j, False)\n",
        "\n",
        "    # Costo óptimo del árbol con raíz r\n",
        "    x = e_left + e_right + sum(p[i-1:j]) + sum(q[i-1:j+1])\n",
        "\n",
        "    # Nos quedamos con el costo mínimo\n",
        "    if x < e:\n",
        "      e = x\n",
        "\n",
        "      # Se reconstruye el árbol\n",
        "      tree = t_right + t_left\n",
        "      tree.insert(0,k[r-1])\n",
        "\n",
        "  # Se dibuja el árbol \n",
        "  if visualize:\n",
        "    visualize_tree(tree)\n",
        "\n",
        "  return e, tree\n",
        "\n",
        "c = 0\n",
        "k = [1, 2, 3, 4, 5, 6, 7]\n",
        "p = [0.04, 0.06, 0.08, 0.02, 0.10, 0.12, 0.14]\n",
        "q = [0.06, 0.06, 0.06, 0.06, 0.05, 0.05, 0.05, 0.05]\n",
        "\n",
        "e, tree = recursive_optimal_bst(p,q,k,1,len(p),True)\n",
        "\n",
        "print(f\"Costo esperado mínimo: {e}\")\n",
        "print(f\"Llamadas recursivas: {c}\")"
      ]
    },
    {
      "cell_type": "markdown",
      "source": [
        "### Optimal BST (bottom-up)"
      ],
      "metadata": {
        "id": "9c7_L-tIDZ2_"
      }
    },
    {
      "cell_type": "code",
      "execution_count": 138,
      "metadata": {
        "colab": {
          "base_uri": "https://localhost:8080/",
          "height": 354
        },
        "id": "xfn8BOW0rPmy",
        "outputId": "2fe972bc-8298-4899-fff6-ab2cfc92176c"
      },
      "outputs": [
        {
          "output_type": "stream",
          "name": "stdout",
          "text": [
            "Costo esperado mínimo: 2.75\n",
            "Subproblemas resueltos: 35\n"
          ]
        },
        {
          "output_type": "display_data",
          "data": {
            "text/plain": [
              "<Figure size 432x288 with 1 Axes>"
            ],
            "image/png": "[encoded data removed]"
          },
          "metadata": {}
        }
      ],
      "source": [
        "import numpy as np\n",
        "from math import inf\n",
        "\n",
        "def optimal_bst(p,q,k,n,visualize=False):\n",
        "  # Contador de subproblemas\n",
        "  global s\n",
        "\n",
        "  # Matriz que almacena el costo mínimo de cada subárbol\n",
        "  e = np.zeros(shape=(n+2,n+1))\n",
        "\n",
        "  # Matriz que almacena la suma de probabilidades de cada subárbol\n",
        "  w = np.zeros(shape=(n+2,n+1))\n",
        "\n",
        "  # Matriz que almacena la raíz óptima de cada subárbol\n",
        "  root = np.zeros(shape=(n+2,n+2), dtype=int)\n",
        "\n",
        "  # Valores para búsquedas fallidas\n",
        "  for i in range(1,n+2):\n",
        "    e[i][i-1] = q[i-1]\n",
        "    w[i][i-1] = q[i-1]\n",
        "\n",
        "  for k in range(1,n+1):\n",
        "    for i in range(1,n-k+2):\n",
        "      j = i+k-1\n",
        "\n",
        "      # Se calcula la suma de probabilidades para el subárbol i..j\n",
        "      w[i][j] = w[i][j-1] + p[j-1] + q[j]\n",
        "\n",
        "      # Nos aseguramos de que e[i][j] se actualice en la primera iteración\n",
        "      e[i][j] = inf\n",
        "\n",
        "      for r in range(i,j+1):\n",
        "        # Costo óptimo del árbol con raíz r\n",
        "        x = e[i][r-1] + e[r+1][j] + w[i][j]\n",
        "        s = s+1\n",
        "\n",
        "        # Nos quedamos con el costo mínimo\n",
        "        if x < e[i][j]:\n",
        "\n",
        "          # Guardamos el costo en la matriz e y la raíz en la matriz root\n",
        "          e[i][j] = x\n",
        "          root[i][j] = r\n",
        "\n",
        "  # Se reconstruye y se dibuja el árbol\n",
        "  if visualize:\n",
        "    tree = construct_optimal_bst(root, 1, n, k)\n",
        "    visualize_tree(tree)\n",
        "\n",
        "  return e[1][n], root\n",
        "\n",
        "def construct_optimal_bst(root, i, j, k):\n",
        "  # Caso base\n",
        "  if i > j:\n",
        "    return []\n",
        "\n",
        "  # Raíz del árbol i..j\n",
        "  r = root[i][j]\n",
        "\n",
        "  # Obtenemos los nodos de cada subárbol desde la raíz hacia abajo\n",
        "  t_right = construct_optimal_bst(root, i, r-1, k)\n",
        "  t_left = construct_optimal_bst(root, r+1, j, k)\n",
        "\n",
        "  # Juntamos los nodos de cada subárbol e insertamos la raíz de ambos\n",
        "  tree = t_left + t_right\n",
        "  tree.insert(0, r)\n",
        "\n",
        "  return tree\n",
        "  \n",
        "s = 0\n",
        "k = [1, 2, 3, 4, 5]\n",
        "p = [0.15, 0.10, 0.05, 0.10, 0.20]\n",
        "q = [0.05, 0.10, 0.05, 0.05, 0.05, 0.10]\n",
        "\n",
        "e, root = optimal_bst(p,q,k,5,visualize=True)\n",
        "\n",
        "print(f\"Costo esperado mínimo: {e}\")\n",
        "print(f\"Subproblemas resueltos: {s}\")"
      ]
    },
    {
      "cell_type": "markdown",
      "metadata": {
        "id": "naoN1twNlXPL"
      },
      "source": [
        "## 2.2 Descripción del algoritmo\n",
        "\n",
        "### Subestructura óptima y solución recursiva\n",
        "\n",
        "### Descripción de la solución (algoritmo recursivo)\n",
        "\n",
        "### Descripción de la solución (programación dinámica)\n",
        "\n",
        "\n",
        "\n"
      ]
    },
    {
      "cell_type": "markdown",
      "metadata": {
        "id": "KKTUdfSes6B4"
      },
      "source": [
        "## 2.3 Ejemplo\n"
      ]
    },
    {
      "cell_type": "markdown",
      "metadata": {
        "id": "L0VpphJB6FvO"
      },
      "source": [
        "## 2.4. Ejecución del algoritmo paso a paso (`verbose=True`)\n",
        "\n",
        "Usando la opción `verbose=True`, podemos ver lo que ocurre en cada paso de ambos algoritmos.\n",
        "\n"
      ]
    },
    {
      "cell_type": "code",
      "execution_count": null,
      "metadata": {
        "id": "vqV2wpSv7BF_"
      },
      "outputs": [],
      "source": []
    },
    {
      "cell_type": "markdown",
      "metadata": {
        "id": "I5GOiuFRgdTW"
      },
      "source": [
        "# 3. Correctitud\n",
        "\n",
        "### **Teorema 1: Correctitud de Optimal BST (bottom-up)**\n",
        "\n",
        "**\n",
        "\n",
        "## Prueba del Teorema\n",
        "\n",
        "Para demostrar la correctitud del algoritmo, demostraremos el teorema anterior $P(n)$ utilizando inducción.\n",
        "\n",
        "**Caso base**\n",
        "\n",
        "**Paso inductivo**\n",
        "\n",
        "\n"
      ]
    },
    {
      "cell_type": "markdown",
      "metadata": {
        "id": "SBnAbVFz_tvd"
      },
      "source": [
        "# 4. Tiempo de ejecución y complejidad espacial\n",
        "\n",
        "### **Teorema 2: Tiempo de ejecución del algoritmo Optimal BST (bottom-up)**\n",
        "\n",
        "**\n",
        "\n",
        "## Prueba del teorema\n",
        "\n",
        "\n",
        "\n",
        "\n"
      ]
    },
    {
      "cell_type": "markdown",
      "metadata": {
        "id": "_WddDIiioclW"
      },
      "source": [
        "# 5. Experimentos\n",
        "\n",
        "## 5.1. Comparación entre implementación recursiva y bottom-up\n"
      ]
    },
    {
      "cell_type": "markdown",
      "metadata": {
        "id": "8U-blqFTIriX"
      },
      "source": [
        "### Tiempo experimental de Cutting Rod (recursivo)\n",
        "\n",
        "Para este gráfico, los valores del arreglo $P$ serán generados de forma aleatoria con $n \\in [5,20]$"
      ]
    },
    {
      "cell_type": "code",
      "execution_count": null,
      "metadata": {
        "colab": {
          "base_uri": "https://localhost:8080/",
          "height": 279
        },
        "id": "zEGSH_nyHTn4",
        "outputId": "6c032826-1764-4539-8ff6-7481363ae11b"
      },
      "outputs": [
        {
          "data": {
            "image/png": "[encoded data removed]",
            "text/plain": [
              "<Figure size 432x288 with 1 Axes>"
            ]
          },
          "metadata": {},
          "output_type": "display_data"
        }
      ],
      "source": [
        "import matplotlib.pyplot as plt\n",
        "import datetime\n",
        "import random\n",
        "from timeit import repeat\n",
        "\n",
        "x=[]; y1=[];\n",
        "\n",
        "for n in range(5,21):\n",
        "  P = cutrod_instance_generator(n)\n",
        "\n",
        "  t1 = repeat(setup=\"from __main__ import recursive_cutting_rod\", stmt=f\"recursive_cutting_rod({P}, {n})\", repeat=1, number=10)\n",
        "\n",
        "  x.append(n)\n",
        "  y1.append(t1)\n",
        "\n",
        "plt.plot(x,y1)\n",
        "plt.xlabel('n')\n",
        "plt.ylabel('Tiempo en ms')\n",
        "plt.show()"
      ]
    },
    {
      "cell_type": "markdown",
      "metadata": {
        "id": "fAJ3xKZULL0L"
      },
      "source": [
        "### Tiempo experimental de Cutting Rod (bottom-up)\n",
        "\n",
        "Para este gráfico, los valores del arreglo $P$ serán generados de forma aleatoria con $n \\in [5,500]$"
      ]
    },
    {
      "cell_type": "code",
      "execution_count": null,
      "metadata": {
        "id": "SlXGjwCgLHeT"
      },
      "outputs": [],
      "source": [
        "x=[]; y1=[];\n",
        "\n",
        "for n in range(5,501):\n",
        "  P = cutrod_instance_generator(n)\n",
        "\n",
        "  t1 = repeat(setup=\"from __main__ import dynamic_cutting_rod\", stmt=f\"dynamic_cutting_rod({P}, {n})\", repeat=1, number=10)\n",
        "\n",
        "  x.append(n)\n",
        "  y1.append(t1)\n",
        "\n",
        "plt.plot(x,y1)\n",
        "plt.xlabel('n')\n",
        "plt.ylabel('Tiempo en ms')\n",
        "plt.show()"
      ]
    },
    {
      "cell_type": "markdown",
      "metadata": {
        "id": "iFi60LbJLm5y"
      },
      "source": [
        "### Tiempo experimental para ambos algoritmos\n",
        "\n",
        "Para este gráfico, los valores del arreglo $P$ serán generados de forma aleatoria con $n \\in [5,20]$"
      ]
    },
    {
      "cell_type": "code",
      "execution_count": null,
      "metadata": {
        "colab": {
          "base_uri": "https://localhost:8080/",
          "height": 279
        },
        "id": "ycN9MM8iLd5C",
        "outputId": "cc8c3a8c-cfde-4bae-c7b4-7e8236973a9b"
      },
      "outputs": [
        {
          "data": {
            "image/png": "[encoded data removed]",
            "text/plain": [
              "<Figure size 432x288 with 1 Axes>"
            ]
          },
          "metadata": {},
          "output_type": "display_data"
        }
      ],
      "source": [
        "x=[]; y1=[]; y2=[];\n",
        "\n",
        "for n in range(5,21):\n",
        "  P = cutrod_instance_generator(n)\n",
        "\n",
        "  t1 = repeat(setup=\"from __main__ import recursive_cutting_rod\", stmt=f\"recursive_cutting_rod({P}, {n})\", repeat=1, number=10)\n",
        "  t2 = repeat(setup=\"from __main__ import dynamic_cutting_rod\", stmt=f\"dynamic_cutting_rod({P}, {n})\", repeat=1, number=10)\n",
        "\n",
        "  x.append(n)\n",
        "  y1.append(t1)\n",
        "  y2.append(t2)\n",
        "\n",
        "plt.plot(x,y1)\n",
        "plt.plot(x,y2)\n",
        "plt.legend([\"Recursivo\", \"Bottom-up\"])\n",
        "\n",
        "plt.xlabel('n')\n",
        "plt.ylabel('Tiempo en ms')\n",
        "plt.show()"
      ]
    },
    {
      "cell_type": "markdown",
      "metadata": {
        "id": "ptSomB5JpTFE"
      },
      "source": [
        "### Análisis de resultados\n",
        "\n",
        "Como se puede apreciar, el tiempo de ejecución del algoritmo recursivo crece a un nivel exponencial, mientras que, la implementación usando programación dinámica es mucho más eficiente, pues sigue una curva cuadrática.\n",
        "\n",
        "A la hora de comparar ambos algoritmos, podemos notar que el tiempo del algoritmo recursivo predomina totalmente en el gráfico. Esto se debe a la complejidad $O(2^n)$ del algoritmo recursivo, cuya tasa de crecimiento es significativamente mayor que la complejidad $O(n^2)$ del algoritmo bottom-up.\n"
      ]
    },
    {
      "cell_type": "markdown",
      "metadata": {
        "id": "3XVCqdgENDg0"
      },
      "source": [
        "## 5.2. Cantidad de subproblemas (bottom-up)"
      ]
    },
    {
      "cell_type": "markdown",
      "metadata": {
        "id": "CoGtoDV8f1VW"
      },
      "source": [
        "El siguiente gráfico compara la cantidad de subproblemas $s$ que debe resolver el algoritmo en relación al tamaño del problema, con $n \\in [5,500]$"
      ]
    },
    {
      "cell_type": "code",
      "execution_count": null,
      "metadata": {
        "colab": {
          "base_uri": "https://localhost:8080/",
          "height": 279
        },
        "id": "NQ37Zg5Tfy9F",
        "outputId": "203591b1-23a8-47cf-fbda-ba6fcaa61410"
      },
      "outputs": [
        {
          "data": {
            "image/png": "[encoded data removed]",
            "text/plain": [
              "<Figure size 432x288 with 1 Axes>"
            ]
          },
          "metadata": {},
          "output_type": "display_data"
        }
      ],
      "source": [
        "import matplotlib.pyplot as plt\n",
        "import random\n",
        "\n",
        "x = []; y = []; \n",
        "\n",
        "for n in range(5,501):\n",
        "  P = cutrod_instance_generator(n)\n",
        "  s = 0\n",
        "  dynamic_cutting_rod(P,n)\n",
        "  x.append(n)\n",
        "  y.append(s)\n",
        "\n",
        "plt.plot(x,y)\n",
        "\n",
        "plt.xlabel('n')\n",
        "plt.ylabel('Cantidad de subproblemas')\n",
        "plt.show()"
      ]
    },
    {
      "cell_type": "markdown",
      "metadata": {
        "id": "Sf1CM9aGA5ZA"
      },
      "source": [
        "### Análisis de resultados\n",
        "\n",
        "Como era de esperarse, la cantidad de subproblemas aumenta cuadráticamente en relación al tamaño del problema $n$. Recordemos que la fórmula para calcular la cantidad de subproblemas es: \n",
        "\n",
        "$\\sum\\limits_{i=1}^{n} i=\\frac{n(n+1)}{2}$\n",
        "\n",
        "Podemos notar fácilmente que esta función posee una complejidad $O(n^2)$, lo cual se ve reflejado en el gráfico.\n",
        "\n",
        "Algo importante a considerar es que la cantidad de subproblemas a resolver no depende del arreglo de entrada $P$, sino que solo depende del tamaño inicial del problema.\n",
        "\n"
      ]
    }
  ],
  "metadata": {
    "colab": {
      "collapsed_sections": [
        "deOsebM06Bt0",
        "naoN1twNlXPL",
        "KKTUdfSes6B4",
        "L0VpphJB6FvO",
        "I5GOiuFRgdTW",
        "SBnAbVFz_tvd",
        "_WddDIiioclW",
        "8U-blqFTIriX",
        "fAJ3xKZULL0L",
        "iFi60LbJLm5y",
        "ptSomB5JpTFE",
        "3XVCqdgENDg0",
        "Sf1CM9aGA5ZA"
      ],
      "provenance": [],
      "authorship_tag": "ABX9TyPCCPRcZNWE1tH3QehgXCdo",
      "include_colab_link": true
    },
    "kernelspec": {
      "display_name": "Python 3",
      "name": "python3"
    },
    "language_info": {
      "name": "python"
    }
  },
  "nbformat": 4,
  "nbformat_minor": 0
}